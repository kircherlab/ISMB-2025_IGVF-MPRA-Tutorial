{
 "cells": [
  {
   "cell_type": "markdown",
   "metadata": {},
   "source": [
    "<a target=\"_blank\" href=\"https://colab.research.google.com/github/kircherlab/ISMB-2025_IGVF-MPRA-Tutorial/blob/main/05_sequence_models/02_ism_and_tfmodisco.ipynb\">\n",
    "  <img src=\"https://colab.research.google.com/assets/colab-badge.svg\" alt=\"Open In Colab\"/>\n",
    "</a>"
   ]
  },
  {
   "cell_type": "markdown",
   "metadata": {
    "id": "F3mUqE7S-wM4"
   },
   "source": [
    "# **Prerequisites**\n",
    "\n",
    "> 1. Installing conda in Colab (not condacolab!)\n",
    "\n",
    "> 2. Import `clear_output` (to keep Colab neat!)"
   ]
  },
  {
   "cell_type": "code",
   "execution_count": null,
   "metadata": {
    "colab": {
     "base_uri": "https://localhost:8080/"
    },
    "executionInfo": {
     "elapsed": 24006,
     "status": "ok",
     "timestamp": 1709289045092,
     "user": {
      "displayName": "Martin Kircher",
      "userId": "02079780992272163390"
     },
     "user_tz": -60
    },
    "id": "qhtRd8Yfs_QL",
    "outputId": "e64a7fbf-ff76-45d0-8e09-9237c66cdfa1"
   },
   "outputs": [
    {
     "name": "stdout",
     "output_type": "stream",
     "text": [
      "⏬ Downloading https://github.com/conda-forge/miniforge/releases/download/23.11.0-0/Mambaforge-23.11.0-0-Linux-x86_64.sh...\n",
      "📦 Installing...\n",
      "📌 Adjusting configuration...\n",
      "🩹 Patching environment...\n",
      "⏲ Done in 0:00:18\n",
      "🔁 Restarting kernel...\n"
     ]
    }
   ],
   "source": [
    "!pip install -q condacolab\n",
    "import condacolab\n",
    "condacolab.install()"
   ]
  },
  {
   "cell_type": "code",
   "execution_count": null,
   "metadata": {
    "id": "kl3dCeu-A_5I"
   },
   "outputs": [],
   "source": [
    "from IPython.display import clear_output"
   ]
  },
  {
   "cell_type": "markdown",
   "metadata": {
    "id": "Dp6NJb1BVVp7"
   },
   "source": [
    "<!-- intentionally left blank -->"
   ]
  },
  {
   "cell_type": "markdown",
   "metadata": {
    "id": "bwpy79tL6mEb"
   },
   "source": [
    "\n",
    "---\n",
    "\n",
    "# 2. How to train a Deep Learning model?  - Hands-on\n",
    "\n",
    "---\n",
    "\n",
    "In this tutorial, we will show you how to:\n",
    "\n",
    "> 1. Train a Convolutional Neural Network (CNN) on MPRA data  \n",
    "> 2. Evaluate models\n"
   ]
  },
  {
   "cell_type": "markdown",
   "metadata": {
    "id": "h2izFqNiCmId"
   },
   "source": [
    "# STEP 1"
   ]
  },
  {
   "cell_type": "markdown",
   "metadata": {
    "id": "Wvp_D1OBjO1e"
   },
   "source": [
    "## The Setup - Creating environment and installing dependencies\n",
    "\n",
    "---"
   ]
  },
  {
   "cell_type": "markdown",
   "metadata": {
    "id": "6UJuxBLdtuzV"
   },
   "source": [
    "> Fetch our workshop repository from GitHub using `git clone`"
   ]
  },
  {
   "cell_type": "code",
   "execution_count": null,
   "metadata": {
    "colab": {
     "base_uri": "https://localhost:8080/"
    },
    "executionInfo": {
     "elapsed": 1678,
     "status": "ok",
     "timestamp": 1709289120098,
     "user": {
      "displayName": "Martin Kircher",
      "userId": "02079780992272163390"
     },
     "user_tz": -60
    },
    "id": "lZkRC2kj6Gyq",
    "outputId": "9c743c6f-e29b-4b62-9043-3dc47fd65df9"
   },
   "outputs": [
    {
     "name": "stdout",
     "output_type": "stream",
     "text": [
      "Cloning into 'HowToTrainDNN'...\n",
      "remote: Enumerating objects: 56, done.\u001b[K\n",
      "remote: Counting objects: 100% (56/56), done.\u001b[K\n",
      "remote: Compressing objects: 100% (50/50), done.\u001b[K\n",
      "remote: Total 56 (delta 15), reused 20 (delta 3), pack-reused 0\u001b[K\n",
      "Receiving objects: 100% (56/56), 26.64 MiB | 46.79 MiB/s, done.\n",
      "Resolving deltas: 100% (15/15), done.\n"
     ]
    }
   ],
   "source": [
    "!git clone https://github.com/kircherlab/HowToTrainDNN.git"
   ]
  },
  {
   "cell_type": "markdown",
   "metadata": {
    "id": "3k_oGB-bveHd"
   },
   "source": [
    "> You should see a folder `HowToTrainDNN` in your Files directory. If not, please ask!\n",
    "\n",
    "---"
   ]
  },
  {
   "cell_type": "markdown",
   "metadata": {
    "id": "pkOZN7-awHIH"
   },
   "source": [
    "## Getting a deep neural network (DNN) model\n",
    "\n",
    "---\n",
    "\n",
    "> For example, how about DeepSTARR? From *Almeida et al., 2022*\n",
    "\n",
    "> Do they have a GitHub repo? - Of course! :)\n"
   ]
  },
  {
   "cell_type": "code",
   "execution_count": null,
   "metadata": {
    "colab": {
     "base_uri": "https://localhost:8080/"
    },
    "executionInfo": {
     "elapsed": 690,
     "status": "ok",
     "timestamp": 1709289189399,
     "user": {
      "displayName": "Martin Kircher",
      "userId": "02079780992272163390"
     },
     "user_tz": -60
    },
    "id": "RQFL0pVUlK1C",
    "outputId": "e851547b-47bf-4264-f3f3-bd5f2792cf6c"
   },
   "outputs": [
    {
     "name": "stdout",
     "output_type": "stream",
     "text": [
      "Cloning into 'DeepSTARR'...\n",
      "remote: Enumerating objects: 228, done.\u001b[K\n",
      "remote: Counting objects:   0% (1/228)\u001b[K\rremote: Counting objects:   1% (3/228)\u001b[K\rremote: Counting objects:   2% (5/228)\u001b[K\rremote: Counting objects:   3% (7/228)\u001b[K\rremote: Counting objects:   4% (10/228)\u001b[K\rremote: Counting objects:   5% (12/228)\u001b[K\rremote: Counting objects:   6% (14/228)\u001b[K\rremote: Counting objects:   7% (16/228)\u001b[K\rremote: Counting objects:   8% (19/228)\u001b[K\rremote: Counting objects:   9% (21/228)\u001b[K\rremote: Counting objects:  10% (23/228)\u001b[K\rremote: Counting objects:  11% (26/228)\u001b[K\rremote: Counting objects:  12% (28/228)\u001b[K\rremote: Counting objects:  13% (30/228)\u001b[K\rremote: Counting objects:  14% (32/228)\u001b[K\rremote: Counting objects:  15% (35/228)\u001b[K\rremote: Counting objects:  16% (37/228)\u001b[K\rremote: Counting objects:  17% (39/228)\u001b[K\rremote: Counting objects:  18% (42/228)\u001b[K\rremote: Counting objects:  19% (44/228)\u001b[K\rremote: Counting objects:  20% (46/228)\u001b[K\rremote: Counting objects:  21% (48/228)\u001b[K\rremote: Counting objects:  22% (51/228)\u001b[K\rremote: Counting objects:  23% (53/228)\u001b[K\rremote: Counting objects:  24% (55/228)\u001b[K\rremote: Counting objects:  25% (57/228)\u001b[K\rremote: Counting objects:  26% (60/228)\u001b[K\rremote: Counting objects:  27% (62/228)\u001b[K\rremote: Counting objects:  28% (64/228)\u001b[K\rremote: Counting objects:  29% (67/228)\u001b[K\rremote: Counting objects:  30% (69/228)\u001b[K\rremote: Counting objects:  31% (71/228)\u001b[K\rremote: Counting objects:  32% (73/228)\u001b[K\rremote: Counting objects:  33% (76/228)\u001b[K\rremote: Counting objects:  34% (78/228)\u001b[K\rremote: Counting objects:  35% (80/228)\u001b[K\rremote: Counting objects:  36% (83/228)\u001b[K\rremote: Counting objects:  37% (85/228)\u001b[K\rremote: Counting objects:  38% (87/228)\u001b[K\rremote: Counting objects:  39% (89/228)\u001b[K\rremote: Counting objects:  40% (92/228)\u001b[K\rremote: Counting objects:  41% (94/228)\u001b[K\rremote: Counting objects:  42% (96/228)\u001b[K\rremote: Counting objects:  43% (99/228)\u001b[K\rremote: Counting objects:  44% (101/228)\u001b[K\rremote: Counting objects:  45% (103/228)\u001b[K\rremote: Counting objects:  46% (105/228)\u001b[K\rremote: Counting objects:  47% (108/228)\u001b[K\rremote: Counting objects:  48% (110/228)\u001b[K\rremote: Counting objects:  49% (112/228)\u001b[K\rremote: Counting objects:  50% (114/228)\u001b[K\rremote: Counting objects:  51% (117/228)\u001b[K\rremote: Counting objects:  52% (119/228)\u001b[K\rremote: Counting objects:  53% (121/228)\u001b[K\rremote: Counting objects:  54% (124/228)\u001b[K\rremote: Counting objects:  55% (126/228)\u001b[K\rremote: Counting objects:  56% (128/228)\u001b[K\rremote: Counting objects:  57% (130/228)\u001b[K\rremote: Counting objects:  58% (133/228)\u001b[K\rremote: Counting objects:  59% (135/228)\u001b[K\rremote: Counting objects:  60% (137/228)\u001b[K\rremote: Counting objects:  61% (140/228)\u001b[K\rremote: Counting objects:  62% (142/228)\u001b[K\rremote: Counting objects:  63% (144/228)\u001b[K\rremote: Counting objects:  64% (146/228)\u001b[K\rremote: Counting objects:  65% (149/228)\u001b[K\rremote: Counting objects:  66% (151/228)\u001b[K\rremote: Counting objects:  67% (153/228)\u001b[K\rremote: Counting objects:  68% (156/228)\u001b[K\rremote: Counting objects:  69% (158/228)\u001b[K\rremote: Counting objects:  70% (160/228)\u001b[K\rremote: Counting objects:  71% (162/228)\u001b[K\rremote: Counting objects:  72% (165/228)\u001b[K\rremote: Counting objects:  73% (167/228)\u001b[K\rremote: Counting objects:  74% (169/228)\u001b[K\rremote: Counting objects:  75% (171/228)\u001b[K\rremote: Counting objects:  76% (174/228)\u001b[K\rremote: Counting objects:  77% (176/228)\u001b[K\rremote: Counting objects:  78% (178/228)\u001b[K\rremote: Counting objects:  79% (181/228)\u001b[K\rremote: Counting objects:  80% (183/228)\u001b[K\rremote: Counting objects:  81% (185/228)\u001b[K\rremote: Counting objects:  82% (187/228)\u001b[K\rremote: Counting objects:  83% (190/228)\u001b[K\rremote: Counting objects:  84% (192/228)\u001b[K\rremote: Counting objects:  85% (194/228)\u001b[K\rremote: Counting objects:  86% (197/228)\u001b[K\rremote: Counting objects:  87% (199/228)\u001b[K\rremote: Counting objects:  88% (201/228)\u001b[K\rremote: Counting objects:  89% (203/228)\u001b[K\rremote: Counting objects:  90% (206/228)\u001b[K\rremote: Counting objects:  91% (208/228)\u001b[K\rremote: Counting objects:  92% (210/228)\u001b[K\rremote: Counting objects:  93% (213/228)\u001b[K\rremote: Counting objects:  94% (215/228)\u001b[K\rremote: Counting objects:  95% (217/228)\u001b[K\rremote: Counting objects:  96% (219/228)\u001b[K\rremote: Counting objects:  97% (222/228)\u001b[K\rremote: Counting objects:  98% (224/228)\u001b[K\rremote: Counting objects:  99% (226/228)\u001b[K\rremote: Counting objects: 100% (228/228)\u001b[K\rremote: Counting objects: 100% (228/228), done.\u001b[K\n",
      "remote: Compressing objects: 100% (170/170), done.\u001b[K\n",
      "remote: Total 228 (delta 125), reused 160 (delta 57), pack-reused 0\u001b[K\n",
      "Receiving objects: 100% (228/228), 4.52 MiB | 33.77 MiB/s, done.\n",
      "Resolving deltas: 100% (125/125), done.\n"
     ]
    }
   ],
   "source": [
    "!git clone https://github.com/bernardo-de-almeida/DeepSTARR.git"
   ]
  },
  {
   "cell_type": "code",
   "execution_count": null,
   "metadata": {
    "id": "b-8SRfvLlRRW"
   },
   "outputs": [],
   "source": [
    "!cd DeepSTARR/DeepSTARR/"
   ]
  },
  {
   "cell_type": "markdown",
   "metadata": {
    "id": "8nOWdhZVzBEr"
   },
   "source": [
    "## Creating a conda environment\n",
    "\n",
    "We create a `conda` environment for our DNN model using:\n",
    "\n",
    "```\n",
    "conda create --name <name-of-environment> package=1 package=2 ...\n",
    "```\n",
    "\n",
    "> **Note:**  \n",
    "> This step should take about 3-5 minutes.\n",
    "\n",
    "---"
   ]
  },
  {
   "cell_type": "code",
   "execution_count": null,
   "metadata": {
    "id": "MxkiNYVs9wc4"
   },
   "outputs": [],
   "source": [
    "!conda create --name DeepSTARR python=3.7 tensorflow-gpu -y\n",
    "clear_output()"
   ]
  },
  {
   "cell_type": "markdown",
   "metadata": {
    "id": "QPGXkJ4lzqHt"
   },
   "source": [
    "> Activate the environment with `source activate <name-of-environment>`\n",
    "\n",
    "---"
   ]
  },
  {
   "cell_type": "code",
   "execution_count": null,
   "metadata": {
    "id": "8B36YmuKAHEW"
   },
   "outputs": [],
   "source": [
    "!source activate DeepSTARR"
   ]
  },
  {
   "cell_type": "markdown",
   "metadata": {
    "id": "AxzWJbqWz6D-"
   },
   "source": [
    "## Importing libraries\n",
    "\n",
    "---"
   ]
  },
  {
   "cell_type": "code",
   "execution_count": null,
   "metadata": {
    "id": "b89YOTNVCDc9"
   },
   "outputs": [],
   "source": [
    "# DNN libraries\n",
    "import tensorflow as tf\n",
    "import keras\n",
    "import keras.layers as kl\n",
    "from keras.callbacks import EarlyStopping, History\n",
    "\n",
    "# Data-analysis libraries\n",
    "import pandas as pd\n",
    "import numpy as np\n",
    "import matplotlib.pyplot as plt\n",
    "from sklearn.model_selection import train_test_split\n",
    "import seaborn as sns\n",
    "from scipy import stats\n",
    "from scipy.stats import spearmanr\n",
    "from scipy.stats import pearsonr\n",
    "from sklearn.metrics import mean_squared_error\n",
    "\n",
    "# For reproducibility\n",
    "import random\n",
    "random.seed(42)"
   ]
  },
  {
   "cell_type": "markdown",
   "metadata": {
    "id": "7sCL4dUiECNr"
   },
   "source": [
    "# STEP 2\n"
   ]
  },
  {
   "cell_type": "markdown",
   "metadata": {
    "id": "zlcK3qX6jwnK"
   },
   "source": [
    "## The Data - Getting MPRA dataset\n",
    "\n",
    "Here, we will use a dataset from the following study:\n",
    "\n",
    "*Agarwal, V., Inoue, F., Schubach, M., Martin, B.K., Dash, P.M., Zhang, Z., Sohota, A., Noble, W.S., Yardimci, G.G., Kircher, M. and Shendure, J., 2023. **Massively parallel characterization of transcriptional regulatory elements in three diverse human cell types**. bioRxiv.*\n",
    "\n",
    "---"
   ]
  },
  {
   "cell_type": "code",
   "execution_count": 5,
   "metadata": {},
   "outputs": [
    {
     "name": "stdout",
     "output_type": "stream",
     "text": [
      "File exists\n"
     ]
    }
   ],
   "source": [
    "%%bash\n",
    "mkdir -p 01_data\n",
    "\n",
    "if [ ! -f \"01_data/ultra_k562_full.tsv.gz\" ]; then\n",
    "    wget -O 01_data/ultra_k562_full.tsv.gz https://github.com/kircherlab/ISMB-2025_IGVF-MPRA-Tutorial/raw/refs/heads/main/05_sequence_models/01_data/ultra_k562_full.tsv.gz\n",
    "else\n",
    "    echo \"File exists\"\n",
    "fi"
   ]
  },
  {
   "cell_type": "code",
   "execution_count": null,
   "metadata": {
    "colab": {
     "base_uri": "https://localhost:8080/",
     "height": 226
    },
    "executionInfo": {
     "elapsed": 1395,
     "status": "ok",
     "timestamp": 1709289674428,
     "user": {
      "displayName": "Martin Kircher",
      "userId": "02079780992272163390"
     },
     "user_tz": -60
    },
    "id": "bFTJVkpqEvzQ",
    "outputId": "ee933a05-0ae9-44a1-8160-11b57ba3ab07"
   },
   "outputs": [
    {
     "data": {
      "application/vnd.microsoft.datawrangler.viewer.v0+json": {
       "columns": [
        {
         "name": "index",
         "rawType": "int64",
         "type": "integer"
        },
        {
         "name": "name",
         "rawType": "object",
         "type": "string"
        },
        {
         "name": "sequence",
         "rawType": "object",
         "type": "string"
        },
        {
         "name": "log2.1",
         "rawType": "float64",
         "type": "float"
        },
        {
         "name": "log2.2",
         "rawType": "float64",
         "type": "float"
        },
        {
         "name": "log2.3",
         "rawType": "float64",
         "type": "float"
        },
        {
         "name": "log2.mean",
         "rawType": "float64",
         "type": "float"
        }
       ],
       "conversionMethod": "pd.DataFrame",
       "ref": "a2c6d93d-637b-417d-b238-68caa9dd3941",
       "rows": [
        [
         "0",
         "BCL11A_1",
         "AGGACCGGATCAACTTAAATGACTTCAACTGCCCCAACCCCTCTTCCAGATTCTAGTGGTCTTTAGCTATTTTTGATCTGTGAAATCTGATATTCAAAATCACATGTTACTTGAAATATAAAACCAACCAGTGGTGGTGGATCACAACTGTAATCCCAGCACTTTGGGAGGCCAATGCGGGTAGATCACTTGGGTCTAGGAGTTCAAGACCTGCCCATTGCGTGAACCGA",
         "-0.642",
         "-0.269",
         "-0.514",
         "-0.475"
        ],
        [
         "1",
         "BCL11A_2",
         "AGGACCGGATCAACTTGGGCAACAGGGCAAAGCCCCATCTCCCGAAAAAATACAAAATATTAGCTGAGTGTGTTGGTGTGCACCTGTAGTCTCAGCTACTCGGGAGGCTGAGATGGGCGGATCACTTGAGCCTGGGAGGCTGAAGGTTGCAGTGAGCCGAGATCAGGCTACTGCACTCCAGTCTGAGCAGCAGAGCAAGATCCTGTCTCAAAAAGCATTGCGTGAACCGA",
         "-0.315",
         "-0.859",
         "-0.52",
         "-0.564"
        ],
        [
         "2",
         "BCL11A_3",
         "AGGACCGGATCAACTAAAAGAAAAAAGGAAACATAAAACCAAACATGAGACATACGCTTCTCATTATTGTTTTATAAAGATGGCCTCTGAAATTTAGAAGGTAAAAGAGTTGTTAACAGGGCAGTGGCCTATGTAGTCCTCCATCTCCACAGACTAATATTAATAACTTCAGAGTAAATACAATAACATAGTTTATTTATATAAAATGTCTATTTCATTGCGTGAACCGA",
         "-0.854",
         "-0.657",
         "-0.87",
         "-0.794"
        ],
        [
         "3",
         "BCL11A_6",
         "AGGACCGGATCAACTGGAGGAGAGAGGAAAGGAGAAGTCAATAGGGGCTTGAGAGGACATATTAAGCCATTATTTAAACTAGCTGGAAAGATTAAGCGAGAATCTGCTGAAACACTTCTGTTTTTTTTCCCTGTAGACAAGCCAATGGCAAGAACAGGGAAAGGGCTCTGATGAACCTACTCCTTCCGCCTTCGAAAACCCCAGGATGCGTAGAGCATTGCGTGAACCGA",
         "-0.022",
         "-0.71",
         "-0.615",
         "-0.449"
        ],
        [
         "4",
         "BCL11A_8",
         "AGGACCGGATCAACTCTATTTCCTTCAGTTCTGCTCTGATTTTAGTTATTTCTTGCCTTCTGCTAGCTTTTGAATGTGTTTGCTCTTGCTTTTCTAGTTCTTTTAATTGTGATGTTAGGGTGTCAATTTTGGATCTTTCCTGCTTTCTCTTGTGGGCATTTAGTGCTATAAATTTCCCTCTACACACTGCTTTGAATGCGTCCCAGAGATTCTGGCATTGCGTGAACCGA",
         "-0.696",
         "-0.781",
         "-0.206",
         "-0.561"
        ]
       ],
       "shape": {
        "columns": 6,
        "rows": 5
       }
      },
      "text/html": [
       "<div>\n",
       "<style scoped>\n",
       "    .dataframe tbody tr th:only-of-type {\n",
       "        vertical-align: middle;\n",
       "    }\n",
       "\n",
       "    .dataframe tbody tr th {\n",
       "        vertical-align: top;\n",
       "    }\n",
       "\n",
       "    .dataframe thead th {\n",
       "        text-align: right;\n",
       "    }\n",
       "</style>\n",
       "<table border=\"1\" class=\"dataframe\">\n",
       "  <thead>\n",
       "    <tr style=\"text-align: right;\">\n",
       "      <th></th>\n",
       "      <th>name</th>\n",
       "      <th>sequence</th>\n",
       "      <th>log2.1</th>\n",
       "      <th>log2.2</th>\n",
       "      <th>log2.3</th>\n",
       "      <th>log2.mean</th>\n",
       "    </tr>\n",
       "  </thead>\n",
       "  <tbody>\n",
       "    <tr>\n",
       "      <th>0</th>\n",
       "      <td>BCL11A_1</td>\n",
       "      <td>AGGACCGGATCAACTTAAATGACTTCAACTGCCCCAACCCCTCTTC...</td>\n",
       "      <td>-0.642</td>\n",
       "      <td>-0.269</td>\n",
       "      <td>-0.514</td>\n",
       "      <td>-0.475</td>\n",
       "    </tr>\n",
       "    <tr>\n",
       "      <th>1</th>\n",
       "      <td>BCL11A_2</td>\n",
       "      <td>AGGACCGGATCAACTTGGGCAACAGGGCAAAGCCCCATCTCCCGAA...</td>\n",
       "      <td>-0.315</td>\n",
       "      <td>-0.859</td>\n",
       "      <td>-0.520</td>\n",
       "      <td>-0.564</td>\n",
       "    </tr>\n",
       "    <tr>\n",
       "      <th>2</th>\n",
       "      <td>BCL11A_3</td>\n",
       "      <td>AGGACCGGATCAACTAAAAGAAAAAAGGAAACATAAAACCAAACAT...</td>\n",
       "      <td>-0.854</td>\n",
       "      <td>-0.657</td>\n",
       "      <td>-0.870</td>\n",
       "      <td>-0.794</td>\n",
       "    </tr>\n",
       "    <tr>\n",
       "      <th>3</th>\n",
       "      <td>BCL11A_6</td>\n",
       "      <td>AGGACCGGATCAACTGGAGGAGAGAGGAAAGGAGAAGTCAATAGGG...</td>\n",
       "      <td>-0.022</td>\n",
       "      <td>-0.710</td>\n",
       "      <td>-0.615</td>\n",
       "      <td>-0.449</td>\n",
       "    </tr>\n",
       "    <tr>\n",
       "      <th>4</th>\n",
       "      <td>BCL11A_8</td>\n",
       "      <td>AGGACCGGATCAACTCTATTTCCTTCAGTTCTGCTCTGATTTTAGT...</td>\n",
       "      <td>-0.696</td>\n",
       "      <td>-0.781</td>\n",
       "      <td>-0.206</td>\n",
       "      <td>-0.561</td>\n",
       "    </tr>\n",
       "  </tbody>\n",
       "</table>\n",
       "</div>"
      ],
      "text/plain": [
       "       name                                           sequence  log2.1  \\\n",
       "0  BCL11A_1  AGGACCGGATCAACTTAAATGACTTCAACTGCCCCAACCCCTCTTC...  -0.642   \n",
       "1  BCL11A_2  AGGACCGGATCAACTTGGGCAACAGGGCAAAGCCCCATCTCCCGAA...  -0.315   \n",
       "2  BCL11A_3  AGGACCGGATCAACTAAAAGAAAAAAGGAAACATAAAACCAAACAT...  -0.854   \n",
       "3  BCL11A_6  AGGACCGGATCAACTGGAGGAGAGAGGAAAGGAGAAGTCAATAGGG...  -0.022   \n",
       "4  BCL11A_8  AGGACCGGATCAACTCTATTTCCTTCAGTTCTGCTCTGATTTTAGT...  -0.696   \n",
       "\n",
       "   log2.2  log2.3  log2.mean  \n",
       "0  -0.269  -0.514     -0.475  \n",
       "1  -0.859  -0.520     -0.564  \n",
       "2  -0.657  -0.870     -0.794  \n",
       "3  -0.710  -0.615     -0.449  \n",
       "4  -0.781  -0.206     -0.561  "
      ]
     },
     "execution_count": 4,
     "metadata": {},
     "output_type": "execute_result"
    }
   ],
   "source": [
    "# Reading a .tsv file\n",
    "data = pd.read_csv('01_data/ultra_k562_full.tsv.gz', sep='\\t')\n",
    "data.head()"
   ]
  },
  {
   "cell_type": "markdown",
   "metadata": {
    "id": "aFtVrDCubSfz"
   },
   "source": [
    "## Understanding data distribution\n",
    "\n",
    "---"
   ]
  },
  {
   "cell_type": "code",
   "execution_count": null,
   "metadata": {
    "colab": {
     "base_uri": "https://localhost:8080/",
     "height": 299
    },
    "executionInfo": {
     "elapsed": 1745,
     "status": "ok",
     "timestamp": 1709289714825,
     "user": {
      "displayName": "Martin Kircher",
      "userId": "02079780992272163390"
     },
     "user_tz": -60
    },
    "id": "Wd8a35asZJPO",
    "outputId": "eaf237c8-2fc6-4115-ad08-bcc4991df48a"
   },
   "outputs": [
    {
     "data": {
      "image/png": "[encoded data removed]",
      "text/plain": [
       "<Figure size 1500x500 with 3 Axes>"
      ]
     },
     "metadata": {},
     "output_type": "display_data"
    }
   ],
   "source": [
    "# Set up the matplotlib figure\n",
    "fig, axes = plt.subplots(nrows=1, ncols=3, figsize=(15, 5))\n",
    "\n",
    "for i, (col1, col2) in enumerate([(2, 3), (3, 4), (4, 2)]):\n",
    "    # Create a hexbin plot for the joint plot\n",
    "    hb = axes[i].hexbin(data.iloc[:, col1], data.iloc[:, col2], gridsize=50, extent=[-2, 2, -2, 2], cmap='Greys')\n",
    "\n",
    "    # Calculate and print the Pearson correlation coefficient and p-value\n",
    "    corr_coef, p_value = stats.pearsonr(data.iloc[:, col1], data.iloc[:, col2])\n",
    "    axes[i].text(-1.5, 1.5, f'Pearson r: {corr_coef:.2f}')\n",
    "\n",
    "    # Set the same axes limits for all subplots\n",
    "    axes[i].set_xlim([-2, 2])\n",
    "    axes[i].set_ylim([-2, 2])\n",
    "\n",
    "    # Set the axis labels\n",
    "    axes[i].set_xlabel(data.columns[col1])\n",
    "    axes[i].set_ylabel(data.columns[col2])\n",
    "\n",
    "    # Set ticks in axis per each integer\n",
    "    axes[i].set_xticks(np.arange(-2, 3, 1))\n",
    "    axes[i].set_yticks(np.arange(-2, 3, 1))\n",
    "\n",
    "plt.tight_layout()\n",
    "plt.show()"
   ]
  },
  {
   "cell_type": "markdown",
   "metadata": {
    "id": "_DsgCIYhQiNB"
   },
   "source": [
    "## One-hot encoding\n",
    "\n",
    "Let's understand how to one-hot encode a DNA sequence.\n",
    "\n",
    "<img src=\"https://media.springernature.com/full/springer-static/image/art%3A10.1007%2Fs00449-022-02716-w/MediaObjects/449_2022_2716_Fig3_HTML.png?as=webp\" alt=\"STARR-seq data\" width=\"600\"/>\n",
    "\n",
    "[Reference](https://link.springer.com/article/10.1007/s00449-022-02716-w)\n",
    "\n",
    "---"
   ]
  },
  {
   "cell_type": "markdown",
   "metadata": {
    "id": "yEf3f2lBhl70"
   },
   "source": [
    "Are there only 4 DNA/RNA nucleotide base annotations?  \n",
    "> Of course not :)\n",
    "\n",
    "| IUPAC nucleotide code | Base                |\n",
    "| --------------------- | ------------------- |\n",
    "| A                     | Adenine             |\n",
    "| C                     | Cytosine            |\n",
    "| G                     | Guanine             |\n",
    "| T (or U)              | Thymine (or Uracil) |\n",
    "| R                     | A or G              |\n",
    "| Y                     | C or T              |\n",
    "| S                     | G or C              |\n",
    "| W                     | A or T              |\n",
    "| K                     | G or T              |\n",
    "| M                     | A or C              |\n",
    "| B                     | C or G or T         |\n",
    "| D                     | A or G or T         |\n",
    "| H                     | A or C or T         |\n",
    "| V                     | A or C or G         |\n",
    "| N                     | any base            |\n",
    "\n",
    "[Source](https://www.bioinformatics.org/sms/iupac.html)"
   ]
  },
  {
   "cell_type": "code",
   "execution_count": null,
   "metadata": {
    "id": "_SDewBUeeukS"
   },
   "outputs": [],
   "source": [
    "# Define a dictionary to map nucleotides to their one-hot encoded representation\n",
    "nucleotide_dict = {'A': [1, 0, 0, 0],\n",
    "                   'C': [0, 1, 0, 0],\n",
    "                   'G': [0, 0, 1, 0],\n",
    "                   'T': [0, 0, 0, 1],\n",
    "                   'N': [0, 0, 0, 0]} # What if there's an N?\n",
    "\n",
    "# Define a function to one-hot encode a single DNA sequence\n",
    "def one_hot_encode(seq):\n",
    "    return np.array([nucleotide_dict[nuc] for nuc in seq])"
   ]
  },
  {
   "cell_type": "markdown",
   "metadata": {
    "id": "tPZE8sNSiBxV"
   },
   "source": [
    "## Train, test and validation split\n",
    "\n",
    "---"
   ]
  },
  {
   "cell_type": "markdown",
   "metadata": {
    "id": "JZpeN7yiBthQ"
   },
   "source": [
    "Let's split the dataset as follows:\n",
    "  - Input X: sequences as one-hot encoded\n",
    "  - Output Y: mean MPRA activity (`log2.mean`)\n",
    "  - Split:\n",
    "    - 90% train\n",
    "    - 5% test\n",
    "    - 5% validation"
   ]
  },
  {
   "cell_type": "code",
   "execution_count": 11,
   "metadata": {
    "id": "1GjNOx2aiyU3"
   },
   "outputs": [],
   "source": [
    "def splitEncode(df, X_cols, y_cols):\n",
    "    # Split the dataframe into X and y\n",
    "    X = df[X_cols]\n",
    "    y = df[y_cols]\n",
    "\n",
    "    # One-hot encode the X data\n",
    "    X = np.array(X['sequence'].apply(one_hot_encode).tolist())\n",
    "\n",
    "    # Split the data into train and test+validation sets (90% and 10%)\n",
    "    X_train, X_temp, y_train, y_temp = train_test_split(X, y, test_size=0.1, random_state=42)\n",
    "\n",
    "    # Split the test+validation sets into test and validation sets (50% and 50% of 10% => 5% and 5% of total)\n",
    "    X_test, X_val, y_test, y_val = train_test_split(X_temp, y_temp, test_size=0.5, random_state=42)\n",
    "\n",
    "    return X_train, X_test, X_val, y_train, y_test, y_val"
   ]
  },
  {
   "cell_type": "code",
   "execution_count": 12,
   "metadata": {
    "colab": {
     "base_uri": "https://localhost:8080/",
     "height": 237
    },
    "executionInfo": {
     "elapsed": 28891,
     "status": "ok",
     "timestamp": 1709289965448,
     "user": {
      "displayName": "Martin Kircher",
      "userId": "02079780992272163390"
     },
     "user_tz": -60
    },
    "id": "qdeMR_AhDvcO",
    "outputId": "798a0caa-7908-462b-fe35-a28bbd481bde"
   },
   "outputs": [
    {
     "data": {
      "application/vnd.microsoft.datawrangler.viewer.v0+json": {
       "columns": [
        {
         "name": "index",
         "rawType": "int64",
         "type": "integer"
        },
        {
         "name": "Dataset",
         "rawType": "object",
         "type": "string"
        },
        {
         "name": "Shape",
         "rawType": "object",
         "type": "unknown"
        }
       ],
       "conversionMethod": "pd.DataFrame",
       "ref": "1241e399-aace-4951-a315-3f36f492242a",
       "rows": [
        [
         "0",
         "X_train",
         "(202099, 230, 4)"
        ],
        [
         "1",
         "X_test",
         "(11228, 230, 4)"
        ],
        [
         "2",
         "X_val",
         "(11228, 230, 4)"
        ],
        [
         "3",
         "y_train",
         "(202099, 1)"
        ],
        [
         "4",
         "y_test",
         "(11228, 1)"
        ],
        [
         "5",
         "y_val",
         "(11228, 1)"
        ]
       ],
       "shape": {
        "columns": 2,
        "rows": 6
       }
      },
      "text/html": [
       "<div>\n",
       "<style scoped>\n",
       "    .dataframe tbody tr th:only-of-type {\n",
       "        vertical-align: middle;\n",
       "    }\n",
       "\n",
       "    .dataframe tbody tr th {\n",
       "        vertical-align: top;\n",
       "    }\n",
       "\n",
       "    .dataframe thead th {\n",
       "        text-align: right;\n",
       "    }\n",
       "</style>\n",
       "<table border=\"1\" class=\"dataframe\">\n",
       "  <thead>\n",
       "    <tr style=\"text-align: right;\">\n",
       "      <th></th>\n",
       "      <th>Dataset</th>\n",
       "      <th>Shape</th>\n",
       "    </tr>\n",
       "  </thead>\n",
       "  <tbody>\n",
       "    <tr>\n",
       "      <th>0</th>\n",
       "      <td>X_train</td>\n",
       "      <td>(202099, 230, 4)</td>\n",
       "    </tr>\n",
       "    <tr>\n",
       "      <th>1</th>\n",
       "      <td>X_test</td>\n",
       "      <td>(11228, 230, 4)</td>\n",
       "    </tr>\n",
       "    <tr>\n",
       "      <th>2</th>\n",
       "      <td>X_val</td>\n",
       "      <td>(11228, 230, 4)</td>\n",
       "    </tr>\n",
       "    <tr>\n",
       "      <th>3</th>\n",
       "      <td>y_train</td>\n",
       "      <td>(202099, 1)</td>\n",
       "    </tr>\n",
       "    <tr>\n",
       "      <th>4</th>\n",
       "      <td>y_test</td>\n",
       "      <td>(11228, 1)</td>\n",
       "    </tr>\n",
       "    <tr>\n",
       "      <th>5</th>\n",
       "      <td>y_val</td>\n",
       "      <td>(11228, 1)</td>\n",
       "    </tr>\n",
       "  </tbody>\n",
       "</table>\n",
       "</div>"
      ],
      "text/plain": [
       "   Dataset             Shape\n",
       "0  X_train  (202099, 230, 4)\n",
       "1   X_test   (11228, 230, 4)\n",
       "2    X_val   (11228, 230, 4)\n",
       "3  y_train       (202099, 1)\n",
       "4   y_test        (11228, 1)\n",
       "5    y_val        (11228, 1)"
      ]
     },
     "execution_count": 12,
     "metadata": {},
     "output_type": "execute_result"
    }
   ],
   "source": [
    "# Let's split\n",
    "X_train, X_test, X_val, y_train, y_test, y_val = splitEncode(data, ['sequence'], ['log2.mean'])\n",
    "pd.DataFrame({\n",
    "    'Dataset': ['X_train', 'X_test', 'X_val', 'y_train', 'y_test', 'y_val'],\n",
    "    'Shape': [X_train.shape, X_test.shape, X_val.shape, y_train.shape, y_test.shape, y_val.shape]\n",
    "})"
   ]
  },
  {
   "cell_type": "markdown",
   "metadata": {
    "id": "bUDZHPhNFgpM"
   },
   "source": [
    "## Setting hyperparameters\n",
    "\n",
    "Here, we are going to use an optimized set of `params` (aka hyperparameters or model features) from the DeepSTARR study.\n",
    "\n",
    "**Note: Importance of hyperparameters**\n",
    "  - **Importance:** They define the model structure and learning process, significantly influencing performance.\n",
    "  - **Achievement:** Set before training, determined by trial and error, or systematic search processes.\n",
    "  - **Time:** Tuning hyperparameters is time-consuming as each configuration requires training a new model. Plan accordingly."
   ]
  },
  {
   "cell_type": "code",
   "execution_count": 13,
   "metadata": {
    "id": "paFzyHkKFM3l"
   },
   "outputs": [],
   "source": [
    "params = {'batch_size': 64, # number of examples per batch\n",
    "          'epochs': 10, # number of epochs\n",
    "          'early_stop': 10, # patience of 10 epochs to reduce training time; you can increase the patience to see if the model improves after more epochs\n",
    "          'lr': 0.001, # learning rate\n",
    "          'n_conv_layer': 3, # number of convolutional layers\n",
    "          'num_filters1': 128, # number of filters/kernels in the first conv layer\n",
    "          'num_filters2': 60, # number of filters/kernels in the second conv layer\n",
    "          'num_filters3': 60, # number of filters/kernels in the third conv layer\n",
    "          # 'num_filters4': 120,\n",
    "          'kernel_size1': 7, # size of the filters in the first conv layer\n",
    "          'kernel_size2': 3, # size of the filters in the second conv layer\n",
    "          'kernel_size3': 5, # size of the filters in the third conv layer\n",
    "          # 'kernel_size4': 3,\n",
    "          'n_dense_layer': 1, # number of dense/fully connected layers\n",
    "          'dense_neurons1': 64, # number of neurons in the dense layer\n",
    "          # 'dense_neurons2': 256,\n",
    "          'dropout_conv': 'yes', # add dropout after convolutional layers?\n",
    "          'dropout_prob': 0.4, # dropout probability\n",
    "          'pad': 'same'}"
   ]
  },
  {
   "cell_type": "markdown",
   "metadata": {
    "id": "aiydB_96GlH1"
   },
   "source": [
    "## Model configuration - Setting input and output\n",
    "\n",
    "We will follow the DeepSTARR model structure."
   ]
  },
  {
   "cell_type": "code",
   "execution_count": 14,
   "metadata": {
    "id": "D-jwB7AGHMor"
   },
   "outputs": [],
   "source": [
    "# Additional metrics for training purposes\n",
    "def Spearman(y_true, y_pred):\n",
    "     return ( tf.py_function(spearmanr, [tf.cast(y_pred, tf.float32),\n",
    "                       tf.cast(y_true, tf.float32)], Tout = tf.float32) )"
   ]
  },
  {
   "cell_type": "code",
   "execution_count": 15,
   "metadata": {
    "colab": {
     "base_uri": "https://localhost:8080/"
    },
    "executionInfo": {
     "elapsed": 1560,
     "status": "ok",
     "timestamp": 1709290203399,
     "user": {
      "displayName": "Martin Kircher",
      "userId": "02079780992272163390"
     },
     "user_tz": -60
    },
    "id": "Vm5gep3lFZac",
    "outputId": "9eea39ca-2cf8-4a04-9f5d-a30c0453c8bd"
   },
   "outputs": [
    {
     "name": "stderr",
     "output_type": "stream",
     "text": [
      "2025-05-16 14:39:14.184516: I tensorflow/core/platform/cpu_feature_guard.cc:193] This TensorFlow binary is optimized with oneAPI Deep Neural Network Library (oneDNN) to use the following CPU instructions in performance-critical operations:  SSE4.1 SSE4.2 AVX AVX2 AVX_VNNI FMA\n",
      "To enable them in other operations, rebuild TensorFlow with the appropriate compiler flags.\n"
     ]
    },
    {
     "name": "stdout",
     "output_type": "stream",
     "text": [
      "Model: \"model\"\n",
      "_________________________________________________________________\n",
      " Layer (type)                Output Shape              Param #   \n",
      "=================================================================\n",
      " input_1 (InputLayer)        [(None, 230, 4)]          0         \n",
      "                                                                 \n",
      " Conv1D_1 (Conv1D)           (None, 230, 128)          3712      \n",
      "                                                                 \n",
      "_________________________________________________________________\n",
      " Layer (type)                Output Shape              Param #   \n",
      "=================================================================\n",
      " input_1 (InputLayer)        [(None, 230, 4)]          0         \n",
      "                                                                 \n",
      " Conv1D_1 (Conv1D)           (None, 230, 128)          3712      \n",
      "                                                                 \n",
      " batch_normalization (BatchN  (None, 230, 128)         512       \n",
      " ormalization)                                                   \n",
      "                                                                 \n",
      " activation (Activation)     (None, 230, 128)          0         \n",
      "                                                                 \n",
      " max_pooling1d (MaxPooling1D  (None, 115, 128)         0         \n",
      " )                                                               \n",
      "                                                                 \n",
      " batch_normalization (BatchN  (None, 230, 128)         512       \n",
      " ormalization)                                                   \n",
      "                                                                 \n",
      " activation (Activation)     (None, 230, 128)          0         \n",
      "                                                                 \n",
      " max_pooling1d (MaxPooling1D  (None, 115, 128)         0         \n",
      " )                                                               \n",
      "                                                                 \n",
      " Conv1D_2 (Conv1D)           (None, 115, 60)           23100     \n",
      " Conv1D_2 (Conv1D)           (None, 115, 60)           23100     \n",
      "                                                                 \n",
      " batch_normalization_1 (Batc  (None, 115, 60)          240       \n",
      " hNormalization)                                                 \n",
      "                                                                 \n",
      " activation_1 (Activation)   (None, 115, 60)           0         \n",
      "                                                                 \n",
      " max_pooling1d_1 (MaxPooling  (None, 57, 60)           0         \n",
      "                                                                 \n",
      " batch_normalization_1 (Batc  (None, 115, 60)          240       \n",
      " hNormalization)                                                 \n",
      "                                                                 \n",
      " activation_1 (Activation)   (None, 115, 60)           0         \n",
      "                                                                 \n",
      " max_pooling1d_1 (MaxPooling  (None, 57, 60)           0         \n",
      " 1D)                                                             \n",
      "                                                                 \n",
      " dropout (Dropout)           (None, 57, 60)            0         \n",
      "                                                                 \n",
      " Conv1D_3 (Conv1D)           (None, 57, 60)            18060     \n",
      " 1D)                                                             \n",
      "                                                                 \n",
      " dropout (Dropout)           (None, 57, 60)            0         \n",
      "                                                                 \n",
      " Conv1D_3 (Conv1D)           (None, 57, 60)            18060     \n",
      "                                                                 \n",
      " batch_normalization_2 (Batc  (None, 57, 60)           240       \n",
      " hNormalization)                                                 \n",
      "                                                                 \n",
      " batch_normalization_2 (Batc  (None, 57, 60)           240       \n",
      " hNormalization)                                                 \n",
      "                                                                 \n",
      " activation_2 (Activation)   (None, 57, 60)            0         \n",
      "                                                                 \n",
      " max_pooling1d_2 (MaxPooling  (None, 28, 60)           0         \n",
      " 1D)                                                             \n",
      "                                                                 \n",
      " dropout_1 (Dropout)         (None, 28, 60)            0         \n",
      "                                                                 \n",
      "                                                                 \n",
      " activation_2 (Activation)   (None, 57, 60)            0         \n",
      "                                                                 \n",
      " max_pooling1d_2 (MaxPooling  (None, 28, 60)           0         \n",
      " 1D)                                                             \n",
      "                                                                 \n",
      " dropout_1 (Dropout)         (None, 28, 60)            0         \n",
      "                                                                 \n",
      " flatten (Flatten)           (None, 1680)              0         \n",
      " flatten (Flatten)           (None, 1680)              0         \n",
      "                                                                 \n",
      " Dense_1 (Dense)             (None, 64)                107584    \n",
      "                                                                 \n",
      " batch_normalization_3 (Batc  (None, 64)               256       \n",
      " hNormalization)                                                 \n",
      "                                                                 \n",
      " activation_3 (Activation)   (None, 64)                0         \n",
      "                                                                 \n",
      " dropout_2 (Dropout)         (None, 64)                0         \n",
      "                                                                 \n",
      " Dense_log2.mean (Dense)     (None, 1)                 65        \n",
      "                                                                 \n",
      "                                                                 \n",
      " Dense_1 (Dense)             (None, 64)                107584    \n",
      "                                                                 \n",
      " batch_normalization_3 (Batc  (None, 64)               256       \n",
      " hNormalization)                                                 \n",
      "                                                                 \n",
      " activation_3 (Activation)   (None, 64)                0         \n",
      "                                                                 \n",
      " dropout_2 (Dropout)         (None, 64)                0         \n",
      "                                                                 \n",
      " Dense_log2.mean (Dense)     (None, 1)                 65        \n",
      "                                                                 \n",
      "=================================================================\n",
      "Total params: 153,769\n",
      "Trainable params: 153,145\n",
      "Non-trainable params: 624\n",
      "_________________________________________________________________\n",
      "=================================================================\n",
      "Total params: 153,769\n",
      "Trainable params: 153,145\n",
      "Non-trainable params: 624\n",
      "_________________________________________________________________\n"
     ]
    }
   ],
   "source": [
    "def DeepSTARR(params):\n",
    "\n",
    "    lr = params['lr']\n",
    "    # expects sequences of length 230 with 4 channels, length of DNA sequences\n",
    "    input = kl.Input(shape=(230, 4))\n",
    "\n",
    "    # Body - 4 conv + batch normalization + ReLU activation + max pooling\n",
    "    # The number of convolutional layers and their hyperparameters are determined by the values in the params dictionary.\n",
    "    x = kl.Conv1D(params['num_filters1'], kernel_size=params['kernel_size1'],\n",
    "                  padding=params['pad'],\n",
    "                  name='Conv1D_1')(input)\n",
    "    x = kl.BatchNormalization()(x)\n",
    "    x = kl.Activation('relu')(x)\n",
    "    x = kl.MaxPooling1D(2)(x)\n",
    "\n",
    "    for i in range(1, params['n_conv_layer']):\n",
    "        x = kl.Conv1D(params['num_filters'+str(i+1)],\n",
    "                      kernel_size=params['kernel_size'+str(i+1)],\n",
    "                      padding=params['pad'],\n",
    "                      name=str('Conv1D_'+str(i+1)))(x)\n",
    "        x = kl.BatchNormalization()(x)\n",
    "        x = kl.Activation('relu')(x)\n",
    "        x = kl.MaxPooling1D(2)(x)\n",
    "        # add dropout after convolutional layers?\n",
    "        if params['dropout_conv'] == 'yes': x = kl.Dropout(params['dropout_prob'])(x)\n",
    "\n",
    "    # After the convolutional layers, the output is flattened and passed through a series of fully connected/dense layers\n",
    "    # Flattening converts a multi-dimensional input (from the convolutions) into a one-dimensional array (to be connected with the fully connected layers\n",
    "    x = kl.Flatten()(x)\n",
    "\n",
    "    # Fully connected layers\n",
    "    # Each fully connected layer is followed by batch normalization, ReLU activation, and dropout\n",
    "    for i in range(0, params['n_dense_layer']):\n",
    "        x = kl.Dense(params['dense_neurons'+str(i+1)],\n",
    "                     name=str('Dense_'+str(i+1)))(x)\n",
    "        x = kl.BatchNormalization()(x)\n",
    "        x = kl.Activation('relu')(x)\n",
    "        x = kl.Dropout(params['dropout_prob'])(x)\n",
    "\n",
    "    # Main model bottleneck\n",
    "    bottleneck = x\n",
    "\n",
    "    # heads per task (developmental and housekeeping enhancer activities)\n",
    "    tasks = ['log2.mean']\n",
    "    outputs = []\n",
    "    for task in tasks:\n",
    "        outputs.append(kl.Dense(1, activation='linear', name=str('Dense_' + task))(bottleneck))\n",
    "\n",
    "    model = keras.models.Model([input], outputs)\n",
    "    model.compile(keras.optimizers.Adam(learning_rate=lr),\n",
    "                  loss=['mse'], # loss\n",
    "                  loss_weights=[1], # loss weights to balance\n",
    "                  metrics=[Spearman]) # additional track metric\n",
    "\n",
    "    return model, params\n",
    "\n",
    "DeepSTARR(params)[0].summary()"
   ]
  },
  {
   "cell_type": "markdown",
   "metadata": {
    "id": "amP47xAcK1un"
   },
   "source": [
    "# STEP 3\n",
    "\n",
    "---"
   ]
  },
  {
   "cell_type": "markdown",
   "metadata": {
    "id": "EawgsWlzK89m"
   },
   "source": [
    "## Training a DNN\n",
    "\n",
    "Now, we are ready to start model training."
   ]
  },
  {
   "cell_type": "code",
   "execution_count": null,
   "metadata": {
    "colab": {
     "base_uri": "https://localhost:8080/"
    },
    "executionInfo": {
     "elapsed": 328489,
     "status": "ok",
     "timestamp": 1709290593632,
     "user": {
      "displayName": "Martin Kircher",
      "userId": "02079780992272163390"
     },
     "user_tz": -60
    },
    "id": "TgksWNVcLDmG",
    "outputId": "00175b46-b330-4791-bbe0-62f69ef29738"
   },
   "outputs": [
    {
     "name": "stdout",
     "output_type": "stream",
     "text": [
      "Epoch 1/10\n",
      "2494/3158 [======================>.......] - ETA: 1:14 - loss: 0.2939 - Spearman: 0.2478"
     ]
    }
   ],
   "source": [
    "def train(selected_model, X_train, Y_train, X_valid, Y_valid, params):\n",
    "\n",
    "    my_history=selected_model.fit(X_train, Y_train,\n",
    "                                  validation_data=(X_valid, Y_valid),\n",
    "                                  batch_size=params['batch_size'], epochs=params['epochs'],\n",
    "                                  callbacks=[EarlyStopping(patience=params['early_stop'], monitor=\"val_loss\", restore_best_weights=True),\n",
    "                                             History()])\n",
    "\n",
    "    return selected_model, my_history\n",
    "\n",
    "main_model, main_params = DeepSTARR(params)\n",
    "main_model, my_history = train(main_model, X_train, y_train, X_val, y_val, main_params)"
   ]
  },
  {
   "cell_type": "markdown",
   "metadata": {
    "id": "Rhlahss-MOiO"
   },
   "source": [
    "## Things to remember\n",
    "\n",
    "---"
   ]
  },
  {
   "cell_type": "markdown",
   "metadata": {
    "id": "1IpMT0pwMVhk"
   },
   "source": [
    "# STEP 4\n",
    "\n",
    "---"
   ]
  },
  {
   "cell_type": "markdown",
   "metadata": {
    "id": "CwwgeBcNMYlE"
   },
   "source": [
    "## Model evaluation"
   ]
  },
  {
   "cell_type": "markdown",
   "metadata": {
    "id": "lmfwDa1fMcmT"
   },
   "source": [
    "It's time to evaluate our model.\n",
    "  - Did it **PASS**, **FAIL**, or is it the **BEST**!"
   ]
  },
  {
   "cell_type": "markdown",
   "metadata": {
    "id": "I_y-ycaxOyZy"
   },
   "source": [
    "### Understand training"
   ]
  },
  {
   "cell_type": "code",
   "execution_count": null,
   "metadata": {
    "colab": {
     "base_uri": "https://localhost:8080/",
     "height": 472
    },
    "executionInfo": {
     "elapsed": 761,
     "status": "ok",
     "timestamp": 1709290651302,
     "user": {
      "displayName": "Martin Kircher",
      "userId": "02079780992272163390"
     },
     "user_tz": -60
    },
    "id": "8iHwcGPwMbsc",
    "outputId": "62c51c47-bb65-4fb8-a6f7-bf97d7e63709"
   },
   "outputs": [
    {
     "data": {
      "image/png": "[encoded data removed]",
      "text/plain": [
       "<Figure size 640x480 with 1 Axes>"
      ]
     },
     "metadata": {},
     "output_type": "display_data"
    }
   ],
   "source": [
    "# Plot training & validation metrics\n",
    "# MSE\n",
    "plt.plot(my_history.history[str('loss')])\n",
    "plt.plot(my_history.history[str('val_loss')])\n",
    "plt.title('log2.mean') # loss is Mean Squared Error (MSE)\n",
    "plt.ylabel('Loss (MSE)')\n",
    "plt.xlabel('Epoch')\n",
    "plt.legend(['Train', 'Validation'], loc='upper left')\n",
    "\n",
    "# Add vertical line at minimum validation loss\n",
    "min_val_loss = min(my_history.history['val_loss'])\n",
    "plt.axvline(x=my_history.history['val_loss'].index(min_val_loss), color='red', linestyle='--')\n",
    "\n",
    "plt.show()"
   ]
  },
  {
   "cell_type": "markdown",
   "metadata": {
    "id": "5gKlLmR-PDSC"
   },
   "source": [
    "### Performance metrics"
   ]
  },
  {
   "cell_type": "code",
   "execution_count": null,
   "metadata": {
    "id": "zrKDvBHFMPtI"
   },
   "outputs": [],
   "source": [
    "def evaluate_model(X, y, model):\n",
    "    # Predict the output\n",
    "    y_pred = model.predict(X)\n",
    "    # Reshape the arrays to be one-dimensional\n",
    "    y = y.values.reshape(-1)\n",
    "    y_pred = y_pred.reshape(-1)\n",
    "\n",
    "    # Calculate metrics\n",
    "    mse = mean_squared_error(y, y_pred)\n",
    "    pcc, _ = pearsonr(y, y_pred)\n",
    "    scc, _ = spearmanr(y, y_pred)\n",
    "\n",
    "    # Create a DataFrame for the table\n",
    "    metrics_df = pd.DataFrame({\n",
    "        'Metric': ['MSE', 'PCC', 'SCC'],\n",
    "        'Value': [mse, pcc, scc]\n",
    "    })\n",
    "\n",
    "    # Print the table\n",
    "    print(metrics_df)"
   ]
  },
  {
   "cell_type": "code",
   "execution_count": null,
   "metadata": {
    "colab": {
     "base_uri": "https://localhost:8080/"
    },
    "executionInfo": {
     "elapsed": 3187,
     "status": "ok",
     "timestamp": 1709290821723,
     "user": {
      "displayName": "Martin Kircher",
      "userId": "02079780992272163390"
     },
     "user_tz": -60
    },
    "id": "vw0AMGtRMYFc",
    "outputId": "d04e827b-3d1f-477f-b0cd-a9bb17d8f5c6"
   },
   "outputs": [
    {
     "name": "stdout",
     "output_type": "stream",
     "text": [
      "351/351 [==============================] - 2s 3ms/step\n",
      "  Metric     Value\n",
      "0    MSE  0.141763\n",
      "1    PCC  0.712808\n",
      "2    SCC  0.652897\n"
     ]
    }
   ],
   "source": [
    "evaluate_model(X_val, y_val, main_model)"
   ]
  },
  {
   "cell_type": "code",
   "execution_count": null,
   "metadata": {
    "colab": {
     "base_uri": "https://localhost:8080/"
    },
    "executionInfo": {
     "elapsed": 1105,
     "status": "ok",
     "timestamp": 1709290834676,
     "user": {
      "displayName": "Martin Kircher",
      "userId": "02079780992272163390"
     },
     "user_tz": -60
    },
    "id": "bZDchyGSNPkb",
    "outputId": "0e25a699-58de-4502-a82a-dac3a189e479"
   },
   "outputs": [
    {
     "name": "stdout",
     "output_type": "stream",
     "text": [
      "351/351 [==============================] - 1s 2ms/step\n",
      "  Metric     Value\n",
      "0    MSE  0.136315\n",
      "1    PCC  0.717152\n",
      "2    SCC  0.658644\n"
     ]
    }
   ],
   "source": [
    "evaluate_model(X_test, y_test, main_model)"
   ]
  },
  {
   "cell_type": "markdown",
   "metadata": {
    "id": "hQYFBLwdPHua"
   },
   "source": [
    "### Plotting data - A model perspective"
   ]
  },
  {
   "cell_type": "code",
   "execution_count": null,
   "metadata": {
    "colab": {
     "base_uri": "https://localhost:8080/",
     "height": 493
    },
    "executionInfo": {
     "elapsed": 9783,
     "status": "ok",
     "timestamp": 1709290908367,
     "user": {
      "displayName": "Martin Kircher",
      "userId": "02079780992272163390"
     },
     "user_tz": -60
    },
    "id": "3ubw4RMWPRph",
    "outputId": "d3e81ac8-067f-4dba-d8d8-b58cf12981ab"
   },
   "outputs": [
    {
     "name": "stdout",
     "output_type": "stream",
     "text": [
      "176/176 [==============================] - 1s 3ms/step\n"
     ]
    },
    {
     "name": "stderr",
     "output_type": "stream",
     "text": [
      "<ipython-input-22-3282c777fc6f>:19: UserWarning: color is redundantly defined by the 'color' keyword argument and the fmt string \"w\" (-> color=(1.0, 1.0, 1.0, 1)). The keyword argument will take precedence.\n",
      "  g.ax_joint.plot(lims, lims, 'w', linestyle='dashed', transform=g.ax_joint.transData, color='grey')\n"
     ]
    },
    {
     "data": {
      "image/png": "[encoded data removed]",
      "text/plain": [
       "<Figure size 600x600 with 1 Axes>"
      ]
     },
     "metadata": {},
     "output_type": "display_data"
    }
   ],
   "source": [
    "# Smooth scatter plot - useful when there are thousands of points\n",
    "\n",
    "# Takes some time to calculate the kernel density\n",
    "def my_scatter_density(X, Y, set, task):\n",
    "  pred = main_model.predict(X, batch_size=main_params['batch_size'])\n",
    "\n",
    "  # Convert DataFrames to numpy arrays and reshape to be one-dimensional\n",
    "  Y = Y.values.reshape(-1)\n",
    "  pred = pred.reshape(-1)\n",
    "\n",
    "  g = sns.jointplot(x=Y, y=pred, kind=\"kde\", fill=True)\n",
    "  g.ax_marg_x.remove() # remove marginal densities\n",
    "  g.ax_marg_y.remove() # remove marginal densities\n",
    "\n",
    "  # Add expected regression line\n",
    "  x0, x1 = g.ax_joint.get_xlim()\n",
    "  y0, y1 = g.ax_joint.get_ylim()\n",
    "  lims = [max(x0, y0), min(x1, y1)]\n",
    "  g.ax_joint.plot(lims, lims, linestyle='dashed', color='grey')\n",
    "\n",
    "  # Same axes ranges\n",
    "  g.ax_joint.set_aspect('equal')\n",
    "\n",
    "  PCC = str(\"{0:0.2f}\".format(stats.pearsonr(Y, pred)[0]))\n",
    "  plt.xlabel('Measured expression [log2]')\n",
    "  plt.ylabel('Predicted expression [log2]')\n",
    "  plt.title(str(task + ' - ' + set + ' set (PCC=' + PCC + ')'))\n",
    "\n",
    "  plt.show()\n",
    "\n",
    "# Print plots for test sets\n",
    "my_scatter_density(X_test, y_test, \"test\", \"log2.mean\")"
   ]
  },
  {
   "cell_type": "markdown",
   "metadata": {
    "id": "BQGowRmQPUDS"
   },
   "source": [
    "# Saving your model\n",
    "\n",
    "---"
   ]
  },
  {
   "cell_type": "code",
   "execution_count": null,
   "metadata": {
    "id": "vpm0b1swPmvx"
   },
   "outputs": [],
   "source": [
    "# Save your model weights and structure as it is\n",
    "main_model.save('my_DeepSTARR_model.h5')"
   ]
  }
 ],
 "metadata": {
  "accelerator": "GPU",
  "colab": {
   "gpuType": "T4",
   "provenance": [
    {
     "file_id": "1cLe9KxpLJZj7ofReUJdqZFaRJcZRjkql",
     "timestamp": 1709285573610
    },
    {
     "file_id": "1b3F8dv0qBWhVeoFh8yRZEGPOSz59UMeF",
     "timestamp": 1707382184134
    }
   ],
   "toc_visible": true
  },
  "kernelspec": {
   "display_name": "jupyter_tf",
   "language": "python",
   "name": "python3"
  },
  "language_info": {
   "codemirror_mode": {
    "name": "ipython",
    "version": 3
   },
   "file_extension": ".py",
   "mimetype": "text/x-python",
   "name": "python",
   "nbconvert_exporter": "python",
   "pygments_lexer": "ipython3",
   "version": "3.10.13"
  }
 },
 "nbformat": 4,
 "nbformat_minor": 0
}
