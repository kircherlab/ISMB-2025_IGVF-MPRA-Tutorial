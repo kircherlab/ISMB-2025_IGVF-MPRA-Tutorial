{
 "cells": [
  {
   "cell_type": "markdown",
   "metadata": {},
   "source": [
    "<a target=\"_blank\" href=\"https://colab.research.google.com/github/kircherlab/ISMB-2025_IGVF-MPRA-Tutorial/blob/main/05_sequence_models/01_training_sequence_model.ipynb\">\n",
    "  <img src=\"https://colab.research.google.com/assets/colab-badge.svg\" alt=\"Open In Colab\"/>\n",
    "</a>"
   ]
  },
  {
   "cell_type": "markdown",
   "metadata": {
    "id": "F3mUqE7S-wM4"
   },
   "source": [
    "# **Prerequisites**\n",
    "\n",
    "To run the notebook locally you need `tensorflow`, `scipy`, `sklearn`, `numpy`, `pandas`, `matplotlib`, and `seaborn` installed. \n",
    "\n",
    "If you run it via google colab everything should already be there and you can continue."
   ]
  },
  {
   "cell_type": "code",
   "execution_count": null,
   "metadata": {
    "id": "kl3dCeu-A_5I"
   },
   "outputs": [],
   "source": [
    "from IPython.display import clear_output"
   ]
  },
  {
   "cell_type": "markdown",
   "metadata": {
    "id": "bwpy79tL6mEb"
   },
   "source": [
    "\n",
    "---\n",
    "\n",
    "# 2. How to train a Deep Learning model?  - Hands-on\n",
    "\n",
    "---\n",
    "\n",
    "In this tutorial, we will show you how to:\n",
    "\n",
    "> 1. Train a Convolutional Neural Network (CNN) on MPRA data  \n",
    "> 2. Evaluate models\n"
   ]
  },
  {
   "cell_type": "markdown",
   "metadata": {
    "id": "h2izFqNiCmId"
   },
   "source": [
    "# STEP 1"
   ]
  },
  {
   "cell_type": "markdown",
   "metadata": {
    "id": "pkOZN7-awHIH"
   },
   "source": [
    "## Getting a deep neural network (DNN) model\n",
    "\n",
    "---\n",
    "\n",
    "> For example, how about DeepSTARR? From *Almeida et al., 2022*\n",
    "\n",
    "> They have also a github repository with all their code: [DeepSTARR](https://github.com/bernardo-de-almeida/DeepSTARR)\n"
   ]
  },
  {
   "cell_type": "markdown",
   "metadata": {
    "id": "AxzWJbqWz6D-"
   },
   "source": [
    "## Importing libraries\n",
    "\n",
    "---"
   ]
  },
  {
   "cell_type": "code",
   "execution_count": 1,
   "metadata": {
    "id": "b89YOTNVCDc9"
   },
   "outputs": [
    {
     "name": "stderr",
     "output_type": "stream",
     "text": [
      "2025-05-19 09:37:30.126103: I tensorflow/core/platform/cpu_feature_guard.cc:193] This TensorFlow binary is optimized with oneAPI Deep Neural Network Library (oneDNN) to use the following CPU instructions in performance-critical operations:  SSE4.1 SSE4.2 AVX AVX2 AVX_VNNI FMA\n",
      "To enable them in other operations, rebuild TensorFlow with the appropriate compiler flags.\n",
      "2025-05-19 09:37:30.513401: I tensorflow/core/util/port.cc:104] oneDNN custom operations are on. You may see slightly different numerical results due to floating-point round-off errors from different computation orders. To turn them off, set the environment variable `TF_ENABLE_ONEDNN_OPTS=0`.\n"
     ]
    }
   ],
   "source": [
    "# DNN libraries\n",
    "import tensorflow as tf\n",
    "import keras\n",
    "import keras.layers as kl\n",
    "from keras.callbacks import EarlyStopping, History\n",
    "\n",
    "# Data-analysis libraries\n",
    "import pandas as pd\n",
    "import numpy as np\n",
    "import matplotlib.pyplot as plt\n",
    "from sklearn.model_selection import train_test_split\n",
    "import seaborn as sns\n",
    "from scipy import stats\n",
    "from scipy.stats import spearmanr\n",
    "from scipy.stats import pearsonr\n",
    "from sklearn.metrics import mean_squared_error\n",
    "\n",
    "# For reproducibility\n",
    "import random\n",
    "random.seed(42)"
   ]
  },
  {
   "cell_type": "markdown",
   "metadata": {
    "id": "7sCL4dUiECNr"
   },
   "source": [
    "# STEP 2\n"
   ]
  },
  {
   "cell_type": "markdown",
   "metadata": {
    "id": "zlcK3qX6jwnK"
   },
   "source": [
    "## The Data - Getting MPRA dataset\n",
    "\n",
    "Here, we will use a dataset from the following study:\n",
    "\n",
    "*Agarwal, V., Inoue, F., Schubach, M., Martin, B.K., Dash, P.M., Zhang, Z., Sohota, A., Noble, W.S., Yardimci, G.G., Kircher, M. and Shendure, J., 2023. **Massively parallel characterization of transcriptional regulatory elements in three diverse human cell types**. bioRxiv.*\n",
    "\n",
    "---"
   ]
  },
  {
   "cell_type": "code",
   "execution_count": 2,
   "metadata": {},
   "outputs": [
    {
     "name": "stdout",
     "output_type": "stream",
     "text": [
      "File exists\n"
     ]
    }
   ],
   "source": [
    "%%bash\n",
    "mkdir -p 01_data\n",
    "\n",
    "if [ ! -f \"01_data/ultra_k562_full.tsv.gz\" ]; then\n",
    "    wget -O 01_data/ultra_k562_full.tsv.gz https://github.com/kircherlab/ISMB-2025_IGVF-MPRA-Tutorial/raw/refs/heads/main/05_sequence_models/01_data/ultra_k562_full.tsv.gz\n",
    "else\n",
    "    echo \"File exists\"\n",
    "fi"
   ]
  },
  {
   "cell_type": "code",
   "execution_count": 3,
   "metadata": {
    "colab": {
     "base_uri": "https://localhost:8080/",
     "height": 226
    },
    "executionInfo": {
     "elapsed": 1395,
     "status": "ok",
     "timestamp": 1709289674428,
     "user": {
      "displayName": "Martin Kircher",
      "userId": "02079780992272163390"
     },
     "user_tz": -60
    },
    "id": "bFTJVkpqEvzQ",
    "outputId": "ee933a05-0ae9-44a1-8160-11b57ba3ab07"
   },
   "outputs": [
    {
     "data": {
      "application/vnd.microsoft.datawrangler.viewer.v0+json": {
       "columns": [
        {
         "name": "index",
         "rawType": "int64",
         "type": "integer"
        },
        {
         "name": "name",
         "rawType": "object",
         "type": "string"
        },
        {
         "name": "sequence",
         "rawType": "object",
         "type": "string"
        },
        {
         "name": "log2.1",
         "rawType": "float64",
         "type": "float"
        },
        {
         "name": "log2.2",
         "rawType": "float64",
         "type": "float"
        },
        {
         "name": "log2.3",
         "rawType": "float64",
         "type": "float"
        },
        {
         "name": "log2.mean",
         "rawType": "float64",
         "type": "float"
        }
       ],
       "conversionMethod": "pd.DataFrame",
       "ref": "43b0297b-9b44-4852-a814-32dfeb95fb0d",
       "rows": [
        [
         "0",
         "BCL11A_1",
         "AGGACCGGATCAACTTAAATGACTTCAACTGCCCCAACCCCTCTTCCAGATTCTAGTGGTCTTTAGCTATTTTTGATCTGTGAAATCTGATATTCAAAATCACATGTTACTTGAAATATAAAACCAACCAGTGGTGGTGGATCACAACTGTAATCCCAGCACTTTGGGAGGCCAATGCGGGTAGATCACTTGGGTCTAGGAGTTCAAGACCTGCCCATTGCGTGAACCGA",
         "-0.642",
         "-0.269",
         "-0.514",
         "-0.475"
        ],
        [
         "1",
         "BCL11A_2",
         "AGGACCGGATCAACTTGGGCAACAGGGCAAAGCCCCATCTCCCGAAAAAATACAAAATATTAGCTGAGTGTGTTGGTGTGCACCTGTAGTCTCAGCTACTCGGGAGGCTGAGATGGGCGGATCACTTGAGCCTGGGAGGCTGAAGGTTGCAGTGAGCCGAGATCAGGCTACTGCACTCCAGTCTGAGCAGCAGAGCAAGATCCTGTCTCAAAAAGCATTGCGTGAACCGA",
         "-0.315",
         "-0.859",
         "-0.52",
         "-0.564"
        ],
        [
         "2",
         "BCL11A_3",
         "AGGACCGGATCAACTAAAAGAAAAAAGGAAACATAAAACCAAACATGAGACATACGCTTCTCATTATTGTTTTATAAAGATGGCCTCTGAAATTTAGAAGGTAAAAGAGTTGTTAACAGGGCAGTGGCCTATGTAGTCCTCCATCTCCACAGACTAATATTAATAACTTCAGAGTAAATACAATAACATAGTTTATTTATATAAAATGTCTATTTCATTGCGTGAACCGA",
         "-0.854",
         "-0.657",
         "-0.87",
         "-0.794"
        ],
        [
         "3",
         "BCL11A_6",
         "AGGACCGGATCAACTGGAGGAGAGAGGAAAGGAGAAGTCAATAGGGGCTTGAGAGGACATATTAAGCCATTATTTAAACTAGCTGGAAAGATTAAGCGAGAATCTGCTGAAACACTTCTGTTTTTTTTCCCTGTAGACAAGCCAATGGCAAGAACAGGGAAAGGGCTCTGATGAACCTACTCCTTCCGCCTTCGAAAACCCCAGGATGCGTAGAGCATTGCGTGAACCGA",
         "-0.022",
         "-0.71",
         "-0.615",
         "-0.449"
        ],
        [
         "4",
         "BCL11A_8",
         "AGGACCGGATCAACTCTATTTCCTTCAGTTCTGCTCTGATTTTAGTTATTTCTTGCCTTCTGCTAGCTTTTGAATGTGTTTGCTCTTGCTTTTCTAGTTCTTTTAATTGTGATGTTAGGGTGTCAATTTTGGATCTTTCCTGCTTTCTCTTGTGGGCATTTAGTGCTATAAATTTCCCTCTACACACTGCTTTGAATGCGTCCCAGAGATTCTGGCATTGCGTGAACCGA",
         "-0.696",
         "-0.781",
         "-0.206",
         "-0.561"
        ]
       ],
       "shape": {
        "columns": 6,
        "rows": 5
       }
      },
      "text/html": [
       "<div>\n",
       "<style scoped>\n",
       "    .dataframe tbody tr th:only-of-type {\n",
       "        vertical-align: middle;\n",
       "    }\n",
       "\n",
       "    .dataframe tbody tr th {\n",
       "        vertical-align: top;\n",
       "    }\n",
       "\n",
       "    .dataframe thead th {\n",
       "        text-align: right;\n",
       "    }\n",
       "</style>\n",
       "<table border=\"1\" class=\"dataframe\">\n",
       "  <thead>\n",
       "    <tr style=\"text-align: right;\">\n",
       "      <th></th>\n",
       "      <th>name</th>\n",
       "      <th>sequence</th>\n",
       "      <th>log2.1</th>\n",
       "      <th>log2.2</th>\n",
       "      <th>log2.3</th>\n",
       "      <th>log2.mean</th>\n",
       "    </tr>\n",
       "  </thead>\n",
       "  <tbody>\n",
       "    <tr>\n",
       "      <th>0</th>\n",
       "      <td>BCL11A_1</td>\n",
       "      <td>AGGACCGGATCAACTTAAATGACTTCAACTGCCCCAACCCCTCTTC...</td>\n",
       "      <td>-0.642</td>\n",
       "      <td>-0.269</td>\n",
       "      <td>-0.514</td>\n",
       "      <td>-0.475</td>\n",
       "    </tr>\n",
       "    <tr>\n",
       "      <th>1</th>\n",
       "      <td>BCL11A_2</td>\n",
       "      <td>AGGACCGGATCAACTTGGGCAACAGGGCAAAGCCCCATCTCCCGAA...</td>\n",
       "      <td>-0.315</td>\n",
       "      <td>-0.859</td>\n",
       "      <td>-0.520</td>\n",
       "      <td>-0.564</td>\n",
       "    </tr>\n",
       "    <tr>\n",
       "      <th>2</th>\n",
       "      <td>BCL11A_3</td>\n",
       "      <td>AGGACCGGATCAACTAAAAGAAAAAAGGAAACATAAAACCAAACAT...</td>\n",
       "      <td>-0.854</td>\n",
       "      <td>-0.657</td>\n",
       "      <td>-0.870</td>\n",
       "      <td>-0.794</td>\n",
       "    </tr>\n",
       "    <tr>\n",
       "      <th>3</th>\n",
       "      <td>BCL11A_6</td>\n",
       "      <td>AGGACCGGATCAACTGGAGGAGAGAGGAAAGGAGAAGTCAATAGGG...</td>\n",
       "      <td>-0.022</td>\n",
       "      <td>-0.710</td>\n",
       "      <td>-0.615</td>\n",
       "      <td>-0.449</td>\n",
       "    </tr>\n",
       "    <tr>\n",
       "      <th>4</th>\n",
       "      <td>BCL11A_8</td>\n",
       "      <td>AGGACCGGATCAACTCTATTTCCTTCAGTTCTGCTCTGATTTTAGT...</td>\n",
       "      <td>-0.696</td>\n",
       "      <td>-0.781</td>\n",
       "      <td>-0.206</td>\n",
       "      <td>-0.561</td>\n",
       "    </tr>\n",
       "  </tbody>\n",
       "</table>\n",
       "</div>"
      ],
      "text/plain": [
       "       name                                           sequence  log2.1  \\\n",
       "0  BCL11A_1  AGGACCGGATCAACTTAAATGACTTCAACTGCCCCAACCCCTCTTC...  -0.642   \n",
       "1  BCL11A_2  AGGACCGGATCAACTTGGGCAACAGGGCAAAGCCCCATCTCCCGAA...  -0.315   \n",
       "2  BCL11A_3  AGGACCGGATCAACTAAAAGAAAAAAGGAAACATAAAACCAAACAT...  -0.854   \n",
       "3  BCL11A_6  AGGACCGGATCAACTGGAGGAGAGAGGAAAGGAGAAGTCAATAGGG...  -0.022   \n",
       "4  BCL11A_8  AGGACCGGATCAACTCTATTTCCTTCAGTTCTGCTCTGATTTTAGT...  -0.696   \n",
       "\n",
       "   log2.2  log2.3  log2.mean  \n",
       "0  -0.269  -0.514     -0.475  \n",
       "1  -0.859  -0.520     -0.564  \n",
       "2  -0.657  -0.870     -0.794  \n",
       "3  -0.710  -0.615     -0.449  \n",
       "4  -0.781  -0.206     -0.561  "
      ]
     },
     "execution_count": 3,
     "metadata": {},
     "output_type": "execute_result"
    }
   ],
   "source": [
    "# Reading a .tsv file\n",
    "data = pd.read_csv('01_data/ultra_k562_full.tsv.gz', sep='\\t')\n",
    "data.head()"
   ]
  },
  {
   "cell_type": "markdown",
   "metadata": {
    "id": "aFtVrDCubSfz"
   },
   "source": [
    "## Understanding data distribution\n",
    "\n",
    "---"
   ]
  },
  {
   "cell_type": "code",
   "execution_count": 4,
   "metadata": {
    "colab": {
     "base_uri": "https://localhost:8080/",
     "height": 299
    },
    "executionInfo": {
     "elapsed": 1745,
     "status": "ok",
     "timestamp": 1709289714825,
     "user": {
      "displayName": "Martin Kircher",
      "userId": "02079780992272163390"
     },
     "user_tz": -60
    },
    "id": "Wd8a35asZJPO",
    "outputId": "eaf237c8-2fc6-4115-ad08-bcc4991df48a"
   },
   "outputs": [
    {
     "data": {
      "image/png": "[encoded data removed]",
      "text/plain": [
       "<Figure size 1500x500 with 3 Axes>"
      ]
     },
     "metadata": {},
     "output_type": "display_data"
    }
   ],
   "source": [
    "# Set up the matplotlib figure\n",
    "fig, axes = plt.subplots(nrows=1, ncols=3, figsize=(15, 5))\n",
    "\n",
    "for i, (col1, col2) in enumerate([(2, 3), (3, 4), (4, 2)]):\n",
    "    # Create a hexbin plot for the joint plot\n",
    "    hb = axes[i].hexbin(data.iloc[:, col1], data.iloc[:, col2], gridsize=50, extent=[-2, 2, -2, 2], cmap='Greys')\n",
    "\n",
    "    # Calculate and print the Pearson correlation coefficient and p-value\n",
    "    corr_coef, p_value = stats.pearsonr(data.iloc[:, col1], data.iloc[:, col2])\n",
    "    axes[i].text(-1.5, 1.5, f'Pearson r: {corr_coef:.2f}')\n",
    "\n",
    "    # Set the same axes limits for all subplots\n",
    "    axes[i].set_xlim([-2, 2])\n",
    "    axes[i].set_ylim([-2, 2])\n",
    "\n",
    "    # Set the axis labels\n",
    "    axes[i].set_xlabel(data.columns[col1])\n",
    "    axes[i].set_ylabel(data.columns[col2])\n",
    "\n",
    "    # Set ticks in axis per each integer\n",
    "    axes[i].set_xticks(np.arange(-2, 3, 1))\n",
    "    axes[i].set_yticks(np.arange(-2, 3, 1))\n",
    "\n",
    "plt.tight_layout()\n",
    "plt.show()"
   ]
  },
  {
   "cell_type": "markdown",
   "metadata": {
    "id": "_DsgCIYhQiNB"
   },
   "source": [
    "## One-hot encoding\n",
    "\n",
    "Let's understand how to one-hot encode a DNA sequence.\n",
    "\n",
    "<img src=\"https://media.springernature.com/full/springer-static/image/art%3A10.1007%2Fs00449-022-02716-w/MediaObjects/449_2022_2716_Fig3_HTML.png?as=webp\" alt=\"STARR-seq data\" width=\"600\"/>\n",
    "\n",
    "[Reference](https://link.springer.com/article/10.1007/s00449-022-02716-w)\n",
    "\n",
    "---"
   ]
  },
  {
   "cell_type": "markdown",
   "metadata": {
    "id": "yEf3f2lBhl70"
   },
   "source": [
    "Are there only 4 DNA/RNA nucleotide base annotations?  \n",
    "> Of course not :)\n",
    "\n",
    "| IUPAC nucleotide code | Base                |\n",
    "| --------------------- | ------------------- |\n",
    "| A                     | Adenine             |\n",
    "| C                     | Cytosine            |\n",
    "| G                     | Guanine             |\n",
    "| T (or U)              | Thymine (or Uracil) |\n",
    "| R                     | A or G              |\n",
    "| Y                     | C or T              |\n",
    "| S                     | G or C              |\n",
    "| W                     | A or T              |\n",
    "| K                     | G or T              |\n",
    "| M                     | A or C              |\n",
    "| B                     | C or G or T         |\n",
    "| D                     | A or G or T         |\n",
    "| H                     | A or C or T         |\n",
    "| V                     | A or C or G         |\n",
    "| N                     | any base            |\n",
    "\n",
    "[Source](https://www.bioinformatics.org/sms/iupac.html)"
   ]
  },
  {
   "cell_type": "code",
   "execution_count": 5,
   "metadata": {
    "id": "_SDewBUeeukS"
   },
   "outputs": [],
   "source": [
    "# Define a dictionary to map nucleotides to their one-hot encoded representation\n",
    "nucleotide_dict = {'A': [1, 0, 0, 0],\n",
    "                   'C': [0, 1, 0, 0],\n",
    "                   'G': [0, 0, 1, 0],\n",
    "                   'T': [0, 0, 0, 1],\n",
    "                   'N': [0, 0, 0, 0]} # What if there's an N?\n",
    "\n",
    "# Define a function to one-hot encode a single DNA sequence\n",
    "def one_hot_encode(seq):\n",
    "    return np.array([nucleotide_dict[nuc] for nuc in seq])"
   ]
  },
  {
   "cell_type": "markdown",
   "metadata": {
    "id": "tPZE8sNSiBxV"
   },
   "source": [
    "## Train, test and validation split\n",
    "\n",
    "---"
   ]
  },
  {
   "cell_type": "markdown",
   "metadata": {
    "id": "JZpeN7yiBthQ"
   },
   "source": [
    "Let's split the dataset as follows:\n",
    "  - Input X: sequences as one-hot encoded\n",
    "  - Output Y: mean MPRA activity (`log2.mean`)\n",
    "  - Split:\n",
    "    - 90% train\n",
    "    - 5% test\n",
    "    - 5% validation"
   ]
  },
  {
   "cell_type": "code",
   "execution_count": 6,
   "metadata": {
    "id": "1GjNOx2aiyU3"
   },
   "outputs": [],
   "source": [
    "def splitEncode(df, X_cols, y_cols):\n",
    "    # Split the dataframe into X and y\n",
    "    X = df[X_cols]\n",
    "    y = df[y_cols]\n",
    "\n",
    "    # One-hot encode the X data\n",
    "    X = np.array(X['sequence'].apply(one_hot_encode).tolist())\n",
    "\n",
    "    # Split the data into train and test+validation sets (90% and 10%)\n",
    "    X_train, X_temp, y_train, y_temp = train_test_split(X, y, test_size=0.1, random_state=42)\n",
    "\n",
    "    # Split the test+validation sets into test and validation sets (50% and 50% of 10% => 5% and 5% of total)\n",
    "    X_test, X_val, y_test, y_val = train_test_split(X_temp, y_temp, test_size=0.5, random_state=42)\n",
    "\n",
    "    return X_train, X_test, X_val, y_train, y_test, y_val"
   ]
  },
  {
   "cell_type": "code",
   "execution_count": 7,
   "metadata": {
    "colab": {
     "base_uri": "https://localhost:8080/",
     "height": 237
    },
    "executionInfo": {
     "elapsed": 28891,
     "status": "ok",
     "timestamp": 1709289965448,
     "user": {
      "displayName": "Martin Kircher",
      "userId": "02079780992272163390"
     },
     "user_tz": -60
    },
    "id": "qdeMR_AhDvcO",
    "outputId": "798a0caa-7908-462b-fe35-a28bbd481bde"
   },
   "outputs": [
    {
     "data": {
      "application/vnd.microsoft.datawrangler.viewer.v0+json": {
       "columns": [
        {
         "name": "index",
         "rawType": "int64",
         "type": "integer"
        },
        {
         "name": "Dataset",
         "rawType": "object",
         "type": "string"
        },
        {
         "name": "Shape",
         "rawType": "object",
         "type": "unknown"
        }
       ],
       "conversionMethod": "pd.DataFrame",
       "ref": "334fd19c-2159-4188-97e1-d5375fdb88f6",
       "rows": [
        [
         "0",
         "X_train",
         "(202099, 230, 4)"
        ],
        [
         "1",
         "X_test",
         "(11228, 230, 4)"
        ],
        [
         "2",
         "X_val",
         "(11228, 230, 4)"
        ],
        [
         "3",
         "y_train",
         "(202099, 1)"
        ],
        [
         "4",
         "y_test",
         "(11228, 1)"
        ],
        [
         "5",
         "y_val",
         "(11228, 1)"
        ]
       ],
       "shape": {
        "columns": 2,
        "rows": 6
       }
      },
      "text/html": [
       "<div>\n",
       "<style scoped>\n",
       "    .dataframe tbody tr th:only-of-type {\n",
       "        vertical-align: middle;\n",
       "    }\n",
       "\n",
       "    .dataframe tbody tr th {\n",
       "        vertical-align: top;\n",
       "    }\n",
       "\n",
       "    .dataframe thead th {\n",
       "        text-align: right;\n",
       "    }\n",
       "</style>\n",
       "<table border=\"1\" class=\"dataframe\">\n",
       "  <thead>\n",
       "    <tr style=\"text-align: right;\">\n",
       "      <th></th>\n",
       "      <th>Dataset</th>\n",
       "      <th>Shape</th>\n",
       "    </tr>\n",
       "  </thead>\n",
       "  <tbody>\n",
       "    <tr>\n",
       "      <th>0</th>\n",
       "      <td>X_train</td>\n",
       "      <td>(202099, 230, 4)</td>\n",
       "    </tr>\n",
       "    <tr>\n",
       "      <th>1</th>\n",
       "      <td>X_test</td>\n",
       "      <td>(11228, 230, 4)</td>\n",
       "    </tr>\n",
       "    <tr>\n",
       "      <th>2</th>\n",
       "      <td>X_val</td>\n",
       "      <td>(11228, 230, 4)</td>\n",
       "    </tr>\n",
       "    <tr>\n",
       "      <th>3</th>\n",
       "      <td>y_train</td>\n",
       "      <td>(202099, 1)</td>\n",
       "    </tr>\n",
       "    <tr>\n",
       "      <th>4</th>\n",
       "      <td>y_test</td>\n",
       "      <td>(11228, 1)</td>\n",
       "    </tr>\n",
       "    <tr>\n",
       "      <th>5</th>\n",
       "      <td>y_val</td>\n",
       "      <td>(11228, 1)</td>\n",
       "    </tr>\n",
       "  </tbody>\n",
       "</table>\n",
       "</div>"
      ],
      "text/plain": [
       "   Dataset             Shape\n",
       "0  X_train  (202099, 230, 4)\n",
       "1   X_test   (11228, 230, 4)\n",
       "2    X_val   (11228, 230, 4)\n",
       "3  y_train       (202099, 1)\n",
       "4   y_test        (11228, 1)\n",
       "5    y_val        (11228, 1)"
      ]
     },
     "execution_count": 7,
     "metadata": {},
     "output_type": "execute_result"
    }
   ],
   "source": [
    "# Let's split\n",
    "X_train, X_test, X_val, y_train, y_test, y_val = splitEncode(data, ['sequence'], ['log2.mean'])\n",
    "pd.DataFrame({\n",
    "    'Dataset': ['X_train', 'X_test', 'X_val', 'y_train', 'y_test', 'y_val'],\n",
    "    'Shape': [X_train.shape, X_test.shape, X_val.shape, y_train.shape, y_test.shape, y_val.shape]\n",
    "})"
   ]
  },
  {
   "cell_type": "markdown",
   "metadata": {
    "id": "bUDZHPhNFgpM"
   },
   "source": [
    "## Setting hyperparameters\n",
    "\n",
    "Here, we are going to use an optimized set of `params` (aka hyperparameters or model features) from the DeepSTARR study.\n",
    "\n",
    "**Note: Importance of hyperparameters**\n",
    "  - **Importance:** They define the model structure and learning process, significantly influencing performance.\n",
    "  - **Achievement:** Set before training, determined by trial and error, or systematic search processes.\n",
    "  - **Time:** Tuning hyperparameters is time-consuming as each configuration requires training a new model. Plan accordingly."
   ]
  },
  {
   "cell_type": "code",
   "execution_count": null,
   "metadata": {
    "id": "paFzyHkKFM3l"
   },
   "outputs": [],
   "source": [
    "params = {'batch_size': 64, # number of examples per batch\n",
    "          'epochs': 10, # number of epochs\n",
    "          'early_stop': 10, # patience of 10 epochs to reduce training time; you can increase the patience to see if the model improves after more epochs\n",
    "          'lr': 0.001, # learning rate\n",
    "          'n_conv_layer': 3, # number of convolutional layers\n",
    "          'num_filters1': 128, # number of filters/kernels in the first conv layer\n",
    "          'num_filters2': 60, # number of filters/kernels in the second conv layer\n",
    "          'num_filters3': 60, # number of filters/kernels in the third conv layer\n",
    "          # 'num_filters4': 120,\n",
    "          'kernel_size1': 7, # size of the filters in the first conv layer\n",
    "          'kernel_size2': 3, # size of the filters in the second conv layer\n",
    "          'kernel_size3': 5, # size of the filters in the third conv layer\n",
    "          # 'kernel_size4': 3,\n",
    "          'n_dense_layer': 1, # number of dense/fully connected layers\n",
    "          'dense_neurons1': 64, # number of neurons in the dense layer\n",
    "          # 'dense_neurons2': 256,\n",
    "          'dropout_conv': 'yes', # add dropout after convolutional layers?\n",
    "          'dropout_prob': 0.4, # dropout probability\n",
    "          'pad': 'same'}"
   ]
  },
  {
   "cell_type": "markdown",
   "metadata": {
    "id": "aiydB_96GlH1"
   },
   "source": [
    "## Model configuration - Setting input and output\n",
    "\n",
    "We will follow the DeepSTARR model structure. \n",
    "\n",
    "In the original DeepSTARR work, they used the Spearman correlation as additional metric using this code:\n",
    "\n",
    "```python\n",
    "def Spearman(y_true, y_pred):\n",
    "     return ( tf.py_function(spearmanr, [tf.cast(y_pred, tf.float32),\n",
    "                       tf.cast(y_true, tf.float32)], Tout = tf.float32) )\n",
    "```\n",
    "\n",
    "Since Keras 3.0 y_true and y_pred are keras tesonsors and not numpy arrays. Therefore functions like `.shape` which are used by `spearmanr` will not work. Theerfore we implement the Pearson correlation by our self:"
   ]
  },
  {
   "cell_type": "code",
   "execution_count": 9,
   "metadata": {},
   "outputs": [],
   "source": [
    "from keras import backend as K\n",
    "\n",
    "def spearman_correlation(y_true, y_pred):\n",
    "    # Flatten in case of shape (batch, 1)\n",
    "    y_true = tf.reshape(y_true, [-1])\n",
    "    y_pred = tf.reshape(y_pred, [-1])\n",
    "    # Compute ranks\n",
    "    y_true_rank = tf.argsort(tf.argsort(y_true))\n",
    "    y_pred_rank = tf.argsort(tf.argsort(y_pred))\n",
    "    # Cast to float32 for correlation calculation\n",
    "    y_true_rank = tf.cast(y_true_rank, tf.float32)\n",
    "    y_pred_rank = tf.cast(y_pred_rank, tf.float32)\n",
    "    # Subtract mean\n",
    "    y_true_rank -= tf.reduce_mean(y_true_rank)\n",
    "    y_pred_rank -= tf.reduce_mean(y_pred_rank)\n",
    "    # Calculate numerator and denominator for Pearson correlation of ranks\n",
    "    numerator = tf.reduce_sum(y_true_rank * y_pred_rank)\n",
    "    denominator = tf.sqrt(tf.reduce_sum(tf.square(y_true_rank)) * tf.reduce_sum(tf.square(y_pred_rank)))\n",
    "    return numerator / (denominator + K.epsilon())"
   ]
  },
  {
   "cell_type": "markdown",
   "metadata": {},
   "source": [
    "Now the class of the DeepSTARR model. Inputs, layers, etc. are controlled via the pre-defined parameters."
   ]
  },
  {
   "cell_type": "code",
   "execution_count": 10,
   "metadata": {
    "colab": {
     "base_uri": "https://localhost:8080/"
    },
    "executionInfo": {
     "elapsed": 1560,
     "status": "ok",
     "timestamp": 1709290203399,
     "user": {
      "displayName": "Martin Kircher",
      "userId": "02079780992272163390"
     },
     "user_tz": -60
    },
    "id": "Vm5gep3lFZac",
    "outputId": "9eea39ca-2cf8-4a04-9f5d-a30c0453c8bd"
   },
   "outputs": [
    {
     "name": "stderr",
     "output_type": "stream",
     "text": [
      "2025-05-19 09:38:07.164056: I tensorflow/core/platform/cpu_feature_guard.cc:193] This TensorFlow binary is optimized with oneAPI Deep Neural Network Library (oneDNN) to use the following CPU instructions in performance-critical operations:  SSE4.1 SSE4.2 AVX AVX2 AVX_VNNI FMA\n",
      "To enable them in other operations, rebuild TensorFlow with the appropriate compiler flags.\n"
     ]
    },
    {
     "name": "stdout",
     "output_type": "stream",
     "text": [
      "Model: \"model\"\n",
      "_________________________________________________________________\n",
      " Layer (type)                Output Shape              Param #   \n",
      "=================================================================\n",
      " input_1 (InputLayer)        [(None, 230, 4)]          0         \n",
      "                                                                 \n",
      " Conv1D_1 (Conv1D)           (None, 230, 128)          3712      \n",
      "                                                                 \n",
      " batch_normalization (BatchN  (None, 230, 128)         512       \n",
      " ormalization)                                                   \n",
      "                                                                 \n",
      " activation (Activation)     (None, 230, 128)          0         \n",
      "                                                                 \n",
      " max_pooling1d (MaxPooling1D  (None, 115, 128)         0         \n",
      " )                                                               \n",
      "                                                                 \n",
      " Conv1D_2 (Conv1D)           (None, 115, 60)           23100     \n",
      "                                                                 \n",
      " batch_normalization_1 (Batc  (None, 115, 60)          240       \n",
      " hNormalization)                                                 \n",
      "                                                                 \n",
      " activation_1 (Activation)   (None, 115, 60)           0         \n",
      "                                                                 \n",
      " max_pooling1d_1 (MaxPooling  (None, 57, 60)           0         \n",
      " 1D)                                                             \n",
      "                                                                 \n",
      " dropout (Dropout)           (None, 57, 60)            0         \n",
      "                                                                 \n",
      " Conv1D_3 (Conv1D)           (None, 57, 60)            18060     \n",
      "                                                                 \n",
      " batch_normalization_2 (Batc  (None, 57, 60)           240       \n",
      " hNormalization)                                                 \n",
      "                                                                 \n",
      " activation_2 (Activation)   (None, 57, 60)            0         \n",
      "                                                                 \n",
      " max_pooling1d_2 (MaxPooling  (None, 28, 60)           0         \n",
      " 1D)                                                             \n",
      "                                                                 \n",
      " dropout_1 (Dropout)         (None, 28, 60)            0         \n",
      "                                                                 \n",
      " flatten (Flatten)           (None, 1680)              0         \n",
      "                                                                 \n",
      " Dense_1 (Dense)             (None, 64)                107584    \n",
      "                                                                 \n",
      " batch_normalization_3 (Batc  (None, 64)               256       \n",
      " hNormalization)                                                 \n",
      "                                                                 \n",
      " activation_3 (Activation)   (None, 64)                0         \n",
      "                                                                 \n",
      " dropout_2 (Dropout)         (None, 64)                0         \n",
      "                                                                 \n",
      " Dense_log2.mean (Dense)     (None, 1)                 65        \n",
      "                                                                 \n",
      "=================================================================\n",
      "Total params: 153,769\n",
      "Trainable params: 153,145\n",
      "Non-trainable params: 624\n",
      "_________________________________________________________________\n"
     ]
    }
   ],
   "source": [
    "def DeepSTARR(params):\n",
    "\n",
    "    lr = params['lr']\n",
    "    # expects sequences of length 230 with 4 channels, length of DNA sequences\n",
    "    input = kl.Input(shape=(230, 4))\n",
    "\n",
    "    # Body - 4 conv + batch normalization + ReLU activation + max pooling\n",
    "    # The number of convolutional layers and their hyperparameters are determined by the values in the params dictionary.\n",
    "    x = kl.Conv1D(params['num_filters1'], kernel_size=params['kernel_size1'],\n",
    "                  padding=params['pad'],\n",
    "                  name='Conv1D_1')(input)\n",
    "    x = kl.BatchNormalization()(x)\n",
    "    x = kl.Activation('relu')(x)\n",
    "    x = kl.MaxPooling1D(2)(x)\n",
    "\n",
    "    for i in range(1, params['n_conv_layer']):\n",
    "        x = kl.Conv1D(params['num_filters'+str(i+1)],\n",
    "                      kernel_size=params['kernel_size'+str(i+1)],\n",
    "                      padding=params['pad'],\n",
    "                      name=str('Conv1D_'+str(i+1)))(x)\n",
    "        x = kl.BatchNormalization()(x)\n",
    "        x = kl.Activation('relu')(x)\n",
    "        x = kl.MaxPooling1D(2)(x)\n",
    "        # add dropout after convolutional layers?\n",
    "        if params['dropout_conv'] == 'yes': x = kl.Dropout(params['dropout_prob'])(x)\n",
    "\n",
    "    # After the convolutional layers, the output is flattened and passed through a series of fully connected/dense layers\n",
    "    # Flattening converts a multi-dimensional input (from the convolutions) into a one-dimensional array (to be connected with the fully connected layers\n",
    "    x = kl.Flatten()(x)\n",
    "\n",
    "    # Fully connected layers\n",
    "    # Each fully connected layer is followed by batch normalization, ReLU activation, and dropout\n",
    "    for i in range(0, params['n_dense_layer']):\n",
    "        x = kl.Dense(params['dense_neurons'+str(i+1)],\n",
    "                     name=str('Dense_'+str(i+1)))(x)\n",
    "        x = kl.BatchNormalization()(x)\n",
    "        x = kl.Activation('relu')(x)\n",
    "        x = kl.Dropout(params['dropout_prob'])(x)\n",
    "\n",
    "    # Main model bottleneck\n",
    "    bottleneck = x\n",
    "\n",
    "    # heads per task (developmental and housekeeping enhancer activities)\n",
    "    tasks = ['log2.mean']\n",
    "    outputs = []\n",
    "    for task in tasks:\n",
    "        outputs.append(kl.Dense(1, activation='linear', name=str('Dense_' + task))(bottleneck))\n",
    "\n",
    "    model = keras.models.Model([input], outputs)\n",
    "    model.compile(keras.optimizers.Adam(learning_rate=lr),\n",
    "                  loss=['mse'], # loss\n",
    "                  loss_weights=[1], # loss weights to balance\n",
    "                  metrics=[spearman_correlation]) # additional track metric\n",
    "\n",
    "    return model, params\n",
    "\n",
    "DeepSTARR(params)[0].summary()"
   ]
  },
  {
   "cell_type": "markdown",
   "metadata": {
    "id": "amP47xAcK1un"
   },
   "source": [
    "# STEP 3\n",
    "\n",
    "---"
   ]
  },
  {
   "cell_type": "markdown",
   "metadata": {
    "id": "EawgsWlzK89m"
   },
   "source": [
    "## Training a DNN\n",
    "\n",
    "Now, we are ready to start model training."
   ]
  },
  {
   "cell_type": "code",
   "execution_count": 11,
   "metadata": {
    "colab": {
     "base_uri": "https://localhost:8080/"
    },
    "executionInfo": {
     "elapsed": 328489,
     "status": "ok",
     "timestamp": 1709290593632,
     "user": {
      "displayName": "Martin Kircher",
      "userId": "02079780992272163390"
     },
     "user_tz": -60
    },
    "id": "TgksWNVcLDmG",
    "outputId": "00175b46-b330-4791-bbe0-62f69ef29738"
   },
   "outputs": [
    {
     "name": "stdout",
     "output_type": "stream",
     "text": [
      "Epoch 1/3\n",
      "3158/3158 [==============================] - 252s 79ms/step - loss: 0.2815 - spearman_correlation: 0.2735 - val_loss: 0.2267 - val_spearman_correlation: 0.4228\n",
      "Epoch 2/3\n",
      "3158/3158 [==============================] - 237s 75ms/step - loss: 0.2067 - spearman_correlation: 0.4496 - val_loss: 0.1957 - val_spearman_correlation: 0.5293\n",
      "Epoch 3/3\n",
      "3158/3158 [==============================] - 273s 86ms/step - loss: 0.1824 - spearman_correlation: 0.5237 - val_loss: 0.1999 - val_spearman_correlation: 0.5015\n"
     ]
    }
   ],
   "source": [
    "def train(selected_model, X_train, Y_train, X_valid, Y_valid, params):\n",
    "\n",
    "    my_history=selected_model.fit(X_train, Y_train,\n",
    "                                  validation_data=(X_valid, Y_valid),\n",
    "                                  batch_size=params['batch_size'], epochs=params['epochs'],\n",
    "                                  callbacks=[EarlyStopping(patience=params['early_stop'], monitor=\"val_loss\", restore_best_weights=True),\n",
    "                                             History()])\n",
    "\n",
    "    return selected_model, my_history\n",
    "\n",
    "main_model, main_params = DeepSTARR(params)\n",
    "main_model, my_history = train(main_model, X_train, y_train, X_val, y_val, main_params)"
   ]
  },
  {
   "cell_type": "markdown",
   "metadata": {
    "id": "Rhlahss-MOiO"
   },
   "source": [
    "## Things to remember\n",
    "\n",
    "---"
   ]
  },
  {
   "cell_type": "markdown",
   "metadata": {
    "id": "1IpMT0pwMVhk"
   },
   "source": [
    "# STEP 4\n",
    "\n",
    "---"
   ]
  },
  {
   "cell_type": "markdown",
   "metadata": {
    "id": "CwwgeBcNMYlE"
   },
   "source": [
    "## Model evaluation"
   ]
  },
  {
   "cell_type": "markdown",
   "metadata": {
    "id": "lmfwDa1fMcmT"
   },
   "source": [
    "It's time to evaluate our model.\n",
    "  - Did it **PASS**, **FAIL**, or is it the **BEST**!"
   ]
  },
  {
   "cell_type": "markdown",
   "metadata": {
    "id": "I_y-ycaxOyZy"
   },
   "source": [
    "### Understand training"
   ]
  },
  {
   "cell_type": "code",
   "execution_count": 13,
   "metadata": {
    "colab": {
     "base_uri": "https://localhost:8080/",
     "height": 472
    },
    "executionInfo": {
     "elapsed": 761,
     "status": "ok",
     "timestamp": 1709290651302,
     "user": {
      "displayName": "Martin Kircher",
      "userId": "02079780992272163390"
     },
     "user_tz": -60
    },
    "id": "8iHwcGPwMbsc",
    "outputId": "62c51c47-bb65-4fb8-a6f7-bf97d7e63709"
   },
   "outputs": [
    {
     "data": {
      "image/png": "[encoded data removed]",
      "text/plain": [
       "<Figure size 640x480 with 1 Axes>"
      ]
     },
     "metadata": {},
     "output_type": "display_data"
    },
    {
     "data": {
      "image/png": "[encoded data removed]",
      "text/plain": [
       "<Figure size 640x480 with 1 Axes>"
      ]
     },
     "metadata": {},
     "output_type": "display_data"
    }
   ],
   "source": [
    "# Plot training & validation metrics\n",
    "def plot_metrics(history, metric_name, title=None, vertical_line_func=min):\n",
    "    plt.plot(history[metric_name])\n",
    "    plt.plot(history['val_' + metric_name])\n",
    "    if not title:\n",
    "        title = metric_name\n",
    "    plt.title(title)\n",
    "    plt.ylabel(metric_name)\n",
    "    plt.xlabel('Epoch')\n",
    "    plt.legend(['Train', 'Validation'], loc='upper left')\n",
    "\n",
    "    # Add vertical line at minimum/maximum validation loss or spearman correlation\n",
    "    min_val_loss = vertical_line_func(history['val_' + metric_name])\n",
    "    plt.axvline(x=history['val_' + metric_name].index(min_val_loss), color='red', linestyle='--')\n",
    "\n",
    "    plt.show()\n",
    "\n",
    "# MSE\n",
    "plot_metrics(my_history.history, 'loss', title='log2.mean')\n",
    "# Spearman\n",
    "plot_metrics(my_history.history, 'spearman_correlation', vertical_line_func=max)"
   ]
  },
  {
   "cell_type": "markdown",
   "metadata": {
    "id": "5gKlLmR-PDSC"
   },
   "source": [
    "### Performance metrics"
   ]
  },
  {
   "cell_type": "code",
   "execution_count": 14,
   "metadata": {
    "id": "zrKDvBHFMPtI"
   },
   "outputs": [],
   "source": [
    "def evaluate_model(X, y, model):\n",
    "    # Predict the output\n",
    "    y_pred = model.predict(X)\n",
    "    # Reshape the arrays to be one-dimensional\n",
    "    y = y.values.reshape(-1)\n",
    "    y_pred = y_pred.reshape(-1)\n",
    "\n",
    "    # Calculate metrics\n",
    "    mse = mean_squared_error(y, y_pred)\n",
    "    pcc, _ = pearsonr(y, y_pred)\n",
    "    scc, _ = spearmanr(y, y_pred)\n",
    "\n",
    "    # Create a DataFrame for the table\n",
    "    metrics_df = pd.DataFrame({\n",
    "        'Metric': ['MSE', 'PCC', 'SCC'],\n",
    "        'Value': [mse, pcc, scc]\n",
    "    })\n",
    "\n",
    "    # Print the table\n",
    "    print(metrics_df)"
   ]
  },
  {
   "cell_type": "code",
   "execution_count": 15,
   "metadata": {
    "colab": {
     "base_uri": "https://localhost:8080/"
    },
    "executionInfo": {
     "elapsed": 3187,
     "status": "ok",
     "timestamp": 1709290821723,
     "user": {
      "displayName": "Martin Kircher",
      "userId": "02079780992272163390"
     },
     "user_tz": -60
    },
    "id": "vw0AMGtRMYFc",
    "outputId": "d04e827b-3d1f-477f-b0cd-a9bb17d8f5c6"
   },
   "outputs": [
    {
     "name": "stdout",
     "output_type": "stream",
     "text": [
      "351/351 [==============================] - 3s 7ms/step\n",
      "  Metric     Value\n",
      "0    MSE  0.199879\n",
      "1    PCC  0.557078\n",
      "2    SCC  0.506279\n"
     ]
    }
   ],
   "source": [
    "evaluate_model(X_val, y_val, main_model)"
   ]
  },
  {
   "cell_type": "code",
   "execution_count": 16,
   "metadata": {
    "colab": {
     "base_uri": "https://localhost:8080/"
    },
    "executionInfo": {
     "elapsed": 1105,
     "status": "ok",
     "timestamp": 1709290834676,
     "user": {
      "displayName": "Martin Kircher",
      "userId": "02079780992272163390"
     },
     "user_tz": -60
    },
    "id": "bZDchyGSNPkb",
    "outputId": "0e25a699-58de-4502-a82a-dac3a189e479"
   },
   "outputs": [
    {
     "name": "stdout",
     "output_type": "stream",
     "text": [
      "351/351 [==============================] - 4s 10ms/step\n",
      "  Metric     Value\n",
      "0    MSE  0.188579\n",
      "1    PCC  0.577383\n",
      "2    SCC  0.530568\n"
     ]
    }
   ],
   "source": [
    "evaluate_model(X_test, y_test, main_model)"
   ]
  },
  {
   "cell_type": "markdown",
   "metadata": {
    "id": "hQYFBLwdPHua"
   },
   "source": [
    "### Plotting data - A model perspective"
   ]
  },
  {
   "cell_type": "code",
   "execution_count": 17,
   "metadata": {
    "colab": {
     "base_uri": "https://localhost:8080/",
     "height": 493
    },
    "executionInfo": {
     "elapsed": 9783,
     "status": "ok",
     "timestamp": 1709290908367,
     "user": {
      "displayName": "Martin Kircher",
      "userId": "02079780992272163390"
     },
     "user_tz": -60
    },
    "id": "3ubw4RMWPRph",
    "outputId": "d3e81ac8-067f-4dba-d8d8-b58cf12981ab"
   },
   "outputs": [
    {
     "name": "stdout",
     "output_type": "stream",
     "text": [
      "176/176 [==============================] - 4s 20ms/step\n"
     ]
    },
    {
     "data": {
      "image/png": "[encoded data removed]",
      "text/plain": [
       "<Figure size 600x600 with 1 Axes>"
      ]
     },
     "metadata": {},
     "output_type": "display_data"
    }
   ],
   "source": [
    "# Smooth scatter plot - useful when there are thousands of points\n",
    "\n",
    "# Takes some time to calculate the kernel density\n",
    "def my_scatter_density(X, Y, set, task):\n",
    "  pred = main_model.predict(X, batch_size=main_params['batch_size'])\n",
    "\n",
    "  # Convert DataFrames to numpy arrays and reshape to be one-dimensional\n",
    "  Y = Y.values.reshape(-1)\n",
    "  pred = pred.reshape(-1)\n",
    "\n",
    "  g = sns.jointplot(x=Y, y=pred, kind=\"kde\", fill=True)\n",
    "  g.ax_marg_x.remove() # remove marginal densities\n",
    "  g.ax_marg_y.remove() # remove marginal densities\n",
    "\n",
    "  # Add expected regression line\n",
    "  x0, x1 = g.ax_joint.get_xlim()\n",
    "  y0, y1 = g.ax_joint.get_ylim()\n",
    "  lims = [max(x0, y0), min(x1, y1)]\n",
    "  g.ax_joint.plot(lims, lims, linestyle='dashed', color='grey')\n",
    "\n",
    "  # Same axes ranges\n",
    "  g.ax_joint.set_aspect('equal')\n",
    "\n",
    "  PCC = str(\"{0:0.2f}\".format(stats.pearsonr(Y, pred)[0]))\n",
    "  plt.xlabel('Measured expression [log2]')\n",
    "  plt.ylabel('Predicted expression [log2]')\n",
    "  plt.title(str(task + ' - ' + set + ' set (PCC=' + PCC + ')'))\n",
    "\n",
    "  plt.show()\n",
    "\n",
    "# Print plots for test sets\n",
    "my_scatter_density(X_test, y_test, \"test\", \"log2.mean\")"
   ]
  },
  {
   "cell_type": "markdown",
   "metadata": {
    "id": "BQGowRmQPUDS"
   },
   "source": [
    "# Saving your model\n",
    "\n",
    "---"
   ]
  },
  {
   "cell_type": "code",
   "execution_count": 19,
   "metadata": {
    "id": "vpm0b1swPmvx"
   },
   "outputs": [],
   "source": [
    "# Save your model weights and structure as it is\n",
    "main_model.save('01_data/my_DeepSTARR_model.h5')"
   ]
  }
 ],
 "metadata": {
  "accelerator": "GPU",
  "colab": {
   "gpuType": "T4",
   "provenance": [
    {
     "file_id": "1cLe9KxpLJZj7ofReUJdqZFaRJcZRjkql",
     "timestamp": 1709285573610
    },
    {
     "file_id": "1b3F8dv0qBWhVeoFh8yRZEGPOSz59UMeF",
     "timestamp": 1707382184134
    }
   ],
   "toc_visible": true
  },
  "kernelspec": {
   "display_name": "jupyter_tf",
   "language": "python",
   "name": "python3"
  },
  "language_info": {
   "codemirror_mode": {
    "name": "ipython",
    "version": 3
   },
   "file_extension": ".py",
   "mimetype": "text/x-python",
   "name": "python",
   "nbconvert_exporter": "python",
   "pygments_lexer": "ipython3",
   "version": "3.10.13"
  }
 },
 "nbformat": 4,
 "nbformat_minor": 0
}
