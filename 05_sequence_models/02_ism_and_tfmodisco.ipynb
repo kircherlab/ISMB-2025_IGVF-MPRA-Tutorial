{
 "cells": [
  {
   "cell_type": "markdown",
   "metadata": {},
   "source": [
    "<a target=\"_blank\" href=\"https://colab.research.google.com/github/kircherlab/ISMB-2025_IGVF-MPRA-Tutorial/blob/main/05_sequence_models/02_ism_and_tfmodisco.ipynb\">\n",
    "  <img src=\"https://colab.research.google.com/assets/colab-badge.svg\" alt=\"Open In Colab\"/>\n",
    "</a>"
   ]
  },
  {
   "cell_type": "markdown",
   "metadata": {
    "id": "6rNrzoGC-3wl"
   },
   "source": [
    "# Interpreting Models with In-Silico Mutagenesis\n",
    "\n",
    "With tools like TF-MoDISco for motif discovery, we will investigate important transcription factor binding motifs using models trained on sequence data that predict activity. We will assess whether these motifs exert activating or repressing effects by comparing the activity of sequences with and without these identified motifs in the cell type of interest."
   ]
  },
  {
   "cell_type": "markdown",
   "metadata": {},
   "source": [
    "## Notebook Preparation"
   ]
  },
  {
   "cell_type": "markdown",
   "metadata": {
    "id": "9bZ6sx1X4_6F"
   },
   "source": [
    "### Load Libraries and Data"
   ]
  },
  {
   "cell_type": "code",
   "execution_count": null,
   "metadata": {
    "executionInfo": {
     "elapsed": 7281,
     "status": "ok",
     "timestamp": 1713338214068,
     "user": {
      "displayName": "Thorben M",
      "userId": "02931247254163619517"
     },
     "user_tz": -120
    },
    "id": "kl9spAh75IoU"
   },
   "outputs": [],
   "source": [
    "import os\n",
    "import random\n",
    "import gzip\n",
    "import numpy as np\n",
    "import pandas as pd\n",
    "import matplotlib.pyplot as plt\n",
    "import tensorflow as tf\n",
    "from tensorflow import keras\n",
    "from IPython.display import clear_output\n",
    "\n",
    "os.environ[\"TF_CPP_MIN_LOG_LEVEL\"] = \"2\"  # Suppress TensorFlow warnings"
   ]
  },
  {
   "cell_type": "code",
   "execution_count": null,
   "metadata": {
    "colab": {
     "base_uri": "https://localhost:8080/"
    },
    "executionInfo": {
     "elapsed": 18292,
     "status": "ok",
     "timestamp": 1713338232350,
     "user": {
      "displayName": "Thorben M",
      "userId": "02931247254163619517"
     },
     "user_tz": -120
    },
    "id": "da0dZjQCh8HL",
    "outputId": "f6b8a075-c644-4142-b548-4a924d96b81f",
    "vscode": {
     "languageId": "shellscript"
    }
   },
   "outputs": [],
   "source": [
    "!pip install modisco-lite"
   ]
  },
  {
   "cell_type": "markdown",
   "metadata": {
    "id": "tQVSoWPl5FEL"
   },
   "source": [
    "Download the data if not already present."
   ]
  },
  {
   "cell_type": "code",
   "execution_count": null,
   "metadata": {
    "colab": {
     "base_uri": "https://localhost:8080/"
    },
    "executionInfo": {
     "elapsed": 62285,
     "status": "ok",
     "timestamp": 1713338268012,
     "user": {
      "displayName": "Thorben M",
      "userId": "02931247254163619517"
     },
     "user_tz": -120
    },
    "id": "fuxL8Mqz4-GU",
    "outputId": "ee07683a-fcd5-4c07-a0df-34f3243c4634",
    "vscode": {
     "languageId": "shellscript"
    }
   },
   "outputs": [],
   "source": [
    "%%bash\n",
    "mkdir -p 02_data\n",
    "\n",
    "if [ ! -f \"02_data/ultra_joint.fa.gz\" ]; then\n",
    "    wget -O 02_data/ultra_joint.fa.gz https://github.com/kircherlab/ISMB-2025_IGVF-MPRA-Tutorial/raw/refs/heads/main/05_sequence_models/02_data/ultra_joint.fa.gz\n",
    "else\n",
    "    echo \"File exists\"\n",
    "fi"
   ]
  },
  {
   "cell_type": "markdown",
   "metadata": {
    "id": "p0YXhC0nB2FA"
   },
   "source": [
    "### Prepare Sequences from FASTA for DNN Model"
   ]
  },
  {
   "cell_type": "markdown",
   "metadata": {
    "id": "r0ypSJVc5S0N"
   },
   "source": [
    "Set seeds to make code reproducible. This is always a good idea when working with TensorFlow. The seed of 42 is arbitraty."
   ]
  },
  {
   "cell_type": "code",
   "execution_count": null,
   "metadata": {
    "executionInfo": {
     "elapsed": 5,
     "status": "ok",
     "timestamp": 1713338268012,
     "user": {
      "displayName": "Thorben M",
      "userId": "02931247254163619517"
     },
     "user_tz": -120
    },
    "id": "IUmd6z0W5Y91"
   },
   "outputs": [],
   "source": [
    "random.seed(42)\n",
    "np.random.seed(42)\n",
    "tf.random.set_seed(42)"
   ]
  },
  {
   "cell_type": "markdown",
   "metadata": {
    "id": "k6SgtyEO5lCh"
   },
   "source": [
    "Load sequences for which we want to generate contribution maps. Print one example entry. The sequences are in FASTA format. Each entry contains two lines: the first is the sequence ID, the second is the sequence. Note that we have removed the \">\" from the output printed below."
   ]
  },
  {
   "cell_type": "code",
   "execution_count": null,
   "metadata": {
    "colab": {
     "base_uri": "https://localhost:8080/"
    },
    "executionInfo": {
     "elapsed": 4940,
     "status": "ok",
     "timestamp": 1713338272948,
     "user": {
      "displayName": "Thorben M",
      "userId": "02931247254163619517"
     },
     "user_tz": -120
    },
    "id": "nneYGocf5vK_",
    "outputId": "82e1527c-62a2-46cb-ef9e-0d55e9fab1c0"
   },
   "outputs": [],
   "source": [
    "seq_file = \"02_data/ultra_joint.fa.gz\"\n",
    "\n",
    "with gzip.open(seq_file, 'rt') as f:\n",
    "    file_content = f.read()\n",
    "\n",
    "sequence_entries = file_content.split('>')\n",
    "\n",
    "print(sequence_entries[3])"
   ]
  },
  {
   "cell_type": "markdown",
   "metadata": {
    "id": "o9HNZStP63_H"
   },
   "source": [
    "Write IDs and sequences into Python lists."
   ]
  },
  {
   "cell_type": "code",
   "execution_count": null,
   "metadata": {
    "colab": {
     "base_uri": "https://localhost:8080/"
    },
    "executionInfo": {
     "elapsed": 497,
     "status": "ok",
     "timestamp": 1713338273443,
     "user": {
      "displayName": "Thorben M",
      "userId": "02931247254163619517"
     },
     "user_tz": -120
    },
    "id": "pgmuF3qE68Xf",
    "outputId": "e87adc5f-d1cb-4c33-91e3-bdad721daa57"
   },
   "outputs": [],
   "source": [
    "sequence_ids = []\n",
    "sequences = []\n",
    "\n",
    "for i in range(1, len(sequence_entries)):\n",
    "    entry = sequence_entries[i]\n",
    "    if \"\\n\" not in entry:\n",
    "        print(entry)\n",
    "        raise ValueError(\"Entry missing newline between ID and sequence.\")\n",
    "    seq = entry.split(\"\\n\")[1]\n",
    "    if \"Y\" in seq or \"R\" in seq:\n",
    "        continue\n",
    "    sequence_ids.append(entry.split(\"\\n\")[0])\n",
    "    sequences.append(seq)\n",
    "\n",
    "# Show sequence number 10 as an example\n",
    "print(\"ID list entry example:\", sequence_ids[9])\n",
    "print(\"Sequence list entry example:\", sequences[9])"
   ]
  },
  {
   "cell_type": "markdown",
   "metadata": {
    "id": "8066E6LD8sxs"
   },
   "source": [
    "To pass the sequences to our model, we need to \"one-hot encode\" them. We'll load the necessary function."
   ]
  },
  {
   "cell_type": "code",
   "execution_count": null,
   "metadata": {
    "executionInfo": {
     "elapsed": 2,
     "status": "ok",
     "timestamp": 1713338273443,
     "user": {
      "displayName": "Thorben M",
      "userId": "02931247254163619517"
     },
     "user_tz": -120
    },
    "id": "cA2jh_Ji9Qkv"
   },
   "outputs": [],
   "source": [
    "def one_hot_encode(seq):\n",
    "    nucleotide_dict = {\n",
    "        'A': [1, 0, 0, 0],\n",
    "        'C': [0, 1, 0, 0],\n",
    "        'G': [0, 0, 1, 0],\n",
    "        'T': [0, 0, 0, 1],\n",
    "        'N': [0, 0, 0, 0]\n",
    "    }\n",
    "    return np.array([nucleotide_dict[nuc] for nuc in seq])"
   ]
  },
  {
   "cell_type": "markdown",
   "metadata": {
    "id": "Lnu6NSfh9WwX"
   },
   "source": [
    "Apply one-hot encoding to our sequences. The output demonstrates how one-hot encoding looks."
   ]
  },
  {
   "cell_type": "code",
   "execution_count": null,
   "metadata": {
    "colab": {
     "base_uri": "https://localhost:8080/"
    },
    "executionInfo": {
     "elapsed": 14963,
     "status": "ok",
     "timestamp": 1713338288404,
     "user": {
      "displayName": "Thorben M",
      "userId": "02931247254163619517"
     },
     "user_tz": -120
    },
    "id": "L4WAo_GG9eTJ",
    "outputId": "396a36fd-85ca-4c0c-d795-6996b2a4aa0c"
   },
   "outputs": [],
   "source": [
    "sequences_tok = [one_hot_encode(seq) for seq in sequences]\n",
    "\n",
    "print(\"Sequence list entry example (first 5 bases):\\n\", sequences[9][:5])\n",
    "print(\"Sequence list entry example one-hot encoded (first 5 bases):\\n\", sequences_tok[9][:5])"
   ]
  },
  {
   "cell_type": "markdown",
   "metadata": {
    "id": "8RfelHnF-hmv"
   },
   "source": [
    "Convert the lists into a pandas DataFrame. This helps with removing duplicates and inspecting the data."
   ]
  },
  {
   "cell_type": "code",
   "execution_count": null,
   "metadata": {
    "colab": {
     "base_uri": "https://localhost:8080/"
    },
    "executionInfo": {
     "elapsed": 480,
     "status": "ok",
     "timestamp": 1713338288881,
     "user": {
      "displayName": "Thorben M",
      "userId": "02931247254163619517"
     },
     "user_tz": -120
    },
    "id": "A1M1n2ti-3nq",
    "outputId": "39460463-0309-431a-b773-ba867090f148"
   },
   "outputs": [],
   "source": [
    "df_IDs_seq = pd.DataFrame({\n",
    "    \"ID\": sequence_ids,\n",
    "    \"seq\": sequences_tok,\n",
    "    \"seq_org\": sequences\n",
    "})\n",
    "\n",
    "df_IDs_seq = df_IDs_seq.drop_duplicates(subset=\"ID\")\n",
    "\n",
    "print(\"The ID column of the dataframe:\\n\", df_IDs_seq[\"ID\"])\n",
    "print(\"\\nThe original sequence column of the dataframe:\\n\", df_IDs_seq[\"seq_org\"])\n",
    "print(\"\\nThe one-hot encoded sequence column of the dataframe:\\n\", df_IDs_seq[\"seq\"])"
   ]
  },
  {
   "cell_type": "markdown",
   "metadata": {
    "id": "zrG16YbRBXhC"
   },
   "source": [
    "Convert the one-hot encoded sequences to TensorFlow tensors for input to our pre-trained model."
   ]
  },
  {
   "cell_type": "code",
   "execution_count": null,
   "metadata": {
    "executionInfo": {
     "elapsed": 25082,
     "status": "ok",
     "timestamp": 1713338313961,
     "user": {
      "displayName": "Thorben M",
      "userId": "02931247254163619517"
     },
     "user_tz": -120
    },
    "id": "cF4iLP0r2Du_"
   },
   "outputs": [],
   "source": [
    "input_seq_all = tf.convert_to_tensor(df_IDs_seq[\"seq\"].to_list())"
   ]
  },
  {
   "cell_type": "markdown",
   "metadata": {
    "id": "TS9Izo5AB-bJ"
   },
   "source": [
    "### Load Model"
   ]
  },
  {
   "cell_type": "markdown",
   "metadata": {
    "id": "-bEE3OY4CH8n"
   },
   "source": [
    "Load our pretrained model. Here, we use the MPRAnn architecture trained on sequences and experimental MPRA activity from the MPRAultra study (K562 dataset). Ensure your data matches the model's expected sequence length."
   ]
  },
  {
   "cell_type": "code",
   "execution_count": null,
   "metadata": {
    "vscode": {
     "languageId": "shellscript"
    }
   },
   "outputs": [],
   "source": [
    "%%bash\n",
    "mkdir -p 02_data\n",
    "\n",
    "if [ ! -f \"02_data/h5\" ]; then\n",
    "    wget -O 02_data/MPRAnn.tar.gz https://github.com/kircherlab/ISMB-2025_IGVF-MPRA-Tutorial/raw/refs/heads/main/05_sequence_models/02_data/MPRAnn.h5\n",
    "else\n",
    "    echo \"File exists\"\n",
    "fi"
   ]
  },
  {
   "cell_type": "code",
   "execution_count": null,
   "metadata": {
    "executionInfo": {
     "elapsed": 13952,
     "status": "ok",
     "timestamp": 1713338327911,
     "user": {
      "displayName": "Thorben M",
      "userId": "02931247254163619517"
     },
     "user_tz": -120
    },
    "id": "n50JFv6TCKAf"
   },
   "outputs": [],
   "source": [
    "model = keras.models.load_model(\"02_data/MPRAnn.h5\")"
   ]
  },
  {
   "cell_type": "markdown",
   "metadata": {
    "id": "rBsZwd45zy0v"
   },
   "source": [
    "## Model Interpretation Using Attribution Maps and TF-MoDISco"
   ]
  },
  {
   "cell_type": "markdown",
   "metadata": {
    "id": "n3ETW_mS20L4"
   },
   "source": [
    "### Sequences"
   ]
  },
  {
   "cell_type": "markdown",
   "metadata": {
    "id": "XyZ-VagDDsQq"
   },
   "source": [
    "We will initialize numpy arrays to store the attribution maps of the sequences based on our pre-trained model, as well as the one-hot encoded sequences. Both are required inputs for TF-MoDISco. For demonstration, we only process a subset of sequences to keep computation feasible."
   ]
  },
  {
   "cell_type": "markdown",
   "metadata": {
    "id": "BuxKnF83Dn4b"
   },
   "source": [
    "## Sequences for TF-MoDISco"
   ]
  },
  {
   "cell_type": "code",
   "execution_count": null,
   "metadata": {
    "executionInfo": {
     "elapsed": 2545,
     "status": "ok",
     "timestamp": 1713338330446,
     "user": {
      "displayName": "Thorben M",
      "userId": "02931247254163619517"
     },
     "user_tz": -120
    },
    "id": "2IvOq7L8D66D"
   },
   "outputs": [],
   "source": [
    "numberOfSeqs = np.asarray(input_seq_all).shape[0] // 6000  # Use a subset for speed\n",
    "seq_length = np.asarray(input_seq_all).shape[1]\n",
    "\n",
    "seqs_tfmodisco_format = np.zeros([numberOfSeqs, seq_length, 4], dtype=bool)\n",
    "for i in range(numberOfSeqs):\n",
    "    seqs_tfmodisco_format[i] = input_seq_all[i].numpy().astype(bool)\n",
    "\n",
    "np.savez('02_data/Sequences.npz', seqs_tfmodisco_format)"
   ]
  },
  {
   "cell_type": "markdown",
   "metadata": {
    "id": "V8l95_rJl43_"
   },
   "source": [
    "Load the one-hot encoded sequences and inspect them. The array shape matches the contribution score array. Data type is bool."
   ]
  },
  {
   "cell_type": "code",
   "execution_count": null,
   "metadata": {},
   "outputs": [],
   "source": [
    "print(seqs_tfmodisco_format)"
   ]
  },
  {
   "cell_type": "code",
   "execution_count": null,
   "metadata": {
    "colab": {
     "base_uri": "https://localhost:8080/"
    },
    "executionInfo": {
     "elapsed": 1286,
     "status": "ok",
     "timestamp": 1713338331729,
     "user": {
      "displayName": "Thorben M",
      "userId": "02931247254163619517"
     },
     "user_tz": -120
    },
    "id": "0Sff2B-5mc4B",
    "outputId": "a6984356-6b92-48c6-ee02-d05a9fc34b48"
   },
   "outputs": [],
   "source": [
    "seq_file = \"02_data/Sequences.npz\"\n",
    "seqs = np.load(seq_file)\n",
    "seqs = seqs.f.arr_0.astype(bool)\n",
    "\n",
    "print(seqs[9])\n",
    "print(seqs.shape)\n",
    "print(seqs.dtype)"
   ]
  },
  {
   "cell_type": "markdown",
   "metadata": {
    "id": "JBC0Eyfx24Ha"
   },
   "source": [
    "### Attribution Scores"
   ]
  },
  {
   "cell_type": "markdown",
   "metadata": {
    "id": "gzvBEf_-E5KD"
   },
   "source": [
    "Now we compute the attribution (contribution) scores using in-silico mutagenesis (ISM). For each sequence, we generate all possible single-nucleotide variants (SNVs) and predict their activity using our model."
   ]
  },
  {
   "cell_type": "code",
   "execution_count": null,
   "metadata": {
    "colab": {
     "base_uri": "https://localhost:8080/"
    },
    "executionInfo": {
     "elapsed": 6607,
     "status": "ok",
     "timestamp": 1713338338331,
     "user": {
      "displayName": "Thorben M",
      "userId": "02931247254163619517"
     },
     "user_tz": -120
    },
    "id": "lTqAM0NG6onF",
    "outputId": "0b9a40a2-4a4b-47a1-f4fc-012272f8715d"
   },
   "outputs": [],
   "source": [
    "hypothetical_contribution_scores = np.zeros([numberOfSeqs, seq_length, 4])\n",
    "\n",
    "for i in range(numberOfSeqs):\n",
    "    print(f\"{i+1} of {numberOfSeqs}\")\n",
    "    listOfMutSeqs = []\n",
    "    for j in range(seq_length):\n",
    "        temp_seq = input_seq_all[i].numpy().copy()\n",
    "        temp_seq[j, :] = 0\n",
    "        for k in range(4):\n",
    "            temp_seq[j, k] = 1\n",
    "            listOfMutSeqs.append(tf.convert_to_tensor(temp_seq.copy()))\n",
    "            temp_seq[j, k] = 0\n",
    "    tensorOfMutSeqs = tf.convert_to_tensor(listOfMutSeqs)\n",
    "    predictions_alt = model.predict(tensorOfMutSeqs, batch_size=256, verbose=0)\n",
    "    for j in range(seq_length):\n",
    "        for k in range(4):\n",
    "            hypothetical_contribution_scores[i, j, k] = predictions_alt[j*4+k, 0]\n",
    "\n",
    "np.savez(\"02_data/hypothetical_contribution_scores.npz\", hypothetical_contribution_scores)"
   ]
  },
  {
   "cell_type": "markdown",
   "metadata": {
    "id": "tnYH6NkuDjrM"
   },
   "source": [
    "## Attribution Maps"
   ]
  },
  {
   "cell_type": "markdown",
   "metadata": {
    "id": "n2DyI7sAiiMX"
   },
   "source": [
    "This section introduces attribution maps. First, we load the file with the contribution scores generated above."
   ]
  },
  {
   "cell_type": "markdown",
   "metadata": {
    "id": "QKYzPY_phWc-"
   },
   "source": [
    "### Attribution Maps in General\n",
    "\n",
    "Attribution maps highlight bases or motifs that are important for the model's prediction of a given sequence. Let's look at the contribution scores as calculated above:"
   ]
  },
  {
   "cell_type": "code",
   "execution_count": null,
   "metadata": {
    "colab": {
     "base_uri": "https://localhost:8080/"
    },
    "executionInfo": {
     "elapsed": 10,
     "status": "ok",
     "timestamp": 1713338338331,
     "user": {
      "displayName": "Thorben M",
      "userId": "02931247254163619517"
     },
     "user_tz": -120
    },
    "id": "ZWUMzkmoisgZ",
    "outputId": "46b659b1-a1fa-4f29-92b7-f5d632d837aa"
   },
   "outputs": [],
   "source": [
    "contrib_file = \"02_data/hypothetical_contribution_scores.npz\"\n",
    "scores = np.load(contrib_file)\n",
    "scores = scores.f.arr_0.astype(np.float32)\n",
    "\n",
    "print(scores[9])"
   ]
  },
  {
   "cell_type": "markdown",
   "metadata": {
    "id": "I6kmXe7crOiW"
   },
   "source": [
    "A widely used approach is to subtract the prediction of the reference sequence from all predictions (see [Kelley et al.](https://pubmed.ncbi.nlm.nih.gov/27197224/))."
   ]
  },
  {
   "cell_type": "code",
   "execution_count": null,
   "metadata": {
    "executionInfo": {
     "elapsed": 9,
     "status": "ok",
     "timestamp": 1713338338331,
     "user": {
      "displayName": "Thorben M",
      "userId": "02931247254163619517"
     },
     "user_tz": -120
    },
    "id": "P8mkS0U5i6PR"
   },
   "outputs": [],
   "source": [
    "for i in range(scores.shape[0]):\n",
    "    ref_seq = scores[i] * seqs[i]\n",
    "    ref_pred = np.max(ref_seq[np.nonzero(ref_seq)])\n",
    "    scores[i] = scores[i] - ref_pred\n",
    "print(scores[9])"
   ]
  },
  {
   "cell_type": "markdown",
   "metadata": {
    "id": "VbsHXLF-j9Zy"
   },
   "source": [
    "Let's look at the attribution map of a single sequence. For each position, there are 4 entries (A, C, G, T). The value indicates the importance of the base at that position for the measured MPRA activity, based on the model. The array shape is (number of sequences, sequence length, 4)."
   ]
  },
  {
   "cell_type": "code",
   "execution_count": null,
   "metadata": {
    "colab": {
     "base_uri": "https://localhost:8080/"
    },
    "executionInfo": {
     "elapsed": 505,
     "status": "ok",
     "timestamp": 1713338338827,
     "user": {
      "displayName": "Thorben M",
      "userId": "02931247254163619517"
     },
     "user_tz": -120
    },
    "id": "lL_qsXkpj_WJ",
    "outputId": "b79faeb1-29ae-4a8c-d691-79d6820e9ff8"
   },
   "outputs": [],
   "source": [
    "print(scores[9])\n",
    "print(scores.shape)\n",
    "print(scores.dtype)"
   ]
  },
  {
   "cell_type": "markdown",
   "metadata": {
    "id": "1cc8EDNvz4S9"
   },
   "source": [
    "We now use the logomaker library to plot a selected attribution map (here, the first one). Importantness is expressed by scaling the bases according to the maximal possible prediction loss."
   ]
  },
  {
   "cell_type": "code",
   "execution_count": null,
   "metadata": {
    "colab": {
     "base_uri": "https://localhost:8080/"
    },
    "executionInfo": {
     "elapsed": 6,
     "status": "ok",
     "timestamp": 1713338338827,
     "user": {
      "displayName": "Thorben M",
      "userId": "02931247254163619517"
     },
     "user_tz": -120
    },
    "id": "tOJ4CPLovMfD",
    "outputId": "b3156d79-e296-4ea8-d24b-26957aca28d1"
   },
   "outputs": [],
   "source": [
    "scores_for_map = np.abs(scores - np.min(scores, axis=2, keepdims=True))\n",
    "scores_for_map *= seqs\n",
    "\n",
    "df_hypo_contri = pd.DataFrame(scores_for_map[9], columns=['A', 'C', 'G', 'T'])\n",
    "print(df_hypo_contri)"
   ]
  },
  {
   "cell_type": "code",
   "execution_count": null,
   "metadata": {
    "executionInfo": {
     "elapsed": 2,
     "status": "ok",
     "timestamp": 1713338338827,
     "user": {
      "displayName": "Thorben M",
      "userId": "02931247254163619517"
     },
     "user_tz": -120
    },
    "id": "SuN9dPQ16dj2"
   },
   "outputs": [],
   "source": [
    "%matplotlib inline"
   ]
  },
  {
   "cell_type": "code",
   "execution_count": null,
   "metadata": {
    "colab": {
     "base_uri": "https://localhost:8080/",
     "height": 331
    },
    "executionInfo": {
     "elapsed": 2431,
     "status": "ok",
     "timestamp": 1713338341257,
     "user": {
      "displayName": "Thorben M",
      "userId": "02931247254163619517"
     },
     "user_tz": -120
    },
    "id": "22jjp2pWra7L",
    "outputId": "eb25635e-4b1d-4e0a-cfa6-a3381a780624"
   },
   "outputs": [],
   "source": [
    "import logomaker\n",
    "\n",
    "fig = plt.figure(figsize=(8, 1), dpi=300)\n",
    "ax1 = fig.add_subplot(111)\n",
    "PWM_logo = logomaker.Logo(df_hypo_contri, shade_below=.5, fade_below=.5, ax=ax1)\n",
    "plt.savefig(\"02_data/example_contrib_map.png\", dpi=300)\n",
    "plt.show()"
   ]
  },
  {
   "cell_type": "markdown",
   "metadata": {
    "id": "R3WLa1oEJW8k"
   },
   "source": [
    "### Attribution Maps for TF-MoDISco\n",
    "\n",
    "For TF-MoDISco, it is recommended to mean-normalize the contribution scores (see [TF-MoDISco example](https://github.com/kundajelab/tfmodisco/blob/master/examples/simulated_TAL_GATA_deeplearning/Generate%20Importance%20Scores.ipynb))."
   ]
  },
  {
   "cell_type": "code",
   "execution_count": null,
   "metadata": {
    "executionInfo": {
     "elapsed": 4,
     "status": "ok",
     "timestamp": 1713338341257,
     "user": {
      "displayName": "Thorben M",
      "userId": "02931247254163619517"
     },
     "user_tz": -120
    },
    "id": "KODB82UpJ1fI"
   },
   "outputs": [],
   "source": [
    "scores_for_modisco = scores - np.mean(scores, axis=2, keepdims=True)\n",
    "np.savez(\"02_data/scores_for_modisco.npz\", hypothetical_contribution_scores)"
   ]
  },
  {
   "cell_type": "markdown",
   "metadata": {
    "id": "cPiUPqXbbdXt"
   },
   "source": [
    "Let's plot the mean-normalized hypothetical scores used for TF-MoDISco:"
   ]
  },
  {
   "cell_type": "code",
   "execution_count": null,
   "metadata": {
    "colab": {
     "base_uri": "https://localhost:8080/",
     "height": 336
    },
    "executionInfo": {
     "elapsed": 11595,
     "status": "ok",
     "timestamp": 1713338352849,
     "user": {
      "displayName": "Thorben M",
      "userId": "02931247254163619517"
     },
     "user_tz": -120
    },
    "id": "k0u2Y6XUbkW1",
    "outputId": "0212a6f5-096b-4930-e516-788102c33fa8"
   },
   "outputs": [],
   "source": [
    "df_hypo_contri = pd.DataFrame(scores_for_modisco[9], columns=['A', 'C', 'G', 'T'])\n",
    "fig = plt.figure(figsize=(8, 1), dpi=300)\n",
    "ax1 = fig.add_subplot(111)\n",
    "PWM_logo = logomaker.Logo(df_hypo_contri, shade_below=.5, fade_below=.5, ax=ax1)\n",
    "plt.savefig(\"02_data/example_contrib_map.png\", dpi=300)\n",
    "plt.show()"
   ]
  },
  {
   "cell_type": "markdown",
   "metadata": {
    "id": "1MyFdwzcb5qI"
   },
   "source": [
    "And the actual contribution scores resulting from it:"
   ]
  },
  {
   "cell_type": "code",
   "execution_count": null,
   "metadata": {
    "colab": {
     "base_uri": "https://localhost:8080/",
     "height": 326
    },
    "executionInfo": {
     "elapsed": 1604,
     "status": "ok",
     "timestamp": 1713338354449,
     "user": {
      "displayName": "Thorben M",
      "userId": "02931247254163619517"
     },
     "user_tz": -120
    },
    "id": "syeStbzlb9yY",
    "outputId": "395d0593-3f8d-4cf1-b597-90589ed1b6b6"
   },
   "outputs": [],
   "source": [
    "df_hypo_contri = pd.DataFrame(scores_for_modisco[9] * seqs[9], columns=['A', 'C', 'G', 'T'])\n",
    "fig = plt.figure(figsize=(8, 1), dpi=300)\n",
    "ax1 = fig.add_subplot(111)\n",
    "PWM_logo = logomaker.Logo(df_hypo_contri, shade_below=.5, fade_below=.5, ax=ax1)\n",
    "plt.savefig(\"02_data/example_contrib_map.png\", dpi=300)\n",
    "plt.show()"
   ]
  },
  {
   "cell_type": "markdown",
   "metadata": {
    "id": "uS4jbxFvcg9M"
   },
   "source": [
    "Note that both ways of plotting actual contribution scores result from the same data and include very similar information."
   ]
  },
  {
   "cell_type": "markdown",
   "metadata": {
    "id": "ohRKv0aD6vC6"
   },
   "source": [
    "# Using TF-MoDISco"
   ]
  },
  {
   "cell_type": "markdown",
   "metadata": {
    "id": "XSassUjcDdPT"
   },
   "source": [
    "## Setting Up the Environment"
   ]
  },
  {
   "cell_type": "markdown",
   "metadata": {
    "id": "_mGyvjZUicfH"
   },
   "source": [
    "Now we can set up the environment."
   ]
  },
  {
   "cell_type": "code",
   "execution_count": null,
   "metadata": {
    "executionInfo": {
     "elapsed": 4538,
     "status": "ok",
     "timestamp": 1713338358983,
     "user": {
      "displayName": "Thorben M",
      "userId": "02931247254163619517"
     },
     "user_tz": -120
    },
    "id": "d-pakyTthzWc"
   },
   "outputs": [],
   "source": [
    "import modiscolite"
   ]
  },
  {
   "cell_type": "markdown",
   "metadata": {
    "id": "Q5Jfd783n4eM"
   },
   "source": [
    "## Running TF-MoDISco\n",
    "\n",
    "Above, we learned how to interpret a model's representation of a given sequence. However, with tens of thousands of sequences, you don't want to look at each one individually. TF-MoDISco summarizes the model's representation across all sequences."
   ]
  },
  {
   "cell_type": "markdown",
   "metadata": {
    "id": "BAynuD0InmVZ"
   },
   "source": [
    "Now that we have prepared all the arrays for TF-MoDISco, we can run it. The result depends on the parameters you use. Here, we use only a subset of the data for speed."
   ]
  },
  {
   "cell_type": "code",
   "execution_count": null,
   "metadata": {
    "colab": {
     "base_uri": "https://localhost:8080/"
    },
    "executionInfo": {
     "elapsed": 6,
     "status": "ok",
     "timestamp": 1713338358983,
     "user": {
      "displayName": "Thorben M",
      "userId": "02931247254163619517"
     },
     "user_tz": -120
    },
    "id": "X9wB5iI86wh8",
    "outputId": "a5ed2e23-960e-42c5-db97-b0ed3bbd8790"
   },
   "outputs": [],
   "source": [
    "pos_patterns, neg_patterns = modiscolite.tfmodisco.TFMoDISco(\n",
    "    sliding_window_size=8,\n",
    "    flank_size=8,\n",
    "    min_metacluster_size=20,\n",
    "    target_seqlet_fdr=0.1,\n",
    "    hypothetical_contribs=scores_for_modisco,\n",
    "    one_hot=seqs,\n",
    "    max_seqlets_per_metacluster=20000,\n",
    "    trim_to_window_size=10,\n",
    "    n_leiden_runs=2,\n",
    "    initial_flank_to_add=3,\n",
    "    final_min_cluster_size=30,\n",
    "    verbose=True\n",
    ")\n",
    "\n",
    "modiscolite.io.save_hdf5(str(contrib_file[0]) + \".h5\", pos_patterns, neg_patterns, window_size=8)\n",
    "\n",
    "print(pos_patterns)\n",
    "print(neg_patterns)"
   ]
  },
  {
   "cell_type": "markdown",
   "metadata": {
    "id": "Z6VGNP9c0nJo"
   },
   "source": [
    "Finally, we can run the command-line version of TF-MoDISco to generate an HTML report. The example below uses the full dataset. The JASPAR database is used for motif annotation."
   ]
  },
  {
   "cell_type": "code",
   "execution_count": null,
   "metadata": {},
   "outputs": [],
   "source": [
    "!modisco report --help\n"
   ]
  },
  {
   "cell_type": "code",
   "execution_count": null,
   "metadata": {
    "id": "7711gMcqq5xo",
    "vscode": {
     "languageId": "shellscript"
    }
   },
   "outputs": [],
   "source": [
    "%%bash\n",
    "modisco report \\\n",
    "-i 02_data/modisco_hypothetical_contribution_scores_all.npz.h5 \\\n",
    "-o 02_data/tfmodisco_report/ \\\n",
    "-s 02_data/tfmodisco_report/ \\\n",
    "-m 02_data/JASPAR2022_CORE_vertebrates_non-redundant_pfms_meme_nice.txt"
   ]
  },
  {
   "cell_type": "markdown",
   "metadata": {
    "id": "1kjHDedQJFtx"
   },
   "source": [
    "After creating a copy of the file `motifs.html` in the directory above the output folder, we can explore the TF-MoDISco results."
   ]
  },
  {
   "cell_type": "code",
   "execution_count": null,
   "metadata": {
    "colab": {
     "background_save": true
    },
    "id": "l6yC7UojJVc7"
   },
   "outputs": [],
   "source": [
    "# Demo example\n",
    "\n"
   ]
  },
  {
   "cell_type": "code",
   "execution_count": null,
   "metadata": {
    "colab": {
     "background_save": true
    },
    "id": "hL9_oHlEq6Py"
   },
   "outputs": [],
   "source": [
    "!cp 02_data/tfmodisco_report/motifs.html motifs.html\n",
    "from IPython.display import HTML\n",
    "HTML(filename='motifs.html')"
   ]
  },
  {
   "cell_type": "markdown",
   "metadata": {},
   "source": [
    "Finally we show you the TF-Modisco report on the complete sample (not only 10)."
   ]
  },
  {
   "cell_type": "code",
   "execution_count": null,
   "metadata": {},
   "outputs": [],
   "source": [
    "!tar -xzf 02_data/tfmodisco_report_all.tar.gz -C 02_data/\n",
    "!sed -i 's/tfmodisco_report_MPRAultra_all\\//02_data\\/tfmodisco_report_all\\//g' 02_data/tfmodisco_report_all/motifs.html \n",
    "!cp 02_data/tfmodisco_report_all/motifs.html motifs_all.html\n",
    "HTML(filename='motifs_all.html')"
   ]
  }
 ],
 "metadata": {
  "accelerator": "GPU",
  "colab": {
   "collapsed_sections": [
    "p0YXhC0nB2FA",
    "TS9Izo5AB-bJ"
   ],
   "gpuType": "T4",
   "name": "",
   "version": ""
  },
  "kernelspec": {
   "display_name": "jupyter_tf",
   "language": "python",
   "name": "python3"
  },
  "language_info": {
   "codemirror_mode": {
    "name": "ipython",
    "version": 3
   },
   "file_extension": ".py",
   "mimetype": "text/x-python",
   "name": "python",
   "nbconvert_exporter": "python",
   "pygments_lexer": "ipython3",
   "version": "3.10.13"
  }
 },
 "nbformat": 4,
 "nbformat_minor": 0
}
