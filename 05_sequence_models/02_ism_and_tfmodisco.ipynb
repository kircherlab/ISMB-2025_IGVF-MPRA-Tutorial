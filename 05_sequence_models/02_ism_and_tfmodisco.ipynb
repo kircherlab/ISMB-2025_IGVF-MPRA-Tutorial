{
 "cells": [
  {
   "cell_type": "markdown",
   "metadata": {
    "id": "6rNrzoGC-3wl"
   },
   "source": [
    "\n",
    "\n",
    "# in-silico mutagenisis using a tensorflow model and preparation of files for tf modisco-lite\n"
   ]
  },
  {
   "cell_type": "markdown",
   "metadata": {
    "id": "p0YXhC0nB2FA"
   },
   "source": [
    "## Prepare sequences from fa.gz file for DNN model"
   ]
  },
  {
   "cell_type": "markdown",
   "metadata": {
    "id": "9bZ6sx1X4_6F"
   },
   "source": [
    "load libraries"
   ]
  },
  {
   "cell_type": "code",
   "execution_count": 1,
   "metadata": {
    "executionInfo": {
     "elapsed": 7281,
     "status": "ok",
     "timestamp": 1713338214068,
     "user": {
      "displayName": "Thorben M",
      "userId": "02931247254163619517"
     },
     "user_tz": -120
    },
    "id": "kl9spAh75IoU"
   },
   "outputs": [],
   "source": [
    "import matplotlib.pyplot as plt\n",
    "import pandas as pd\n",
    "import numpy as np\n",
    "import sys\n",
    "import os\n",
    "os.environ[\"TF_CPP_MIN_LOG_LEVEL\"]=\"2\" #to supress warnings with loading tf\n",
    "import tensorflow as tf\n",
    "from tensorflow import keras\n",
    "import random\n",
    "import gzip\n",
    "import numpy as np\n",
    "from IPython.display import clear_output"
   ]
  },
  {
   "cell_type": "code",
   "execution_count": 2,
   "metadata": {
    "colab": {
     "base_uri": "https://localhost:8080/"
    },
    "executionInfo": {
     "elapsed": 18292,
     "status": "ok",
     "timestamp": 1713338232350,
     "user": {
      "displayName": "Thorben M",
      "userId": "02931247254163619517"
     },
     "user_tz": -120
    },
    "id": "da0dZjQCh8HL",
    "outputId": "f6b8a075-c644-4142-b548-4a924d96b81f"
   },
   "outputs": [
    {
     "name": "stdout",
     "output_type": "stream",
     "text": [
      "Collecting modisco-lite\n",
      "  Downloading modisco_lite-2.2.0-py3-none-any.whl (33 kB)\n",
      "Requirement already satisfied: numpy>=1.21.5 in /usr/local/lib/python3.10/dist-packages (from modisco-lite) (1.25.2)\n",
      "Requirement already satisfied: scipy>=1.6.2 in /usr/local/lib/python3.10/dist-packages (from modisco-lite) (1.11.4)\n",
      "Requirement already satisfied: numba>=0.53.1 in /usr/local/lib/python3.10/dist-packages (from modisco-lite) (0.58.1)\n",
      "Requirement already satisfied: scikit-learn>=1.0.2 in /usr/local/lib/python3.10/dist-packages (from modisco-lite) (1.2.2)\n",
      "Collecting leidenalg==0.8.10 (from modisco-lite)\n",
      "  Downloading leidenalg-0.8.10-cp310-cp310-manylinux_2_17_x86_64.manylinux2014_x86_64.whl (1.3 MB)\n",
      "\u001b[2K     \u001b[90m━━━━━━━━━━━━━━━━━━━━━━━━━━━━━━━━━━━━━━━━\u001b[0m \u001b[32m1.3/1.3 MB\u001b[0m \u001b[31m6.3 MB/s\u001b[0m eta \u001b[36m0:00:00\u001b[0m\n",
      "\u001b[?25hCollecting igraph==0.9.11 (from modisco-lite)\n",
      "  Downloading igraph-0.9.11-cp310-cp310-manylinux_2_17_x86_64.manylinux2014_x86_64.whl (3.2 MB)\n",
      "\u001b[2K     \u001b[90m━━━━━━━━━━━━━━━━━━━━━━━━━━━━━━━━━━━━━━━━\u001b[0m \u001b[32m3.2/3.2 MB\u001b[0m \u001b[31m11.4 MB/s\u001b[0m eta \u001b[36m0:00:00\u001b[0m\n",
      "\u001b[?25hRequirement already satisfied: tqdm>=4.38.0 in /usr/local/lib/python3.10/dist-packages (from modisco-lite) (4.66.2)\n",
      "Requirement already satisfied: pandas>=1.4.3 in /usr/local/lib/python3.10/dist-packages (from modisco-lite) (2.0.3)\n",
      "Collecting logomaker>=0.8 (from modisco-lite)\n",
      "  Downloading logomaker-0.8-py2.py3-none-any.whl (11.8 MB)\n",
      "\u001b[2K     \u001b[90m━━━━━━━━━━━━━━━━━━━━━━━━━━━━━━━━━━━━━━━━\u001b[0m \u001b[32m11.8/11.8 MB\u001b[0m \u001b[31m21.3 MB/s\u001b[0m eta \u001b[36m0:00:00\u001b[0m\n",
      "\u001b[?25hRequirement already satisfied: h5py>=3.7.0 in /usr/local/lib/python3.10/dist-packages (from modisco-lite) (3.9.0)\n",
      "Collecting hdf5plugin (from modisco-lite)\n",
      "  Downloading hdf5plugin-4.4.0-py3-none-manylinux_2_17_x86_64.manylinux2014_x86_64.whl (41.8 MB)\n",
      "\u001b[2K     \u001b[90m━━━━━━━━━━━━━━━━━━━━━━━━━━━━━━━━━━━━━━━━\u001b[0m \u001b[32m41.8/41.8 MB\u001b[0m \u001b[31m6.5 MB/s\u001b[0m eta \u001b[36m0:00:00\u001b[0m\n",
      "\u001b[?25hCollecting texttable>=1.6.2 (from igraph==0.9.11->modisco-lite)\n",
      "  Downloading texttable-1.7.0-py2.py3-none-any.whl (10 kB)\n",
      "Requirement already satisfied: matplotlib in /usr/local/lib/python3.10/dist-packages (from logomaker>=0.8->modisco-lite) (3.7.1)\n",
      "Requirement already satisfied: llvmlite<0.42,>=0.41.0dev0 in /usr/local/lib/python3.10/dist-packages (from numba>=0.53.1->modisco-lite) (0.41.1)\n",
      "Requirement already satisfied: python-dateutil>=2.8.2 in /usr/local/lib/python3.10/dist-packages (from pandas>=1.4.3->modisco-lite) (2.8.2)\n",
      "Requirement already satisfied: pytz>=2020.1 in /usr/local/lib/python3.10/dist-packages (from pandas>=1.4.3->modisco-lite) (2023.4)\n",
      "Requirement already satisfied: tzdata>=2022.1 in /usr/local/lib/python3.10/dist-packages (from pandas>=1.4.3->modisco-lite) (2024.1)\n",
      "Requirement already satisfied: joblib>=1.1.1 in /usr/local/lib/python3.10/dist-packages (from scikit-learn>=1.0.2->modisco-lite) (1.4.0)\n",
      "Requirement already satisfied: threadpoolctl>=2.0.0 in /usr/local/lib/python3.10/dist-packages (from scikit-learn>=1.0.2->modisco-lite) (3.4.0)\n",
      "Requirement already satisfied: six>=1.5 in /usr/local/lib/python3.10/dist-packages (from python-dateutil>=2.8.2->pandas>=1.4.3->modisco-lite) (1.16.0)\n",
      "Requirement already satisfied: contourpy>=1.0.1 in /usr/local/lib/python3.10/dist-packages (from matplotlib->logomaker>=0.8->modisco-lite) (1.2.1)\n",
      "Requirement already satisfied: cycler>=0.10 in /usr/local/lib/python3.10/dist-packages (from matplotlib->logomaker>=0.8->modisco-lite) (0.12.1)\n",
      "Requirement already satisfied: fonttools>=4.22.0 in /usr/local/lib/python3.10/dist-packages (from matplotlib->logomaker>=0.8->modisco-lite) (4.51.0)\n",
      "Requirement already satisfied: kiwisolver>=1.0.1 in /usr/local/lib/python3.10/dist-packages (from matplotlib->logomaker>=0.8->modisco-lite) (1.4.5)\n",
      "Requirement already satisfied: packaging>=20.0 in /usr/local/lib/python3.10/dist-packages (from matplotlib->logomaker>=0.8->modisco-lite) (24.0)\n",
      "Requirement already satisfied: pillow>=6.2.0 in /usr/local/lib/python3.10/dist-packages (from matplotlib->logomaker>=0.8->modisco-lite) (9.4.0)\n",
      "Requirement already satisfied: pyparsing>=2.3.1 in /usr/local/lib/python3.10/dist-packages (from matplotlib->logomaker>=0.8->modisco-lite) (3.1.2)\n",
      "Installing collected packages: texttable, igraph, leidenalg, hdf5plugin, logomaker, modisco-lite\n",
      "Successfully installed hdf5plugin-4.4.0 igraph-0.9.11 leidenalg-0.8.10 logomaker-0.8 modisco-lite-2.2.0 texttable-1.7.0\n"
     ]
    }
   ],
   "source": [
    "!pip install modisco-lite"
   ]
  },
  {
   "cell_type": "markdown",
   "metadata": {
    "id": "tQVSoWPl5FEL"
   },
   "source": [
    "mount google drive. Make sure that you have generated a link to https://drive.google.com/drive/u/0/folders/17Owr2p24xIUtqbkJuBJ7o15kp88kAHSR in your google drive home folder."
   ]
  },
  {
   "cell_type": "code",
   "execution_count": 3,
   "metadata": {
    "colab": {
     "base_uri": "https://localhost:8080/"
    },
    "executionInfo": {
     "elapsed": 62285,
     "status": "ok",
     "timestamp": 1713338268012,
     "user": {
      "displayName": "Thorben M",
      "userId": "02931247254163619517"
     },
     "user_tz": -120
    },
    "id": "fuxL8Mqz4-GU",
    "outputId": "ee07683a-fcd5-4c07-a0df-34f3243c4634"
   },
   "outputs": [
    {
     "name": "stdout",
     "output_type": "stream",
     "text": [
      "Mounted at /content/drive\n"
     ]
    }
   ],
   "source": [
    "from google.colab import drive\n",
    "drive.mount('/content/drive')\n"
   ]
  },
  {
   "cell_type": "markdown",
   "metadata": {
    "id": "r0ypSJVc5S0N"
   },
   "source": [
    "set seeds to make code reproducible. This is always a good idea if you work with tensorflow"
   ]
  },
  {
   "cell_type": "code",
   "execution_count": 4,
   "metadata": {
    "executionInfo": {
     "elapsed": 5,
     "status": "ok",
     "timestamp": 1713338268012,
     "user": {
      "displayName": "Thorben M",
      "userId": "02931247254163619517"
     },
     "user_tz": -120
    },
    "id": "IUmd6z0W5Y91"
   },
   "outputs": [],
   "source": [
    "random.seed(42)#to make things reproducable, 42 is abitrary\n",
    "np.random.seed(42)#to make things reproducable, 42 is abitrary\n",
    "tf.random.set_seed(42)#to make things reproducable, 42 is abitrary"
   ]
  },
  {
   "cell_type": "markdown",
   "metadata": {
    "id": "k6SgtyEO5lCh"
   },
   "source": [
    "load sequences for that we want to generate contribution maps. Print one example entry. The sequences are in fasta format. Each entry contains two lines. The first line in entry in the output example is the sequence ID, the second one the sequence. Note that we have removed the \">\" from the output printed below."
   ]
  },
  {
   "cell_type": "code",
   "execution_count": 5,
   "metadata": {
    "colab": {
     "base_uri": "https://localhost:8080/"
    },
    "executionInfo": {
     "elapsed": 4940,
     "status": "ok",
     "timestamp": 1713338272948,
     "user": {
      "displayName": "Thorben M",
      "userId": "02931247254163619517"
     },
     "user_tz": -120
    },
    "id": "nneYGocf5vK_",
    "outputId": "82e1527c-62a2-46cb-ef9e-0d55e9fab1c0"
   },
   "outputs": [
    {
     "name": "stdout",
     "output_type": "stream",
     "text": [
      "HepG2_DNasePeakNoPromoter42110\n",
      "AGGACCGGATCAACTTTTGGGAGAAAGAGGGTGTGAAGAGATGGCTCTGCGTCCTAAGCGAAGGTAAGCAACCTCATGAACATGGCTCTGGACGCTGGAGGCCCTGGTCCCTGGACTTTGGGCTTGGAAGCAAAGGCCACTGACTGTTTCTCTATCACTCTGAGAAGCTCCATTGTGCCTGGGCCTCTTAGATGATTATTTTATAAACTATGGATCATTGCGTGAACCGA\n",
      "\n"
     ]
    }
   ],
   "source": [
    "# define file\n",
    "seq_file=\"/content/drive/MyDrive/MPRA-IGVF-Workshop-2024/Tutorials/T3_MPRA_modeling_interpretation/data/ultra_joint.fa.gz\"\n",
    "\n",
    "# load sequence data from file\n",
    "sequence_file=gzip.open(seq_file, \"rt\")\n",
    "sequence_entries=sequence_file.read().split(\">\")\n",
    "sequence_file.close()\n",
    "\n",
    "print (sequence_entries[3])"
   ]
  },
  {
   "cell_type": "markdown",
   "metadata": {
    "id": "o9HNZStP63_H"
   },
   "source": [
    "write IDs and sequences into a python list"
   ]
  },
  {
   "cell_type": "code",
   "execution_count": 6,
   "metadata": {
    "colab": {
     "base_uri": "https://localhost:8080/"
    },
    "executionInfo": {
     "elapsed": 497,
     "status": "ok",
     "timestamp": 1713338273443,
     "user": {
      "displayName": "Thorben M",
      "userId": "02931247254163619517"
     },
     "user_tz": -120
    },
    "id": "pgmuF3qE68Xf",
    "outputId": "e87adc5f-d1cb-4c33-91e3-bdad721daa57"
   },
   "outputs": [
    {
     "name": "stdout",
     "output_type": "stream",
     "text": [
      "ID list entry example: HepG2_DNasePeakNoPromoter42110\n",
      "sequence list entry example: AGGACCGGATCAACTTTTGGGAGAAAGAGGGTGTGAAGAGATGGCTCTGCGTCCTAAGCGAAGGTAAGCAACCTCATGAACATGGCTCTGGACGCTGGAGGCCCTGGTCCCTGGACTTTGGGCTTGGAAGCAAAGGCCACTGACTGTTTCTCTATCACTCTGAGAAGCTCCATTGTGCCTGGGCCTCTTAGATGATTATTTTATAAACTATGGATCATTGCGTGAACCGA\n"
     ]
    }
   ],
   "source": [
    "# initialize python list\n",
    "sequence_ids=[]\n",
    "sequences=[]\n",
    "\n",
    "#extract IDs and sequences\n",
    "for i in range (1, len(sequence_entries), 1): # 1 instead of 0 as first field is empty due to \">\" seperator\n",
    "    # checking sequences and removing sequences with some unswanted characters (such as \"R\" and \"Y\". The represent bases where we ,e.g., don't know whether its an \"A\" or \"T\" due to technical problems with the data).\n",
    "    if \"\\n\" not in sequence_entries[i]:\n",
    "        print(sequence_entries[i])\n",
    "        raise ValueError(\"entries no /\\n between id and sequence but expected\")\n",
    "        break\n",
    "    if \"Y\" in sequence_entries[i].split(\"\\n\")[1] or \"R\" in sequence_entries[i].split(\"\\n\")[1]:\n",
    "        continue\n",
    "    # adding sequences and IDs to lists\n",
    "    else:\n",
    "        sequence_ids.append(sequence_entries[i].split(\"\\n\")[0])\n",
    "        sequences.append(sequence_entries[i].split(\"\\n\")[1])\n",
    "\n",
    "# show example entries for both lists\n",
    "print (\"ID list entry example:\", sequence_ids[2])\n",
    "print (\"sequence list entry example:\", sequences[2])\n"
   ]
  },
  {
   "cell_type": "markdown",
   "metadata": {
    "id": "8066E6LD8sxs"
   },
   "source": [
    "In order to pass the sequences to our model, we have to \"one hot encode\" them. The meaning of this will (hopefully) become more clear in an example which will be shown below. For now, we will load the necessary function."
   ]
  },
  {
   "cell_type": "code",
   "execution_count": 7,
   "metadata": {
    "executionInfo": {
     "elapsed": 2,
     "status": "ok",
     "timestamp": 1713338273443,
     "user": {
      "displayName": "Thorben M",
      "userId": "02931247254163619517"
     },
     "user_tz": -120
    },
    "id": "cA2jh_Ji9Qkv"
   },
   "outputs": [],
   "source": [
    "def one_hot_encode(seq): #taken from the DeepSTARR colab ;-)\n",
    "    nucleotide_dict = {'A': [1, 0, 0, 0],\n",
    "                   'C': [0, 1, 0, 0],\n",
    "                   'G': [0, 0, 1, 0],\n",
    "                   'T': [0, 0, 0, 1],\n",
    "                   'N': [0, 0, 0, 0]} # sometimes there are Ns\n",
    "    return np.array([nucleotide_dict[nuc] for nuc in seq])\n"
   ]
  },
  {
   "cell_type": "markdown",
   "metadata": {
    "id": "Lnu6NSfh9WwX"
   },
   "source": [
    "...and apply it to our sequences. The result will be written into another python list. The output shall demostrate how one hot encoding looks like"
   ]
  },
  {
   "cell_type": "code",
   "execution_count": 8,
   "metadata": {
    "colab": {
     "base_uri": "https://localhost:8080/"
    },
    "executionInfo": {
     "elapsed": 14963,
     "status": "ok",
     "timestamp": 1713338288404,
     "user": {
      "displayName": "Thorben M",
      "userId": "02931247254163619517"
     },
     "user_tz": -120
    },
    "id": "L4WAo_GG9eTJ",
    "outputId": "396a36fd-85ca-4c0c-d795-6996b2a4aa0c"
   },
   "outputs": [
    {
     "name": "stdout",
     "output_type": "stream",
     "text": [
      "sequence list entry example (only first 5 bases): \n",
      " AGGAC\n",
      "sequence list entry example  one hot encoded (only first 5 bases): \n",
      " [[1 0 0 0]\n",
      " [0 0 1 0]\n",
      " [0 0 1 0]\n",
      " [1 0 0 0]\n",
      " [0 1 0 0]]\n"
     ]
    }
   ],
   "source": [
    "# initialize list\n",
    "sequences_tok=[]\n",
    "\n",
    "# apply one hot encoding to our sequences\n",
    "for i in range (0, len(sequences), 1):\n",
    "    sequences_tok.append(one_hot_encode(sequences[i]))\n",
    "\n",
    "# print an example\n",
    "print (\"sequence list entry example (only first 5 bases): \\n\", sequences[2][0:5])\n",
    "print (\"sequence list entry example  one hot encoded (only first 5 bases): \\n\", sequences_tok[2][0:5])"
   ]
  },
  {
   "cell_type": "markdown",
   "metadata": {
    "id": "8RfelHnF-hmv"
   },
   "source": [
    "Now we want to convert the lists into a \"pandas datafarme\". You can think of a pandas dataframe as as .tsv or .csv file. we will need that to remove duplicates. This is always a good idea, especially if someone else has provided the data to you. ..and we will print the dataframe."
   ]
  },
  {
   "cell_type": "code",
   "execution_count": 9,
   "metadata": {
    "colab": {
     "base_uri": "https://localhost:8080/"
    },
    "executionInfo": {
     "elapsed": 480,
     "status": "ok",
     "timestamp": 1713338288881,
     "user": {
      "displayName": "Thorben M",
      "userId": "02931247254163619517"
     },
     "user_tz": -120
    },
    "id": "A1M1n2ti-3nq",
    "outputId": "39460463-0309-431a-b773-ba867090f148"
   },
   "outputs": [
    {
     "name": "stdout",
     "output_type": "stream",
     "text": [
      "The ID column of the dataframe: \n",
      " 0        HepG2_DNasePeakNoPromoter38956\n",
      "1        HepG2_DNasePeakNoPromoter53608\n",
      "2        HepG2_DNasePeakNoPromoter42110\n",
      "3        HepG2_DNasePeakNoPromoter24309\n",
      "4        HepG2_DNasePeakNoPromoter46096\n",
      "                      ...              \n",
      "59995                   ENSG00000137409\n",
      "59996                   ENSG00000187601\n",
      "59997                   ENSG00000175216\n",
      "59998                   ENSG00000100865\n",
      "59999                   ENSG00000170889\n",
      "Name: ID, Length: 60000, dtype: object\n",
      "\n",
      "\n",
      "The orignial sequence column of the dataframe: \n",
      " 0        AGGACCGGATCAACTATCAATTACACCACTGGAGGCTCCTGGCTGC...\n",
      "1        AGGACCGGATCAACTCCTTGGCAGGCTTGCCCATGACGAATCCCCG...\n",
      "2        AGGACCGGATCAACTTTTGGGAGAAAGAGGGTGTGAAGAGATGGCT...\n",
      "3        AGGACCGGATCAACTTTCTCCCTGCCCTTCCCTCAAAGTGTCAGTC...\n",
      "4        AGGACCGGATCAACTGGGGCCCTTGGGAACTCCATGCCCTGACTAT...\n",
      "                               ...                        \n",
      "59995    AGGACCGGATCAACTCGGGGAGCCACATCCGGCGTGTCCCACCCGC...\n",
      "59996    AGGACCGGATCAACTGCCCCTCCAATCTCTAGCTGTCATTTCTGCC...\n",
      "59997    AGGACCGGATCAACTGCGGCGTCTGGTCCAGAGGGAAACACGGCTG...\n",
      "59998    AGGACCGGATCAACTGGCTGCCGGGAGCCTGTTCCCTGGGCAACGG...\n",
      "59999    AGGACCGGATCAACTGTTCTCCCTACTTCTCAGGTTTCCACTCCCT...\n",
      "Name: seq_org, Length: 60000, dtype: object\n",
      "\n",
      "\n",
      "The one hot encoded sequence column of the dataframe: \n",
      " 0        [[1, 0, 0, 0], [0, 0, 1, 0], [0, 0, 1, 0], [1,...\n",
      "1        [[1, 0, 0, 0], [0, 0, 1, 0], [0, 0, 1, 0], [1,...\n",
      "2        [[1, 0, 0, 0], [0, 0, 1, 0], [0, 0, 1, 0], [1,...\n",
      "3        [[1, 0, 0, 0], [0, 0, 1, 0], [0, 0, 1, 0], [1,...\n",
      "4        [[1, 0, 0, 0], [0, 0, 1, 0], [0, 0, 1, 0], [1,...\n",
      "                               ...                        \n",
      "59995    [[1, 0, 0, 0], [0, 0, 1, 0], [0, 0, 1, 0], [1,...\n",
      "59996    [[1, 0, 0, 0], [0, 0, 1, 0], [0, 0, 1, 0], [1,...\n",
      "59997    [[1, 0, 0, 0], [0, 0, 1, 0], [0, 0, 1, 0], [1,...\n",
      "59998    [[1, 0, 0, 0], [0, 0, 1, 0], [0, 0, 1, 0], [1,...\n",
      "59999    [[1, 0, 0, 0], [0, 0, 1, 0], [0, 0, 1, 0], [1,...\n",
      "Name: seq, Length: 60000, dtype: object\n"
     ]
    }
   ],
   "source": [
    "# convert to pandas df\n",
    "df_IDs_seq=pd.DataFrame({\"ID\":sequence_ids, \"seq\":sequences_tok, \"seq_org\": sequences })\n",
    "\n",
    "# drop IDs that occur more than once\n",
    "df_IDs_seq=df_IDs_seq.drop_duplicates(subset=\"ID\")\n",
    "\n",
    "\n",
    "print (\"The ID column of the dataframe: \\n\", df_IDs_seq[\"ID\"])\n",
    "print (\"\\n\")\n",
    "print (\"The orignial sequence column of the dataframe: \\n\", df_IDs_seq[\"seq_org\"])\n",
    "print (\"\\n\")\n",
    "print (\"The one hot encoded sequence column of the dataframe: \\n\", df_IDs_seq[\"seq\"])\n"
   ]
  },
  {
   "cell_type": "markdown",
   "metadata": {
    "id": "zrG16YbRBXhC"
   },
   "source": [
    "Now we will convert the one hot encoded sequnces to tensorflow tensors that can be fed into our pre-trained model."
   ]
  },
  {
   "cell_type": "code",
   "execution_count": 10,
   "metadata": {
    "executionInfo": {
     "elapsed": 25082,
     "status": "ok",
     "timestamp": 1713338313961,
     "user": {
      "displayName": "Thorben M",
      "userId": "02931247254163619517"
     },
     "user_tz": -120
    },
    "id": "cF4iLP0r2Du_"
   },
   "outputs": [],
   "source": [
    "input_seq_all=tf.convert_to_tensor(df_IDs_seq[\"seq\"].to_list())"
   ]
  },
  {
   "cell_type": "markdown",
   "metadata": {
    "id": "TS9Izo5AB-bJ"
   },
   "source": [
    "## Load model"
   ]
  },
  {
   "cell_type": "markdown",
   "metadata": {
    "id": "-bEE3OY4CH8n"
   },
   "source": [
    ".... and load our pretrained model. In this case we use the MPRAnn architecture trained on sequences and experimental MPRA activity presented in the MPRAultra study (K562 data set). Note that this is not the model they used in the original paper, but re-trained without accounting for the adaptors. Note that the model should have a good performance on your data and that the sequence length must be the one the model was trained on. If you have shorter sequences, you can pad them with some Ns. Longer sequences would need trimming"
   ]
  },
  {
   "cell_type": "code",
   "execution_count": 11,
   "metadata": {
    "executionInfo": {
     "elapsed": 13952,
     "status": "ok",
     "timestamp": 1713338327911,
     "user": {
      "displayName": "Thorben M",
      "userId": "02931247254163619517"
     },
     "user_tz": -120
    },
    "id": "n50JFv6TCKAf"
   },
   "outputs": [],
   "source": [
    "model=keras.models.load_model(\"/content/drive/MyDrive/MPRA-IGVF-Workshop-2024/Tutorials/T3_MPRA_modeling_interpretation/data/MPRAnn\")"
   ]
  },
  {
   "cell_type": "markdown",
   "metadata": {
    "id": "rBsZwd45zy0v"
   },
   "source": [
    "## Model interpretation using attriution maps and tf modisco"
   ]
  },
  {
   "cell_type": "markdown",
   "metadata": {
    "id": "n3ETW_mS20L4"
   },
   "source": [
    "### sequences"
   ]
  },
  {
   "cell_type": "markdown",
   "metadata": {
    "id": "XyZ-VagDDsQq"
   },
   "source": [
    "Now we will initialize numpy arrays in that we will write the attribution maps of the sequences based on our pre-trained model as well as the one hot encoded sequences. Both is an required input for tfmodisco, which we will use in a subsequent step. Note that in this notebook, we only iterate over the first few sequences to make the calculation tome feasible for the workshop. A full list of Sequences and contribution scores can be found in the `/content/drive/MyDrive/MPRA-IGVF-Workshop-2024/Tutorials/T3_MPRA_modeling_interpretation/data` folder (file names end with \"_all\") we start with the sequences:"
   ]
  },
  {
   "cell_type": "markdown",
   "metadata": {
    "id": "BuxKnF83Dn4b"
   },
   "source": [
    "## Sequences for tfmodisco"
   ]
  },
  {
   "cell_type": "code",
   "execution_count": 12,
   "metadata": {
    "executionInfo": {
     "elapsed": 2545,
     "status": "ok",
     "timestamp": 1713338330446,
     "user": {
      "displayName": "Thorben M",
      "userId": "02931247254163619517"
     },
     "user_tz": -120
    },
    "id": "2IvOq7L8D66D"
   },
   "outputs": [],
   "source": [
    "# define parameters dimensionality of array\n",
    "numberOfSeqs=np.asarray(input_seq_all).shape[0] //20000 #Note that for the matter of time in this example we iterate only over 3 sequences.\n",
    "seq_length=np.asarray(input_seq_all).shape[1]\n",
    "\n",
    "# initialize numpy arrays with hot-hot-encoded sequences as booleans for tfmodisco\n",
    "seqs_tfmodisco_format=np.zeros([numberOfSeqs, seq_length, 4])\n",
    "for i in range (0, numberOfSeqs, 1):\n",
    "    for j in range (0, seq_length, 1):\n",
    "        for k in range (0, 4, 1):\n",
    "            if input_seq_all[i,j,k]==1:\n",
    "                seqs_tfmodisco_format[i, j, k]=True\n",
    "            else:\n",
    "                seqs_tfmodisco_format[i, j, k]=False\n",
    "\n",
    "#save sequences as npz file\n",
    "#np.savez('/content/drive/MyDrive/MPRA-IGVF-Workshop-2024/Tutorials/T3_MPRA_modeling_interpretation/data/Sequences.npz', seqs_tfmodisco_format)\n"
   ]
  },
  {
   "cell_type": "markdown",
   "metadata": {
    "id": "V8l95_rJl43_"
   },
   "source": [
    "We now load the one hot encoded sequences and look at them. As you will see, the array has the same shape as the contribution score array. Note that \"True\" and \"False\" one hot encode the original sequences. The data type is \"bool\"."
   ]
  },
  {
   "cell_type": "code",
   "execution_count": 13,
   "metadata": {
    "colab": {
     "base_uri": "https://localhost:8080/"
    },
    "executionInfo": {
     "elapsed": 1286,
     "status": "ok",
     "timestamp": 1713338331729,
     "user": {
      "displayName": "Thorben M",
      "userId": "02931247254163619517"
     },
     "user_tz": -120
    },
    "id": "0Sff2B-5mc4B",
    "outputId": "a6984356-6b92-48c6-ee02-d05a9fc34b48"
   },
   "outputs": [
    {
     "name": "stdout",
     "output_type": "stream",
     "text": [
      "[[ True False False False]\n",
      " [False False  True False]\n",
      " [False False  True False]\n",
      " [ True False False False]\n",
      " [False  True False False]\n",
      " [False  True False False]\n",
      " [False False  True False]\n",
      " [False False  True False]\n",
      " [ True False False False]\n",
      " [False False False  True]\n",
      " [False  True False False]\n",
      " [ True False False False]\n",
      " [ True False False False]\n",
      " [False  True False False]\n",
      " [False False False  True]\n",
      " [False False False  True]\n",
      " [False False False  True]\n",
      " [False False False  True]\n",
      " [False False  True False]\n",
      " [False False  True False]\n",
      " [False False  True False]\n",
      " [ True False False False]\n",
      " [False False  True False]\n",
      " [ True False False False]\n",
      " [ True False False False]\n",
      " [ True False False False]\n",
      " [False False  True False]\n",
      " [ True False False False]\n",
      " [False False  True False]\n",
      " [False False  True False]\n",
      " [False False  True False]\n",
      " [False False False  True]\n",
      " [False False  True False]\n",
      " [False False False  True]\n",
      " [False False  True False]\n",
      " [ True False False False]\n",
      " [ True False False False]\n",
      " [False False  True False]\n",
      " [ True False False False]\n",
      " [False False  True False]\n",
      " [ True False False False]\n",
      " [False False False  True]\n",
      " [False False  True False]\n",
      " [False False  True False]\n",
      " [False  True False False]\n",
      " [False False False  True]\n",
      " [False  True False False]\n",
      " [False False False  True]\n",
      " [False False  True False]\n",
      " [False  True False False]\n",
      " [False False  True False]\n",
      " [False False False  True]\n",
      " [False  True False False]\n",
      " [False  True False False]\n",
      " [False False False  True]\n",
      " [ True False False False]\n",
      " [ True False False False]\n",
      " [False False  True False]\n",
      " [False  True False False]\n",
      " [False False  True False]\n",
      " [ True False False False]\n",
      " [ True False False False]\n",
      " [False False  True False]\n",
      " [False False  True False]\n",
      " [False False False  True]\n",
      " [ True False False False]\n",
      " [ True False False False]\n",
      " [False False  True False]\n",
      " [False  True False False]\n",
      " [ True False False False]\n",
      " [ True False False False]\n",
      " [False  True False False]\n",
      " [False  True False False]\n",
      " [False False False  True]\n",
      " [False  True False False]\n",
      " [ True False False False]\n",
      " [False False False  True]\n",
      " [False False  True False]\n",
      " [ True False False False]\n",
      " [ True False False False]\n",
      " [False  True False False]\n",
      " [ True False False False]\n",
      " [False False False  True]\n",
      " [False False  True False]\n",
      " [False False  True False]\n",
      " [False  True False False]\n",
      " [False False False  True]\n",
      " [False  True False False]\n",
      " [False False False  True]\n",
      " [False False  True False]\n",
      " [False False  True False]\n",
      " [ True False False False]\n",
      " [False  True False False]\n",
      " [False False  True False]\n",
      " [False  True False False]\n",
      " [False False False  True]\n",
      " [False False  True False]\n",
      " [False False  True False]\n",
      " [ True False False False]\n",
      " [False False  True False]\n",
      " [False False  True False]\n",
      " [False  True False False]\n",
      " [False  True False False]\n",
      " [False  True False False]\n",
      " [False False False  True]\n",
      " [False False  True False]\n",
      " [False False  True False]\n",
      " [False False False  True]\n",
      " [False  True False False]\n",
      " [False  True False False]\n",
      " [False  True False False]\n",
      " [False False False  True]\n",
      " [False False  True False]\n",
      " [False False  True False]\n",
      " [ True False False False]\n",
      " [False  True False False]\n",
      " [False False False  True]\n",
      " [False False False  True]\n",
      " [False False False  True]\n",
      " [False False  True False]\n",
      " [False False  True False]\n",
      " [False False  True False]\n",
      " [False  True False False]\n",
      " [False False False  True]\n",
      " [False False False  True]\n",
      " [False False  True False]\n",
      " [False False  True False]\n",
      " [ True False False False]\n",
      " [ True False False False]\n",
      " [False False  True False]\n",
      " [False  True False False]\n",
      " [ True False False False]\n",
      " [ True False False False]\n",
      " [ True False False False]\n",
      " [False False  True False]\n",
      " [False False  True False]\n",
      " [False  True False False]\n",
      " [False  True False False]\n",
      " [ True False False False]\n",
      " [False  True False False]\n",
      " [False False False  True]\n",
      " [False False  True False]\n",
      " [ True False False False]\n",
      " [False  True False False]\n",
      " [False False False  True]\n",
      " [False False  True False]\n",
      " [False False False  True]\n",
      " [False False False  True]\n",
      " [False False False  True]\n",
      " [False  True False False]\n",
      " [False False False  True]\n",
      " [False  True False False]\n",
      " [False False False  True]\n",
      " [ True False False False]\n",
      " [False False False  True]\n",
      " [False  True False False]\n",
      " [ True False False False]\n",
      " [False  True False False]\n",
      " [False False False  True]\n",
      " [False  True False False]\n",
      " [False False False  True]\n",
      " [False False  True False]\n",
      " [ True False False False]\n",
      " [False False  True False]\n",
      " [ True False False False]\n",
      " [ True False False False]\n",
      " [False False  True False]\n",
      " [False  True False False]\n",
      " [False False False  True]\n",
      " [False  True False False]\n",
      " [False  True False False]\n",
      " [ True False False False]\n",
      " [False False False  True]\n",
      " [False False False  True]\n",
      " [False False  True False]\n",
      " [False False False  True]\n",
      " [False False  True False]\n",
      " [False  True False False]\n",
      " [False  True False False]\n",
      " [False False False  True]\n",
      " [False False  True False]\n",
      " [False False  True False]\n",
      " [False False  True False]\n",
      " [False  True False False]\n",
      " [False  True False False]\n",
      " [False False False  True]\n",
      " [False  True False False]\n",
      " [False False False  True]\n",
      " [False False False  True]\n",
      " [ True False False False]\n",
      " [False False  True False]\n",
      " [ True False False False]\n",
      " [False False False  True]\n",
      " [False False  True False]\n",
      " [ True False False False]\n",
      " [False False False  True]\n",
      " [False False False  True]\n",
      " [ True False False False]\n",
      " [False False False  True]\n",
      " [False False False  True]\n",
      " [False False False  True]\n",
      " [False False False  True]\n",
      " [ True False False False]\n",
      " [False False False  True]\n",
      " [ True False False False]\n",
      " [ True False False False]\n",
      " [ True False False False]\n",
      " [False  True False False]\n",
      " [False False False  True]\n",
      " [ True False False False]\n",
      " [False False False  True]\n",
      " [False False  True False]\n",
      " [False False  True False]\n",
      " [ True False False False]\n",
      " [False False False  True]\n",
      " [False  True False False]\n",
      " [ True False False False]\n",
      " [False False False  True]\n",
      " [False False False  True]\n",
      " [False False  True False]\n",
      " [False  True False False]\n",
      " [False False  True False]\n",
      " [False False False  True]\n",
      " [False False  True False]\n",
      " [ True False False False]\n",
      " [ True False False False]\n",
      " [False  True False False]\n",
      " [False  True False False]\n",
      " [False False  True False]\n",
      " [ True False False False]]\n",
      "(6, 230, 4)\n",
      "bool\n"
     ]
    }
   ],
   "source": [
    "\n",
    "# load file\n",
    "seq_file=\"/content/drive/MyDrive/MPRA-IGVF-Workshop-2024/Tutorials/T3_MPRA_modeling_interpretation/data/Sequences.npz\"\n",
    "seqs = np.load(str(seq_file)) #\"Sequences.npz\"\n",
    "# write seqs in numpy array\n",
    "seqs= seqs.f.arr_0\n",
    "seqs=seqs.astype('bool')\n",
    "\n",
    "# print\n",
    "print(seqs[2])\n",
    "print(seqs.shape)\n",
    "print(seqs.dtype)\n"
   ]
  },
  {
   "cell_type": "markdown",
   "metadata": {
    "id": "JBC0Eyfx24Ha"
   },
   "source": [
    "### attribution scores"
   ]
  },
  {
   "cell_type": "markdown",
   "metadata": {
    "id": "gzvBEf_-E5KD"
   },
   "source": [
    "...and we continue with the attribution (or contribution) scores (ism part). The idea is that, for each sequence, we create all possible sequences that can result form a SNV in this sequence plus the original sequence. We will predict the MPRA activity of all these sequences using our model."
   ]
  },
  {
   "cell_type": "code",
   "execution_count": 14,
   "metadata": {
    "colab": {
     "base_uri": "https://localhost:8080/"
    },
    "executionInfo": {
     "elapsed": 6607,
     "status": "ok",
     "timestamp": 1713338338331,
     "user": {
      "displayName": "Thorben M",
      "userId": "02931247254163619517"
     },
     "user_tz": -120
    },
    "id": "lTqAM0NG6onF",
    "outputId": "0b9a40a2-4a4b-47a1-f4fc-012272f8715d"
   },
   "outputs": [
    {
     "name": "stdout",
     "output_type": "stream",
     "text": [
      "1 of 3\n",
      "2 of 3\n",
      "3 of 3\n"
     ]
    }
   ],
   "source": [
    "# initialize arrays with hypothetical importance scores for tfmodisco\n",
    "hypothetical_contribution_scores=np.zeros([numberOfSeqs, seq_length, 4])\n",
    "\n",
    "# fill arrays with hypothetical importance scores for tfmodisco\n",
    "for i in range (0, numberOfSeqs, 1):#iterate over numberOfSeqs (all sequences). Note that for the matter of time in this example we iterate only over 1% of the sequences.\n",
    "    print(str(i+1)+\" of \" +str(numberOfSeqs)) #this shows the progress\n",
    "    listOfMutSeqs=[] #initialize list of possible sequences per sequence for that we want to calculate contribution maps\n",
    "    for j in range (0, seq_length, 1):#iterate over seq_length (bases in one particular sequence)\n",
    "        temp_seq=input_seq_all[i].numpy() # initialize temp_seq per pos. convert to numpy as tf tensors are not changable\n",
    "        for k in range (0, 4, 1):# set all positions to at a particular base to \"0\"\n",
    "            if temp_seq[j,k]==1:\n",
    "                temp_seq[j,k]=0\n",
    "\n",
    "        # systematically fill positions with \"1\" to generate all possible SNV at a certain base positiopn in the sequence\n",
    "        for k in range (0, 4, 1):#systematically fill positions with \"1\"\n",
    "            temp_seq[j,k]=1\n",
    "            listOfMutSeqs.append(tf.convert_to_tensor(temp_seq)) # write sequence to list\n",
    "            temp_seq[j,k]=0 # base back to \"0\"\n",
    "\n",
    "    # parse all possible SNV sequences for each particular sequence to preloaded model and calculate predictions\n",
    "    tensorOfMutSeqs=tf.convert_to_tensor(listOfMutSeqs) # convert numpy array back to tensor\n",
    "    predictions_alt=model.predict(tensorOfMutSeqs, batch_size=256, verbose=0)\n",
    "\n",
    "    # fill arrays with hypothetical importance scores for tfmodisco\n",
    "    for j in range (0, seq_length, 1):\n",
    "        for k in range (0, 4, 1):\n",
    "            hypothetical_contribution_scores[ i, j ,k] = predictions_alt[j*4+k,0]\n",
    "\n",
    "\n",
    "#save contribution scores as npz files\n",
    "#np.savez(\"/content/drive/MyDrive/MPRA-IGVF-Workshop-2024/Tutorials/T3_MPRA_modeling_interpretation/data/hypothetical_contribution_scores.npz\", hypothetical_contribution_scores)\n",
    "\n",
    "\n",
    "\n"
   ]
  },
  {
   "cell_type": "markdown",
   "metadata": {
    "id": "tnYH6NkuDjrM"
   },
   "source": [
    "## attribution maps"
   ]
  },
  {
   "cell_type": "markdown",
   "metadata": {
    "id": "n2DyI7sAiiMX"
   },
   "source": [
    "This part shall introduce you a bit on attribution maps.\n",
    "First we load the file with the contribution scores generated above."
   ]
  },
  {
   "cell_type": "markdown",
   "metadata": {
    "id": "QKYzPY_phWc-"
   },
   "source": [
    "### attribution maps in general\n",
    "\n",
    "Attribution maps highlight bases or motifs that are important for the model's prediction of a given sequence. One can plot them and they are in a way a models representation of a given sequence.\n",
    "\n",
    "\n",
    "Let's first look at the contribution scores as calculated above:\n",
    "\n"
   ]
  },
  {
   "cell_type": "code",
   "execution_count": 15,
   "metadata": {
    "colab": {
     "base_uri": "https://localhost:8080/"
    },
    "executionInfo": {
     "elapsed": 10,
     "status": "ok",
     "timestamp": 1713338338331,
     "user": {
      "displayName": "Thorben M",
      "userId": "02931247254163619517"
     },
     "user_tz": -120
    },
    "id": "ZWUMzkmoisgZ",
    "outputId": "46b659b1-a1fa-4f29-92b7-f5d632d837aa"
   },
   "outputs": [
    {
     "name": "stdout",
     "output_type": "stream",
     "text": [
      "[[-0.24107298 -0.24110244 -0.24042866 -0.2411188 ]\n",
      " [-0.24034755 -0.24100192 -0.24107298 -0.24070983]\n",
      " [-0.24126814 -0.24061187 -0.24107298 -0.24338542]\n",
      " [-0.24107298 -0.24044576 -0.23848332 -0.24040107]\n",
      " [-0.24031645 -0.24107298 -0.24375363 -0.24175696]\n",
      " [-0.24628358 -0.24107298 -0.24096994 -0.24773122]\n",
      " [-0.2443887  -0.24220432 -0.24107298 -0.24230263]\n",
      " [-0.24070801 -0.2505126  -0.24107298 -0.24323006]\n",
      " [-0.24107298 -0.24145962 -0.2291669  -0.23497154]\n",
      " [-0.23795666 -0.22208205 -0.24384208 -0.24107298]\n",
      " [-0.23866744 -0.24107298 -0.2552422  -0.24084844]\n",
      " [-0.24107298 -0.24579544 -0.25985435 -0.26228717]\n",
      " [-0.24107298 -0.28741238 -0.26371786 -0.2690257 ]\n",
      " [-0.27880633 -0.24107298 -0.2683186  -0.2603705 ]\n",
      " [-0.2882386  -0.27924967 -0.27581364 -0.24107298]\n",
      " [-0.28850526 -0.29026937 -0.26534683 -0.24107298]\n",
      " [-0.28493068 -0.26572996 -0.27416775 -0.24107298]\n",
      " [-0.30579594 -0.2753532  -0.31020138 -0.24107298]\n",
      " [-0.24505763 -0.28694883 -0.24107298 -0.27581045]\n",
      " [-0.26150388 -0.2932699  -0.24107298 -0.2839701 ]\n",
      " [-0.2528886  -0.273712   -0.24107298 -0.23107912]\n",
      " [-0.24107298 -0.27325127 -0.28612447 -0.26223037]\n",
      " [-0.2560595  -0.25758177 -0.24107298 -0.29772753]\n",
      " [-0.24107298 -0.2946415  -0.21569066 -0.2875478 ]\n",
      " [-0.24107298 -0.24705248 -0.2665491  -0.24758928]\n",
      " [-0.24107298 -0.24107295 -0.30123022 -0.27626815]\n",
      " [-0.26945493 -0.27409592 -0.24107298 -0.28151286]\n",
      " [-0.24107298 -0.261594   -0.2843628  -0.29879472]\n",
      " [-0.28928313 -0.2715584  -0.24107298 -0.2006657 ]\n",
      " [-0.2748596  -0.2629986  -0.24107298 -0.28428397]\n",
      " [-0.27884436 -0.2892527  -0.24107298 -0.2718145 ]\n",
      " [-0.2863791  -0.27312997 -0.26568928 -0.24107298]\n",
      " [-0.2761418  -0.25098523 -0.24107298 -0.2199084 ]\n",
      " [-0.2471488  -0.23463465 -0.26506808 -0.24107298]\n",
      " [-0.25574958 -0.2440119  -0.24107298 -0.23798582]\n",
      " [-0.24107298 -0.24816696 -0.25558397 -0.1837634 ]\n",
      " [-0.24107298 -0.27929932 -0.2508699  -0.2761204 ]\n",
      " [-0.18023808 -0.2590439  -0.24107298 -0.24017201]\n",
      " [-0.24107298 -0.3060281  -0.29839903 -0.27302173]\n",
      " [-0.19526488 -0.23864405 -0.24107298 -0.21677974]\n",
      " [-0.24107298 -0.2494481  -0.2573763  -0.23611401]\n",
      " [-0.25931516 -0.2528317  -0.29206663 -0.24107298]\n",
      " [-0.28893113 -0.29990295 -0.24107298 -0.2615101 ]\n",
      " [-0.19095887 -0.23907818 -0.24107298 -0.2565302 ]\n",
      " [-0.2685419  -0.24107298 -0.20556729 -0.224054  ]\n",
      " [-0.174279   -0.23292507 -0.24214666 -0.24107298]\n",
      " [-0.25770652 -0.24107298 -0.24706133 -0.26504856]\n",
      " [-0.2682284  -0.24330015 -0.24237454 -0.24107298]\n",
      " [-0.24500585 -0.20472349 -0.24107298 -0.23122172]\n",
      " [-0.25451493 -0.24107298 -0.2686329  -0.23467268]\n",
      " [-0.26117465 -0.24130274 -0.24107298 -0.2671443 ]\n",
      " [-0.27265957 -0.27989915 -0.27046987 -0.24107298]\n",
      " [-0.19559585 -0.24107298 -0.20234053 -0.24064305]\n",
      " [-0.12545277 -0.24107298 -0.21225442 -0.24777862]\n",
      " [-0.24980359 -0.28271046 -0.24660514 -0.24107298]\n",
      " [-0.24107298 -0.25767115 -0.2872387  -0.23995031]\n",
      " [-0.24107298 -0.2368403  -0.24364302 -0.22527282]\n",
      " [-0.2742475  -0.1831773  -0.24107298 -0.24870001]\n",
      " [-0.2541781  -0.24107298 -0.2388209  -0.23680796]\n",
      " [-0.27794003 -0.2605716  -0.24107298 -0.24215858]\n",
      " [-0.24107298 -0.25176612 -0.250084   -0.24472839]\n",
      " [-0.24107298 -0.2730452  -0.25141528 -0.28334972]\n",
      " [-0.26655242 -0.25220057 -0.24107298 -0.2754954 ]\n",
      " [-0.18662854 -0.2390906  -0.24107298 -0.23900396]\n",
      " [-0.23790868 -0.3048394  -0.21846865 -0.24107298]\n",
      " [-0.24107298 -0.19137044 -0.23058449 -0.24856873]\n",
      " [-0.24107298 -0.25368425 -0.27404907 -0.2753667 ]\n",
      " [-0.27517602 -0.13319308 -0.24107298 -0.26279828]\n",
      " [-0.24026719 -0.24107298 -0.2720792  -0.26481268]\n",
      " [-0.24107298 -0.22748993 -0.21292162 -0.235137  ]\n",
      " [-0.24107298 -0.2855705  -0.25195593 -0.25534117]\n",
      " [-0.26011434 -0.24107298 -0.24197826 -0.24153903]\n",
      " [-0.28291014 -0.24107298 -0.23221366 -0.2406305 ]\n",
      " [-0.22487578 -0.24814545 -0.2109317  -0.24107298]\n",
      " [-0.25749823 -0.24107298 -0.20832713 -0.22146283]\n",
      " [-0.24107298 -0.23770575 -0.22201265 -0.23992871]\n",
      " [-0.2644852  -0.28580466 -0.27835461 -0.24107298]\n",
      " [-0.23848759 -0.27954808 -0.24107298 -0.20934649]\n",
      " [-0.24107298 -0.24320026 -0.23428202 -0.26258686]\n",
      " [-0.24107298 -0.23517789 -0.22087018 -0.22511975]\n",
      " [-0.16984354 -0.24107298 -0.16466194 -0.16627276]\n",
      " [-0.24107298 -0.21483612 -0.21412878 -0.22629884]\n",
      " [-0.22093205 -0.2475651  -0.2441963  -0.24107298]\n",
      " [-0.20053907 -0.20546934 -0.24107298 -0.18189521]\n",
      " [-0.18264937 -0.17377965 -0.24107298 -0.19867454]\n",
      " [-0.21478523 -0.24107298 -0.24847381 -0.22190891]\n",
      " [-0.20125549 -0.2659536  -0.16707017 -0.24107298]\n",
      " [-0.28508928 -0.24107298 -0.23046258 -0.24608003]\n",
      " [-0.18113245 -0.22481506 -0.22681133 -0.24107298]\n",
      " [-0.23561035 -0.21013568 -0.24107298 -0.2416087 ]\n",
      " [-0.24047698 -0.24147956 -0.24107298 -0.19524963]\n",
      " [-0.24107298 -0.1928046  -0.20065933 -0.23856877]\n",
      " [-0.20781283 -0.24107298 -0.24261816 -0.28710666]\n",
      " [-0.23825254 -0.25896338 -0.24107298 -0.22731207]\n",
      " [-0.2667256  -0.24107298 -0.2733656  -0.27977705]\n",
      " [-0.27227303 -0.2787449  -0.30014762 -0.24107298]\n",
      " [-0.24861662 -0.25289178 -0.24107298 -0.2672469 ]\n",
      " [-0.12421753 -0.26782972 -0.24107298 -0.28691596]\n",
      " [-0.24107298 -0.26684594 -0.3040843  -0.21619491]\n",
      " [-0.24192706 -0.2670984  -0.24107298 -0.2741199 ]\n",
      " [-0.2760261  -0.3047382  -0.24107298 -0.26835024]\n",
      " [-0.22772469 -0.24107298 -0.25700882 -0.26204237]\n",
      " [-0.27970386 -0.24107298 -0.2606348  -0.27231672]\n",
      " [-0.22475897 -0.24107298 -0.24985458 -0.29424676]\n",
      " [-0.24433278 -0.25761774 -0.25796282 -0.24107298]\n",
      " [-0.28972587 -0.27035826 -0.24107298 -0.2898291 ]\n",
      " [-0.28263155 -0.25835064 -0.24107298 -0.2488228 ]\n",
      " [-0.26080135 -0.24817304 -0.25330696 -0.24107298]\n",
      " [-0.36691803 -0.24107298 -0.32856473 -0.30815247]\n",
      " [-0.2860249  -0.24107298 -0.3015218  -0.29577497]\n",
      " [-0.312524   -0.24107298 -0.30500168 -0.2830652 ]\n",
      " [-0.27684796 -0.25888357 -0.25589973 -0.24107298]\n",
      " [-0.30554017 -0.274582   -0.24107298 -0.2811906 ]\n",
      " [-0.27997425 -0.2434243  -0.24107298 -0.25292322]\n",
      " [-0.24107298 -0.20286365 -0.17223424 -0.27201122]\n",
      " [-0.286256   -0.24107298 -0.23622023 -0.23451923]\n",
      " [-0.25840494 -0.27240968 -0.22467278 -0.24107298]\n",
      " [-0.21016242 -0.25049913 -0.2192393  -0.24107298]\n",
      " [-0.25990677 -0.25888905 -0.23186506 -0.24107298]\n",
      " [-0.2628902  -0.19859724 -0.24107298 -0.1971827 ]\n",
      " [-0.22705029 -0.21663196 -0.24107298 -0.22536978]\n",
      " [-0.23996909 -0.2261789  -0.24107298 -0.23437345]\n",
      " [-0.24690607 -0.24107298 -0.18620245 -0.25238183]\n",
      " [-0.24015482 -0.21808198 -0.18359269 -0.24107298]\n",
      " [-0.21057753 -0.15073378 -0.25740322 -0.24107298]\n",
      " [-0.29835954 -0.2528611  -0.24107298 -0.24731474]\n",
      " [-0.25980055 -0.26467893 -0.24107298 -0.23681103]\n",
      " [-0.24107298 -0.33714983 -0.33456203 -0.3260914 ]\n",
      " [-0.24107298 -0.28635278 -0.28107992 -0.34267655]\n",
      " [-0.3324072  -0.3162841  -0.24107298 -0.30486047]\n",
      " [-0.35156384 -0.24107298 -0.32017252 -0.18558456]\n",
      " [-0.24107298 -0.33894187 -0.14649318 -0.35241923]\n",
      " [-0.24107298 -0.3443997  -0.33474696 -0.3566403 ]\n",
      " [-0.24107298 -0.3314304  -0.34624794 -0.3469936 ]\n",
      " [-0.32513297 -0.33591083 -0.24107298 -0.34718022]\n",
      " [-0.32546294 -0.34225687 -0.24107298 -0.32195407]\n",
      " [-0.33303556 -0.24107298 -0.3487902  -0.33805022]\n",
      " [-0.33892122 -0.24107298 -0.33750916 -0.3382621 ]\n",
      " [-0.24107298 -0.31850395 -0.27394396 -0.34565336]\n",
      " [-0.26063457 -0.24107298 -0.26828504 -0.30264536]\n",
      " [-0.27025095 -0.22499911 -0.24068715 -0.24107298]\n",
      " [-0.2423416  -0.22667675 -0.24107298 -0.21172018]\n",
      " [-0.24107298 -0.1927465  -0.20497333 -0.24308516]\n",
      " [-0.26302174 -0.24107298 -0.24253424 -0.27199033]\n",
      " [-0.1889132  -0.30005828 -0.19724415 -0.24107298]\n",
      " [-0.25178626 -0.21709816 -0.24107298 -0.30213165]\n",
      " [-0.19012482 -0.20010181 -0.22423683 -0.24107298]\n",
      " [-0.27144587 -0.21227948 -0.25003096 -0.24107298]\n",
      " [-0.22934154 -0.2952664  -0.2926922  -0.24107298]\n",
      " [-0.196793   -0.24107298 -0.27237943 -0.27085602]\n",
      " [-0.27404705 -0.32875815 -0.2615395  -0.24107298]\n",
      " [-0.2527808  -0.24107298 -0.30418685 -0.28308597]\n",
      " [-0.3305551  -0.32426527 -0.29670927 -0.24107298]\n",
      " [-0.24107298 -0.25006172 -0.2570544  -0.26907927]\n",
      " [-0.3495985  -0.34699488 -0.28783044 -0.24107298]\n",
      " [-0.2858978  -0.24107298 -0.33131683 -0.24917735]\n",
      " [-0.24107298 -0.29927623 -0.22149771 -0.22309493]\n",
      " [-0.3570003  -0.24107298 -0.18931253 -0.28412527]\n",
      " [-0.2535722  -0.31557286 -0.21699665 -0.24107298]\n",
      " [-0.23628213 -0.24107298 -0.25290594 -0.27951542]\n",
      " [-0.20180412 -0.3033813  -0.2742519  -0.24107298]\n",
      " [-0.25915596 -0.24918471 -0.24107298 -0.22298549]\n",
      " [-0.24107298 -0.23261127 -0.22044349 -0.20802946]\n",
      " [-0.23921128 -0.23223768 -0.24107298 -0.166259  ]\n",
      " [-0.24107298 -0.27690133 -0.27610603 -0.22962998]\n",
      " [-0.24107298 -0.23380019 -0.27068165 -0.25997707]\n",
      " [-0.23407699 -0.22916554 -0.24107298 -0.20629053]\n",
      " [-0.20698275 -0.24107298 -0.21773662 -0.23212545]\n",
      " [-0.20034666 -0.19105364 -0.1774102  -0.24107298]\n",
      " [-0.27510408 -0.24107298 -0.23791568 -0.22738197]\n",
      " [-0.23552357 -0.24107298 -0.24570696 -0.2053667 ]\n",
      " [-0.24107298 -0.24314344 -0.26649413 -0.19990374]\n",
      " [-0.21563734 -0.2694243  -0.19033618 -0.24107298]\n",
      " [-0.18192773 -0.22534132 -0.32148337 -0.24107298]\n",
      " [-0.13121304 -0.195486   -0.24107298 -0.15961245]\n",
      " [-0.25832883 -0.20356931 -0.24181691 -0.24107298]\n",
      " [-0.3178552  -0.2814989  -0.24107298 -0.19384833]\n",
      " [-0.17513674 -0.24107298 -0.12309277 -0.19254862]\n",
      " [-0.2274334  -0.24107298 -0.12837012 -0.15964694]\n",
      " [-0.25160763 -0.28407687 -0.2235439  -0.24107298]\n",
      " [-0.19222894 -0.14015555 -0.24107298 -0.12922359]\n",
      " [-0.1553041   0.04105641 -0.24107298 -0.21014531]\n",
      " [-0.2104832  -0.16654594 -0.24107298 -0.2018941 ]\n",
      " [-0.23109294 -0.24107298 -0.24292363 -0.26998815]\n",
      " [-0.3211854  -0.24107298 -0.1944851  -0.14545889]\n",
      " [-0.25774094 -0.29538956 -0.1683165  -0.24107298]\n",
      " [ 0.04791715 -0.24107298 -0.13843286 -0.1738546 ]\n",
      " [-0.21161854 -0.2562044  -0.26694334 -0.24107298]\n",
      " [-0.2838837  -0.18365909 -0.10231134 -0.24107298]\n",
      " [-0.24107298 -0.18504412 -0.15993418 -0.23541406]\n",
      " [-0.30833632 -0.2598804  -0.24107298 -0.13999353]\n",
      " [-0.24107298 -0.10669908 -0.2432127  -0.29504615]\n",
      " [-0.20514543 -0.2108938  -0.28468028 -0.24107306]\n",
      " [-0.31305772 -0.27043828 -0.24107306 -0.34638977]\n",
      " [-0.24107306 -0.23018819 -0.31762308 -0.32346985]\n",
      " [-0.20634614 -0.14420372 -0.24063186 -0.24107306]\n",
      " [-0.18078096 -0.21283327 -0.24021506 -0.24107306]\n",
      " [-0.24107306 -0.19370231 -0.2516368  -0.12943621]\n",
      " [-0.30647525 -0.11116426 -0.02175097 -0.24107306]\n",
      " [-0.23115803 -0.1157876  -0.20572042 -0.24107306]\n",
      " [-0.25525853 -0.09794115 -0.21352674 -0.24107306]\n",
      " [-0.27228197 -0.1702146  -0.04653497 -0.24107306]\n",
      " [-0.24107306 -0.23484568 -0.22000413 -0.21727268]\n",
      " [-0.20905922 -0.25363758 -0.1733595  -0.24107306]\n",
      " [-0.24107306 -0.12754723 -0.20302053 -0.23606656]\n",
      " [-0.24107306 -0.24485669 -0.17967336 -0.19045395]\n",
      " [-0.24107306 -0.2512682  -0.18114792 -0.19944291]\n",
      " [-0.29014623 -0.24107306 -0.24790551 -0.27281088]\n",
      " [-0.2176942  -0.23344629 -0.23523392 -0.24107306]\n",
      " [-0.24107306 -0.21205363 -0.21672232 -0.25061062]\n",
      " [-0.2222825  -0.20906873 -0.2401268  -0.24107306]\n",
      " [-0.24541964 -0.22368857 -0.24107306 -0.28441456]\n",
      " [-0.24848883 -0.33027074 -0.24107306 -0.25076404]\n",
      " [-0.24107306 -0.23599125 -0.22389992 -0.21809481]\n",
      " [-0.2631132  -0.19400659 -0.20221142 -0.24107306]\n",
      " [-0.27083126 -0.24107306 -0.25522995 -0.23078106]\n",
      " [-0.24107306 -0.23315705 -0.23140942 -0.23277594]\n",
      " [-0.24579185 -0.22625344 -0.21769708 -0.24107306]\n",
      " [-0.22256838 -0.24048944 -0.24895869 -0.24107306]\n",
      " [-0.22341886 -0.25862056 -0.24107306 -0.22623137]\n",
      " [-0.2513959  -0.24107306 -0.24011241 -0.25340924]\n",
      " [-0.23196122 -0.26081535 -0.24107306 -0.25681236]\n",
      " [-0.24038441 -0.24556725 -0.24404459 -0.24107306]\n",
      " [-0.23642223 -0.23828724 -0.24107306 -0.23579672]\n",
      " [-0.24107306 -0.23779054 -0.24088639 -0.2387972 ]\n",
      " [-0.24107306 -0.24263859 -0.23936073 -0.24095272]\n",
      " [-0.24062918 -0.24107306 -0.23809017 -0.23892897]\n",
      " [-0.24094422 -0.24107306 -0.24103652 -0.24102204]\n",
      " [-0.24105956 -0.24107607 -0.24107306 -0.24106507]\n",
      " [-0.24107306 -0.24107292 -0.24107286 -0.24107286]]\n"
     ]
    }
   ],
   "source": [
    "contrib_file=\"/content/drive/MyDrive/MPRA-IGVF-Workshop-2024/Tutorials/T3_MPRA_modeling_interpretation/data/hypothetical_contribution_scores.npz\"\n",
    "scores = np.load(str(contrib_file))\n",
    "# save scores as numpy array\n",
    "scores= scores.f.arr_0\n",
    "# define data type\n",
    "scores=scores.astype(np.float32)\n",
    "\n",
    "print (scores[2])"
   ]
  },
  {
   "cell_type": "markdown",
   "metadata": {
    "id": "I6kmXe7crOiW"
   },
   "source": [
    "A widely used approach is to substract the precition of the reference sequence from all predictions (https://pubmed.ncbi.nlm.nih.gov/27197224/).\n"
   ]
  },
  {
   "cell_type": "code",
   "execution_count": 16,
   "metadata": {
    "executionInfo": {
     "elapsed": 9,
     "status": "ok",
     "timestamp": 1713338338331,
     "user": {
      "displayName": "Thorben M",
      "userId": "02931247254163619517"
     },
     "user_tz": -120
    },
    "id": "P8mkS0U5i6PR"
   },
   "outputs": [],
   "source": [
    "\n",
    "# iterate over seqs for ref-alt\n",
    "for i in range (0, scores.shape[0], 1):\n",
    "\n",
    "        #get prediction of ref seq\n",
    "        ref_seq=scores[i]*seqs[i]\n",
    "        ref_pred = np.max(ref_seq[np.nonzero(scores[i]*seqs[i])])\n",
    "        #print (ref_pred) #max over many identical values gives that value\n",
    "        scores [i,:,:] = scores[i,:,:] - ref_pred\n",
    "# print (scores)\n"
   ]
  },
  {
   "cell_type": "markdown",
   "metadata": {
    "id": "VbsHXLF-j9Zy"
   },
   "source": [
    "We now look at the attribution map of a single sequence. For each position in the sequence (lines in the output below), there are 4 entries (ACGT, columns in the output below). Depending on the value, the according base (ACGT) is more or less important at the given position for the measured MPRA activity **based on the model we used**. Note that if our model has a very bad performance on our data set, we can not put much trust in the resulting attribution map. A pearson correlation between measured and predicted MPRA activity of at least 0.5 is a good minimum (this is my perosnal opinion).\n",
    "\n",
    "You can see that the shape of the array containing all sequences is (10, 230, 4,), so 10 sequences, each 230 bases long, and a contribution score for ACGT per position. Note that the shape is identical to the shape of the sequence array (see above). Also note that by definition the scores for the reference sequence is always 0 now.\n",
    "\n",
    "The data type is float 32.\n",
    "\n",
    "This is a format that tfmodisco can read :-)"
   ]
  },
  {
   "cell_type": "code",
   "execution_count": 17,
   "metadata": {
    "colab": {
     "base_uri": "https://localhost:8080/"
    },
    "executionInfo": {
     "elapsed": 505,
     "status": "ok",
     "timestamp": 1713338338827,
     "user": {
      "displayName": "Thorben M",
      "userId": "02931247254163619517"
     },
     "user_tz": -120
    },
    "id": "lL_qsXkpj_WJ",
    "outputId": "b79faeb1-29ae-4a8c-d691-79d6820e9ff8"
   },
   "outputs": [
    {
     "name": "stdout",
     "output_type": "stream",
     "text": [
      "[[ 0.00000000e+00 -2.94595957e-05  6.44326210e-04 -4.58210707e-05]\n",
      " [ 7.25433230e-04  7.10636377e-05  0.00000000e+00  3.63156199e-04]\n",
      " [-1.95160508e-04  4.61116433e-04  0.00000000e+00 -2.31243670e-03]\n",
      " [ 0.00000000e+00  6.27219677e-04  2.58965790e-03  6.71908259e-04]\n",
      " [ 7.56531954e-04  0.00000000e+00 -2.68064439e-03 -6.83978200e-04]\n",
      " [-5.21059334e-03  0.00000000e+00  1.03041530e-04 -6.65824115e-03]\n",
      " [-3.31571698e-03 -1.13134086e-03  0.00000000e+00 -1.22964382e-03]\n",
      " [ 3.64974141e-04 -9.43961740e-03  0.00000000e+00 -2.15707719e-03]\n",
      " [ 0.00000000e+00 -3.86640429e-04  1.19060874e-02  6.10144436e-03]\n",
      " [ 3.11632454e-03  1.89909339e-02 -2.76909769e-03  0.00000000e+00]\n",
      " [ 2.40553916e-03  0.00000000e+00 -1.41692162e-02  2.24545598e-04]\n",
      " [ 0.00000000e+00 -4.72246110e-03 -1.87813640e-02 -2.12141871e-02]\n",
      " [ 0.00000000e+00 -4.63393927e-02 -2.26448774e-02 -2.79527307e-02]\n",
      " [-3.77333462e-02  0.00000000e+00 -2.72456110e-02 -1.92975104e-02]\n",
      " [-4.71656322e-02 -3.81766856e-02 -3.47406566e-02  0.00000000e+00]\n",
      " [-4.74322736e-02 -4.91963923e-02 -2.42738426e-02  0.00000000e+00]\n",
      " [-4.38576937e-02 -2.46569812e-02 -3.30947638e-02  0.00000000e+00]\n",
      " [-6.47229552e-02 -3.42802107e-02 -6.91283941e-02  0.00000000e+00]\n",
      " [-3.98464501e-03 -4.58758473e-02  0.00000000e+00 -3.47374678e-02]\n",
      " [-2.04308927e-02 -5.21969199e-02  0.00000000e+00 -4.28971052e-02]\n",
      " [-1.18156075e-02 -3.26390266e-02  0.00000000e+00  9.99386609e-03]\n",
      " [ 0.00000000e+00 -3.21782827e-02 -4.50514853e-02 -2.11573839e-02]\n",
      " [-1.49865150e-02 -1.65087879e-02  0.00000000e+00 -5.66545427e-02]\n",
      " [ 0.00000000e+00 -5.35685122e-02  2.53823251e-02 -4.64748144e-02]\n",
      " [ 0.00000000e+00 -5.97949326e-03 -2.54761279e-02 -6.51629269e-03]\n",
      " [ 0.00000000e+00  2.98023224e-08 -6.01572394e-02 -3.51951718e-02]\n",
      " [-2.83819437e-02 -3.30229402e-02  0.00000000e+00 -4.04398739e-02]\n",
      " [ 0.00000000e+00 -2.05210149e-02 -4.32898104e-02 -5.77217340e-02]\n",
      " [-4.82101440e-02 -3.04854214e-02  0.00000000e+00  4.04072851e-02]\n",
      " [-3.37866247e-02 -2.19256282e-02  0.00000000e+00 -4.32109833e-02]\n",
      " [-3.77713740e-02 -4.81797159e-02  0.00000000e+00 -3.07415128e-02]\n",
      " [-4.53061163e-02 -3.20569873e-02 -2.46163011e-02  0.00000000e+00]\n",
      " [-3.50688100e-02 -9.91225243e-03  0.00000000e+00  2.11645812e-02]\n",
      " [-6.07581437e-03  6.43832982e-03 -2.39951015e-02  0.00000000e+00]\n",
      " [-1.46766007e-02 -2.93891132e-03  0.00000000e+00  3.08716297e-03]\n",
      " [ 0.00000000e+00 -7.09398091e-03 -1.45109892e-02  5.73095828e-02]\n",
      " [ 0.00000000e+00 -3.82263362e-02 -9.79691744e-03 -3.50474119e-02]\n",
      " [ 6.08348995e-02 -1.79709196e-02  0.00000000e+00  9.00968909e-04]\n",
      " [ 0.00000000e+00 -6.49551153e-02 -5.73260486e-02 -3.19487453e-02]\n",
      " [ 4.58081067e-02  2.42893398e-03  0.00000000e+00  2.42932439e-02]\n",
      " [ 0.00000000e+00 -8.37512314e-03 -1.63033307e-02  4.95897233e-03]\n",
      " [-1.82421803e-02 -1.17587149e-02 -5.09936512e-02  0.00000000e+00]\n",
      " [-4.78581488e-02 -5.88299632e-02  0.00000000e+00 -2.04371214e-02]\n",
      " [ 5.01141101e-02  1.99480355e-03  0.00000000e+00 -1.54572129e-02]\n",
      " [-2.74689198e-02  0.00000000e+00  3.55056971e-02  1.70189887e-02]\n",
      " [ 6.67939782e-02  8.14791024e-03 -1.07367337e-03  0.00000000e+00]\n",
      " [-1.66335404e-02  0.00000000e+00 -5.98834455e-03 -2.39755809e-02]\n",
      " [-2.71554291e-02 -2.22717226e-03 -1.30155683e-03  0.00000000e+00]\n",
      " [-3.93286347e-03  3.63494903e-02  0.00000000e+00  9.85126197e-03]\n",
      " [-1.34419501e-02  0.00000000e+00 -2.75599062e-02  6.40030205e-03]\n",
      " [-2.01016665e-02 -2.29761004e-04  0.00000000e+00 -2.60713100e-02]\n",
      " [-3.15865874e-02 -3.88261676e-02 -2.93968916e-02  0.00000000e+00]\n",
      " [ 4.54771370e-02  0.00000000e+00  3.87324542e-02  4.29928303e-04]\n",
      " [ 1.15620211e-01  0.00000000e+00  2.88185626e-02 -6.70564175e-03]\n",
      " [-8.73060524e-03 -4.16374803e-02 -5.53216040e-03  0.00000000e+00]\n",
      " [ 0.00000000e+00 -1.65981650e-02 -4.61657047e-02  1.12266839e-03]\n",
      " [ 0.00000000e+00  4.23268974e-03 -2.57003307e-03  1.58001631e-02]\n",
      " [-3.31745148e-02  5.78956753e-02  0.00000000e+00 -7.62702525e-03]\n",
      " [-1.31051242e-02  0.00000000e+00  2.25208700e-03  4.26502526e-03]\n",
      " [-3.68670523e-02 -1.94986165e-02  0.00000000e+00 -1.08559430e-03]\n",
      " [ 0.00000000e+00 -1.06931329e-02 -9.01103020e-03 -3.65540385e-03]\n",
      " [ 0.00000000e+00 -3.19722295e-02 -1.03422999e-02 -4.22767401e-02]\n",
      " [-2.54794359e-02 -1.11275911e-02  0.00000000e+00 -3.44224274e-02]\n",
      " [ 5.44444472e-02  1.98237598e-03  0.00000000e+00  2.06902623e-03]\n",
      " [ 3.16430628e-03 -6.37664199e-02  2.26043314e-02  0.00000000e+00]\n",
      " [ 0.00000000e+00  4.97025400e-02  1.04884952e-02 -7.49574602e-03]\n",
      " [ 0.00000000e+00 -1.26112700e-02 -3.29760909e-02 -3.42937112e-02]\n",
      " [-3.41030359e-02  1.07879907e-01  0.00000000e+00 -2.17252970e-02]\n",
      " [ 8.05795193e-04  0.00000000e+00 -3.10062170e-02 -2.37396955e-02]\n",
      " [ 0.00000000e+00  1.35830492e-02  2.81513631e-02  5.93598187e-03]\n",
      " [ 0.00000000e+00 -4.44975197e-02 -1.08829439e-02 -1.42681897e-02]\n",
      " [-1.90413594e-02  0.00000000e+00 -9.05275345e-04 -4.66048717e-04]\n",
      " [-4.18371558e-02  0.00000000e+00  8.85932148e-03  4.42489982e-04]\n",
      " [ 1.61972046e-02 -7.07246363e-03  3.01412791e-02  0.00000000e+00]\n",
      " [-1.64252520e-02  0.00000000e+00  3.27458531e-02  1.96101516e-02]\n",
      " [ 0.00000000e+00  3.36723030e-03  1.90603286e-02  1.14427507e-03]\n",
      " [-2.34122276e-02 -4.47316766e-02 -3.72816324e-02  0.00000000e+00]\n",
      " [ 2.58539617e-03 -3.84750962e-02  0.00000000e+00  3.17264944e-02]\n",
      " [ 0.00000000e+00 -2.12727487e-03  6.79096580e-03 -2.15138793e-02]\n",
      " [ 0.00000000e+00  5.89509308e-03  2.02028006e-02  1.59532279e-02]\n",
      " [ 7.12294430e-02  0.00000000e+00  7.64110386e-02  7.48002231e-02]\n",
      " [ 0.00000000e+00  2.62368619e-02  2.69442052e-02  1.47741437e-02]\n",
      " [ 2.01409310e-02 -6.49212301e-03 -3.12331319e-03  0.00000000e+00]\n",
      " [ 4.05339152e-02  3.56036425e-02  0.00000000e+00  5.91777712e-02]\n",
      " [ 5.84236085e-02  6.72933310e-02  0.00000000e+00  4.23984379e-02]\n",
      " [ 2.62877494e-02  0.00000000e+00 -7.40082562e-03  1.91640705e-02]\n",
      " [ 3.98174971e-02 -2.48806179e-02  7.40028173e-02  0.00000000e+00]\n",
      " [-4.40163016e-02  0.00000000e+00  1.06104016e-02 -5.00704348e-03]\n",
      " [ 5.99405318e-02  1.62579268e-02  1.42616481e-02  0.00000000e+00]\n",
      " [ 5.46263158e-03  3.09372991e-02  0.00000000e+00 -5.35711646e-04]\n",
      " [ 5.96001744e-04 -4.06578183e-04  0.00000000e+00  4.58233505e-02]\n",
      " [ 0.00000000e+00  4.82683778e-02  4.04136479e-02  2.50421464e-03]\n",
      " [ 3.32601517e-02  0.00000000e+00 -1.54517591e-03 -4.60336804e-02]\n",
      " [ 2.82044709e-03 -1.78903937e-02  0.00000000e+00  1.37609094e-02]\n",
      " [-2.56526172e-02  0.00000000e+00 -3.22926044e-02 -3.87040675e-02]\n",
      " [-3.12000513e-02 -3.76719236e-02 -5.90746403e-02  0.00000000e+00]\n",
      " [-7.54363835e-03 -1.18187964e-02  0.00000000e+00 -2.61739194e-02]\n",
      " [ 1.16855457e-01 -2.67567337e-02  0.00000000e+00 -4.58429754e-02]\n",
      " [ 0.00000000e+00 -2.57729590e-02 -6.30113184e-02  2.48780698e-02]\n",
      " [-8.54074955e-04 -2.60254145e-02  0.00000000e+00 -3.30469310e-02]\n",
      " [-3.49531174e-02 -6.36652112e-02  0.00000000e+00 -2.72772610e-02]\n",
      " [ 1.33482963e-02  0.00000000e+00 -1.59358382e-02 -2.09693909e-02]\n",
      " [-3.86308730e-02  0.00000000e+00 -1.95618272e-02 -3.12437415e-02]\n",
      " [ 1.63140148e-02  0.00000000e+00 -8.78159702e-03 -5.31737804e-02]\n",
      " [-3.25979292e-03 -1.65447593e-02 -1.68898404e-02  0.00000000e+00]\n",
      " [-4.86528873e-02 -2.92852819e-02  0.00000000e+00 -4.87561226e-02]\n",
      " [-4.15585637e-02 -1.72776580e-02  0.00000000e+00 -7.74981081e-03]\n",
      " [-1.97283626e-02 -7.10006058e-03 -1.22339725e-02  0.00000000e+00]\n",
      " [-1.25845045e-01  0.00000000e+00 -8.74917507e-02 -6.70794845e-02]\n",
      " [-4.49519157e-02  0.00000000e+00 -6.04488254e-02 -5.47019839e-02]\n",
      " [-7.14510083e-02  0.00000000e+00 -6.39286935e-02 -4.19922173e-02]\n",
      " [-3.57749760e-02 -1.78105831e-02 -1.48267448e-02  0.00000000e+00]\n",
      " [-6.44671917e-02 -3.35090160e-02  0.00000000e+00 -4.01176214e-02]\n",
      " [-3.89012694e-02 -2.35131383e-03  0.00000000e+00 -1.18502378e-02]\n",
      " [ 0.00000000e+00  3.82093340e-02  6.88387454e-02 -3.09382379e-02]\n",
      " [-4.51830029e-02  0.00000000e+00  4.85275686e-03  6.55375421e-03]\n",
      " [-1.73319578e-02 -3.13366950e-02  1.64002031e-02  0.00000000e+00]\n",
      " [ 3.09105664e-02 -9.42614675e-03  2.18336880e-02  0.00000000e+00]\n",
      " [-1.88337862e-02 -1.78160667e-02  9.20791924e-03  0.00000000e+00]\n",
      " [-2.18172073e-02  4.24757451e-02  0.00000000e+00  4.38902825e-02]\n",
      " [ 1.40226930e-02  2.44410187e-02  0.00000000e+00  1.57032013e-02]\n",
      " [ 1.10389292e-03  1.48940831e-02  0.00000000e+00  6.69953227e-03]\n",
      " [-5.83308935e-03  0.00000000e+00  5.48705310e-02 -1.13088489e-02]\n",
      " [ 9.18164849e-04  2.29910016e-02  5.74802905e-02  0.00000000e+00]\n",
      " [ 3.04954499e-02  9.03391987e-02 -1.63302422e-02  0.00000000e+00]\n",
      " [-5.72865605e-02 -1.17881298e-02  0.00000000e+00 -6.24175370e-03]\n",
      " [-1.87275708e-02 -2.36059427e-02  0.00000000e+00  4.26195562e-03]\n",
      " [ 0.00000000e+00 -9.60768461e-02 -9.34890509e-02 -8.50184262e-02]\n",
      " [ 0.00000000e+00 -4.52798009e-02 -4.00069356e-02 -1.01603568e-01]\n",
      " [-9.13342237e-02 -7.52111077e-02  0.00000000e+00 -6.37874901e-02]\n",
      " [-1.10490859e-01  0.00000000e+00 -7.90995359e-02  5.54884225e-02]\n",
      " [ 0.00000000e+00 -9.78688896e-02  9.45798010e-02 -1.11346245e-01]\n",
      " [ 0.00000000e+00 -1.03326708e-01 -9.36739743e-02 -1.15567327e-01]\n",
      " [ 0.00000000e+00 -9.03574228e-02 -1.05174959e-01 -1.05920613e-01]\n",
      " [-8.40599835e-02 -9.48378444e-02  0.00000000e+00 -1.06107235e-01]\n",
      " [-8.43899548e-02 -1.01183891e-01  0.00000000e+00 -8.08810890e-02]\n",
      " [-9.19625759e-02  0.00000000e+00 -1.07717216e-01 -9.69772339e-02]\n",
      " [-9.78482366e-02  0.00000000e+00 -9.64361727e-02 -9.71891284e-02]\n",
      " [ 0.00000000e+00 -7.74309635e-02 -3.28709781e-02 -1.04580373e-01]\n",
      " [-1.95615888e-02  0.00000000e+00 -2.72120535e-02 -6.15723729e-02]\n",
      " [-2.91779637e-02  1.60738677e-02  3.85835767e-04  0.00000000e+00]\n",
      " [-1.26861036e-03  1.43962353e-02  0.00000000e+00  2.93527991e-02]\n",
      " [ 0.00000000e+00  4.83264774e-02  3.60996574e-02 -2.01217830e-03]\n",
      " [-2.19487548e-02  0.00000000e+00 -1.46125257e-03 -3.09173465e-02]\n",
      " [ 5.21597862e-02 -5.89852929e-02  4.38288301e-02  0.00000000e+00]\n",
      " [-1.07132792e-02  2.39748210e-02  0.00000000e+00 -6.10586703e-02]\n",
      " [ 5.09481579e-02  4.09711748e-02  1.68361515e-02  0.00000000e+00]\n",
      " [-3.03728878e-02  2.87934989e-02 -8.95798206e-03  0.00000000e+00]\n",
      " [ 1.17314458e-02 -5.41934073e-02 -5.16192317e-02  0.00000000e+00]\n",
      " [ 4.42799777e-02  0.00000000e+00 -3.13064456e-02 -2.97830403e-02]\n",
      " [-3.29740644e-02 -8.76851678e-02 -2.04665065e-02  0.00000000e+00]\n",
      " [-1.17078125e-02  0.00000000e+00 -6.31138682e-02 -4.20129895e-02]\n",
      " [-8.94821286e-02 -8.31922889e-02 -5.56362867e-02  0.00000000e+00]\n",
      " [ 0.00000000e+00 -8.98873806e-03 -1.59814060e-02 -2.80062854e-02]\n",
      " [-1.08525515e-01 -1.05921894e-01 -4.67574596e-02  0.00000000e+00]\n",
      " [-4.48248088e-02  0.00000000e+00 -9.02438462e-02 -8.10436904e-03]\n",
      " [ 0.00000000e+00 -5.82032502e-02  1.95752680e-02  1.79780573e-02]\n",
      " [-1.15927309e-01  0.00000000e+00  5.17604500e-02 -4.30522859e-02]\n",
      " [-1.24992132e-02 -7.44998753e-02  2.40763277e-02  0.00000000e+00]\n",
      " [ 4.79085743e-03  0.00000000e+00 -1.18329525e-02 -3.84424329e-02]\n",
      " [ 3.92688662e-02 -6.23083115e-02 -3.31789255e-02  0.00000000e+00]\n",
      " [-1.80829763e-02 -8.11173022e-03  0.00000000e+00  1.80874914e-02]\n",
      " [ 0.00000000e+00  8.46171379e-03  2.06294954e-02  3.30435187e-02]\n",
      " [ 1.86170638e-03  8.83530080e-03  0.00000000e+00  7.48139769e-02]\n",
      " [ 0.00000000e+00 -3.58283520e-02 -3.50330472e-02  1.14430040e-02]\n",
      " [ 0.00000000e+00  7.27279484e-03 -2.96086669e-02 -1.89040899e-02]\n",
      " [ 6.99599087e-03  1.19074434e-02  0.00000000e+00  3.47824544e-02]\n",
      " [ 3.40902358e-02  0.00000000e+00  2.33363658e-02  8.94753635e-03]\n",
      " [ 4.07263190e-02  5.00193387e-02  6.36627823e-02  0.00000000e+00]\n",
      " [-3.40310931e-02  0.00000000e+00  3.15730274e-03  1.36910081e-02]\n",
      " [ 5.54941595e-03  0.00000000e+00 -4.63397801e-03  3.57062817e-02]\n",
      " [ 0.00000000e+00 -2.07045674e-03 -2.54211426e-02  4.11692411e-02]\n",
      " [ 2.54356414e-02 -2.83513069e-02  5.07367998e-02  0.00000000e+00]\n",
      " [ 5.91452569e-02  1.57316625e-02 -8.04103911e-02  0.00000000e+00]\n",
      " [ 1.09859943e-01  4.55869883e-02  0.00000000e+00  8.14605355e-02]\n",
      " [-1.72558427e-02  3.75036746e-02 -7.43925571e-04  0.00000000e+00]\n",
      " [-7.67822266e-02 -4.04259264e-02  0.00000000e+00  4.72246557e-02]\n",
      " [ 6.59362376e-02  0.00000000e+00  1.17980212e-01  4.85243648e-02]\n",
      " [ 1.36395842e-02  0.00000000e+00  1.12702861e-01  8.14260393e-02]\n",
      " [-1.05346441e-02 -4.30038869e-02  1.75290853e-02  0.00000000e+00]\n",
      " [ 4.88440394e-02  1.00917429e-01  0.00000000e+00  1.11849397e-01]\n",
      " [ 8.57688785e-02  2.82129377e-01  0.00000000e+00  3.09276730e-02]\n",
      " [ 3.05897892e-02  7.45270401e-02  0.00000000e+00  3.91788781e-02]\n",
      " [ 9.98003781e-03  0.00000000e+00 -1.85064971e-03 -2.89151669e-02]\n",
      " [-8.01124275e-02  0.00000000e+00  4.65878844e-02  9.56140906e-02]\n",
      " [-1.66679621e-02 -5.43165803e-02  7.27564842e-02  0.00000000e+00]\n",
      " [ 2.88990140e-01  0.00000000e+00  1.02640122e-01  6.72183782e-02]\n",
      " [ 2.94544399e-02 -1.51314139e-02 -2.58703530e-02  0.00000000e+00]\n",
      " [-4.28107083e-02  5.74138910e-02  1.38761640e-01  0.00000000e+00]\n",
      " [ 0.00000000e+00  5.60288578e-02  8.11388046e-02  5.65892458e-03]\n",
      " [-6.72633350e-02 -1.88074112e-02  0.00000000e+00  1.01079449e-01]\n",
      " [ 0.00000000e+00  1.34373903e-01 -2.13971734e-03 -5.39731681e-02]\n",
      " [ 3.59275490e-02  3.01791877e-02 -4.36072946e-02 -7.45058060e-08]\n",
      " [-7.19847381e-02 -2.93653011e-02 -7.45058060e-08 -1.05316788e-01]\n",
      " [-7.45058060e-08  1.08847916e-02 -7.65500963e-02 -8.23968649e-02]\n",
      " [ 3.47268432e-02  9.68692601e-02  4.41119075e-04 -7.45058060e-08]\n",
      " [ 6.02920204e-02  2.82397121e-02  8.57919455e-04 -7.45058060e-08]\n",
      " [-7.45058060e-08  4.73706722e-02 -1.05638206e-02  1.11636773e-01]\n",
      " [-6.54022694e-02  1.29908726e-01  2.19322011e-01 -7.45058060e-08]\n",
      " [ 9.91494954e-03  1.25285387e-01  3.53525579e-02 -7.45058060e-08]\n",
      " [-1.41855478e-02  1.43131837e-01  2.75462419e-02 -7.45058060e-08]\n",
      " [-3.12089920e-02  7.08583891e-02  1.94538012e-01 -7.45058060e-08]\n",
      " [-7.45058060e-08  6.22729957e-03  2.10688561e-02  2.38002986e-02]\n",
      " [ 3.20137590e-02 -1.25645995e-02  6.77134842e-02 -7.45058060e-08]\n",
      " [-7.45058060e-08  1.13525748e-01  3.80524546e-02  5.00641763e-03]\n",
      " [-7.45058060e-08 -3.78370285e-03  6.13996238e-02  5.06190360e-02]\n",
      " [-7.45058060e-08 -1.01952255e-02  5.99250644e-02  4.16300744e-02]\n",
      " [-4.90732491e-02 -7.45058060e-08 -6.83252513e-03 -3.17378938e-02]\n",
      " [ 2.33787894e-02  7.62669742e-03  5.83906472e-03 -7.45058060e-08]\n",
      " [-7.45058060e-08  2.90193558e-02  2.43506581e-02 -9.53763723e-03]\n",
      " [ 1.87904835e-02  3.20042521e-02  9.46179032e-04 -7.45058060e-08]\n",
      " [-4.34665382e-03  1.73844099e-02 -7.45058060e-08 -4.33415771e-02]\n",
      " [-7.41584599e-03 -8.91977549e-02 -7.45058060e-08 -9.69105959e-03]\n",
      " [-7.45058060e-08  5.08172810e-03  1.71730667e-02  2.29781717e-02]\n",
      " [-2.20402181e-02  4.70663905e-02  3.88615578e-02 -7.45058060e-08]\n",
      " [-2.97582746e-02 -7.45058060e-08 -1.41569674e-02  1.02919191e-02]\n",
      " [-7.45058060e-08  7.91592896e-03  9.66356695e-03  8.29704106e-03]\n",
      " [-4.71886992e-03  1.48195475e-02  2.33758986e-02 -7.45058060e-08]\n",
      " [ 1.85046047e-02  5.83544374e-04 -7.88570940e-03 -7.45058060e-08]\n",
      " [ 1.76541209e-02 -1.75475776e-02 -7.45058060e-08  1.48416162e-02]\n",
      " [-1.03229284e-02 -7.45058060e-08  9.60573554e-04 -1.23362541e-02]\n",
      " [ 9.11176205e-03 -1.97423697e-02 -7.45058060e-08 -1.57393813e-02]\n",
      " [ 6.88567758e-04 -4.49426472e-03 -2.97160447e-03 -7.45058060e-08]\n",
      " [ 4.65075672e-03  2.78574228e-03 -7.45058060e-08  5.27626276e-03]\n",
      " [-7.45058060e-08  3.28244269e-03  1.86592340e-04  2.27577984e-03]\n",
      " [-7.45058060e-08 -1.56560540e-03  1.71224773e-03  1.20267272e-04]\n",
      " [ 4.43801284e-04 -7.45058060e-08  2.98281014e-03  2.14400887e-03]\n",
      " [ 1.28760934e-04 -7.45058060e-08  3.64631414e-05  5.09470701e-05]\n",
      " [ 1.34259462e-05 -3.08454037e-06 -7.45058060e-08  7.91251659e-06]\n",
      " [-7.45058060e-08  5.96046448e-08  1.19209290e-07  1.19209290e-07]]\n",
      "(6, 230, 4)\n",
      "float32\n"
     ]
    }
   ],
   "source": [
    "print(scores[2])\n",
    "print(np.array(scores).shape)\n",
    "print(scores.dtype)"
   ]
  },
  {
   "cell_type": "markdown",
   "metadata": {
    "id": "1cc8EDNvz4S9"
   },
   "source": [
    "We now use the logomaker library to plot a selected attribution map (in this case just the first one). In this example, we will express importantness by scaling the bases according to the maximal possible prediction loss (c.f. https://pubmed.ncbi.nlm.nih.gov/27197224/). Note that doing so makes referencing to the reference prediction uselss as this information is lost due to this step. Maybe we will already recognize some motifs in our example sequence :-)."
   ]
  },
  {
   "cell_type": "code",
   "execution_count": 18,
   "metadata": {
    "colab": {
     "base_uri": "https://localhost:8080/"
    },
    "executionInfo": {
     "elapsed": 6,
     "status": "ok",
     "timestamp": 1713338338827,
     "user": {
      "displayName": "Thorben M",
      "userId": "02931247254163619517"
     },
     "user_tz": -120
    },
    "id": "tOJ4CPLovMfD",
    "outputId": "b3156d79-e296-4ea8-d24b-26957aca28d1"
   },
   "outputs": [
    {
     "name": "stdout",
     "output_type": "stream",
     "text": [
      "            A         C         G    T\n",
      "0    0.000046  0.000000  0.000000  0.0\n",
      "1    0.000000  0.000000  0.000000  0.0\n",
      "2    0.000000  0.000000  0.002312  0.0\n",
      "3    0.000000  0.000000  0.000000  0.0\n",
      "4    0.000000  0.002681  0.000000  0.0\n",
      "..        ...       ...       ...  ...\n",
      "225  0.001566  0.000000  0.000000  0.0\n",
      "226  0.000000  0.000000  0.000000  0.0\n",
      "227  0.000000  0.000000  0.000000  0.0\n",
      "228  0.000000  0.000000  0.000003  0.0\n",
      "229  0.000000  0.000000  0.000000  0.0\n",
      "\n",
      "[230 rows x 4 columns]\n"
     ]
    }
   ],
   "source": [
    "scores_for_map=np.copy(scores)\n",
    "\n",
    "# iterate over seqs\n",
    "for i in range (0, scores_for_map.shape[0], 1):\n",
    "        # iterate over base pos\n",
    "        for j in range (0, scores_for_map.shape[1], 1):\n",
    "                # center per sequence\n",
    "                scores_for_map[i,j, :]=np.abs((scores_for_map[i,j,:])-np.min(scores_for_map[i,j,:]))\n",
    "\n",
    "\n",
    "scores_for_map=scores_for_map*seqs\n",
    "\n",
    "df_hypo_contri = pd.DataFrame(scores_for_map[2], columns=['A', 'C', 'G', 'T'])\n",
    "print (df_hypo_contri)"
   ]
  },
  {
   "cell_type": "code",
   "execution_count": 19,
   "metadata": {
    "executionInfo": {
     "elapsed": 2,
     "status": "ok",
     "timestamp": 1713338338827,
     "user": {
      "displayName": "Thorben M",
      "userId": "02931247254163619517"
     },
     "user_tz": -120
    },
    "id": "SuN9dPQ16dj2"
   },
   "outputs": [],
   "source": [
    "%matplotlib inline"
   ]
  },
  {
   "cell_type": "code",
   "execution_count": 20,
   "metadata": {
    "colab": {
     "base_uri": "https://localhost:8080/",
     "height": 331
    },
    "executionInfo": {
     "elapsed": 2431,
     "status": "ok",
     "timestamp": 1713338341257,
     "user": {
      "displayName": "Thorben M",
      "userId": "02931247254163619517"
     },
     "user_tz": -120
    },
    "id": "22jjp2pWra7L",
    "outputId": "eb25635e-4b1d-4e0a-cfa6-a3381a780624"
   },
   "outputs": [
    {
     "data": {
      "image/png": "[encoded data removed]",
      "text/plain": [
       "<Figure size 2400x300 with 1 Axes>"
      ]
     },
     "metadata": {},
     "output_type": "display_data"
    }
   ],
   "source": [
    "import logomaker\n",
    "\n",
    "fig = plt.figure( figsize=(8, 1), dpi=300)\n",
    "ax1 = fig.add_subplot(111)\n",
    "# create Logo object\n",
    "PWM_logo = logomaker.Logo(df_hypo_contri,\n",
    "                        shade_below=.5,\n",
    "                        fade_below=.5,\n",
    "                        ax=ax1\n",
    "                        )\n",
    "\n",
    "# save contribution map as sequence logo png file\n",
    "#plt.savefig(\"/content/drive/MyDrive/MPRA-IGVF-Workshop-2024/Tutorials/T3_MPRA_modeling_interpretation/data/example_contrib_map.png\", dpi=300)\n",
    "plt.show()\n"
   ]
  },
  {
   "cell_type": "markdown",
   "metadata": {
    "id": "R3WLa1oEJW8k"
   },
   "source": [
    "### Attribution maps for tf modisco\n",
    "For tfmodisco it is recommended to mean normalize the contribution scores (https://github.com/kundajelab/tfmodisco/blob/master/examples/simulated_TAL_GATA_deeplearning/Generate%20Importance%20Scores.ipynb). Note that this is rather a gut feeling from the developers than something that is proven (?). Also note that the mean normalization makes referencing to the reference predictions unnecessary (so why have we done it in the first place? Because this is how ISM in general is described everywhere...(https://www.nature.com/articles/s41576-022-00532-2) )."
   ]
  },
  {
   "cell_type": "code",
   "execution_count": 21,
   "metadata": {
    "executionInfo": {
     "elapsed": 4,
     "status": "ok",
     "timestamp": 1713338341257,
     "user": {
      "displayName": "Thorben M",
      "userId": "02931247254163619517"
     },
     "user_tz": -120
    },
    "id": "KODB82UpJ1fI"
   },
   "outputs": [],
   "source": [
    "scores_for_modisco=np.copy(scores)\n",
    "\n",
    "# iterate over seqs\n",
    "for i in range (0, scores_for_modisco.shape[0], 1):\n",
    "        # iterate over base pos\n",
    "        for j in range (0, scores_for_modisco.shape[1], 1):\n",
    "                # center per sequence\n",
    "                scores_for_modisco[i,j, :]=(scores_for_modisco[i,j,:])-np.mean(scores_for_modisco[i,j,:])\n",
    "#np.savez(\"/content/drive/MyDrive/MPRA-IGVF-Workshop-2024/Tutorials/T3_MPRA_modeling_interpretation/data/scores_for_modisco.npz\", hypothetical_contribution_scores)\n"
   ]
  },
  {
   "cell_type": "markdown",
   "metadata": {
    "id": "cPiUPqXbbdXt"
   },
   "source": [
    "Lets plot the mean normalized hypothetical scores used for tf modisco:"
   ]
  },
  {
   "cell_type": "code",
   "execution_count": 22,
   "metadata": {
    "colab": {
     "base_uri": "https://localhost:8080/",
     "height": 336
    },
    "executionInfo": {
     "elapsed": 11595,
     "status": "ok",
     "timestamp": 1713338352849,
     "user": {
      "displayName": "Thorben M",
      "userId": "02931247254163619517"
     },
     "user_tz": -120
    },
    "id": "k0u2Y6XUbkW1",
    "outputId": "0212a6f5-096b-4930-e516-788102c33fa8"
   },
   "outputs": [
    {
     "data": {
      "image/png": "[encoded data removed]",
      "text/plain": [
       "<Figure size 2400x300 with 1 Axes>"
      ]
     },
     "metadata": {},
     "output_type": "display_data"
    }
   ],
   "source": [
    "df_hypo_contri = pd.DataFrame(scores_for_modisco[2], columns=['A', 'C', 'G', 'T'])\n",
    "fig = plt.figure( figsize=(8, 1), dpi=300)\n",
    "ax1 = fig.add_subplot(111)\n",
    "# create Logo object\n",
    "PWM_logo = logomaker.Logo(df_hypo_contri,\n",
    "                        shade_below=.5,\n",
    "                        fade_below=.5,\n",
    "                        ax=ax1\n",
    "                        )\n",
    "\n",
    "# save contribution map as sequence logo png file\n",
    "#plt.savefig(\"/content/drive/MyDrive/MPRA-IGVF-Workshop-2024/Tutorials/T3_MPRA_modeling_interpretation/data/example_contrib_map.png\", dpi=300)\n",
    "plt.show()"
   ]
  },
  {
   "cell_type": "markdown",
   "metadata": {
    "id": "1MyFdwzcb5qI"
   },
   "source": [
    "and the actual contribution scores resulting from it:"
   ]
  },
  {
   "cell_type": "code",
   "execution_count": 23,
   "metadata": {
    "colab": {
     "base_uri": "https://localhost:8080/",
     "height": 326
    },
    "executionInfo": {
     "elapsed": 1604,
     "status": "ok",
     "timestamp": 1713338354449,
     "user": {
      "displayName": "Thorben M",
      "userId": "02931247254163619517"
     },
     "user_tz": -120
    },
    "id": "syeStbzlb9yY",
    "outputId": "395d0593-3f8d-4cf1-b597-90589ed1b6b6"
   },
   "outputs": [
    {
     "data": {
      "image/png": "[encoded data removed]",
      "text/plain": [
       "<Figure size 2400x300 with 1 Axes>"
      ]
     },
     "metadata": {},
     "output_type": "display_data"
    }
   ],
   "source": [
    "df_hypo_contri = pd.DataFrame(scores_for_modisco[2]*seqs[2], columns=['A', 'C', 'G', 'T'])\n",
    "fig = plt.figure( figsize=(8, 1), dpi=300)\n",
    "ax1 = fig.add_subplot(111)\n",
    "# create Logo object\n",
    "PWM_logo = logomaker.Logo(df_hypo_contri,\n",
    "                        shade_below=.5,\n",
    "                        fade_below=.5,\n",
    "                        ax=ax1\n",
    "                        )\n",
    "\n",
    "# save contribution map as sequence logo png file\n",
    "#plt.savefig(\"/content/drive/MyDrive/MPRA-IGVF-Workshop-2024/Tutorials/T3_MPRA_modeling_interpretation/data/example_contrib_map.png\", dpi=300)\n",
    "plt.show()"
   ]
  },
  {
   "cell_type": "markdown",
   "metadata": {
    "id": "uS4jbxFvcg9M"
   },
   "source": [
    "Note that both ways plotting actual contribution scores result from the same data and include very similar information."
   ]
  },
  {
   "cell_type": "markdown",
   "metadata": {
    "id": "ohRKv0aD6vC6"
   },
   "source": [
    "# Using tfmodisco"
   ]
  },
  {
   "cell_type": "markdown",
   "metadata": {
    "id": "XSassUjcDdPT"
   },
   "source": [
    "## setting up the environment"
   ]
  },
  {
   "cell_type": "markdown",
   "metadata": {
    "id": "_mGyvjZUicfH"
   },
   "source": [
    "now we can set up the environments"
   ]
  },
  {
   "cell_type": "code",
   "execution_count": 24,
   "metadata": {
    "executionInfo": {
     "elapsed": 4538,
     "status": "ok",
     "timestamp": 1713338358983,
     "user": {
      "displayName": "Thorben M",
      "userId": "02931247254163619517"
     },
     "user_tz": -120
    },
    "id": "d-pakyTthzWc"
   },
   "outputs": [],
   "source": [
    "import modiscolite\n",
    "import numpy as np\n",
    "import h5py\n",
    "import pandas as pd"
   ]
  },
  {
   "cell_type": "markdown",
   "metadata": {
    "id": "Q5Jfd783n4eM"
   },
   "source": [
    "## Running tf modisco\n",
    "Above we have learned how you can look at and understand a model's representation of a given sequence. However, doing MPRAs, you will typicall end up with tens of thousands sequences and you don't want to look at each one individually. This is where you want to use tfmodisco. It will in a way give you a model representation of all your sequences."
   ]
  },
  {
   "cell_type": "markdown",
   "metadata": {
    "id": "BAynuD0InmVZ"
   },
   "source": [
    "Now that we have prepared all the arrays so that modisco can process them, we can finally run modisco and let it do it's magic :-). Note that the result depends a lot on the parameters that you use. E.g. `trim_to_window_size` and `initial_flank_to_add` will define how long the resulting motifs can be. Note that we again use only the first (few) sequence(s) of the data set to keep calculation times feasible. The output of the code below with the full set can again be found in the `/content/drive/MyDrive/MPRA-IGVF-Workshop-2024/Tutorials/T3_MPRA_modeling_interpretation/data` folder."
   ]
  },
  {
   "cell_type": "code",
   "execution_count": 25,
   "metadata": {
    "colab": {
     "base_uri": "https://localhost:8080/"
    },
    "executionInfo": {
     "elapsed": 6,
     "status": "ok",
     "timestamp": 1713338358983,
     "user": {
      "displayName": "Thorben M",
      "userId": "02931247254163619517"
     },
     "user_tz": -120
    },
    "id": "X9wB5iI86wh8",
    "outputId": "a5ed2e23-960e-42c5-db97-b0ed3bbd8790"
   },
   "outputs": [
    {
     "name": "stdout",
     "output_type": "stream",
     "text": [
      "None\n",
      "None\n"
     ]
    }
   ],
   "source": [
    "#print(scores_for_modisco[2])\n",
    "#print(seqs[2])\n",
    "\n",
    "#modisco\n",
    "pos_patterns, neg_patterns = modiscolite.tfmodisco.TFMoDISco(\n",
    "        sliding_window_size=8,\n",
    "        flank_size=8,\n",
    "        min_metacluster_size=20,\n",
    "        target_seqlet_fdr=0.1,\n",
    "        hypothetical_contribs=scores_for_modisco,\n",
    "        one_hot=seqs,\n",
    "        max_seqlets_per_metacluster=20000,\n",
    "        trim_to_window_size=10,#20\n",
    "        n_leiden_runs=2,\n",
    "        initial_flank_to_add=3,#5\n",
    "        final_min_cluster_size=30,\n",
    "        verbose=True)\n",
    "\n",
    "#save results\n",
    "#modiscolite.io.save_hdf5(str(contrib_file[0])+\".h5\", pos_patterns, neg_patterns)\n",
    "\n",
    "#print pos and neg patterns; None or empty array if no patterns are identified.\n",
    "print(pos_patterns)\n",
    "print(neg_patterns)"
   ]
  },
  {
   "cell_type": "markdown",
   "metadata": {
    "id": "Z6VGNP9c0nJo"
   },
   "source": [
    "Finally, we can run the command line verison of tfmodisco to generate a tfmodisco html report. The example below uses `/content/drive/MyDrive/MPRA-IGVF-Workshop-2024/Tutorials/T3_MPRA_modeling_interpretation/data/modisco_hypothetical_contribution_scores_all.npz.h5`as input file, so not only the 6 sequences that we used above. Note that I use here a slightly processed version of the JASPAR database. Its already present in the google drive folder we are working in but you could generate it using:\n",
    "```\n",
    "wget https://jaspar.genereg.net/download/data/2022/CORE/JASPAR2022_CORE_vertebrates_non-redundant_pfms_meme.txt\n",
    "cat JASPAR2022_CORE_vertebrates_non-redundant_pfms_meme.txt | awk '{{if ($1==\"MOTIF\") {{print $1,$2\"_\"$3,$3}} else {{print $0}}}}' > JASPAR2022_CORE_vertebrates_non-redundant_pfms_meme_nice.txt\n",
    "```\n",
    "(credits to Max Schubach for this hack :-) ). It will make the tf modisco html report a bit more readable as you can see the motifs' names. Unfortunatelly, the following part does not seem to work in colab but should work on your local linux system."
   ]
  },
  {
   "cell_type": "code",
   "execution_count": null,
   "metadata": {
    "id": "7711gMcqq5xo"
   },
   "outputs": [],
   "source": [
    "!modisco report \\\n",
    "-i /content/drive/MyDrive/MPRA-IGVF-Workshop-2024/Tutorials/T3_MPRA_modeling_interpretation/data/modisco_hypothetical_contribution_scores_all.npz.h5 \\\n",
    "-o /content/drive/MyDrive/MPRA-IGVF-Workshop-2024/Tutorials/T3_MPRA_modeling_interpretation/data/tfmodisco_report \\\n",
    "-s /content/drive/MyDrive/MPRA-IGVF-Workshop-2024/Tutorials/T3_MPRA_modeling_interpretation/data/tfmodisco_report \\\n",
    "-m /content/drive/MyDrive/MPRA-IGVF-Workshop-2024/Tutorials/T3_MPRA_modeling_interpretation/data/JASPAR2022_CORE_vertebrates_non-redundant_pfms_meme_nice.txt"
   ]
  },
  {
   "cell_type": "markdown",
   "metadata": {
    "id": "1kjHDedQJFtx"
   },
   "source": [
    "After creating a copy of the file `motifs.html` in the directory above the output folder, we can explore the modisco results (doesn't work properly in this colab, sorry) :-)."
   ]
  },
  {
   "cell_type": "code",
   "execution_count": null,
   "metadata": {
    "colab": {
     "background_save": true
    },
    "id": "l6yC7UojJVc7"
   },
   "outputs": [],
   "source": [
    "# demo example\n",
    "#!cp /content/drive/MyDrive/MPRA-IGVF-Workshop-2024/Tutorials/T3_MPRA_modeling_interpretation/data/tfmodisco_report/motifs.html /content/drive/MyDrive/MPRA-IGVF-Workshop-2024/Tutorials/T3_MPRA_modeling_interpretation/data/motifs.html\n",
    "\n",
    "# real example\n",
    "!cp /content/drive/MyDrive/MPRA-IGVF-Workshop-2024/Tutorials/T3_MPRA_modeling_interpretation/data/tfmodisco_report_MPRAultra_all/motifs.html /content/drive/MyDrive/MPRA-IGVF-Workshop-2024/Tutorials/T3_MPRA_modeling_interpretation/data/motifs.html"
   ]
  },
  {
   "cell_type": "code",
   "execution_count": null,
   "metadata": {
    "colab": {
     "background_save": true
    },
    "id": "hL9_oHlEq6Py"
   },
   "outputs": [
    {
     "data": {
      "text/html": [
       "<table border=\"1\" class=\"dataframe\">\n",
       "  <thead>\n",
       "    <tr style=\"text-align: right;\">\n",
       "      <th>pattern</th>\n",
       "      <th>num_seqlets</th>\n",
       "      <th>modisco_cwm_fwd</th>\n",
       "      <th>modisco_cwm_rev</th>\n",
       "      <th>match0</th>\n",
       "      <th>qval0</th>\n",
       "      <th>match0_logo</th>\n",
       "      <th>match1</th>\n",
       "      <th>qval1</th>\n",
       "      <th>match1_logo</th>\n",
       "      <th>match2</th>\n",
       "      <th>qval2</th>\n",
       "      <th>match2_logo</th>\n",
       "    </tr>\n",
       "  </thead>\n",
       "  <tbody>\n",
       "    <tr>\n",
       "      <td>pos_patterns.pattern_0</td>\n",
       "      <td>3592</td>\n",
       "      <td><img src=\"tfmodisco_report_MPRAultra_all//trimmed_logos/pos_patterns.pattern_0.cwm.fwd.png\" width=\"240\" ></td>\n",
       "      <td><img src=\"tfmodisco_report_MPRAultra_all//trimmed_logos/pos_patterns.pattern_0.cwm.rev.png\" width=\"240\" ></td>\n",
       "      <td>MA0599.1_MA0599.1.KLF5</td>\n",
       "      <td>0.000020</td>\n",
       "      <td><img src=\"tfmodisco_report_MPRAultra_all/MA0599.1_MA0599.1.KLF5.png\" width=\"240\" ></td>\n",
       "      <td>MA0685.2_MA0685.2.SP4</td>\n",
       "      <td>0.000020</td>\n",
       "      <td><img src=\"tfmodisco_report_MPRAultra_all/MA0685.2_MA0685.2.SP4.png\" width=\"240\" ></td>\n",
       "      <td>MA0079.5_MA0079.5.SP1</td>\n",
       "      <td>0.000026</td>\n",
       "      <td><img src=\"tfmodisco_report_MPRAultra_all/MA0079.5_MA0079.5.SP1.png\" width=\"240\" ></td>\n",
       "    </tr>\n",
       "    <tr>\n",
       "      <td>pos_patterns.pattern_1</td>\n",
       "      <td>2938</td>\n",
       "      <td><img src=\"tfmodisco_report_MPRAultra_all//trimmed_logos/pos_patterns.pattern_1.cwm.fwd.png\" width=\"240\" ></td>\n",
       "      <td><img src=\"tfmodisco_report_MPRAultra_all//trimmed_logos/pos_patterns.pattern_1.cwm.rev.png\" width=\"240\" ></td>\n",
       "      <td>MA0474.3_MA0474.3.Erg</td>\n",
       "      <td>0.000051</td>\n",
       "      <td><img src=\"tfmodisco_report_MPRAultra_all/MA0474.3_MA0474.3.Erg.png\" width=\"240\" ></td>\n",
       "      <td>MA1956.1_MA1956.1.FOXO1::FLI1</td>\n",
       "      <td>0.000111</td>\n",
       "      <td><img src=\"tfmodisco_report_MPRAultra_all/MA1956.1_MA1956.1.FOXO1::FLI1.png\" width=\"240\" ></td>\n",
       "      <td>MA0062.3_MA0062.3.GABPA</td>\n",
       "      <td>0.000111</td>\n",
       "      <td><img src=\"tfmodisco_report_MPRAultra_all/MA0062.3_MA0062.3.GABPA.png\" width=\"240\" ></td>\n",
       "    </tr>\n",
       "    <tr>\n",
       "      <td>pos_patterns.pattern_2</td>\n",
       "      <td>1531</td>\n",
       "      <td><img src=\"tfmodisco_report_MPRAultra_all//trimmed_logos/pos_patterns.pattern_2.cwm.fwd.png\" width=\"240\" ></td>\n",
       "      <td><img src=\"tfmodisco_report_MPRAultra_all//trimmed_logos/pos_patterns.pattern_2.cwm.rev.png\" width=\"240\" ></td>\n",
       "      <td>MA0036.3_MA0036.3.GATA2</td>\n",
       "      <td>0.001342</td>\n",
       "      <td><img src=\"tfmodisco_report_MPRAultra_all/MA0036.3_MA0036.3.GATA2.png\" width=\"240\" ></td>\n",
       "      <td>MA1970.1_MA1970.1.TRPS1</td>\n",
       "      <td>0.001342</td>\n",
       "      <td><img src=\"tfmodisco_report_MPRAultra_all/MA1970.1_MA1970.1.TRPS1.png\" width=\"240\" ></td>\n",
       "      <td>MA1104.2_MA1104.2.GATA6</td>\n",
       "      <td>0.001342</td>\n",
       "      <td><img src=\"tfmodisco_report_MPRAultra_all/MA1104.2_MA1104.2.GATA6.png\" width=\"240\" ></td>\n",
       "    </tr>\n",
       "    <tr>\n",
       "      <td>pos_patterns.pattern_3</td>\n",
       "      <td>1410</td>\n",
       "      <td><img src=\"tfmodisco_report_MPRAultra_all//trimmed_logos/pos_patterns.pattern_3.cwm.fwd.png\" width=\"240\" ></td>\n",
       "      <td><img src=\"tfmodisco_report_MPRAultra_all//trimmed_logos/pos_patterns.pattern_3.cwm.rev.png\" width=\"240\" ></td>\n",
       "      <td>MA1644.1_MA1644.1.NFYC</td>\n",
       "      <td>0.000005</td>\n",
       "      <td><img src=\"tfmodisco_report_MPRAultra_all/MA1644.1_MA1644.1.NFYC.png\" width=\"240\" ></td>\n",
       "      <td>MA0060.3_MA0060.3.NFYA</td>\n",
       "      <td>0.000100</td>\n",
       "      <td><img src=\"tfmodisco_report_MPRAultra_all/MA0060.3_MA0060.3.NFYA.png\" width=\"240\" ></td>\n",
       "      <td>MA0502.2_MA0502.2.NFYB</td>\n",
       "      <td>0.055698</td>\n",
       "      <td><img src=\"tfmodisco_report_MPRAultra_all/MA0502.2_MA0502.2.NFYB.png\" width=\"240\" ></td>\n",
       "    </tr>\n",
       "    <tr>\n",
       "      <td>pos_patterns.pattern_4</td>\n",
       "      <td>1298</td>\n",
       "      <td><img src=\"tfmodisco_report_MPRAultra_all//trimmed_logos/pos_patterns.pattern_4.cwm.fwd.png\" width=\"240\" ></td>\n",
       "      <td><img src=\"tfmodisco_report_MPRAultra_all//trimmed_logos/pos_patterns.pattern_4.cwm.rev.png\" width=\"240\" ></td>\n",
       "      <td>MA1633.2_MA1633.2.BACH1</td>\n",
       "      <td>0.004738</td>\n",
       "      <td><img src=\"tfmodisco_report_MPRAultra_all/MA1633.2_MA1633.2.BACH1.png\" width=\"240\" ></td>\n",
       "      <td>MA0835.2_MA0835.2.BATF3</td>\n",
       "      <td>0.004738</td>\n",
       "      <td><img src=\"tfmodisco_report_MPRAultra_all/MA0835.2_MA0835.2.BATF3.png\" width=\"240\" ></td>\n",
       "      <td>MA1988.1_MA1988.1.Atf3</td>\n",
       "      <td>0.004738</td>\n",
       "      <td><img src=\"tfmodisco_report_MPRAultra_all/MA1988.1_MA1988.1.Atf3.png\" width=\"240\" ></td>\n",
       "    </tr>\n",
       "    <tr>\n",
       "      <td>pos_patterns.pattern_5</td>\n",
       "      <td>1233</td>\n",
       "      <td><img src=\"tfmodisco_report_MPRAultra_all//trimmed_logos/pos_patterns.pattern_5.cwm.fwd.png\" width=\"240\" ></td>\n",
       "      <td><img src=\"tfmodisco_report_MPRAultra_all//trimmed_logos/pos_patterns.pattern_5.cwm.rev.png\" width=\"240\" ></td>\n",
       "      <td>MA0643.1_MA0643.1.Esrrg</td>\n",
       "      <td>1.000000</td>\n",
       "      <td><img src=\"tfmodisco_report_MPRAultra_all/MA0643.1_MA0643.1.Esrrg.png\" width=\"240\" ></td>\n",
       "      <td>MA0160.2_MA0160.2.NR4A2</td>\n",
       "      <td>1.000000</td>\n",
       "      <td><img src=\"tfmodisco_report_MPRAultra_all/MA0160.2_MA0160.2.NR4A2.png\" width=\"240\" ></td>\n",
       "      <td>MA1581.1_MA1581.1.ZBTB6</td>\n",
       "      <td>1.000000</td>\n",
       "      <td><img src=\"tfmodisco_report_MPRAultra_all/MA1581.1_MA1581.1.ZBTB6.png\" width=\"240\" ></td>\n",
       "    </tr>\n",
       "    <tr>\n",
       "      <td>pos_patterns.pattern_6</td>\n",
       "      <td>904</td>\n",
       "      <td><img src=\"tfmodisco_report_MPRAultra_all//trimmed_logos/pos_patterns.pattern_6.cwm.fwd.png\" width=\"240\" ></td>\n",
       "      <td><img src=\"tfmodisco_report_MPRAultra_all//trimmed_logos/pos_patterns.pattern_6.cwm.rev.png\" width=\"240\" ></td>\n",
       "      <td>MA0833.2_MA0833.2.ATF4</td>\n",
       "      <td>0.000593</td>\n",
       "      <td><img src=\"tfmodisco_report_MPRAultra_all/MA0833.2_MA0833.2.ATF4.png\" width=\"240\" ></td>\n",
       "      <td>MA1636.1_MA1636.1.CEBPG</td>\n",
       "      <td>0.001334</td>\n",
       "      <td><img src=\"tfmodisco_report_MPRAultra_all/MA1636.1_MA1636.1.CEBPG.png\" width=\"240\" ></td>\n",
       "      <td>MA1962.1_MA1962.1.POU2F1::SOX2</td>\n",
       "      <td>0.268047</td>\n",
       "      <td><img src=\"tfmodisco_report_MPRAultra_all/MA1962.1_MA1962.1.POU2F1::SOX2.png\" width=\"240\" ></td>\n",
       "    </tr>\n",
       "    <tr>\n",
       "      <td>pos_patterns.pattern_7</td>\n",
       "      <td>507</td>\n",
       "      <td><img src=\"tfmodisco_report_MPRAultra_all//trimmed_logos/pos_patterns.pattern_7.cwm.fwd.png\" width=\"240\" ></td>\n",
       "      <td><img src=\"tfmodisco_report_MPRAultra_all//trimmed_logos/pos_patterns.pattern_7.cwm.rev.png\" width=\"240\" ></td>\n",
       "      <td>MA1512.1_MA1512.1.KLF11</td>\n",
       "      <td>0.000483</td>\n",
       "      <td><img src=\"tfmodisco_report_MPRAultra_all/MA1512.1_MA1512.1.KLF11.png\" width=\"240\" ></td>\n",
       "      <td>MA0746.2_MA0746.2.SP3</td>\n",
       "      <td>0.000516</td>\n",
       "      <td><img src=\"tfmodisco_report_MPRAultra_all/MA0746.2_MA0746.2.SP3.png\" width=\"240\" ></td>\n",
       "      <td>MA1517.1_MA1517.1.KLF6</td>\n",
       "      <td>0.000516</td>\n",
       "      <td><img src=\"tfmodisco_report_MPRAultra_all/MA1517.1_MA1517.1.KLF6.png\" width=\"240\" ></td>\n",
       "    </tr>\n",
       "    <tr>\n",
       "      <td>pos_patterns.pattern_8</td>\n",
       "      <td>314</td>\n",
       "      <td><img src=\"tfmodisco_report_MPRAultra_all//trimmed_logos/pos_patterns.pattern_8.cwm.fwd.png\" width=\"240\" ></td>\n",
       "      <td><img src=\"tfmodisco_report_MPRAultra_all//trimmed_logos/pos_patterns.pattern_8.cwm.rev.png\" width=\"240\" ></td>\n",
       "      <td>MA0093.3_MA0093.3.USF1</td>\n",
       "      <td>0.000019</td>\n",
       "      <td><img src=\"tfmodisco_report_MPRAultra_all/MA0093.3_MA0093.3.USF1.png\" width=\"240\" ></td>\n",
       "      <td>MA0831.3_MA0831.3.TFE3</td>\n",
       "      <td>0.000441</td>\n",
       "      <td><img src=\"tfmodisco_report_MPRAultra_all/MA0831.3_MA0831.3.TFE3.png\" width=\"240\" ></td>\n",
       "      <td>MA0636.1_MA0636.1.BHLHE41</td>\n",
       "      <td>0.000441</td>\n",
       "      <td><img src=\"tfmodisco_report_MPRAultra_all/MA0636.1_MA0636.1.BHLHE41.png\" width=\"240\" ></td>\n",
       "    </tr>\n",
       "    <tr>\n",
       "      <td>pos_patterns.pattern_9</td>\n",
       "      <td>285</td>\n",
       "      <td><img src=\"tfmodisco_report_MPRAultra_all//trimmed_logos/pos_patterns.pattern_9.cwm.fwd.png\" width=\"240\" ></td>\n",
       "      <td><img src=\"tfmodisco_report_MPRAultra_all//trimmed_logos/pos_patterns.pattern_9.cwm.rev.png\" width=\"240\" ></td>\n",
       "      <td>MA0088.2_MA0088.2.ZNF143</td>\n",
       "      <td>1.000000</td>\n",
       "      <td><img src=\"tfmodisco_report_MPRAultra_all/MA0088.2_MA0088.2.ZNF143.png\" width=\"240\" ></td>\n",
       "      <td>MA1716.1_MA1716.1.ZNF76</td>\n",
       "      <td>1.000000</td>\n",
       "      <td><img src=\"tfmodisco_report_MPRAultra_all/MA1716.1_MA1716.1.ZNF76.png\" width=\"240\" ></td>\n",
       "      <td>MA0038.2_MA0038.2.GFI1</td>\n",
       "      <td>1.000000</td>\n",
       "      <td><img src=\"tfmodisco_report_MPRAultra_all/MA0038.2_MA0038.2.GFI1.png\" width=\"240\" ></td>\n",
       "    </tr>\n",
       "    <tr>\n",
       "      <td>pos_patterns.pattern_10</td>\n",
       "      <td>272</td>\n",
       "      <td><img src=\"tfmodisco_report_MPRAultra_all//trimmed_logos/pos_patterns.pattern_10.cwm.fwd.png\" width=\"240\" ></td>\n",
       "      <td><img src=\"tfmodisco_report_MPRAultra_all//trimmed_logos/pos_patterns.pattern_10.cwm.rev.png\" width=\"240\" ></td>\n",
       "      <td>MA0591.1_MA0591.1.Bach1::Mafk</td>\n",
       "      <td>0.394208</td>\n",
       "      <td><img src=\"tfmodisco_report_MPRAultra_all/MA0591.1_MA0591.1.Bach1::Mafk.png\" width=\"240\" ></td>\n",
       "      <td>MA0150.2_MA0150.2.Nfe2l2</td>\n",
       "      <td>0.394208</td>\n",
       "      <td><img src=\"tfmodisco_report_MPRAultra_all/MA0150.2_MA0150.2.Nfe2l2.png\" width=\"240\" ></td>\n",
       "      <td>MA0501.1_MA0501.1.MAF::NFE2</td>\n",
       "      <td>0.394208</td>\n",
       "      <td><img src=\"tfmodisco_report_MPRAultra_all/MA0501.1_MA0501.1.MAF::NFE2.png\" width=\"240\" ></td>\n",
       "    </tr>\n",
       "    <tr>\n",
       "      <td>pos_patterns.pattern_11</td>\n",
       "      <td>269</td>\n",
       "      <td><img src=\"tfmodisco_report_MPRAultra_all//trimmed_logos/pos_patterns.pattern_11.cwm.fwd.png\" width=\"240\" ></td>\n",
       "      <td><img src=\"tfmodisco_report_MPRAultra_all//trimmed_logos/pos_patterns.pattern_11.cwm.rev.png\" width=\"240\" ></td>\n",
       "      <td>MA0506.2_MA0506.2.Nrf1</td>\n",
       "      <td>0.016551</td>\n",
       "      <td><img src=\"tfmodisco_report_MPRAultra_all/MA0506.2_MA0506.2.Nrf1.png\" width=\"240\" ></td>\n",
       "      <td>MA1560.1_MA1560.1.SOHLH2</td>\n",
       "      <td>0.920739</td>\n",
       "      <td><img src=\"tfmodisco_report_MPRAultra_all/MA1560.1_MA1560.1.SOHLH2.png\" width=\"240\" ></td>\n",
       "      <td>MA0103.3_MA0103.3.ZEB1</td>\n",
       "      <td>1.000000</td>\n",
       "      <td><img src=\"tfmodisco_report_MPRAultra_all/MA0103.3_MA0103.3.ZEB1.png\" width=\"240\" ></td>\n",
       "    </tr>\n",
       "    <tr>\n",
       "      <td>pos_patterns.pattern_12</td>\n",
       "      <td>259</td>\n",
       "      <td><img src=\"tfmodisco_report_MPRAultra_all//trimmed_logos/pos_patterns.pattern_12.cwm.fwd.png\" width=\"240\" ></td>\n",
       "      <td><img src=\"tfmodisco_report_MPRAultra_all//trimmed_logos/pos_patterns.pattern_12.cwm.rev.png\" width=\"240\" ></td>\n",
       "      <td>MA0040.1_MA0040.1.Foxq1</td>\n",
       "      <td>0.552257</td>\n",
       "      <td><img src=\"tfmodisco_report_MPRAultra_all/MA0040.1_MA0040.1.Foxq1.png\" width=\"240\" ></td>\n",
       "      <td>MA0700.2_MA0700.2.LHX2</td>\n",
       "      <td>0.552257</td>\n",
       "      <td><img src=\"tfmodisco_report_MPRAultra_all/MA0700.2_MA0700.2.LHX2.png\" width=\"240\" ></td>\n",
       "      <td>MA0680.2_MA0680.2.Pax7</td>\n",
       "      <td>0.552257</td>\n",
       "      <td><img src=\"tfmodisco_report_MPRAultra_all/MA0680.2_MA0680.2.Pax7.png\" width=\"240\" ></td>\n",
       "    </tr>\n",
       "    <tr>\n",
       "      <td>pos_patterns.pattern_13</td>\n",
       "      <td>258</td>\n",
       "      <td><img src=\"tfmodisco_report_MPRAultra_all//trimmed_logos/pos_patterns.pattern_13.cwm.fwd.png\" width=\"240\" ></td>\n",
       "      <td><img src=\"tfmodisco_report_MPRAultra_all//trimmed_logos/pos_patterns.pattern_13.cwm.rev.png\" width=\"240\" ></td>\n",
       "      <td>MA0035.4_MA0035.4.GATA1</td>\n",
       "      <td>1.000000</td>\n",
       "      <td><img src=\"tfmodisco_report_MPRAultra_all/MA0035.4_MA0035.4.GATA1.png\" width=\"240\" ></td>\n",
       "      <td>MA0712.2_MA0712.2.OTX2</td>\n",
       "      <td>1.000000</td>\n",
       "      <td><img src=\"tfmodisco_report_MPRAultra_all/MA0712.2_MA0712.2.OTX2.png\" width=\"240\" ></td>\n",
       "      <td>MA0052.4_MA0052.4.MEF2A</td>\n",
       "      <td>1.000000</td>\n",
       "      <td><img src=\"tfmodisco_report_MPRAultra_all/MA0052.4_MA0052.4.MEF2A.png\" width=\"240\" ></td>\n",
       "    </tr>\n",
       "    <tr>\n",
       "      <td>pos_patterns.pattern_14</td>\n",
       "      <td>256</td>\n",
       "      <td><img src=\"tfmodisco_report_MPRAultra_all//trimmed_logos/pos_patterns.pattern_14.cwm.fwd.png\" width=\"240\" ></td>\n",
       "      <td><img src=\"tfmodisco_report_MPRAultra_all//trimmed_logos/pos_patterns.pattern_14.cwm.rev.png\" width=\"240\" ></td>\n",
       "      <td>MA1136.1_MA1136.1.FOSB::JUNB</td>\n",
       "      <td>0.000021</td>\n",
       "      <td><img src=\"tfmodisco_report_MPRAultra_all/MA1136.1_MA1136.1.FOSB::JUNB.png\" width=\"240\" ></td>\n",
       "      <td>MA1133.1_MA1133.1.JUN::JUNB</td>\n",
       "      <td>0.000021</td>\n",
       "      <td><img src=\"tfmodisco_report_MPRAultra_all/MA1133.1_MA1133.1.JUN::JUNB.png\" width=\"240\" ></td>\n",
       "      <td>MA0840.1_MA0840.1.Creb5</td>\n",
       "      <td>0.000021</td>\n",
       "      <td><img src=\"tfmodisco_report_MPRAultra_all/MA0840.1_MA0840.1.Creb5.png\" width=\"240\" ></td>\n",
       "    </tr>\n",
       "    <tr>\n",
       "      <td>pos_patterns.pattern_15</td>\n",
       "      <td>228</td>\n",
       "      <td><img src=\"tfmodisco_report_MPRAultra_all//trimmed_logos/pos_patterns.pattern_15.cwm.fwd.png\" width=\"240\" ></td>\n",
       "      <td><img src=\"tfmodisco_report_MPRAultra_all//trimmed_logos/pos_patterns.pattern_15.cwm.rev.png\" width=\"240\" ></td>\n",
       "      <td>MA0658.1_MA0658.1.LHX6</td>\n",
       "      <td>0.941741</td>\n",
       "      <td><img src=\"tfmodisco_report_MPRAultra_all/MA0658.1_MA0658.1.LHX6.png\" width=\"240\" ></td>\n",
       "      <td>MA0705.1_MA0705.1.Lhx8</td>\n",
       "      <td>0.941741</td>\n",
       "      <td><img src=\"tfmodisco_report_MPRAultra_all/MA0705.1_MA0705.1.Lhx8.png\" width=\"240\" ></td>\n",
       "      <td>MA0593.1_MA0593.1.FOXP2</td>\n",
       "      <td>0.941741</td>\n",
       "      <td><img src=\"tfmodisco_report_MPRAultra_all/MA0593.1_MA0593.1.FOXP2.png\" width=\"240\" ></td>\n",
       "    </tr>\n",
       "    <tr>\n",
       "      <td>pos_patterns.pattern_16</td>\n",
       "      <td>206</td>\n",
       "      <td><img src=\"tfmodisco_report_MPRAultra_all//trimmed_logos/pos_patterns.pattern_16.cwm.fwd.png\" width=\"240\" ></td>\n",
       "      <td><img src=\"tfmodisco_report_MPRAultra_all//trimmed_logos/pos_patterns.pattern_16.cwm.rev.png\" width=\"240\" ></td>\n",
       "      <td>MA1573.2_MA1573.2.Thap11</td>\n",
       "      <td>1.000000</td>\n",
       "      <td><img src=\"tfmodisco_report_MPRAultra_all/MA1573.2_MA1573.2.Thap11.png\" width=\"240\" ></td>\n",
       "      <td>MA1718.1_MA1718.1.ZNF8</td>\n",
       "      <td>1.000000</td>\n",
       "      <td><img src=\"tfmodisco_report_MPRAultra_all/MA1718.1_MA1718.1.ZNF8.png\" width=\"240\" ></td>\n",
       "      <td>MA1479.1_MA1479.1.DMRTC2</td>\n",
       "      <td>1.000000</td>\n",
       "      <td><img src=\"tfmodisco_report_MPRAultra_all/MA1479.1_MA1479.1.DMRTC2.png\" width=\"240\" ></td>\n",
       "    </tr>\n",
       "    <tr>\n",
       "      <td>pos_patterns.pattern_17</td>\n",
       "      <td>110</td>\n",
       "      <td><img src=\"tfmodisco_report_MPRAultra_all//trimmed_logos/pos_patterns.pattern_17.cwm.fwd.png\" width=\"240\" ></td>\n",
       "      <td><img src=\"tfmodisco_report_MPRAultra_all//trimmed_logos/pos_patterns.pattern_17.cwm.rev.png\" width=\"240\" ></td>\n",
       "      <td>MA0493.2_MA0493.2.KLF1</td>\n",
       "      <td>0.530656</td>\n",
       "      <td><img src=\"tfmodisco_report_MPRAultra_all/MA0493.2_MA0493.2.KLF1.png\" width=\"240\" ></td>\n",
       "      <td>MA0599.1_MA0599.1.KLF5</td>\n",
       "      <td>0.530656</td>\n",
       "      <td><img src=\"tfmodisco_report_MPRAultra_all/MA0599.1_MA0599.1.KLF5.png\" width=\"240\" ></td>\n",
       "      <td>MA0740.2_MA0740.2.KLF14</td>\n",
       "      <td>0.530656</td>\n",
       "      <td><img src=\"tfmodisco_report_MPRAultra_all/MA0740.2_MA0740.2.KLF14.png\" width=\"240\" ></td>\n",
       "    </tr>\n",
       "    <tr>\n",
       "      <td>pos_patterns.pattern_18</td>\n",
       "      <td>96</td>\n",
       "      <td><img src=\"tfmodisco_report_MPRAultra_all//trimmed_logos/pos_patterns.pattern_18.cwm.fwd.png\" width=\"240\" ></td>\n",
       "      <td><img src=\"tfmodisco_report_MPRAultra_all//trimmed_logos/pos_patterns.pattern_18.cwm.rev.png\" width=\"240\" ></td>\n",
       "      <td>MA1115.1_MA1115.1.POU5F1</td>\n",
       "      <td>0.002864</td>\n",
       "      <td><img src=\"tfmodisco_report_MPRAultra_all/MA1115.1_MA1115.1.POU5F1.png\" width=\"240\" ></td>\n",
       "      <td>MA0792.1_MA0792.1.POU5F1B</td>\n",
       "      <td>0.002864</td>\n",
       "      <td><img src=\"tfmodisco_report_MPRAultra_all/MA0792.1_MA0792.1.POU5F1B.png\" width=\"240\" ></td>\n",
       "      <td>MA0789.1_MA0789.1.POU3F4</td>\n",
       "      <td>0.003108</td>\n",
       "      <td><img src=\"tfmodisco_report_MPRAultra_all/MA0789.1_MA0789.1.POU3F4.png\" width=\"240\" ></td>\n",
       "    </tr>\n",
       "    <tr>\n",
       "      <td>pos_patterns.pattern_19</td>\n",
       "      <td>95</td>\n",
       "      <td><img src=\"tfmodisco_report_MPRAultra_all//trimmed_logos/pos_patterns.pattern_19.cwm.fwd.png\" width=\"240\" ></td>\n",
       "      <td><img src=\"tfmodisco_report_MPRAultra_all//trimmed_logos/pos_patterns.pattern_19.cwm.rev.png\" width=\"240\" ></td>\n",
       "      <td>MA0062.3_MA0062.3.GABPA</td>\n",
       "      <td>0.001365</td>\n",
       "      <td><img src=\"tfmodisco_report_MPRAultra_all/MA0062.3_MA0062.3.GABPA.png\" width=\"240\" ></td>\n",
       "      <td>MA0598.3_MA0598.3.EHF</td>\n",
       "      <td>0.001365</td>\n",
       "      <td><img src=\"tfmodisco_report_MPRAultra_all/MA0598.3_MA0598.3.EHF.png\" width=\"240\" ></td>\n",
       "      <td>MA0474.3_MA0474.3.Erg</td>\n",
       "      <td>0.001365</td>\n",
       "      <td><img src=\"tfmodisco_report_MPRAultra_all/MA0474.3_MA0474.3.Erg.png\" width=\"240\" ></td>\n",
       "    </tr>\n",
       "    <tr>\n",
       "      <td>pos_patterns.pattern_20</td>\n",
       "      <td>80</td>\n",
       "      <td><img src=\"tfmodisco_report_MPRAultra_all//trimmed_logos/pos_patterns.pattern_20.cwm.fwd.png\" width=\"240\" ></td>\n",
       "      <td><img src=\"tfmodisco_report_MPRAultra_all//trimmed_logos/pos_patterns.pattern_20.cwm.rev.png\" width=\"240\" ></td>\n",
       "      <td>MA1650.1_MA1650.1.ZBTB14</td>\n",
       "      <td>1.000000</td>\n",
       "      <td><img src=\"tfmodisco_report_MPRAultra_all/MA1650.1_MA1650.1.ZBTB14.png\" width=\"240\" ></td>\n",
       "      <td>MA0472.2_MA0472.2.EGR2</td>\n",
       "      <td>1.000000</td>\n",
       "      <td><img src=\"tfmodisco_report_MPRAultra_all/MA0472.2_MA0472.2.EGR2.png\" width=\"240\" ></td>\n",
       "      <td>MA0632.2_MA0632.2.TCFL5</td>\n",
       "      <td>1.000000</td>\n",
       "      <td><img src=\"tfmodisco_report_MPRAultra_all/MA0632.2_MA0632.2.TCFL5.png\" width=\"240\" ></td>\n",
       "    </tr>\n",
       "    <tr>\n",
       "      <td>pos_patterns.pattern_21</td>\n",
       "      <td>68</td>\n",
       "      <td><img src=\"tfmodisco_report_MPRAultra_all//trimmed_logos/pos_patterns.pattern_21.cwm.fwd.png\" width=\"240\" ></td>\n",
       "      <td><img src=\"tfmodisco_report_MPRAultra_all//trimmed_logos/pos_patterns.pattern_21.cwm.rev.png\" width=\"240\" ></td>\n",
       "      <td>MA0754.2_MA0754.2.CUX1</td>\n",
       "      <td>0.191865</td>\n",
       "      <td><img src=\"tfmodisco_report_MPRAultra_all/MA0754.2_MA0754.2.CUX1.png\" width=\"240\" ></td>\n",
       "      <td>MA0755.1_MA0755.1.CUX2</td>\n",
       "      <td>0.191865</td>\n",
       "      <td><img src=\"tfmodisco_report_MPRAultra_all/MA0755.1_MA0755.1.CUX2.png\" width=\"240\" ></td>\n",
       "      <td>MA0757.1_MA0757.1.ONECUT3</td>\n",
       "      <td>0.724195</td>\n",
       "      <td><img src=\"tfmodisco_report_MPRAultra_all/MA0757.1_MA0757.1.ONECUT3.png\" width=\"240\" ></td>\n",
       "    </tr>\n",
       "    <tr>\n",
       "      <td>pos_patterns.pattern_22</td>\n",
       "      <td>60</td>\n",
       "      <td><img src=\"tfmodisco_report_MPRAultra_all//trimmed_logos/pos_patterns.pattern_22.cwm.fwd.png\" width=\"240\" ></td>\n",
       "      <td><img src=\"tfmodisco_report_MPRAultra_all//trimmed_logos/pos_patterns.pattern_22.cwm.rev.png\" width=\"240\" ></td>\n",
       "      <td>MA0527.1_MA0527.1.ZBTB33</td>\n",
       "      <td>0.048376</td>\n",
       "      <td><img src=\"tfmodisco_report_MPRAultra_all/MA0527.1_MA0527.1.ZBTB33.png\" width=\"240\" ></td>\n",
       "      <td>MA0828.2_MA0828.2.SREBF2</td>\n",
       "      <td>0.200827</td>\n",
       "      <td><img src=\"tfmodisco_report_MPRAultra_all/MA0828.2_MA0828.2.SREBF2.png\" width=\"240\" ></td>\n",
       "      <td>MA0663.1_MA0663.1.MLX</td>\n",
       "      <td>0.290034</td>\n",
       "      <td><img src=\"tfmodisco_report_MPRAultra_all/MA0663.1_MA0663.1.MLX.png\" width=\"240\" ></td>\n",
       "    </tr>\n",
       "    <tr>\n",
       "      <td>pos_patterns.pattern_23</td>\n",
       "      <td>48</td>\n",
       "      <td><img src=\"tfmodisco_report_MPRAultra_all//trimmed_logos/pos_patterns.pattern_23.cwm.fwd.png\" width=\"240\" ></td>\n",
       "      <td><img src=\"tfmodisco_report_MPRAultra_all//trimmed_logos/pos_patterns.pattern_23.cwm.rev.png\" width=\"240\" ></td>\n",
       "      <td>MA0083.3_MA0083.3.SRF</td>\n",
       "      <td>0.030790</td>\n",
       "      <td><img src=\"tfmodisco_report_MPRAultra_all/MA0083.3_MA0083.3.SRF.png\" width=\"240\" ></td>\n",
       "      <td>MA0635.1_MA0635.1.BARHL2</td>\n",
       "      <td>1.000000</td>\n",
       "      <td><img src=\"tfmodisco_report_MPRAultra_all/MA0635.1_MA0635.1.BARHL2.png\" width=\"240\" ></td>\n",
       "      <td>MA1654.1_MA1654.1.ZNF16</td>\n",
       "      <td>1.000000</td>\n",
       "      <td><img src=\"tfmodisco_report_MPRAultra_all/MA1654.1_MA1654.1.ZNF16.png\" width=\"240\" ></td>\n",
       "    </tr>\n",
       "    <tr>\n",
       "      <td>pos_patterns.pattern_24</td>\n",
       "      <td>42</td>\n",
       "      <td><img src=\"tfmodisco_report_MPRAultra_all//trimmed_logos/pos_patterns.pattern_24.cwm.fwd.png\" width=\"240\" ></td>\n",
       "      <td><img src=\"tfmodisco_report_MPRAultra_all//trimmed_logos/pos_patterns.pattern_24.cwm.rev.png\" width=\"240\" ></td>\n",
       "      <td>MA1708.1_MA1708.1.ETV7</td>\n",
       "      <td>0.037936</td>\n",
       "      <td><img src=\"tfmodisco_report_MPRAultra_all/MA1708.1_MA1708.1.ETV7.png\" width=\"240\" ></td>\n",
       "      <td>MA0687.1_MA0687.1.SPIC</td>\n",
       "      <td>0.417096</td>\n",
       "      <td><img src=\"tfmodisco_report_MPRAultra_all/MA0687.1_MA0687.1.SPIC.png\" width=\"240\" ></td>\n",
       "      <td>MA0641.1_MA0641.1.ELF4</td>\n",
       "      <td>0.417096</td>\n",
       "      <td><img src=\"tfmodisco_report_MPRAultra_all/MA0641.1_MA0641.1.ELF4.png\" width=\"240\" ></td>\n",
       "    </tr>\n",
       "    <tr>\n",
       "      <td>pos_patterns.pattern_25</td>\n",
       "      <td>34</td>\n",
       "      <td><img src=\"tfmodisco_report_MPRAultra_all//trimmed_logos/pos_patterns.pattern_25.cwm.fwd.png\" width=\"240\" ></td>\n",
       "      <td><img src=\"tfmodisco_report_MPRAultra_all//trimmed_logos/pos_patterns.pattern_25.cwm.rev.png\" width=\"240\" ></td>\n",
       "      <td>MA0060.3_MA0060.3.NFYA</td>\n",
       "      <td>0.089910</td>\n",
       "      <td><img src=\"tfmodisco_report_MPRAultra_all/MA0060.3_MA0060.3.NFYA.png\" width=\"240\" ></td>\n",
       "      <td>MA1644.1_MA1644.1.NFYC</td>\n",
       "      <td>0.089910</td>\n",
       "      <td><img src=\"tfmodisco_report_MPRAultra_all/MA1644.1_MA1644.1.NFYC.png\" width=\"240\" ></td>\n",
       "      <td>MA0739.1_MA0739.1.Hic1</td>\n",
       "      <td>0.415964</td>\n",
       "      <td><img src=\"tfmodisco_report_MPRAultra_all/MA0739.1_MA0739.1.Hic1.png\" width=\"240\" ></td>\n",
       "    </tr>\n",
       "    <tr>\n",
       "      <td>pos_patterns.pattern_26</td>\n",
       "      <td>34</td>\n",
       "      <td><img src=\"tfmodisco_report_MPRAultra_all//trimmed_logos/pos_patterns.pattern_26.cwm.fwd.png\" width=\"240\" ></td>\n",
       "      <td><img src=\"tfmodisco_report_MPRAultra_all//trimmed_logos/pos_patterns.pattern_26.cwm.rev.png\" width=\"240\" ></td>\n",
       "      <td>MA1728.1_MA1728.1.ZNF549</td>\n",
       "      <td>1.000000</td>\n",
       "      <td><img src=\"tfmodisco_report_MPRAultra_all/MA1728.1_MA1728.1.ZNF549.png\" width=\"240\" ></td>\n",
       "      <td>MA0072.1_MA0072.1.RORA</td>\n",
       "      <td>1.000000</td>\n",
       "      <td><img src=\"tfmodisco_report_MPRAultra_all/MA0072.1_MA0072.1.RORA.png\" width=\"240\" ></td>\n",
       "      <td>NaN</td>\n",
       "      <td>NaN</td>\n",
       "      <td><img src=\"NA\" width=\"240\" ></td>\n",
       "    </tr>\n",
       "    <tr>\n",
       "      <td>pos_patterns.pattern_27</td>\n",
       "      <td>32</td>\n",
       "      <td><img src=\"tfmodisco_report_MPRAultra_all//trimmed_logos/pos_patterns.pattern_27.cwm.fwd.png\" width=\"240\" ></td>\n",
       "      <td><img src=\"tfmodisco_report_MPRAultra_all//trimmed_logos/pos_patterns.pattern_27.cwm.rev.png\" width=\"240\" ></td>\n",
       "      <td>MA1125.1_MA1125.1.ZNF384</td>\n",
       "      <td>0.008569</td>\n",
       "      <td><img src=\"tfmodisco_report_MPRAultra_all/MA1125.1_MA1125.1.ZNF384.png\" width=\"240\" ></td>\n",
       "      <td>MA0442.2_MA0442.2.SOX10</td>\n",
       "      <td>0.519826</td>\n",
       "      <td><img src=\"tfmodisco_report_MPRAultra_all/MA0442.2_MA0442.2.SOX10.png\" width=\"240\" ></td>\n",
       "      <td>MA1487.2_MA1487.2.FOXE1</td>\n",
       "      <td>0.519826</td>\n",
       "      <td><img src=\"tfmodisco_report_MPRAultra_all/MA1487.2_MA1487.2.FOXE1.png\" width=\"240\" ></td>\n",
       "    </tr>\n",
       "    <tr>\n",
       "      <td>pos_patterns.pattern_28</td>\n",
       "      <td>31</td>\n",
       "      <td><img src=\"tfmodisco_report_MPRAultra_all//trimmed_logos/pos_patterns.pattern_28.cwm.fwd.png\" width=\"240\" ></td>\n",
       "      <td><img src=\"tfmodisco_report_MPRAultra_all//trimmed_logos/pos_patterns.pattern_28.cwm.rev.png\" width=\"240\" ></td>\n",
       "      <td>MA1107.2_MA1107.2.KLF9</td>\n",
       "      <td>0.099474</td>\n",
       "      <td><img src=\"tfmodisco_report_MPRAultra_all/MA1107.2_MA1107.2.KLF9.png\" width=\"240\" ></td>\n",
       "      <td>MA0162.4_MA0162.4.EGR1</td>\n",
       "      <td>1.000000</td>\n",
       "      <td><img src=\"tfmodisco_report_MPRAultra_all/MA0162.4_MA0162.4.EGR1.png\" width=\"240\" ></td>\n",
       "      <td>MA0073.1_MA0073.1.RREB1</td>\n",
       "      <td>1.000000</td>\n",
       "      <td><img src=\"tfmodisco_report_MPRAultra_all/MA0073.1_MA0073.1.RREB1.png\" width=\"240\" ></td>\n",
       "    </tr>\n",
       "    <tr>\n",
       "      <td>neg_patterns.pattern_0</td>\n",
       "      <td>1848</td>\n",
       "      <td><img src=\"tfmodisco_report_MPRAultra_all//trimmed_logos/neg_patterns.pattern_0.cwm.fwd.png\" width=\"240\" ></td>\n",
       "      <td><img src=\"tfmodisco_report_MPRAultra_all//trimmed_logos/neg_patterns.pattern_0.cwm.rev.png\" width=\"240\" ></td>\n",
       "      <td>MA0606.2_MA0606.2.Nfat5</td>\n",
       "      <td>0.624171</td>\n",
       "      <td><img src=\"tfmodisco_report_MPRAultra_all/MA0606.2_MA0606.2.Nfat5.png\" width=\"240\" ></td>\n",
       "      <td>MA1999.1_MA1999.1.Prdm5</td>\n",
       "      <td>0.736541</td>\n",
       "      <td><img src=\"tfmodisco_report_MPRAultra_all/MA1999.1_MA1999.1.Prdm5.png\" width=\"240\" ></td>\n",
       "      <td>MA1608.1_MA1608.1.Isl1</td>\n",
       "      <td>0.736541</td>\n",
       "      <td><img src=\"tfmodisco_report_MPRAultra_all/MA1608.1_MA1608.1.Isl1.png\" width=\"240\" ></td>\n",
       "    </tr>\n",
       "    <tr>\n",
       "      <td>neg_patterns.pattern_1</td>\n",
       "      <td>1515</td>\n",
       "      <td><img src=\"tfmodisco_report_MPRAultra_all//trimmed_logos/neg_patterns.pattern_1.cwm.fwd.png\" width=\"240\" ></td>\n",
       "      <td><img src=\"tfmodisco_report_MPRAultra_all//trimmed_logos/neg_patterns.pattern_1.cwm.rev.png\" width=\"240\" ></td>\n",
       "      <td>MA1528.1_MA1528.1.NFIX</td>\n",
       "      <td>0.152816</td>\n",
       "      <td><img src=\"tfmodisco_report_MPRAultra_all/MA1528.1_MA1528.1.NFIX.png\" width=\"240\" ></td>\n",
       "      <td>MA1527.1_MA1527.1.NFIC</td>\n",
       "      <td>0.152816</td>\n",
       "      <td><img src=\"tfmodisco_report_MPRAultra_all/MA1527.1_MA1527.1.NFIC.png\" width=\"240\" ></td>\n",
       "      <td>MA0671.1_MA0671.1.NFIX</td>\n",
       "      <td>0.693580</td>\n",
       "      <td><img src=\"tfmodisco_report_MPRAultra_all/MA0671.1_MA0671.1.NFIX.png\" width=\"240\" ></td>\n",
       "    </tr>\n",
       "    <tr>\n",
       "      <td>neg_patterns.pattern_2</td>\n",
       "      <td>1234</td>\n",
       "      <td><img src=\"tfmodisco_report_MPRAultra_all//trimmed_logos/neg_patterns.pattern_2.cwm.fwd.png\" width=\"240\" ></td>\n",
       "      <td><img src=\"tfmodisco_report_MPRAultra_all//trimmed_logos/neg_patterns.pattern_2.cwm.rev.png\" width=\"240\" ></td>\n",
       "      <td>MA1717.1_MA1717.1.ZNF784</td>\n",
       "      <td>1.000000</td>\n",
       "      <td><img src=\"tfmodisco_report_MPRAultra_all/MA1717.1_MA1717.1.ZNF784.png\" width=\"240\" ></td>\n",
       "      <td>NaN</td>\n",
       "      <td>NaN</td>\n",
       "      <td><img src=\"NA\" width=\"240\" ></td>\n",
       "      <td>NaN</td>\n",
       "      <td>NaN</td>\n",
       "      <td><img src=\"NA\" width=\"240\" ></td>\n",
       "    </tr>\n",
       "    <tr>\n",
       "      <td>neg_patterns.pattern_3</td>\n",
       "      <td>1200</td>\n",
       "      <td><img src=\"tfmodisco_report_MPRAultra_all//trimmed_logos/neg_patterns.pattern_3.cwm.fwd.png\" width=\"240\" ></td>\n",
       "      <td><img src=\"tfmodisco_report_MPRAultra_all//trimmed_logos/neg_patterns.pattern_3.cwm.rev.png\" width=\"240\" ></td>\n",
       "      <td>MA0524.2_MA0524.2.TFAP2C</td>\n",
       "      <td>0.163058</td>\n",
       "      <td><img src=\"tfmodisco_report_MPRAultra_all/MA0524.2_MA0524.2.TFAP2C.png\" width=\"240\" ></td>\n",
       "      <td>MA0872.1_MA0872.1.TFAP2A</td>\n",
       "      <td>0.163058</td>\n",
       "      <td><img src=\"tfmodisco_report_MPRAultra_all/MA0872.1_MA0872.1.TFAP2A.png\" width=\"240\" ></td>\n",
       "      <td>MA1712.1_MA1712.1.ZNF454</td>\n",
       "      <td>0.163058</td>\n",
       "      <td><img src=\"tfmodisco_report_MPRAultra_all/MA1712.1_MA1712.1.ZNF454.png\" width=\"240\" ></td>\n",
       "    </tr>\n",
       "    <tr>\n",
       "      <td>neg_patterns.pattern_4</td>\n",
       "      <td>924</td>\n",
       "      <td><img src=\"tfmodisco_report_MPRAultra_all//trimmed_logos/neg_patterns.pattern_4.cwm.fwd.png\" width=\"240\" ></td>\n",
       "      <td><img src=\"tfmodisco_report_MPRAultra_all//trimmed_logos/neg_patterns.pattern_4.cwm.rev.png\" width=\"240\" ></td>\n",
       "      <td>MA1976.1_MA1976.1.ZNF320</td>\n",
       "      <td>0.245320</td>\n",
       "      <td><img src=\"tfmodisco_report_MPRAultra_all/MA1976.1_MA1976.1.ZNF320.png\" width=\"240\" ></td>\n",
       "      <td>MA1712.1_MA1712.1.ZNF454</td>\n",
       "      <td>0.245320</td>\n",
       "      <td><img src=\"tfmodisco_report_MPRAultra_all/MA1712.1_MA1712.1.ZNF454.png\" width=\"240\" ></td>\n",
       "      <td>MA1973.1_MA1973.1.ZKSCAN3</td>\n",
       "      <td>0.245320</td>\n",
       "      <td><img src=\"tfmodisco_report_MPRAultra_all/MA1973.1_MA1973.1.ZKSCAN3.png\" width=\"240\" ></td>\n",
       "    </tr>\n",
       "    <tr>\n",
       "      <td>neg_patterns.pattern_5</td>\n",
       "      <td>724</td>\n",
       "      <td><img src=\"tfmodisco_report_MPRAultra_all//trimmed_logos/neg_patterns.pattern_5.cwm.fwd.png\" width=\"240\" ></td>\n",
       "      <td><img src=\"tfmodisco_report_MPRAultra_all//trimmed_logos/neg_patterns.pattern_5.cwm.rev.png\" width=\"240\" ></td>\n",
       "      <td>MA1712.1_MA1712.1.ZNF454</td>\n",
       "      <td>0.094684</td>\n",
       "      <td><img src=\"tfmodisco_report_MPRAultra_all/MA1712.1_MA1712.1.ZNF454.png\" width=\"240\" ></td>\n",
       "      <td>MA1615.1_MA1615.1.Plagl1</td>\n",
       "      <td>0.219209</td>\n",
       "      <td><img src=\"tfmodisco_report_MPRAultra_all/MA1615.1_MA1615.1.Plagl1.png\" width=\"240\" ></td>\n",
       "      <td>MA1581.1_MA1581.1.ZBTB6</td>\n",
       "      <td>0.297674</td>\n",
       "      <td><img src=\"tfmodisco_report_MPRAultra_all/MA1581.1_MA1581.1.ZBTB6.png\" width=\"240\" ></td>\n",
       "    </tr>\n",
       "    <tr>\n",
       "      <td>neg_patterns.pattern_6</td>\n",
       "      <td>457</td>\n",
       "      <td><img src=\"tfmodisco_report_MPRAultra_all//trimmed_logos/neg_patterns.pattern_6.cwm.fwd.png\" width=\"240\" ></td>\n",
       "      <td><img src=\"tfmodisco_report_MPRAultra_all//trimmed_logos/neg_patterns.pattern_6.cwm.rev.png\" width=\"240\" ></td>\n",
       "      <td>MA1615.1_MA1615.1.Plagl1</td>\n",
       "      <td>0.003519</td>\n",
       "      <td><img src=\"tfmodisco_report_MPRAultra_all/MA1615.1_MA1615.1.Plagl1.png\" width=\"240\" ></td>\n",
       "      <td>MA1712.1_MA1712.1.ZNF454</td>\n",
       "      <td>0.205957</td>\n",
       "      <td><img src=\"tfmodisco_report_MPRAultra_all/MA1712.1_MA1712.1.ZNF454.png\" width=\"240\" ></td>\n",
       "      <td>MA0146.2_MA0146.2.Zfx</td>\n",
       "      <td>0.226151</td>\n",
       "      <td><img src=\"tfmodisco_report_MPRAultra_all/MA0146.2_MA0146.2.Zfx.png\" width=\"240\" ></td>\n",
       "    </tr>\n",
       "    <tr>\n",
       "      <td>neg_patterns.pattern_7</td>\n",
       "      <td>402</td>\n",
       "      <td><img src=\"tfmodisco_report_MPRAultra_all//trimmed_logos/neg_patterns.pattern_7.cwm.fwd.png\" width=\"240\" ></td>\n",
       "      <td><img src=\"tfmodisco_report_MPRAultra_all//trimmed_logos/neg_patterns.pattern_7.cwm.rev.png\" width=\"240\" ></td>\n",
       "      <td>MA0757.1_MA0757.1.ONECUT3</td>\n",
       "      <td>0.190998</td>\n",
       "      <td><img src=\"tfmodisco_report_MPRAultra_all/MA0757.1_MA0757.1.ONECUT3.png\" width=\"240\" ></td>\n",
       "      <td>MA0679.2_MA0679.2.ONECUT1</td>\n",
       "      <td>0.190998</td>\n",
       "      <td><img src=\"tfmodisco_report_MPRAultra_all/MA0679.2_MA0679.2.ONECUT1.png\" width=\"240\" ></td>\n",
       "      <td>MA1125.1_MA1125.1.ZNF384</td>\n",
       "      <td>0.190998</td>\n",
       "      <td><img src=\"tfmodisco_report_MPRAultra_all/MA1125.1_MA1125.1.ZNF384.png\" width=\"240\" ></td>\n",
       "    </tr>\n",
       "    <tr>\n",
       "      <td>neg_patterns.pattern_8</td>\n",
       "      <td>394</td>\n",
       "      <td><img src=\"tfmodisco_report_MPRAultra_all//trimmed_logos/neg_patterns.pattern_8.cwm.fwd.png\" width=\"240\" ></td>\n",
       "      <td><img src=\"tfmodisco_report_MPRAultra_all//trimmed_logos/neg_patterns.pattern_8.cwm.rev.png\" width=\"240\" ></td>\n",
       "      <td>MA1631.1_MA1631.1.ASCL1</td>\n",
       "      <td>0.089833</td>\n",
       "      <td><img src=\"tfmodisco_report_MPRAultra_all/MA1631.1_MA1631.1.ASCL1.png\" width=\"240\" ></td>\n",
       "      <td>MA0830.2_MA0830.2.TCF4</td>\n",
       "      <td>0.089833</td>\n",
       "      <td><img src=\"tfmodisco_report_MPRAultra_all/MA0830.2_MA0830.2.TCF4.png\" width=\"240\" ></td>\n",
       "      <td>MA0528.2_MA0528.2.ZNF263</td>\n",
       "      <td>0.110614</td>\n",
       "      <td><img src=\"tfmodisco_report_MPRAultra_all/MA0528.2_MA0528.2.ZNF263.png\" width=\"240\" ></td>\n",
       "    </tr>\n",
       "    <tr>\n",
       "      <td>neg_patterns.pattern_9</td>\n",
       "      <td>373</td>\n",
       "      <td><img src=\"tfmodisco_report_MPRAultra_all//trimmed_logos/neg_patterns.pattern_9.cwm.fwd.png\" width=\"240\" ></td>\n",
       "      <td><img src=\"tfmodisco_report_MPRAultra_all//trimmed_logos/neg_patterns.pattern_9.cwm.rev.png\" width=\"240\" ></td>\n",
       "      <td>MA1648.1_MA1648.1.TCF12</td>\n",
       "      <td>0.029346</td>\n",
       "      <td><img src=\"tfmodisco_report_MPRAultra_all/MA1648.1_MA1648.1.TCF12.png\" width=\"240\" ></td>\n",
       "      <td>MA1558.1_MA1558.1.SNAI1</td>\n",
       "      <td>0.029346</td>\n",
       "      <td><img src=\"tfmodisco_report_MPRAultra_all/MA1558.1_MA1558.1.SNAI1.png\" width=\"240\" ></td>\n",
       "      <td>MA0103.3_MA0103.3.ZEB1</td>\n",
       "      <td>0.035641</td>\n",
       "      <td><img src=\"tfmodisco_report_MPRAultra_all/MA0103.3_MA0103.3.ZEB1.png\" width=\"240\" ></td>\n",
       "    </tr>\n",
       "    <tr>\n",
       "      <td>neg_patterns.pattern_10</td>\n",
       "      <td>364</td>\n",
       "      <td><img src=\"tfmodisco_report_MPRAultra_all//trimmed_logos/neg_patterns.pattern_10.cwm.fwd.png\" width=\"240\" ></td>\n",
       "      <td><img src=\"tfmodisco_report_MPRAultra_all//trimmed_logos/neg_patterns.pattern_10.cwm.rev.png\" width=\"240\" ></td>\n",
       "      <td>MA1631.1_MA1631.1.ASCL1</td>\n",
       "      <td>0.037128</td>\n",
       "      <td><img src=\"tfmodisco_report_MPRAultra_all/MA1631.1_MA1631.1.ASCL1.png\" width=\"240\" ></td>\n",
       "      <td>MA0138.2_MA0138.2.REST</td>\n",
       "      <td>0.037128</td>\n",
       "      <td><img src=\"tfmodisco_report_MPRAultra_all/MA0138.2_MA0138.2.REST.png\" width=\"240\" ></td>\n",
       "      <td>MA0830.2_MA0830.2.TCF4</td>\n",
       "      <td>0.118086</td>\n",
       "      <td><img src=\"tfmodisco_report_MPRAultra_all/MA0830.2_MA0830.2.TCF4.png\" width=\"240\" ></td>\n",
       "    </tr>\n",
       "    <tr>\n",
       "      <td>neg_patterns.pattern_11</td>\n",
       "      <td>364</td>\n",
       "      <td><img src=\"tfmodisco_report_MPRAultra_all//trimmed_logos/neg_patterns.pattern_11.cwm.fwd.png\" width=\"240\" ></td>\n",
       "      <td><img src=\"tfmodisco_report_MPRAultra_all//trimmed_logos/neg_patterns.pattern_11.cwm.rev.png\" width=\"240\" ></td>\n",
       "      <td>MA1721.1_MA1721.1.ZNF93</td>\n",
       "      <td>0.204021</td>\n",
       "      <td><img src=\"tfmodisco_report_MPRAultra_all/MA1721.1_MA1721.1.ZNF93.png\" width=\"240\" ></td>\n",
       "      <td>MA1713.1_MA1713.1.ZNF610</td>\n",
       "      <td>0.218423</td>\n",
       "      <td><img src=\"tfmodisco_report_MPRAultra_all/MA1713.1_MA1713.1.ZNF610.png\" width=\"240\" ></td>\n",
       "      <td>MA1513.1_MA1513.1.KLF15</td>\n",
       "      <td>0.381228</td>\n",
       "      <td><img src=\"tfmodisco_report_MPRAultra_all/MA1513.1_MA1513.1.KLF15.png\" width=\"240\" ></td>\n",
       "    </tr>\n",
       "    <tr>\n",
       "      <td>neg_patterns.pattern_12</td>\n",
       "      <td>357</td>\n",
       "      <td><img src=\"tfmodisco_report_MPRAultra_all//trimmed_logos/neg_patterns.pattern_12.cwm.fwd.png\" width=\"240\" ></td>\n",
       "      <td><img src=\"tfmodisco_report_MPRAultra_all//trimmed_logos/neg_patterns.pattern_12.cwm.rev.png\" width=\"240\" ></td>\n",
       "      <td>MA0135.1_MA0135.1.Lhx3</td>\n",
       "      <td>0.003597</td>\n",
       "      <td><img src=\"tfmodisco_report_MPRAultra_all/MA0135.1_MA0135.1.Lhx3.png\" width=\"240\" ></td>\n",
       "      <td>MA0683.1_MA0683.1.POU4F2</td>\n",
       "      <td>0.009247</td>\n",
       "      <td><img src=\"tfmodisco_report_MPRAultra_all/MA0683.1_MA0683.1.POU4F2.png\" width=\"240\" ></td>\n",
       "      <td>MA0791.1_MA0791.1.POU4F3</td>\n",
       "      <td>0.013571</td>\n",
       "      <td><img src=\"tfmodisco_report_MPRAultra_all/MA0791.1_MA0791.1.POU4F3.png\" width=\"240\" ></td>\n",
       "    </tr>\n",
       "    <tr>\n",
       "      <td>neg_patterns.pattern_13</td>\n",
       "      <td>333</td>\n",
       "      <td><img src=\"tfmodisco_report_MPRAultra_all//trimmed_logos/neg_patterns.pattern_13.cwm.fwd.png\" width=\"240\" ></td>\n",
       "      <td><img src=\"tfmodisco_report_MPRAultra_all//trimmed_logos/neg_patterns.pattern_13.cwm.rev.png\" width=\"240\" ></td>\n",
       "      <td>MA0139.1_MA0139.1.CTCF</td>\n",
       "      <td>0.012399</td>\n",
       "      <td><img src=\"tfmodisco_report_MPRAultra_all/MA0139.1_MA0139.1.CTCF.png\" width=\"240\" ></td>\n",
       "      <td>MA1929.1_MA1929.1.CTCF</td>\n",
       "      <td>0.012429</td>\n",
       "      <td><img src=\"tfmodisco_report_MPRAultra_all/MA1929.1_MA1929.1.CTCF.png\" width=\"240\" ></td>\n",
       "      <td>MA0697.2_MA0697.2.Zic3</td>\n",
       "      <td>0.012429</td>\n",
       "      <td><img src=\"tfmodisco_report_MPRAultra_all/MA0697.2_MA0697.2.Zic3.png\" width=\"240\" ></td>\n",
       "    </tr>\n",
       "    <tr>\n",
       "      <td>neg_patterns.pattern_14</td>\n",
       "      <td>273</td>\n",
       "      <td><img src=\"tfmodisco_report_MPRAultra_all//trimmed_logos/neg_patterns.pattern_14.cwm.fwd.png\" width=\"240\" ></td>\n",
       "      <td><img src=\"tfmodisco_report_MPRAultra_all//trimmed_logos/neg_patterns.pattern_14.cwm.rev.png\" width=\"240\" ></td>\n",
       "      <td>MA0913.2_MA0913.2.HOXD9</td>\n",
       "      <td>1.000000</td>\n",
       "      <td><img src=\"tfmodisco_report_MPRAultra_all/MA0913.2_MA0913.2.HOXD9.png\" width=\"240\" ></td>\n",
       "      <td>MA1640.1_MA1640.1.MEIS2</td>\n",
       "      <td>1.000000</td>\n",
       "      <td><img src=\"tfmodisco_report_MPRAultra_all/MA1640.1_MA1640.1.MEIS2.png\" width=\"240\" ></td>\n",
       "      <td>MA1113.2_MA1113.2.PBX2</td>\n",
       "      <td>1.000000</td>\n",
       "      <td><img src=\"tfmodisco_report_MPRAultra_all/MA1113.2_MA1113.2.PBX2.png\" width=\"240\" ></td>\n",
       "    </tr>\n",
       "    <tr>\n",
       "      <td>neg_patterns.pattern_15</td>\n",
       "      <td>246</td>\n",
       "      <td><img src=\"tfmodisco_report_MPRAultra_all//trimmed_logos/neg_patterns.pattern_15.cwm.fwd.png\" width=\"240\" ></td>\n",
       "      <td><img src=\"tfmodisco_report_MPRAultra_all//trimmed_logos/neg_patterns.pattern_15.cwm.rev.png\" width=\"240\" ></td>\n",
       "      <td>MA0089.2_MA0089.2.MAFG::NFE2L1</td>\n",
       "      <td>0.000156</td>\n",
       "      <td><img src=\"tfmodisco_report_MPRAultra_all/MA0089.2_MA0089.2.MAFG::NFE2L1.png\" width=\"240\" ></td>\n",
       "      <td>MA0591.1_MA0591.1.Bach1::Mafk</td>\n",
       "      <td>0.000156</td>\n",
       "      <td><img src=\"tfmodisco_report_MPRAultra_all/MA0591.1_MA0591.1.Bach1::Mafk.png\" width=\"240\" ></td>\n",
       "      <td>MA0501.1_MA0501.1.MAF::NFE2</td>\n",
       "      <td>0.000202</td>\n",
       "      <td><img src=\"tfmodisco_report_MPRAultra_all/MA0501.1_MA0501.1.MAF::NFE2.png\" width=\"240\" ></td>\n",
       "    </tr>\n",
       "    <tr>\n",
       "      <td>neg_patterns.pattern_16</td>\n",
       "      <td>238</td>\n",
       "      <td><img src=\"tfmodisco_report_MPRAultra_all//trimmed_logos/neg_patterns.pattern_16.cwm.fwd.png\" width=\"240\" ></td>\n",
       "      <td><img src=\"tfmodisco_report_MPRAultra_all//trimmed_logos/neg_patterns.pattern_16.cwm.rev.png\" width=\"240\" ></td>\n",
       "      <td>MA1965.1_MA1965.1.SP5</td>\n",
       "      <td>0.004244</td>\n",
       "      <td><img src=\"tfmodisco_report_MPRAultra_all/MA1965.1_MA1965.1.SP5.png\" width=\"240\" ></td>\n",
       "      <td>MA1653.1_MA1653.1.ZNF148</td>\n",
       "      <td>0.004244</td>\n",
       "      <td><img src=\"tfmodisco_report_MPRAultra_all/MA1653.1_MA1653.1.ZNF148.png\" width=\"240\" ></td>\n",
       "      <td>MA1630.2_MA1630.2.ZNF281</td>\n",
       "      <td>0.004244</td>\n",
       "      <td><img src=\"tfmodisco_report_MPRAultra_all/MA1630.2_MA1630.2.ZNF281.png\" width=\"240\" ></td>\n",
       "    </tr>\n",
       "    <tr>\n",
       "      <td>neg_patterns.pattern_17</td>\n",
       "      <td>211</td>\n",
       "      <td><img src=\"tfmodisco_report_MPRAultra_all//trimmed_logos/neg_patterns.pattern_17.cwm.fwd.png\" width=\"240\" ></td>\n",
       "      <td><img src=\"tfmodisco_report_MPRAultra_all//trimmed_logos/neg_patterns.pattern_17.cwm.rev.png\" width=\"240\" ></td>\n",
       "      <td>MA0138.2_MA0138.2.REST</td>\n",
       "      <td>0.999998</td>\n",
       "      <td><img src=\"tfmodisco_report_MPRAultra_all/MA0138.2_MA0138.2.REST.png\" width=\"240\" ></td>\n",
       "      <td>MA0130.1_MA0130.1.ZNF354C</td>\n",
       "      <td>0.999998</td>\n",
       "      <td><img src=\"tfmodisco_report_MPRAultra_all/MA0130.1_MA0130.1.ZNF354C.png\" width=\"240\" ></td>\n",
       "      <td>MA1999.1_MA1999.1.Prdm5</td>\n",
       "      <td>0.999998</td>\n",
       "      <td><img src=\"tfmodisco_report_MPRAultra_all/MA1999.1_MA1999.1.Prdm5.png\" width=\"240\" ></td>\n",
       "    </tr>\n",
       "    <tr>\n",
       "      <td>neg_patterns.pattern_18</td>\n",
       "      <td>169</td>\n",
       "      <td><img src=\"tfmodisco_report_MPRAultra_all//trimmed_logos/neg_patterns.pattern_18.cwm.fwd.png\" width=\"240\" ></td>\n",
       "      <td><img src=\"tfmodisco_report_MPRAultra_all//trimmed_logos/neg_patterns.pattern_18.cwm.rev.png\" width=\"240\" ></td>\n",
       "      <td>MA0079.5_MA0079.5.SP1</td>\n",
       "      <td>0.055031</td>\n",
       "      <td><img src=\"tfmodisco_report_MPRAultra_all/MA0079.5_MA0079.5.SP1.png\" width=\"240\" ></td>\n",
       "      <td>MA0742.2_MA0742.2.KLF12</td>\n",
       "      <td>0.055031</td>\n",
       "      <td><img src=\"tfmodisco_report_MPRAultra_all/MA0742.2_MA0742.2.KLF12.png\" width=\"240\" ></td>\n",
       "      <td>MA1511.2_MA1511.2.KLF10</td>\n",
       "      <td>0.055031</td>\n",
       "      <td><img src=\"tfmodisco_report_MPRAultra_all/MA1511.2_MA1511.2.KLF10.png\" width=\"240\" ></td>\n",
       "    </tr>\n",
       "    <tr>\n",
       "      <td>neg_patterns.pattern_19</td>\n",
       "      <td>165</td>\n",
       "      <td><img src=\"tfmodisco_report_MPRAultra_all//trimmed_logos/neg_patterns.pattern_19.cwm.fwd.png\" width=\"240\" ></td>\n",
       "      <td><img src=\"tfmodisco_report_MPRAultra_all//trimmed_logos/neg_patterns.pattern_19.cwm.rev.png\" width=\"240\" ></td>\n",
       "      <td>MA1709.1_MA1709.1.ZIM3</td>\n",
       "      <td>1.000000</td>\n",
       "      <td><img src=\"tfmodisco_report_MPRAultra_all/MA1709.1_MA1709.1.ZIM3.png\" width=\"240\" ></td>\n",
       "      <td>MA0488.1_MA0488.1.JUN</td>\n",
       "      <td>1.000000</td>\n",
       "      <td><img src=\"tfmodisco_report_MPRAultra_all/MA0488.1_MA0488.1.JUN.png\" width=\"240\" ></td>\n",
       "      <td>MA0492.1_MA0492.1.JUND</td>\n",
       "      <td>1.000000</td>\n",
       "      <td><img src=\"tfmodisco_report_MPRAultra_all/MA0492.1_MA0492.1.JUND.png\" width=\"240\" ></td>\n",
       "    </tr>\n",
       "    <tr>\n",
       "      <td>neg_patterns.pattern_20</td>\n",
       "      <td>135</td>\n",
       "      <td><img src=\"tfmodisco_report_MPRAultra_all//trimmed_logos/neg_patterns.pattern_20.cwm.fwd.png\" width=\"240\" ></td>\n",
       "      <td><img src=\"tfmodisco_report_MPRAultra_all//trimmed_logos/neg_patterns.pattern_20.cwm.rev.png\" width=\"240\" ></td>\n",
       "      <td>MA0050.3_MA0050.3.Irf1</td>\n",
       "      <td>1.000000</td>\n",
       "      <td><img src=\"tfmodisco_report_MPRAultra_all/MA0050.3_MA0050.3.Irf1.png\" width=\"240\" ></td>\n",
       "      <td>MA0592.3_MA0592.3.ESRRA</td>\n",
       "      <td>1.000000</td>\n",
       "      <td><img src=\"tfmodisco_report_MPRAultra_all/MA0592.3_MA0592.3.ESRRA.png\" width=\"240\" ></td>\n",
       "      <td>NaN</td>\n",
       "      <td>NaN</td>\n",
       "      <td><img src=\"NA\" width=\"240\" ></td>\n",
       "    </tr>\n",
       "    <tr>\n",
       "      <td>neg_patterns.pattern_21</td>\n",
       "      <td>87</td>\n",
       "      <td><img src=\"tfmodisco_report_MPRAultra_all//trimmed_logos/neg_patterns.pattern_21.cwm.fwd.png\" width=\"240\" ></td>\n",
       "      <td><img src=\"tfmodisco_report_MPRAultra_all//trimmed_logos/neg_patterns.pattern_21.cwm.rev.png\" width=\"240\" ></td>\n",
       "      <td>MA0830.2_MA0830.2.TCF4</td>\n",
       "      <td>0.172609</td>\n",
       "      <td><img src=\"tfmodisco_report_MPRAultra_all/MA0830.2_MA0830.2.TCF4.png\" width=\"240\" ></td>\n",
       "      <td>MA1631.1_MA1631.1.ASCL1</td>\n",
       "      <td>0.172609</td>\n",
       "      <td><img src=\"tfmodisco_report_MPRAultra_all/MA1631.1_MA1631.1.ASCL1.png\" width=\"240\" ></td>\n",
       "      <td>MA0753.2_MA0753.2.ZNF740</td>\n",
       "      <td>0.237093</td>\n",
       "      <td><img src=\"tfmodisco_report_MPRAultra_all/MA0753.2_MA0753.2.ZNF740.png\" width=\"240\" ></td>\n",
       "    </tr>\n",
       "    <tr>\n",
       "      <td>neg_patterns.pattern_22</td>\n",
       "      <td>85</td>\n",
       "      <td><img src=\"tfmodisco_report_MPRAultra_all//trimmed_logos/neg_patterns.pattern_22.cwm.fwd.png\" width=\"240\" ></td>\n",
       "      <td><img src=\"tfmodisco_report_MPRAultra_all//trimmed_logos/neg_patterns.pattern_22.cwm.rev.png\" width=\"240\" ></td>\n",
       "      <td>MA0898.1_MA0898.1.Hmx3</td>\n",
       "      <td>1.000000</td>\n",
       "      <td><img src=\"tfmodisco_report_MPRAultra_all/MA0898.1_MA0898.1.Hmx3.png\" width=\"240\" ></td>\n",
       "      <td>MA0501.1_MA0501.1.MAF::NFE2</td>\n",
       "      <td>1.000000</td>\n",
       "      <td><img src=\"tfmodisco_report_MPRAultra_all/MA0501.1_MA0501.1.MAF::NFE2.png\" width=\"240\" ></td>\n",
       "      <td>MA0089.2_MA0089.2.MAFG::NFE2L1</td>\n",
       "      <td>1.000000</td>\n",
       "      <td><img src=\"tfmodisco_report_MPRAultra_all/MA0089.2_MA0089.2.MAFG::NFE2L1.png\" width=\"240\" ></td>\n",
       "    </tr>\n",
       "    <tr>\n",
       "      <td>neg_patterns.pattern_23</td>\n",
       "      <td>57</td>\n",
       "      <td><img src=\"tfmodisco_report_MPRAultra_all//trimmed_logos/neg_patterns.pattern_23.cwm.fwd.png\" width=\"240\" ></td>\n",
       "      <td><img src=\"tfmodisco_report_MPRAultra_all//trimmed_logos/neg_patterns.pattern_23.cwm.rev.png\" width=\"240\" ></td>\n",
       "      <td>MA0725.1_MA0725.1.VSX1</td>\n",
       "      <td>0.234858</td>\n",
       "      <td><img src=\"tfmodisco_report_MPRAultra_all/MA0725.1_MA0725.1.VSX1.png\" width=\"240\" ></td>\n",
       "      <td>MA0888.1_MA0888.1.EVX2</td>\n",
       "      <td>0.234858</td>\n",
       "      <td><img src=\"tfmodisco_report_MPRAultra_all/MA0888.1_MA0888.1.EVX2.png\" width=\"240\" ></td>\n",
       "      <td>MA0726.1_MA0726.1.VSX2</td>\n",
       "      <td>0.234858</td>\n",
       "      <td><img src=\"tfmodisco_report_MPRAultra_all/MA0726.1_MA0726.1.VSX2.png\" width=\"240\" ></td>\n",
       "    </tr>\n",
       "    <tr>\n",
       "      <td>neg_patterns.pattern_24</td>\n",
       "      <td>37</td>\n",
       "      <td><img src=\"tfmodisco_report_MPRAultra_all//trimmed_logos/neg_patterns.pattern_24.cwm.fwd.png\" width=\"240\" ></td>\n",
       "      <td><img src=\"tfmodisco_report_MPRAultra_all//trimmed_logos/neg_patterns.pattern_24.cwm.rev.png\" width=\"240\" ></td>\n",
       "      <td>NaN</td>\n",
       "      <td>NaN</td>\n",
       "      <td><img src=\"NA\" width=\"240\" ></td>\n",
       "      <td>NaN</td>\n",
       "      <td>NaN</td>\n",
       "      <td><img src=\"NA\" width=\"240\" ></td>\n",
       "      <td>NaN</td>\n",
       "      <td>NaN</td>\n",
       "      <td><img src=\"NA\" width=\"240\" ></td>\n",
       "    </tr>\n",
       "  </tbody>\n",
       "</table>"
      ],
      "text/plain": [
       "<IPython.core.display.HTML object>"
      ]
     },
     "execution_count": 28,
     "metadata": {},
     "output_type": "execute_result"
    }
   ],
   "source": [
    "from IPython.display import HTML\n",
    "HTML(filename='/content/drive/MyDrive/MPRA-IGVF-Workshop-2024/Tutorials/T3_MPRA_modeling_interpretation/data/motifs.html')"
   ]
  },
  {
   "cell_type": "markdown",
   "metadata": {
    "id": "-d9IBl7U-1_U"
   },
   "source": []
  },
  {
   "cell_type": "markdown",
   "metadata": {
    "id": "DrmDll0arBHC"
   },
   "source": []
  }
 ],
 "metadata": {
  "accelerator": "GPU",
  "colab": {
   "collapsed_sections": [
    "p0YXhC0nB2FA",
    "TS9Izo5AB-bJ"
   ],
   "gpuType": "T4",
   "name": "",
   "version": ""
  },
  "kernelspec": {
   "display_name": "Python 3",
   "name": "python3"
  },
  "language_info": {
   "name": "python"
  }
 },
 "nbformat": 4,
 "nbformat_minor": 0
}
