{
 "cells": [
  {
   "cell_type": "markdown",
   "metadata": {},
   "source": [
    "<a target=\"_blank\" href=\"https://colab.research.google.com/github/kircherlab/ISMB-2025_IGVF-MPRA-Tutorial/blob/main/05_sequence_models/02_ism_and_tfmodisco.ipynb\">\n",
    "  <img src=\"https://colab.research.google.com/assets/colab-badge.svg\" alt=\"Open In Colab\"/>\n",
    "</a>"
   ]
  },
  {
   "cell_type": "markdown",
   "metadata": {
    "id": "6rNrzoGC-3wl"
   },
   "source": [
    "# Interpreting Models with In-Silico Mutagenesis\n",
    "\n",
    "With tools like TF-MoDISco for motif discovery, we will investigate important transcription factor binding motifs using models trained on sequence data that predict activity. We will assess whether these motifs exert activating or repressing effects by comparing the activity of sequences with and without these identified motifs in the cell type of interest."
   ]
  },
  {
   "cell_type": "markdown",
   "metadata": {},
   "source": [
    "## Notebook Preparation"
   ]
  },
  {
   "cell_type": "markdown",
   "metadata": {
    "id": "9bZ6sx1X4_6F"
   },
   "source": [
    "### Load Libraries and Data"
   ]
  },
  {
   "cell_type": "code",
   "execution_count": 1,
   "metadata": {
    "executionInfo": {
     "elapsed": 7281,
     "status": "ok",
     "timestamp": 1713338214068,
     "user": {
      "displayName": "Thorben M",
      "userId": "02931247254163619517"
     },
     "user_tz": -120
    },
    "id": "kl9spAh75IoU"
   },
   "outputs": [
    {
     "name": "stderr",
     "output_type": "stream",
     "text": [
      "2025-05-15 12:46:17.509982: I tensorflow/core/platform/cpu_feature_guard.cc:193] This TensorFlow binary is optimized with oneAPI Deep Neural Network Library (oneDNN) to use the following CPU instructions in performance-critical operations:  SSE4.1 SSE4.2 AVX AVX2 AVX_VNNI FMA\n",
      "To enable them in other operations, rebuild TensorFlow with the appropriate compiler flags.\n",
      "2025-05-15 12:46:17.720500: I tensorflow/core/util/port.cc:104] oneDNN custom operations are on. You may see slightly different numerical results due to floating-point round-off errors from different computation orders. To turn them off, set the environment variable `TF_ENABLE_ONEDNN_OPTS=0`.\n"
     ]
    }
   ],
   "source": [
    "import os\n",
    "import random\n",
    "import gzip\n",
    "import numpy as np\n",
    "import pandas as pd\n",
    "import matplotlib.pyplot as plt\n",
    "import tensorflow as tf\n",
    "from tensorflow import keras\n",
    "from IPython.display import clear_output\n",
    "\n",
    "os.environ[\"TF_CPP_MIN_LOG_LEVEL\"] = \"2\"  # Suppress TensorFlow warnings"
   ]
  },
  {
   "cell_type": "code",
   "execution_count": 2,
   "metadata": {
    "colab": {
     "base_uri": "https://localhost:8080/"
    },
    "executionInfo": {
     "elapsed": 18292,
     "status": "ok",
     "timestamp": 1713338232350,
     "user": {
      "displayName": "Thorben M",
      "userId": "02931247254163619517"
     },
     "user_tz": -120
    },
    "id": "da0dZjQCh8HL",
    "outputId": "f6b8a075-c644-4142-b548-4a924d96b81f",
    "vscode": {
     "languageId": "shellscript"
    }
   },
   "outputs": [
    {
     "name": "stdout",
     "output_type": "stream",
     "text": [
      "Requirement already satisfied: modisco-lite in /home/mschubach/miniforge3/envs/jupyter_tf/lib/python3.10/site-packages (2.3.2)\n",
      "Requirement already satisfied: numpy>=1.21.5 in /home/mschubach/miniforge3/envs/jupyter_tf/lib/python3.10/site-packages (from modisco-lite) (1.26.4)\n",
      "Requirement already satisfied: scipy>=1.6.2 in /home/mschubach/miniforge3/envs/jupyter_tf/lib/python3.10/site-packages (from modisco-lite) (1.15.2)\n",
      "Requirement already satisfied: numba>=0.53.1 in /home/mschubach/miniforge3/envs/jupyter_tf/lib/python3.10/site-packages (from modisco-lite) (0.61.2)\n",
      "Requirement already satisfied: scikit-learn>=1.0.2 in /home/mschubach/miniforge3/envs/jupyter_tf/lib/python3.10/site-packages (from modisco-lite) (1.6.1)\n",
      "Requirement already satisfied: leidenalg>=0.8.10 in /home/mschubach/miniforge3/envs/jupyter_tf/lib/python3.10/site-packages (from modisco-lite) (0.10.2)\n",
      "Requirement already satisfied: igraph>=0.9.11 in /home/mschubach/miniforge3/envs/jupyter_tf/lib/python3.10/site-packages (from modisco-lite) (0.11.8)\n",
      "Requirement already satisfied: tqdm>=4.38.0 in /home/mschubach/miniforge3/envs/jupyter_tf/lib/python3.10/site-packages (from modisco-lite) (4.67.1)\n",
      "Requirement already satisfied: pandas>=1.4.3 in /home/mschubach/miniforge3/envs/jupyter_tf/lib/python3.10/site-packages (from modisco-lite) (2.2.3)\n",
      "Requirement already satisfied: logomaker>=0.8 in /home/mschubach/miniforge3/envs/jupyter_tf/lib/python3.10/site-packages (from modisco-lite) (0.8.7)\n",
      "Requirement already satisfied: h5py>=3.7.0 in /home/mschubach/miniforge3/envs/jupyter_tf/lib/python3.10/site-packages (from modisco-lite) (3.9.0)\n",
      "Requirement already satisfied: hdf5plugin in /home/mschubach/miniforge3/envs/jupyter_tf/lib/python3.10/site-packages (from modisco-lite) (5.1.0)\n",
      "Requirement already satisfied: texttable>=1.6.2 in /home/mschubach/miniforge3/envs/jupyter_tf/lib/python3.10/site-packages (from igraph>=0.9.11->modisco-lite) (1.7.0)\n",
      "Requirement already satisfied: matplotlib in /home/mschubach/miniforge3/envs/jupyter_tf/lib/python3.10/site-packages (from logomaker>=0.8->modisco-lite) (3.9.1)\n",
      "Requirement already satisfied: llvmlite<0.45,>=0.44.0dev0 in /home/mschubach/miniforge3/envs/jupyter_tf/lib/python3.10/site-packages (from numba>=0.53.1->modisco-lite) (0.44.0)\n",
      "Requirement already satisfied: python-dateutil>=2.8.2 in /home/mschubach/miniforge3/envs/jupyter_tf/lib/python3.10/site-packages (from pandas>=1.4.3->modisco-lite) (2.9.0.post0)\n",
      "Requirement already satisfied: pytz>=2020.1 in /home/mschubach/miniforge3/envs/jupyter_tf/lib/python3.10/site-packages (from pandas>=1.4.3->modisco-lite) (2025.2)\n",
      "Requirement already satisfied: tzdata>=2022.7 in /home/mschubach/miniforge3/envs/jupyter_tf/lib/python3.10/site-packages (from pandas>=1.4.3->modisco-lite) (2025.2)\n",
      "Requirement already satisfied: six>=1.5 in /home/mschubach/miniforge3/envs/jupyter_tf/lib/python3.10/site-packages (from python-dateutil>=2.8.2->pandas>=1.4.3->modisco-lite) (1.15.0)\n",
      "Requirement already satisfied: joblib>=1.2.0 in /home/mschubach/miniforge3/envs/jupyter_tf/lib/python3.10/site-packages (from scikit-learn>=1.0.2->modisco-lite) (1.5.0)\n",
      "Requirement already satisfied: threadpoolctl>=3.1.0 in /home/mschubach/miniforge3/envs/jupyter_tf/lib/python3.10/site-packages (from scikit-learn>=1.0.2->modisco-lite) (3.6.0)\n",
      "Requirement already satisfied: contourpy>=1.0.1 in /home/mschubach/miniforge3/envs/jupyter_tf/lib/python3.10/site-packages (from matplotlib->logomaker>=0.8->modisco-lite) (1.3.2)\n",
      "Requirement already satisfied: cycler>=0.10 in /home/mschubach/miniforge3/envs/jupyter_tf/lib/python3.10/site-packages (from matplotlib->logomaker>=0.8->modisco-lite) (0.12.1)\n",
      "Requirement already satisfied: fonttools>=4.22.0 in /home/mschubach/miniforge3/envs/jupyter_tf/lib/python3.10/site-packages (from matplotlib->logomaker>=0.8->modisco-lite) (4.58.0)\n",
      "Requirement already satisfied: kiwisolver>=1.3.1 in /home/mschubach/miniforge3/envs/jupyter_tf/lib/python3.10/site-packages (from matplotlib->logomaker>=0.8->modisco-lite) (1.4.7)\n",
      "Requirement already satisfied: packaging>=20.0 in /home/mschubach/miniforge3/envs/jupyter_tf/lib/python3.10/site-packages (from matplotlib->logomaker>=0.8->modisco-lite) (25.0)\n",
      "Requirement already satisfied: pillow>=8 in /home/mschubach/miniforge3/envs/jupyter_tf/lib/python3.10/site-packages (from matplotlib->logomaker>=0.8->modisco-lite) (9.4.0)\n",
      "Requirement already satisfied: pyparsing>=2.3.1 in /home/mschubach/miniforge3/envs/jupyter_tf/lib/python3.10/site-packages (from matplotlib->logomaker>=0.8->modisco-lite) (3.2.3)\n"
     ]
    }
   ],
   "source": [
    "!pip install modisco-lite"
   ]
  },
  {
   "cell_type": "markdown",
   "metadata": {
    "id": "tQVSoWPl5FEL"
   },
   "source": [
    "Download the data if not already present."
   ]
  },
  {
   "cell_type": "code",
   "execution_count": 3,
   "metadata": {
    "colab": {
     "base_uri": "https://localhost:8080/"
    },
    "executionInfo": {
     "elapsed": 62285,
     "status": "ok",
     "timestamp": 1713338268012,
     "user": {
      "displayName": "Thorben M",
      "userId": "02931247254163619517"
     },
     "user_tz": -120
    },
    "id": "fuxL8Mqz4-GU",
    "outputId": "ee07683a-fcd5-4c07-a0df-34f3243c4634",
    "vscode": {
     "languageId": "shellscript"
    }
   },
   "outputs": [
    {
     "name": "stdout",
     "output_type": "stream",
     "text": [
      "File exists\n"
     ]
    }
   ],
   "source": [
    "%%bash\n",
    "mkdir -p 02_data\n",
    "\n",
    "if [ ! -f \"02_data/ultra_joint.fa.gz\" ]; then\n",
    "    wget -O 02_data/ultra_joint.fa.gz https://github.com/kircherlab/ISMB-2025_IGVF-MPRA-Tutorial/raw/refs/heads/main/05_sequence_models/02_data/ultra_joint.fa.gz\n",
    "else\n",
    "    echo \"File exists\"\n",
    "fi"
   ]
  },
  {
   "cell_type": "markdown",
   "metadata": {
    "id": "p0YXhC0nB2FA"
   },
   "source": [
    "### Prepare Sequences from FASTA for DNN Model"
   ]
  },
  {
   "cell_type": "markdown",
   "metadata": {
    "id": "r0ypSJVc5S0N"
   },
   "source": [
    "Set seeds to make code reproducible. This is always a good idea when working with TensorFlow. The seed of 42 is arbitraty."
   ]
  },
  {
   "cell_type": "code",
   "execution_count": 4,
   "metadata": {
    "executionInfo": {
     "elapsed": 5,
     "status": "ok",
     "timestamp": 1713338268012,
     "user": {
      "displayName": "Thorben M",
      "userId": "02931247254163619517"
     },
     "user_tz": -120
    },
    "id": "IUmd6z0W5Y91"
   },
   "outputs": [],
   "source": [
    "random.seed(42)\n",
    "np.random.seed(42)\n",
    "tf.random.set_seed(42)"
   ]
  },
  {
   "cell_type": "markdown",
   "metadata": {
    "id": "k6SgtyEO5lCh"
   },
   "source": [
    "Load sequences for which we want to generate contribution maps. Print one example entry. The sequences are in FASTA format. Each entry contains two lines: the first is the sequence ID, the second is the sequence. Note that we have removed the \">\" from the output printed below."
   ]
  },
  {
   "cell_type": "code",
   "execution_count": 5,
   "metadata": {
    "colab": {
     "base_uri": "https://localhost:8080/"
    },
    "executionInfo": {
     "elapsed": 4940,
     "status": "ok",
     "timestamp": 1713338272948,
     "user": {
      "displayName": "Thorben M",
      "userId": "02931247254163619517"
     },
     "user_tz": -120
    },
    "id": "nneYGocf5vK_",
    "outputId": "82e1527c-62a2-46cb-ef9e-0d55e9fab1c0"
   },
   "outputs": [
    {
     "name": "stdout",
     "output_type": "stream",
     "text": [
      "HepG2_DNasePeakNoPromoter42110\n",
      "AGGACCGGATCAACTTTTGGGAGAAAGAGGGTGTGAAGAGATGGCTCTGCGTCCTAAGCGAAGGTAAGCAACCTCATGAACATGGCTCTGGACGCTGGAGGCCCTGGTCCCTGGACTTTGGGCTTGGAAGCAAAGGCCACTGACTGTTTCTCTATCACTCTGAGAAGCTCCATTGTGCCTGGGCCTCTTAGATGATTATTTTATAAACTATGGATCATTGCGTGAACCGA\n",
      "\n"
     ]
    }
   ],
   "source": [
    "seq_file = \"02_data/ultra_joint.fa.gz\"\n",
    "\n",
    "with gzip.open(seq_file, 'rt') as f:\n",
    "    file_content = f.read()\n",
    "\n",
    "sequence_entries = file_content.split('>')\n",
    "\n",
    "print(sequence_entries[3])"
   ]
  },
  {
   "cell_type": "markdown",
   "metadata": {
    "id": "o9HNZStP63_H"
   },
   "source": [
    "Write IDs and sequences into Python lists."
   ]
  },
  {
   "cell_type": "code",
   "execution_count": 6,
   "metadata": {
    "colab": {
     "base_uri": "https://localhost:8080/"
    },
    "executionInfo": {
     "elapsed": 497,
     "status": "ok",
     "timestamp": 1713338273443,
     "user": {
      "displayName": "Thorben M",
      "userId": "02931247254163619517"
     },
     "user_tz": -120
    },
    "id": "pgmuF3qE68Xf",
    "outputId": "e87adc5f-d1cb-4c33-91e3-bdad721daa57"
   },
   "outputs": [
    {
     "name": "stdout",
     "output_type": "stream",
     "text": [
      "ID list entry example: HepG2_DNasePeakNoPromoter27047\n",
      "Sequence list entry example: AGGACCGGATCAACTATTTATAACTTCCCCAAAGGTCCAAAGAACTTTTTTGGATGTTTTGTACTGGAGTTGGTCTTGAGTTTCTGCACATGTGATACACTAGGTGGTGCTAATTGACTGAGCTGAGCAGGGACACTCTTTGCAGCGACGTTAAAGACTAAACCTCACTGAATAGATGTTTTTACAGACGTCAATCAAAGGAGGAAATCTCAATTCATTGCGTGAACCGA\n"
     ]
    }
   ],
   "source": [
    "sequence_ids = []\n",
    "sequences = []\n",
    "\n",
    "for i in range(1, len(sequence_entries)):\n",
    "    entry = sequence_entries[i]\n",
    "    if \"\\n\" not in entry:\n",
    "        print(entry)\n",
    "        raise ValueError(\"Entry missing newline between ID and sequence.\")\n",
    "    seq = entry.split(\"\\n\")[1]\n",
    "    if \"Y\" in seq or \"R\" in seq:\n",
    "        continue\n",
    "    sequence_ids.append(entry.split(\"\\n\")[0])\n",
    "    sequences.append(seq)\n",
    "\n",
    "# Show sequence number 10 as an example\n",
    "print(\"ID list entry example:\", sequence_ids[9])\n",
    "print(\"Sequence list entry example:\", sequences[9])"
   ]
  },
  {
   "cell_type": "markdown",
   "metadata": {
    "id": "8066E6LD8sxs"
   },
   "source": [
    "To pass the sequences to our model, we need to \"one-hot encode\" them. We'll load the necessary function."
   ]
  },
  {
   "cell_type": "code",
   "execution_count": 7,
   "metadata": {
    "executionInfo": {
     "elapsed": 2,
     "status": "ok",
     "timestamp": 1713338273443,
     "user": {
      "displayName": "Thorben M",
      "userId": "02931247254163619517"
     },
     "user_tz": -120
    },
    "id": "cA2jh_Ji9Qkv"
   },
   "outputs": [],
   "source": [
    "def one_hot_encode(seq):\n",
    "    nucleotide_dict = {\n",
    "        'A': [1, 0, 0, 0],\n",
    "        'C': [0, 1, 0, 0],\n",
    "        'G': [0, 0, 1, 0],\n",
    "        'T': [0, 0, 0, 1],\n",
    "        'N': [0, 0, 0, 0]\n",
    "    }\n",
    "    return np.array([nucleotide_dict[nuc] for nuc in seq])"
   ]
  },
  {
   "cell_type": "markdown",
   "metadata": {
    "id": "Lnu6NSfh9WwX"
   },
   "source": [
    "Apply one-hot encoding to our sequences. The output demonstrates how one-hot encoding looks."
   ]
  },
  {
   "cell_type": "code",
   "execution_count": 8,
   "metadata": {
    "colab": {
     "base_uri": "https://localhost:8080/"
    },
    "executionInfo": {
     "elapsed": 14963,
     "status": "ok",
     "timestamp": 1713338288404,
     "user": {
      "displayName": "Thorben M",
      "userId": "02931247254163619517"
     },
     "user_tz": -120
    },
    "id": "L4WAo_GG9eTJ",
    "outputId": "396a36fd-85ca-4c0c-d795-6996b2a4aa0c"
   },
   "outputs": [
    {
     "name": "stdout",
     "output_type": "stream",
     "text": [
      "Sequence list entry example (first 5 bases):\n",
      " AGGAC\n",
      "Sequence list entry example one-hot encoded (first 5 bases):\n",
      " [[1 0 0 0]\n",
      " [0 0 1 0]\n",
      " [0 0 1 0]\n",
      " [1 0 0 0]\n",
      " [0 1 0 0]]\n"
     ]
    }
   ],
   "source": [
    "sequences_tok = [one_hot_encode(seq) for seq in sequences]\n",
    "\n",
    "print(\"Sequence list entry example (first 5 bases):\\n\", sequences[9][:5])\n",
    "print(\"Sequence list entry example one-hot encoded (first 5 bases):\\n\", sequences_tok[9][:5])"
   ]
  },
  {
   "cell_type": "markdown",
   "metadata": {
    "id": "8RfelHnF-hmv"
   },
   "source": [
    "Convert the lists into a pandas DataFrame. This helps with removing duplicates and inspecting the data."
   ]
  },
  {
   "cell_type": "code",
   "execution_count": 9,
   "metadata": {
    "colab": {
     "base_uri": "https://localhost:8080/"
    },
    "executionInfo": {
     "elapsed": 480,
     "status": "ok",
     "timestamp": 1713338288881,
     "user": {
      "displayName": "Thorben M",
      "userId": "02931247254163619517"
     },
     "user_tz": -120
    },
    "id": "A1M1n2ti-3nq",
    "outputId": "39460463-0309-431a-b773-ba867090f148"
   },
   "outputs": [
    {
     "name": "stdout",
     "output_type": "stream",
     "text": [
      "The ID column of the dataframe:\n",
      " 0        HepG2_DNasePeakNoPromoter38956\n",
      "1        HepG2_DNasePeakNoPromoter53608\n",
      "2        HepG2_DNasePeakNoPromoter42110\n",
      "3        HepG2_DNasePeakNoPromoter24309\n",
      "4        HepG2_DNasePeakNoPromoter46096\n",
      "                      ...              \n",
      "59995                   ENSG00000137409\n",
      "59996                   ENSG00000187601\n",
      "59997                   ENSG00000175216\n",
      "59998                   ENSG00000100865\n",
      "59999                   ENSG00000170889\n",
      "Name: ID, Length: 60000, dtype: object\n",
      "\n",
      "The original sequence column of the dataframe:\n",
      " 0        AGGACCGGATCAACTATCAATTACACCACTGGAGGCTCCTGGCTGC...\n",
      "1        AGGACCGGATCAACTCCTTGGCAGGCTTGCCCATGACGAATCCCCG...\n",
      "2        AGGACCGGATCAACTTTTGGGAGAAAGAGGGTGTGAAGAGATGGCT...\n",
      "3        AGGACCGGATCAACTTTCTCCCTGCCCTTCCCTCAAAGTGTCAGTC...\n",
      "4        AGGACCGGATCAACTGGGGCCCTTGGGAACTCCATGCCCTGACTAT...\n",
      "                               ...                        \n",
      "59995    AGGACCGGATCAACTCGGGGAGCCACATCCGGCGTGTCCCACCCGC...\n",
      "59996    AGGACCGGATCAACTGCCCCTCCAATCTCTAGCTGTCATTTCTGCC...\n",
      "59997    AGGACCGGATCAACTGCGGCGTCTGGTCCAGAGGGAAACACGGCTG...\n",
      "59998    AGGACCGGATCAACTGGCTGCCGGGAGCCTGTTCCCTGGGCAACGG...\n",
      "59999    AGGACCGGATCAACTGTTCTCCCTACTTCTCAGGTTTCCACTCCCT...\n",
      "Name: seq_org, Length: 60000, dtype: object\n",
      "\n",
      "The one-hot encoded sequence column of the dataframe:\n",
      " 0        [[1, 0, 0, 0], [0, 0, 1, 0], [0, 0, 1, 0], [1,...\n",
      "1        [[1, 0, 0, 0], [0, 0, 1, 0], [0, 0, 1, 0], [1,...\n",
      "2        [[1, 0, 0, 0], [0, 0, 1, 0], [0, 0, 1, 0], [1,...\n",
      "3        [[1, 0, 0, 0], [0, 0, 1, 0], [0, 0, 1, 0], [1,...\n",
      "4        [[1, 0, 0, 0], [0, 0, 1, 0], [0, 0, 1, 0], [1,...\n",
      "                               ...                        \n",
      "59995    [[1, 0, 0, 0], [0, 0, 1, 0], [0, 0, 1, 0], [1,...\n",
      "59996    [[1, 0, 0, 0], [0, 0, 1, 0], [0, 0, 1, 0], [1,...\n",
      "59997    [[1, 0, 0, 0], [0, 0, 1, 0], [0, 0, 1, 0], [1,...\n",
      "59998    [[1, 0, 0, 0], [0, 0, 1, 0], [0, 0, 1, 0], [1,...\n",
      "59999    [[1, 0, 0, 0], [0, 0, 1, 0], [0, 0, 1, 0], [1,...\n",
      "Name: seq, Length: 60000, dtype: object\n"
     ]
    }
   ],
   "source": [
    "df_IDs_seq = pd.DataFrame({\n",
    "    \"ID\": sequence_ids,\n",
    "    \"seq\": sequences_tok,\n",
    "    \"seq_org\": sequences\n",
    "})\n",
    "\n",
    "df_IDs_seq = df_IDs_seq.drop_duplicates(subset=\"ID\")\n",
    "\n",
    "print(\"The ID column of the dataframe:\\n\", df_IDs_seq[\"ID\"])\n",
    "print(\"\\nThe original sequence column of the dataframe:\\n\", df_IDs_seq[\"seq_org\"])\n",
    "print(\"\\nThe one-hot encoded sequence column of the dataframe:\\n\", df_IDs_seq[\"seq\"])"
   ]
  },
  {
   "cell_type": "markdown",
   "metadata": {
    "id": "zrG16YbRBXhC"
   },
   "source": [
    "Convert the one-hot encoded sequences to TensorFlow tensors for input to our pre-trained model."
   ]
  },
  {
   "cell_type": "code",
   "execution_count": 10,
   "metadata": {
    "executionInfo": {
     "elapsed": 25082,
     "status": "ok",
     "timestamp": 1713338313961,
     "user": {
      "displayName": "Thorben M",
      "userId": "02931247254163619517"
     },
     "user_tz": -120
    },
    "id": "cF4iLP0r2Du_"
   },
   "outputs": [],
   "source": [
    "input_seq_all = tf.convert_to_tensor(df_IDs_seq[\"seq\"].to_list())"
   ]
  },
  {
   "cell_type": "markdown",
   "metadata": {
    "id": "TS9Izo5AB-bJ"
   },
   "source": [
    "### Load Model"
   ]
  },
  {
   "cell_type": "markdown",
   "metadata": {
    "id": "-bEE3OY4CH8n"
   },
   "source": [
    "Load our pretrained model. Here, we use the MPRAnn architecture trained on sequences and experimental MPRA activity from the MPRAultra study (K562 dataset). Ensure your data matches the model's expected sequence length."
   ]
  },
  {
   "cell_type": "code",
   "execution_count": 11,
   "metadata": {
    "vscode": {
     "languageId": "shellscript"
    }
   },
   "outputs": [
    {
     "name": "stdout",
     "output_type": "stream",
     "text": [
      "File exists\n"
     ]
    }
   ],
   "source": [
    "%%bash\n",
    "mkdir -p 02_data\n",
    "\n",
    "if [ ! -f \"02_data/MPRAnn.h5\" ]; then\n",
    "    wget -O 02_data/MPRAnn.h5 https://github.com/kircherlab/ISMB-2025_IGVF-MPRA-Tutorial/raw/refs/heads/main/05_sequence_models/02_data/MPRAnn.h5\n",
    "else\n",
    "    echo \"File exists\"\n",
    "fi"
   ]
  },
  {
   "cell_type": "code",
   "execution_count": 12,
   "metadata": {
    "executionInfo": {
     "elapsed": 13952,
     "status": "ok",
     "timestamp": 1713338327911,
     "user": {
      "displayName": "Thorben M",
      "userId": "02931247254163619517"
     },
     "user_tz": -120
    },
    "id": "n50JFv6TCKAf"
   },
   "outputs": [],
   "source": [
    "model = keras.models.load_model(\"02_data/MPRAnn.h5\")"
   ]
  },
  {
   "cell_type": "markdown",
   "metadata": {
    "id": "rBsZwd45zy0v"
   },
   "source": [
    "## Model Interpretation Using Attribution Maps and TF-MoDISco"
   ]
  },
  {
   "cell_type": "markdown",
   "metadata": {
    "id": "n3ETW_mS20L4"
   },
   "source": [
    "### Sequences"
   ]
  },
  {
   "cell_type": "markdown",
   "metadata": {
    "id": "XyZ-VagDDsQq"
   },
   "source": [
    "We will initialize numpy arrays to store the attribution maps of the sequences based on our pre-trained model, as well as the one-hot encoded sequences. Both are required inputs for TF-MoDISco. For demonstration, we only process a subset of sequences to keep computation feasible."
   ]
  },
  {
   "cell_type": "markdown",
   "metadata": {
    "id": "BuxKnF83Dn4b"
   },
   "source": [
    "## Sequences for TF-MoDISco"
   ]
  },
  {
   "cell_type": "code",
   "execution_count": 13,
   "metadata": {
    "executionInfo": {
     "elapsed": 2545,
     "status": "ok",
     "timestamp": 1713338330446,
     "user": {
      "displayName": "Thorben M",
      "userId": "02931247254163619517"
     },
     "user_tz": -120
    },
    "id": "2IvOq7L8D66D"
   },
   "outputs": [],
   "source": [
    "numberOfSeqs = np.asarray(input_seq_all).shape[0] // 6000  # Use a subset for speed\n",
    "seq_length = np.asarray(input_seq_all).shape[1]\n",
    "\n",
    "seqs_tfmodisco_format = np.zeros([numberOfSeqs, seq_length, 4], dtype=bool)\n",
    "for i in range(numberOfSeqs):\n",
    "    seqs_tfmodisco_format[i] = input_seq_all[i].numpy().astype(bool)\n",
    "\n",
    "np.savez('02_data/Sequences.npz', seqs_tfmodisco_format)"
   ]
  },
  {
   "cell_type": "markdown",
   "metadata": {
    "id": "V8l95_rJl43_"
   },
   "source": [
    "Load the one-hot encoded sequences and inspect them. The array shape matches the contribution score array. Data type is bool."
   ]
  },
  {
   "cell_type": "code",
   "execution_count": 14,
   "metadata": {},
   "outputs": [
    {
     "name": "stdout",
     "output_type": "stream",
     "text": [
      "[[[ True False False False]\n",
      "  [False False  True False]\n",
      "  [False False  True False]\n",
      "  ...\n",
      "  [False  True False False]\n",
      "  [False False  True False]\n",
      "  [ True False False False]]\n",
      "\n",
      " [[ True False False False]\n",
      "  [False False  True False]\n",
      "  [False False  True False]\n",
      "  ...\n",
      "  [False  True False False]\n",
      "  [False False  True False]\n",
      "  [ True False False False]]\n",
      "\n",
      " [[ True False False False]\n",
      "  [False False  True False]\n",
      "  [False False  True False]\n",
      "  ...\n",
      "  [False  True False False]\n",
      "  [False False  True False]\n",
      "  [ True False False False]]\n",
      "\n",
      " ...\n",
      "\n",
      " [[ True False False False]\n",
      "  [False False  True False]\n",
      "  [False False  True False]\n",
      "  ...\n",
      "  [False  True False False]\n",
      "  [False False  True False]\n",
      "  [ True False False False]]\n",
      "\n",
      " [[ True False False False]\n",
      "  [False False  True False]\n",
      "  [False False  True False]\n",
      "  ...\n",
      "  [False  True False False]\n",
      "  [False False  True False]\n",
      "  [ True False False False]]\n",
      "\n",
      " [[ True False False False]\n",
      "  [False False  True False]\n",
      "  [False False  True False]\n",
      "  ...\n",
      "  [False  True False False]\n",
      "  [False False  True False]\n",
      "  [ True False False False]]]\n"
     ]
    }
   ],
   "source": [
    "print(seqs_tfmodisco_format)"
   ]
  },
  {
   "cell_type": "code",
   "execution_count": 15,
   "metadata": {
    "colab": {
     "base_uri": "https://localhost:8080/"
    },
    "executionInfo": {
     "elapsed": 1286,
     "status": "ok",
     "timestamp": 1713338331729,
     "user": {
      "displayName": "Thorben M",
      "userId": "02931247254163619517"
     },
     "user_tz": -120
    },
    "id": "0Sff2B-5mc4B",
    "outputId": "a6984356-6b92-48c6-ee02-d05a9fc34b48"
   },
   "outputs": [
    {
     "name": "stdout",
     "output_type": "stream",
     "text": [
      "[[ True False False False]\n",
      " [False False  True False]\n",
      " [False False  True False]\n",
      " [ True False False False]\n",
      " [False  True False False]\n",
      " [False  True False False]\n",
      " [False False  True False]\n",
      " [False False  True False]\n",
      " [ True False False False]\n",
      " [False False False  True]\n",
      " [False  True False False]\n",
      " [ True False False False]\n",
      " [ True False False False]\n",
      " [False  True False False]\n",
      " [False False False  True]\n",
      " [ True False False False]\n",
      " [False False False  True]\n",
      " [False False False  True]\n",
      " [False False False  True]\n",
      " [ True False False False]\n",
      " [False False False  True]\n",
      " [ True False False False]\n",
      " [ True False False False]\n",
      " [False  True False False]\n",
      " [False False False  True]\n",
      " [False False False  True]\n",
      " [False  True False False]\n",
      " [False  True False False]\n",
      " [False  True False False]\n",
      " [False  True False False]\n",
      " [ True False False False]\n",
      " [ True False False False]\n",
      " [ True False False False]\n",
      " [False False  True False]\n",
      " [False False  True False]\n",
      " [False False False  True]\n",
      " [False  True False False]\n",
      " [False  True False False]\n",
      " [ True False False False]\n",
      " [ True False False False]\n",
      " [ True False False False]\n",
      " [False False  True False]\n",
      " [ True False False False]\n",
      " [ True False False False]\n",
      " [False  True False False]\n",
      " [False False False  True]\n",
      " [False False False  True]\n",
      " [False False False  True]\n",
      " [False False False  True]\n",
      " [False False False  True]\n",
      " [False False False  True]\n",
      " [False False  True False]\n",
      " [False False  True False]\n",
      " [ True False False False]\n",
      " [False False False  True]\n",
      " [False False  True False]\n",
      " [False False False  True]\n",
      " [False False False  True]\n",
      " [False False False  True]\n",
      " [False False False  True]\n",
      " [False False  True False]\n",
      " [False False False  True]\n",
      " [ True False False False]\n",
      " [False  True False False]\n",
      " [False False False  True]\n",
      " [False False  True False]\n",
      " [False False  True False]\n",
      " [ True False False False]\n",
      " [False False  True False]\n",
      " [False False False  True]\n",
      " [False False False  True]\n",
      " [False False  True False]\n",
      " [False False  True False]\n",
      " [False False False  True]\n",
      " [False  True False False]\n",
      " [False False False  True]\n",
      " [False False False  True]\n",
      " [False False  True False]\n",
      " [ True False False False]\n",
      " [False False  True False]\n",
      " [False False False  True]\n",
      " [False False False  True]\n",
      " [False False False  True]\n",
      " [False  True False False]\n",
      " [False False False  True]\n",
      " [False False  True False]\n",
      " [False  True False False]\n",
      " [ True False False False]\n",
      " [False  True False False]\n",
      " [ True False False False]\n",
      " [False False False  True]\n",
      " [False False  True False]\n",
      " [False False False  True]\n",
      " [False False  True False]\n",
      " [ True False False False]\n",
      " [False False False  True]\n",
      " [ True False False False]\n",
      " [False  True False False]\n",
      " [ True False False False]\n",
      " [False  True False False]\n",
      " [False False False  True]\n",
      " [ True False False False]\n",
      " [False False  True False]\n",
      " [False False  True False]\n",
      " [False False False  True]\n",
      " [False False  True False]\n",
      " [False False  True False]\n",
      " [False False False  True]\n",
      " [False False  True False]\n",
      " [False  True False False]\n",
      " [False False False  True]\n",
      " [ True False False False]\n",
      " [ True False False False]\n",
      " [False False False  True]\n",
      " [False False False  True]\n",
      " [False False  True False]\n",
      " [ True False False False]\n",
      " [False  True False False]\n",
      " [False False False  True]\n",
      " [False False  True False]\n",
      " [ True False False False]\n",
      " [False False  True False]\n",
      " [False  True False False]\n",
      " [False False False  True]\n",
      " [False False  True False]\n",
      " [ True False False False]\n",
      " [False False  True False]\n",
      " [False  True False False]\n",
      " [ True False False False]\n",
      " [False False  True False]\n",
      " [False False  True False]\n",
      " [False False  True False]\n",
      " [ True False False False]\n",
      " [False  True False False]\n",
      " [ True False False False]\n",
      " [False  True False False]\n",
      " [False False False  True]\n",
      " [False  True False False]\n",
      " [False False False  True]\n",
      " [False False False  True]\n",
      " [False False False  True]\n",
      " [False False  True False]\n",
      " [False  True False False]\n",
      " [ True False False False]\n",
      " [False False  True False]\n",
      " [False  True False False]\n",
      " [False False  True False]\n",
      " [ True False False False]\n",
      " [False  True False False]\n",
      " [False False  True False]\n",
      " [False False False  True]\n",
      " [False False False  True]\n",
      " [ True False False False]\n",
      " [ True False False False]\n",
      " [ True False False False]\n",
      " [False False  True False]\n",
      " [ True False False False]\n",
      " [False  True False False]\n",
      " [False False False  True]\n",
      " [ True False False False]\n",
      " [ True False False False]\n",
      " [ True False False False]\n",
      " [False  True False False]\n",
      " [False  True False False]\n",
      " [False False False  True]\n",
      " [False  True False False]\n",
      " [ True False False False]\n",
      " [False  True False False]\n",
      " [False False False  True]\n",
      " [False False  True False]\n",
      " [ True False False False]\n",
      " [ True False False False]\n",
      " [False False False  True]\n",
      " [ True False False False]\n",
      " [False False  True False]\n",
      " [ True False False False]\n",
      " [False False False  True]\n",
      " [False False  True False]\n",
      " [False False False  True]\n",
      " [False False False  True]\n",
      " [False False False  True]\n",
      " [False False False  True]\n",
      " [False False False  True]\n",
      " [ True False False False]\n",
      " [False  True False False]\n",
      " [ True False False False]\n",
      " [False False  True False]\n",
      " [ True False False False]\n",
      " [False  True False False]\n",
      " [False False  True False]\n",
      " [False False False  True]\n",
      " [False  True False False]\n",
      " [ True False False False]\n",
      " [ True False False False]\n",
      " [False False False  True]\n",
      " [False  True False False]\n",
      " [ True False False False]\n",
      " [ True False False False]\n",
      " [ True False False False]\n",
      " [False False  True False]\n",
      " [False False  True False]\n",
      " [ True False False False]\n",
      " [False False  True False]\n",
      " [False False  True False]\n",
      " [ True False False False]\n",
      " [ True False False False]\n",
      " [ True False False False]\n",
      " [False False False  True]\n",
      " [False  True False False]\n",
      " [False False False  True]\n",
      " [False  True False False]\n",
      " [ True False False False]\n",
      " [ True False False False]\n",
      " [False False False  True]\n",
      " [False False False  True]\n",
      " [False  True False False]\n",
      " [ True False False False]\n",
      " [False False False  True]\n",
      " [False False False  True]\n",
      " [False False  True False]\n",
      " [False  True False False]\n",
      " [False False  True False]\n",
      " [False False False  True]\n",
      " [False False  True False]\n",
      " [ True False False False]\n",
      " [ True False False False]\n",
      " [False  True False False]\n",
      " [False  True False False]\n",
      " [False False  True False]\n",
      " [ True False False False]]\n",
      "(10, 230, 4)\n",
      "bool\n"
     ]
    }
   ],
   "source": [
    "seq_file = \"02_data/Sequences.npz\"\n",
    "seqs = np.load(seq_file)\n",
    "seqs = seqs.f.arr_0.astype(bool)\n",
    "\n",
    "print(seqs[9])\n",
    "print(seqs.shape)\n",
    "print(seqs.dtype)"
   ]
  },
  {
   "cell_type": "markdown",
   "metadata": {
    "id": "JBC0Eyfx24Ha"
   },
   "source": [
    "### Attribution Scores"
   ]
  },
  {
   "cell_type": "markdown",
   "metadata": {
    "id": "gzvBEf_-E5KD"
   },
   "source": [
    "Now we compute the attribution (contribution) scores using in-silico mutagenesis (ISM). For each sequence, we generate all possible single-nucleotide variants (SNVs) and predict their activity using our model."
   ]
  },
  {
   "cell_type": "code",
   "execution_count": 16,
   "metadata": {
    "colab": {
     "base_uri": "https://localhost:8080/"
    },
    "executionInfo": {
     "elapsed": 6607,
     "status": "ok",
     "timestamp": 1713338338331,
     "user": {
      "displayName": "Thorben M",
      "userId": "02931247254163619517"
     },
     "user_tz": -120
    },
    "id": "lTqAM0NG6onF",
    "outputId": "0b9a40a2-4a4b-47a1-f4fc-012272f8715d"
   },
   "outputs": [
    {
     "name": "stdout",
     "output_type": "stream",
     "text": [
      "1 of 10\n",
      "2 of 10\n",
      "3 of 10\n",
      "4 of 10\n",
      "5 of 10\n",
      "6 of 10\n",
      "7 of 10\n",
      "8 of 10\n",
      "9 of 10\n",
      "10 of 10\n"
     ]
    }
   ],
   "source": [
    "hypothetical_contribution_scores = np.zeros([numberOfSeqs, seq_length, 4])\n",
    "\n",
    "for i in range(numberOfSeqs):\n",
    "    print(f\"{i+1} of {numberOfSeqs}\")\n",
    "    listOfMutSeqs = []\n",
    "    for j in range(seq_length):\n",
    "        temp_seq = input_seq_all[i].numpy().copy()\n",
    "        temp_seq[j, :] = 0\n",
    "        for k in range(4):\n",
    "            temp_seq[j, k] = 1\n",
    "            listOfMutSeqs.append(tf.convert_to_tensor(temp_seq.copy()))\n",
    "            temp_seq[j, k] = 0\n",
    "    tensorOfMutSeqs = tf.convert_to_tensor(listOfMutSeqs)\n",
    "    predictions_alt = model.predict(tensorOfMutSeqs, batch_size=256, verbose=0)\n",
    "    for j in range(seq_length):\n",
    "        for k in range(4):\n",
    "            hypothetical_contribution_scores[i, j, k] = predictions_alt[j*4+k, 0]\n",
    "\n",
    "np.savez(\"02_data/hypothetical_contribution_scores.npz\", hypothetical_contribution_scores)"
   ]
  },
  {
   "cell_type": "markdown",
   "metadata": {
    "id": "tnYH6NkuDjrM"
   },
   "source": [
    "## Attribution Maps"
   ]
  },
  {
   "cell_type": "markdown",
   "metadata": {
    "id": "n2DyI7sAiiMX"
   },
   "source": [
    "This section introduces attribution maps. First, we load the file with the contribution scores generated above."
   ]
  },
  {
   "cell_type": "markdown",
   "metadata": {
    "id": "QKYzPY_phWc-"
   },
   "source": [
    "### Attribution Maps in General\n",
    "\n",
    "Attribution maps highlight bases or motifs that are important for the model's prediction of a given sequence. Let's look at the contribution scores as calculated above:"
   ]
  },
  {
   "cell_type": "code",
   "execution_count": 17,
   "metadata": {
    "colab": {
     "base_uri": "https://localhost:8080/"
    },
    "executionInfo": {
     "elapsed": 10,
     "status": "ok",
     "timestamp": 1713338338331,
     "user": {
      "displayName": "Thorben M",
      "userId": "02931247254163619517"
     },
     "user_tz": -120
    },
    "id": "ZWUMzkmoisgZ",
    "outputId": "46b659b1-a1fa-4f29-92b7-f5d632d837aa"
   },
   "outputs": [],
   "source": [
    "contrib_file = \"02_data/hypothetical_contribution_scores.npz\"\n",
    "scores = np.load(contrib_file)\n",
    "scores = scores.f.arr_0.astype(np.float32)"
   ]
  },
  {
   "cell_type": "markdown",
   "metadata": {
    "id": "I6kmXe7crOiW"
   },
   "source": [
    "A widely used approach is to subtract the prediction of the reference sequence from all predictions (see [Kelley et al.](https://pubmed.ncbi.nlm.nih.gov/27197224/))."
   ]
  },
  {
   "cell_type": "code",
   "execution_count": 18,
   "metadata": {},
   "outputs": [],
   "source": [
    "ref_seq = scores * seqs # Set everything to zero wat is not reference.\n",
    "\n",
    "ref_pred = np.repeat(ref_seq[np.nonzero(ref_seq)].reshape(seqs.shape[0], seqs.shape[1])[..., np.newaxis], 4, axis=-1) # Select non-zero (reference) values and copy it to all 4 nucleotides.\n",
    "scores = scores - ref_pred # Substract the reference prediction from all predictions."
   ]
  },
  {
   "cell_type": "markdown",
   "metadata": {
    "id": "VbsHXLF-j9Zy"
   },
   "source": [
    "Let's look at the attribution map of a single sequence. For each position, there are 4 entries (A, C, G, T). The value indicates the importance of the base at that position for the measured MPRA activity, based on the model. The array shape is (number of sequences, sequence length, 4)."
   ]
  },
  {
   "cell_type": "code",
   "execution_count": 19,
   "metadata": {
    "colab": {
     "base_uri": "https://localhost:8080/"
    },
    "executionInfo": {
     "elapsed": 505,
     "status": "ok",
     "timestamp": 1713338338827,
     "user": {
      "displayName": "Thorben M",
      "userId": "02931247254163619517"
     },
     "user_tz": -120
    },
    "id": "lL_qsXkpj_WJ",
    "outputId": "b79faeb1-29ae-4a8c-d691-79d6820e9ff8"
   },
   "outputs": [
    {
     "name": "stdout",
     "output_type": "stream",
     "text": [
      "(10, 230, 4)\n",
      "float32\n",
      "[[ 0.00000000e+00 -6.44624233e-05 -4.20928001e-04  8.21024179e-04]\n",
      " [-7.22140074e-04 -3.13401222e-04  0.00000000e+00 -7.67588615e-04]\n",
      " [ 3.01599503e-04  3.60757113e-04  0.00000000e+00 -1.05324388e-03]\n",
      " [ 0.00000000e+00  1.87018514e-03  5.09977341e-04 -1.20741129e-03]\n",
      " [-1.60393119e-03  0.00000000e+00  7.08788633e-03 -1.48102641e-03]\n",
      " [-9.99221206e-03  0.00000000e+00 -2.29123235e-03  2.99116969e-03]\n",
      " [ 8.54676962e-03  3.73718143e-03  0.00000000e+00  1.25913620e-02]\n",
      " [-2.76681781e-03  1.75780058e-03  0.00000000e+00  1.69725716e-02]\n",
      " [ 0.00000000e+00 -1.18434429e-04  8.79737735e-03 -3.86536121e-04]\n",
      " [ 2.47034431e-03  1.02202296e-02  5.41955233e-03  0.00000000e+00]\n",
      " [ 1.42753124e-02  0.00000000e+00  7.91740417e-03 -8.37862492e-03]\n",
      " [ 0.00000000e+00 -3.79893184e-03  2.49603987e-02  9.81682539e-03]\n",
      " [ 0.00000000e+00  1.99653506e-02  1.45809948e-02 -5.61189651e-03]\n",
      " [-1.21884644e-02  0.00000000e+00  6.19655848e-03 -3.82485688e-02]\n",
      " [ 5.25024533e-03  1.45725906e-02 -7.93576241e-04  0.00000000e+00]\n",
      " [ 0.00000000e+00  3.67541313e-02  5.19426912e-02  5.94652891e-02]\n",
      " [ 1.49653852e-02  3.24617028e-02  9.08488035e-03  0.00000000e+00]\n",
      " [-9.85315442e-03  1.69538260e-02  2.56076455e-03  0.00000000e+00]\n",
      " [ 1.50885284e-02  2.35768259e-02  5.52982092e-04  0.00000000e+00]\n",
      " [ 0.00000000e+00  1.41302347e-02  3.76378000e-02  1.12040341e-02]\n",
      " [-9.97942686e-03  1.43802166e-03  3.11440229e-02  0.00000000e+00]\n",
      " [ 0.00000000e+00  3.85556519e-02  1.69927180e-02 -9.72002745e-04]\n",
      " [ 0.00000000e+00 -2.28887498e-02  7.94607401e-03  4.36509252e-02]\n",
      " [-2.09822357e-02  0.00000000e+00 -1.53912902e-02 -2.59776413e-02]\n",
      " [ 6.59690052e-02  2.68891454e-02  4.59114611e-02  0.00000000e+00]\n",
      " [ 4.59840000e-02  1.43554509e-02  4.27455604e-02  0.00000000e+00]\n",
      " [ 7.59014785e-02  0.00000000e+00  2.67379880e-02  9.62603092e-03]\n",
      " [ 5.95176220e-03  0.00000000e+00 -3.12556326e-02 -3.72417867e-02]\n",
      " [ 2.57136524e-02  0.00000000e+00  5.97110391e-03  7.67368823e-02]\n",
      " [ 2.10264623e-02  0.00000000e+00  6.72973543e-02  3.35646570e-02]\n",
      " [ 0.00000000e+00 -5.87433577e-04  5.09579033e-02  5.12525886e-02]\n",
      " [ 0.00000000e+00  5.62578440e-03  1.59099698e-02 -2.39909887e-02]\n",
      " [ 0.00000000e+00  1.51388645e-02  5.79604954e-02 -5.05337119e-03]\n",
      " [ 1.81202292e-02  6.52639419e-02  0.00000000e+00  8.04021358e-02]\n",
      " [-1.22622550e-02  2.35143900e-02  0.00000000e+00  3.93456221e-02]\n",
      " [-2.32104361e-02 -1.06976151e-01 -4.55624163e-02  0.00000000e+00]\n",
      " [-3.75654399e-02  0.00000000e+00 -1.35733783e-02  2.97978222e-02]\n",
      " [-1.78378820e-03  0.00000000e+00  2.17228234e-02  2.84415483e-03]\n",
      " [ 0.00000000e+00 -1.57663822e-02  2.26050317e-02  9.71114635e-03]\n",
      " [ 0.00000000e+00  3.12571824e-02  1.34018064e-02 -1.54387951e-02]\n",
      " [ 0.00000000e+00  1.58167183e-02  6.25884533e-03  5.48931956e-03]\n",
      " [ 1.60387158e-03 -2.37633288e-02  0.00000000e+00  3.15660238e-03]\n",
      " [ 0.00000000e+00 -2.66095400e-02  1.39254332e-02 -7.74326921e-03]\n",
      " [ 0.00000000e+00  3.47139537e-02 -5.62328100e-03 -2.87255645e-03]\n",
      " [-3.27771902e-02  0.00000000e+00 -9.19407606e-03 -6.18131161e-02]\n",
      " [ 8.48770142e-05  5.44135720e-02 -2.64278650e-02  0.00000000e+00]\n",
      " [-1.39481127e-02  2.95635462e-02  2.59184539e-02  0.00000000e+00]\n",
      " [-4.12001312e-02 -1.43393874e-03  3.26691568e-02  0.00000000e+00]\n",
      " [ 1.80826187e-02  1.97934508e-02 -2.49113739e-02  0.00000000e+00]\n",
      " [-1.33983791e-02 -8.44144821e-03  1.19267702e-02  0.00000000e+00]\n",
      " [-1.65135562e-02  2.71689892e-02  2.07367837e-02  0.00000000e+00]\n",
      " [-2.04521120e-02  1.55996978e-02  0.00000000e+00 -9.85869765e-03]\n",
      " [-2.06845403e-02  5.64221591e-02  0.00000000e+00  5.51888794e-02]\n",
      " [ 0.00000000e+00  1.12946630e-02  1.41681433e-02 -5.06728888e-02]\n",
      " [ 2.89114118e-02 -1.14324689e-03  8.33272934e-05  0.00000000e+00]\n",
      " [ 1.16484165e-02 -4.42538261e-02  0.00000000e+00 -1.21842325e-02]\n",
      " [-3.09651494e-02  7.78344274e-03  3.95894051e-04  0.00000000e+00]\n",
      " [ 1.28068313e-01  1.93185806e-02  8.87141526e-02  0.00000000e+00]\n",
      " [ 7.44020641e-02  5.24628311e-02  1.17811516e-01  0.00000000e+00]\n",
      " [ 3.25953960e-03 -7.51471519e-03 -8.15259814e-02  0.00000000e+00]\n",
      " [-1.15391016e-02  5.23639768e-02  0.00000000e+00 -2.26449370e-02]\n",
      " [ 9.72339958e-02  9.06311721e-02  7.66779035e-02  0.00000000e+00]\n",
      " [ 0.00000000e+00  2.46865749e-02  3.42402458e-02  6.00316226e-02]\n",
      " [-3.93720865e-02  0.00000000e+00  1.62501335e-02 -1.78813934e-05]\n",
      " [-7.49579370e-02 -1.20017678e-01 -5.09227812e-02  0.00000000e+00]\n",
      " [-1.12617612e-02  1.40453279e-02  0.00000000e+00  4.35355008e-02]\n",
      " [-9.24903154e-03  8.61769319e-02  0.00000000e+00  7.16508329e-02]\n",
      " [ 0.00000000e+00  9.49910283e-03  3.56671810e-02  4.25415337e-02]\n",
      " [-1.92893445e-02  2.26693153e-02  0.00000000e+00  4.18922305e-03]\n",
      " [-2.52723694e-03 -2.40930617e-02  2.75714099e-02  0.00000000e+00]\n",
      " [ 2.30681896e-02 -5.69611788e-03  7.56424665e-03  0.00000000e+00]\n",
      " [ 6.23676181e-03 -7.06583261e-03  0.00000000e+00  3.25861573e-03]\n",
      " [-5.19264340e-02  1.69112682e-02  0.00000000e+00 -1.60726905e-03]\n",
      " [-1.54446065e-02  6.09481335e-03 -3.30459476e-02  0.00000000e+00]\n",
      " [-3.10539007e-02  0.00000000e+00 -3.16848755e-02 -5.90302348e-02]\n",
      " [ 3.53407264e-02  3.92615795e-02  2.50199437e-03  0.00000000e+00]\n",
      " [-2.54266262e-02 -4.30494845e-02 -3.67607474e-02  0.00000000e+00]\n",
      " [-9.95409787e-02 -4.70019579e-02  0.00000000e+00 -1.14401370e-01]\n",
      " [ 0.00000000e+00  1.57401264e-02 -3.99524271e-02  1.16761327e-02]\n",
      " [-5.44690192e-02 -4.00550365e-02  0.00000000e+00 -7.61792958e-02]\n",
      " [ 4.15517092e-02  4.69624996e-03  2.48217583e-02  0.00000000e+00]\n",
      " [-2.80287862e-02 -4.01253700e-02 -1.10248327e-02  0.00000000e+00]\n",
      " [-1.65340900e-02 -2.60055661e-02  1.69782937e-02  0.00000000e+00]\n",
      " [-1.15578473e-02  0.00000000e+00  1.88388526e-02  2.44300067e-02]\n",
      " [ 4.31910157e-03 -8.23493004e-02 -2.85271406e-02  0.00000000e+00]\n",
      " [ 1.98263228e-02  5.15240282e-02  0.00000000e+00 -2.16108263e-02]\n",
      " [ 3.74370515e-02  0.00000000e+00  1.49029791e-02 -3.42504680e-02]\n",
      " [ 0.00000000e+00 -5.93027472e-02 -3.15964818e-02 -2.43013501e-02]\n",
      " [-6.56633079e-02  0.00000000e+00 -1.46591961e-02  1.59618556e-02]\n",
      " [ 0.00000000e+00  7.47355819e-03 -6.06858730e-03  1.34839416e-02]\n",
      " [-7.81518221e-03 -1.25150084e-02  2.64820457e-03  0.00000000e+00]\n",
      " [ 4.62200046e-02  1.59387589e-02  0.00000000e+00  5.58809638e-02]\n",
      " [ 1.75325871e-02  9.10868049e-02  2.62659788e-03  0.00000000e+00]\n",
      " [ 7.64113665e-03  1.42274201e-02  0.00000000e+00  2.95150280e-02]\n",
      " [ 0.00000000e+00  1.74150467e-02  4.18986082e-02 -1.95619464e-03]\n",
      " [-2.79231668e-02  7.05606341e-02 -7.82549381e-04  0.00000000e+00]\n",
      " [ 0.00000000e+00  1.69613659e-02  5.08425534e-02  1.54196024e-02]\n",
      " [-2.08047330e-02  0.00000000e+00  2.19811201e-02 -1.15992129e-02]\n",
      " [ 0.00000000e+00 -1.76071823e-02  1.32232904e-02 -2.21133530e-02]\n",
      " [ 4.62712646e-02  0.00000000e+00 -6.57433271e-03  8.90192389e-03]\n",
      " [ 1.56078041e-02  3.89730930e-02  4.05937135e-02  0.00000000e+00]\n",
      " [ 0.00000000e+00 -3.48379910e-02 -1.79672241e-03 -9.83613729e-03]\n",
      " [-4.88916636e-02 -3.99111807e-02  0.00000000e+00 -7.46553540e-02]\n",
      " [ 6.88982010e-03 -3.12014222e-02  0.00000000e+00 -6.69462979e-02]\n",
      " [ 2.95821726e-02  1.04444623e-02  6.18952513e-02  0.00000000e+00]\n",
      " [-4.02014852e-02 -1.85420215e-02  0.00000000e+00 -7.93334842e-03]\n",
      " [-6.17869794e-02  9.52005386e-04  0.00000000e+00 -3.16969156e-02]\n",
      " [-2.19835341e-02  1.36363804e-02 -4.07162309e-03  0.00000000e+00]\n",
      " [-1.66487694e-02 -3.24207544e-03  0.00000000e+00 -9.57727432e-04]\n",
      " [-1.40507519e-02  0.00000000e+00 -2.33506262e-02 -2.18122005e-02]\n",
      " [-3.58879566e-04  2.80881822e-02 -1.63552165e-02  0.00000000e+00]\n",
      " [ 0.00000000e+00  1.67267025e-02 -5.69522381e-03 -1.56939626e-02]\n",
      " [ 0.00000000e+00 -6.41660392e-02 -6.25733733e-02 -2.26395726e-02]\n",
      " [-4.38766479e-02 -4.42852974e-02 -4.34155762e-02  0.00000000e+00]\n",
      " [-3.58501673e-02 -1.95651948e-02 -3.55907381e-02  0.00000000e+00]\n",
      " [-5.84390759e-02 -4.13682461e-02  0.00000000e+00 -4.01428044e-02]\n",
      " [ 0.00000000e+00  2.95583606e-02 -1.69960558e-02 -1.52557492e-02]\n",
      " [-1.93057060e-02  0.00000000e+00  1.65487528e-02 -1.07901692e-02]\n",
      " [-2.66366899e-02 -4.59185243e-03  1.35113299e-02  0.00000000e+00]\n",
      " [ 2.07599401e-02 -4.21008468e-03  0.00000000e+00  1.93813145e-02]\n",
      " [ 0.00000000e+00 -4.07287478e-03 -3.51014733e-03  1.72068775e-02]\n",
      " [ 3.20658386e-02  3.75106931e-02  0.00000000e+00  6.56405091e-03]\n",
      " [ 4.44546342e-03  0.00000000e+00  2.61369050e-02  1.79406106e-02]\n",
      " [ 6.47562742e-03 -9.61786509e-03 -3.62297893e-03  0.00000000e+00]\n",
      " [ 6.08307272e-02  5.49562424e-02  0.00000000e+00  7.13843107e-03]\n",
      " [ 0.00000000e+00  5.33423871e-02 -2.79620290e-03  7.67083466e-02]\n",
      " [ 3.74444127e-02 -1.81076825e-02  0.00000000e+00  6.83184117e-02]\n",
      " [ 5.54458350e-02  0.00000000e+00  9.42819715e-02  1.34664476e-02]\n",
      " [ 0.00000000e+00 -3.62513959e-02  2.73418427e-02 -2.59260535e-02]\n",
      " [ 1.95035338e-02 -1.72785819e-02  0.00000000e+00 -5.68094850e-02]\n",
      " [ 1.21788383e-02  1.16288662e-02  0.00000000e+00  2.21718252e-02]\n",
      " [ 1.82395875e-02 -1.83114707e-02  0.00000000e+00 -5.05652428e-02]\n",
      " [ 0.00000000e+00 -4.25928831e-03 -3.13501656e-02 -6.98590279e-03]\n",
      " [-2.51446366e-02  0.00000000e+00  3.01356018e-02 -2.31551528e-02]\n",
      " [ 0.00000000e+00  2.48420238e-02  2.47999132e-02 -8.28087330e-04]\n",
      " [-3.24415863e-02  0.00000000e+00 -6.63301051e-02 -8.09225738e-02]\n",
      " [-2.58268714e-02 -3.34064364e-02 -2.54974067e-02  0.00000000e+00]\n",
      " [ 1.12785101e-02  0.00000000e+00 -2.76491046e-03  9.68366861e-04]\n",
      " [ 2.10380852e-02  1.74750090e-02  4.07223105e-02  0.00000000e+00]\n",
      " [ 5.05813360e-02  6.35530204e-02  2.63457298e-02  0.00000000e+00]\n",
      " [-6.29663467e-03  2.71805227e-02  3.04830074e-03  0.00000000e+00]\n",
      " [ 1.66168511e-02 -3.31136286e-02  0.00000000e+00 -1.77423060e-02]\n",
      " [ 2.47437358e-02  0.00000000e+00  1.84790790e-02  4.37170863e-02]\n",
      " [ 0.00000000e+00  1.36056840e-02 -4.10913229e-02  2.66213119e-02]\n",
      " [ 3.05299759e-02  1.01667643e-03  0.00000000e+00  1.47822201e-02]\n",
      " [-7.89375007e-02  0.00000000e+00 -2.37402320e-03  2.17695534e-02]\n",
      " [-6.84961677e-03 -9.96014476e-03  0.00000000e+00  3.37180495e-03]\n",
      " [ 0.00000000e+00 -8.54641199e-04  1.14828318e-01 -3.72142792e-02]\n",
      " [-5.02733886e-02  0.00000000e+00 -3.74585688e-02 -2.88214386e-02]\n",
      " [-5.59479892e-02 -4.95403111e-02  0.00000000e+00 -5.94130158e-02]\n",
      " [ 4.24960554e-02  1.10562742e-02 -2.17422545e-02  0.00000000e+00]\n",
      " [ 2.16014087e-02  3.49950790e-03 -2.19910443e-02  0.00000000e+00]\n",
      " [ 0.00000000e+00 -7.06180930e-03  1.31773949e-02 -4.84913290e-02]\n",
      " [ 0.00000000e+00 -2.35860348e-02 -2.14115977e-02 -2.71330476e-02]\n",
      " [ 0.00000000e+00  3.89359295e-02  3.81805301e-02 -1.15970969e-02]\n",
      " [-7.61091709e-02 -1.00298524e-01  0.00000000e+00 -1.05534524e-01]\n",
      " [ 0.00000000e+00 -1.01516247e-02  7.41097331e-03 -3.76748145e-02]\n",
      " [-2.65701413e-02  0.00000000e+00  1.48134828e-02 -1.04845166e-02]\n",
      " [ 5.29974699e-02  3.51362526e-02  5.66715002e-02  0.00000000e+00]\n",
      " [ 0.00000000e+00  1.03853941e-02  1.19329989e-02 -3.73153687e-02]\n",
      " [ 0.00000000e+00  8.03279579e-02  1.51884854e-02 -3.83833051e-03]\n",
      " [ 0.00000000e+00  1.11810461e-01  4.75365818e-02  8.75476450e-02]\n",
      " [-5.00169396e-03  0.00000000e+00  1.32397115e-02  3.51576209e-02]\n",
      " [-3.89485359e-02  0.00000000e+00  7.94137120e-02  4.70486283e-02]\n",
      " [ 1.70629621e-02  3.12278867e-02  4.09714878e-02  0.00000000e+00]\n",
      " [ 1.00890696e-02  0.00000000e+00  7.19325691e-02  4.61935997e-06]\n",
      " [ 0.00000000e+00  1.54238492e-01  5.18145412e-02  9.28382427e-02]\n",
      " [ 1.26139224e-02  0.00000000e+00  7.52377510e-03  2.19724774e-02]\n",
      " [ 1.50419906e-01  1.92565486e-01  2.17354715e-01  0.00000000e+00]\n",
      " [-1.29452139e-01 -1.09136105e-03  0.00000000e+00 -1.05220258e-01]\n",
      " [ 0.00000000e+00 -5.62348068e-02 -4.10284996e-02 -9.85647738e-02]\n",
      " [ 0.00000000e+00 -5.71147501e-02  7.58511871e-02 -3.48796546e-02]\n",
      " [-7.90671706e-02 -6.38439059e-02 -8.75956416e-02  0.00000000e+00]\n",
      " [ 0.00000000e+00 -5.13469577e-02 -1.19124353e-01 -9.87758338e-02]\n",
      " [-1.19817078e-01 -8.49124491e-02  0.00000000e+00 -6.89418316e-02]\n",
      " [ 0.00000000e+00 -6.19444251e-02 -1.18420362e-01  3.40342522e-03]\n",
      " [ 1.02030009e-01  1.54790148e-01 -5.62214851e-03  0.00000000e+00]\n",
      " [ 1.00597396e-01  3.64153385e-02  0.00000000e+00  5.07693589e-02]\n",
      " [-4.94909286e-02 -2.74067521e-02 -6.62437379e-02  0.00000000e+00]\n",
      " [ 2.27756202e-02  4.55989540e-02  7.59451240e-02  0.00000000e+00]\n",
      " [-1.27497911e-02  9.04795080e-02  4.13185656e-02  0.00000000e+00]\n",
      " [ 4.69751358e-02  1.16014779e-02 -3.48041058e-02  0.00000000e+00]\n",
      " [ 3.32489610e-03  5.95989376e-02  6.08835071e-02  0.00000000e+00]\n",
      " [ 0.00000000e+00  3.24504673e-02  8.93536210e-03  1.76243484e-02]\n",
      " [ 6.37563914e-02  0.00000000e+00  5.20178527e-02  1.41282395e-01]\n",
      " [ 0.00000000e+00  4.25469875e-02  8.04949552e-02  1.25219911e-01]\n",
      " [ 1.15188956e-02 -2.20951140e-02  0.00000000e+00 -8.90475512e-03]\n",
      " [ 0.00000000e+00  1.03176028e-01  8.63182992e-02  5.69600463e-02]\n",
      " [-6.27784431e-02  0.00000000e+00 -4.22268808e-02 -1.38604641e-03]\n",
      " [-1.20481253e-02 -3.59280109e-02  0.00000000e+00 -3.98623943e-03]\n",
      " [ 2.54833400e-02  2.70732939e-01  5.72249591e-02  0.00000000e+00]\n",
      " [-2.98296213e-02  0.00000000e+00 -1.41351223e-02 -4.19312418e-02]\n",
      " [ 0.00000000e+00  9.57055837e-02  8.83759111e-02  1.84520483e-02]\n",
      " [ 0.00000000e+00  1.01420000e-01  1.25696942e-01  1.66868344e-01]\n",
      " [ 5.77919930e-02  9.75802094e-02  8.98102373e-02  0.00000000e+00]\n",
      " [-4.25758958e-03  0.00000000e+00  2.36032307e-02 -8.51231813e-03]\n",
      " [ 0.00000000e+00  1.59644783e-02  4.84192669e-02  4.75094318e-02]\n",
      " [ 0.00000000e+00  2.27128267e-02  4.43421304e-02  4.28848267e-02]\n",
      " [ 0.00000000e+00 -1.44151151e-02  1.00123882e-03 -6.15099072e-02]\n",
      " [ 2.41275728e-02 -1.02004111e-02  0.00000000e+00  3.29991579e-02]\n",
      " [ 4.67648506e-02  7.42083788e-03  0.00000000e+00  3.25202942e-03]\n",
      " [ 0.00000000e+00 -2.95909047e-02 -3.17831635e-02 -8.16538930e-03]\n",
      " [ 8.18970799e-03  7.96373636e-02  0.00000000e+00  3.45258117e-02]\n",
      " [ 8.23954493e-02 -3.63920033e-02  0.00000000e+00  2.30525732e-02]\n",
      " [ 0.00000000e+00 -6.78100586e-02 -4.27800715e-02  4.56190109e-03]\n",
      " [ 0.00000000e+00  2.81600654e-02 -1.11859441e-02  2.95370817e-03]\n",
      " [ 0.00000000e+00 -5.88193536e-03  4.19293046e-02  2.38333344e-02]\n",
      " [-3.39687169e-02 -8.81782174e-03 -4.78994846e-03  0.00000000e+00]\n",
      " [ 3.83026600e-02  0.00000000e+00 -2.91512012e-02  1.10511482e-02]\n",
      " [ 1.36398077e-02  1.26701593e-03  5.23536950e-02  0.00000000e+00]\n",
      " [-1.53214335e-02  0.00000000e+00 -1.89974904e-03  8.35946202e-03]\n",
      " [ 0.00000000e+00  2.45087445e-02  1.84828937e-02  4.22358811e-02]\n",
      " [ 0.00000000e+00  6.80077672e-02  1.00187182e-01  4.34778929e-02]\n",
      " [-2.09715664e-02  7.79300928e-04  3.17326188e-03  0.00000000e+00]\n",
      " [-1.81853771e-03  4.79903817e-03  4.47593331e-02  0.00000000e+00]\n",
      " [ 9.59748030e-03  0.00000000e+00  3.63159180e-03 -2.14419365e-02]\n",
      " [ 0.00000000e+00  1.67182088e-03 -5.11893630e-03 -1.55045688e-02]\n",
      " [ 7.89850950e-03  5.14346361e-03  9.98359919e-03  0.00000000e+00]\n",
      " [ 1.49381161e-03 -3.77926230e-03 -1.23499334e-02  0.00000000e+00]\n",
      " [-2.81306803e-02 -8.71226192e-03  0.00000000e+00 -1.93595588e-02]\n",
      " [ 5.83654642e-03  0.00000000e+00 -1.53579712e-02 -4.49365377e-03]\n",
      " [-8.56426358e-03 -4.01353836e-03  0.00000000e+00  6.16890192e-03]\n",
      " [ 2.39133835e-04 -5.61887026e-03 -5.48687577e-03  0.00000000e+00]\n",
      " [-2.64639854e-02  3.27226520e-03  0.00000000e+00 -8.80414248e-03]\n",
      " [ 0.00000000e+00 -1.14321709e-03 -1.92680657e-02 -1.59107745e-02]\n",
      " [ 0.00000000e+00  1.58089399e-03  1.54095888e-03  1.04218721e-03]\n",
      " [ 5.15401363e-04  0.00000000e+00 -1.20306015e-03 -9.22140479e-03]\n",
      " [ 5.14894724e-04  0.00000000e+00  2.12788582e-04  2.36243010e-04]\n",
      " [ 8.61287117e-05 -1.94907188e-05  0.00000000e+00  6.19590282e-05]\n",
      " [ 0.00000000e+00  0.00000000e+00  0.00000000e+00  0.00000000e+00]]\n"
     ]
    }
   ],
   "source": [
    "print(scores.shape)\n",
    "print(scores.dtype)\n",
    "print(scores[9])"
   ]
  },
  {
   "cell_type": "markdown",
   "metadata": {
    "id": "1cc8EDNvz4S9"
   },
   "source": [
    "We now use the logomaker library to plot a selected attribution map (here, the 10th sequence). Importantness is expressed by scaling the bases according to the maximal possible prediction loss."
   ]
  },
  {
   "cell_type": "code",
   "execution_count": 20,
   "metadata": {
    "colab": {
     "base_uri": "https://localhost:8080/"
    },
    "executionInfo": {
     "elapsed": 6,
     "status": "ok",
     "timestamp": 1713338338827,
     "user": {
      "displayName": "Thorben M",
      "userId": "02931247254163619517"
     },
     "user_tz": -120
    },
    "id": "tOJ4CPLovMfD",
    "outputId": "b3156d79-e296-4ea8-d24b-26957aca28d1"
   },
   "outputs": [
    {
     "name": "stdout",
     "output_type": "stream",
     "text": [
      "            A         C         G    T\n",
      "0    0.000421  0.000000  0.000000  0.0\n",
      "1    0.000000  0.000000  0.000768  0.0\n",
      "2    0.000000  0.000000  0.001053  0.0\n",
      "3    0.001207  0.000000  0.000000  0.0\n",
      "4    0.000000  0.001604  0.000000  0.0\n",
      "..        ...       ...       ...  ...\n",
      "225  0.000000  0.000000  0.000000  0.0\n",
      "226  0.000000  0.009221  0.000000  0.0\n",
      "227  0.000000  0.000000  0.000000  0.0\n",
      "228  0.000000  0.000000  0.000019  0.0\n",
      "229  0.000000  0.000000  0.000000  0.0\n",
      "\n",
      "[230 rows x 4 columns]\n"
     ]
    }
   ],
   "source": [
    "scores_for_map = np.abs(scores - np.min(scores, axis=2, keepdims=True))\n",
    "scores_for_map *= seqs\n",
    "\n",
    "df_hypo_contri = pd.DataFrame(scores_for_map[9], columns=['A', 'C', 'G', 'T'])\n",
    "print(df_hypo_contri)"
   ]
  },
  {
   "cell_type": "code",
   "execution_count": 21,
   "metadata": {
    "executionInfo": {
     "elapsed": 2,
     "status": "ok",
     "timestamp": 1713338338827,
     "user": {
      "displayName": "Thorben M",
      "userId": "02931247254163619517"
     },
     "user_tz": -120
    },
    "id": "SuN9dPQ16dj2"
   },
   "outputs": [],
   "source": [
    "%matplotlib inline"
   ]
  },
  {
   "cell_type": "code",
   "execution_count": 22,
   "metadata": {
    "colab": {
     "base_uri": "https://localhost:8080/",
     "height": 331
    },
    "executionInfo": {
     "elapsed": 2431,
     "status": "ok",
     "timestamp": 1713338341257,
     "user": {
      "displayName": "Thorben M",
      "userId": "02931247254163619517"
     },
     "user_tz": -120
    },
    "id": "22jjp2pWra7L",
    "outputId": "eb25635e-4b1d-4e0a-cfa6-a3381a780624"
   },
   "outputs": [
    {
     "data": {
      "image/png": "[encoded data removed]",
      "text/plain": [
       "<Figure size 2400x300 with 1 Axes>"
      ]
     },
     "metadata": {},
     "output_type": "display_data"
    }
   ],
   "source": [
    "import logomaker\n",
    "\n",
    "fig = plt.figure(figsize=(8, 1), dpi=300)\n",
    "ax1 = fig.add_subplot(111)\n",
    "PWM_logo = logomaker.Logo(df_hypo_contri, shade_below=.5, fade_below=.5, ax=ax1)\n",
    "plt.savefig(\"02_data/example_contrib_map.png\", dpi=300)\n",
    "plt.show()"
   ]
  },
  {
   "cell_type": "markdown",
   "metadata": {
    "id": "R3WLa1oEJW8k"
   },
   "source": [
    "### Attribution Maps for TF-MoDISco\n",
    "\n",
    "For TF-MoDISco, it is recommended to mean-normalize the contribution scores (see [TF-MoDISco example](https://github.com/kundajelab/tfmodisco/blob/master/examples/simulated_TAL_GATA_deeplearning/Generate%20Importance%20Scores.ipynb))."
   ]
  },
  {
   "cell_type": "code",
   "execution_count": 23,
   "metadata": {
    "executionInfo": {
     "elapsed": 4,
     "status": "ok",
     "timestamp": 1713338341257,
     "user": {
      "displayName": "Thorben M",
      "userId": "02931247254163619517"
     },
     "user_tz": -120
    },
    "id": "KODB82UpJ1fI"
   },
   "outputs": [],
   "source": [
    "scores_for_modisco = scores - np.mean(scores, axis=2, keepdims=True)\n",
    "np.savez(\"02_data/scores_for_modisco.npz\", hypothetical_contribution_scores)"
   ]
  },
  {
   "cell_type": "markdown",
   "metadata": {
    "id": "cPiUPqXbbdXt"
   },
   "source": [
    "Let's plot the mean-normalized hypothetical scores used for TF-MoDISco:"
   ]
  },
  {
   "cell_type": "code",
   "execution_count": 24,
   "metadata": {
    "colab": {
     "base_uri": "https://localhost:8080/",
     "height": 336
    },
    "executionInfo": {
     "elapsed": 11595,
     "status": "ok",
     "timestamp": 1713338352849,
     "user": {
      "displayName": "Thorben M",
      "userId": "02931247254163619517"
     },
     "user_tz": -120
    },
    "id": "k0u2Y6XUbkW1",
    "outputId": "0212a6f5-096b-4930-e516-788102c33fa8"
   },
   "outputs": [
    {
     "data": {
      "image/png": "[encoded data removed]",
      "text/plain": [
       "<Figure size 2400x300 with 1 Axes>"
      ]
     },
     "metadata": {},
     "output_type": "display_data"
    }
   ],
   "source": [
    "df_hypo_contri = pd.DataFrame(scores_for_modisco[9], columns=['A', 'C', 'G', 'T'])\n",
    "fig = plt.figure(figsize=(8, 1), dpi=300)\n",
    "ax1 = fig.add_subplot(111)\n",
    "PWM_logo = logomaker.Logo(df_hypo_contri, shade_below=.5, fade_below=.5, ax=ax1)\n",
    "plt.savefig(\"02_data/example_contrib_map.png\", dpi=300)\n",
    "plt.show()"
   ]
  },
  {
   "cell_type": "markdown",
   "metadata": {
    "id": "1MyFdwzcb5qI"
   },
   "source": [
    "And the actual contribution scores resulting from it:"
   ]
  },
  {
   "cell_type": "code",
   "execution_count": 25,
   "metadata": {
    "colab": {
     "base_uri": "https://localhost:8080/",
     "height": 326
    },
    "executionInfo": {
     "elapsed": 1604,
     "status": "ok",
     "timestamp": 1713338354449,
     "user": {
      "displayName": "Thorben M",
      "userId": "02931247254163619517"
     },
     "user_tz": -120
    },
    "id": "syeStbzlb9yY",
    "outputId": "395d0593-3f8d-4cf1-b597-90589ed1b6b6"
   },
   "outputs": [
    {
     "data": {
      "image/png": "[encoded data removed]",
      "text/plain": [
       "<Figure size 2400x300 with 1 Axes>"
      ]
     },
     "metadata": {},
     "output_type": "display_data"
    }
   ],
   "source": [
    "df_hypo_contri = pd.DataFrame(scores_for_modisco[9] * seqs[9], columns=['A', 'C', 'G', 'T'])\n",
    "fig = plt.figure(figsize=(8, 1), dpi=300)\n",
    "ax1 = fig.add_subplot(111)\n",
    "PWM_logo = logomaker.Logo(df_hypo_contri, shade_below=.5, fade_below=.5, ax=ax1)\n",
    "plt.savefig(\"02_data/example_contrib_map.png\", dpi=300)\n",
    "plt.show()"
   ]
  },
  {
   "cell_type": "markdown",
   "metadata": {
    "id": "uS4jbxFvcg9M"
   },
   "source": [
    "Note that both ways of plotting actual contribution scores result from the same data and include very similar information."
   ]
  },
  {
   "cell_type": "markdown",
   "metadata": {
    "id": "ohRKv0aD6vC6"
   },
   "source": [
    "# Using TF-MoDISco"
   ]
  },
  {
   "cell_type": "markdown",
   "metadata": {
    "id": "XSassUjcDdPT"
   },
   "source": [
    "## Setting Up the Environment"
   ]
  },
  {
   "cell_type": "markdown",
   "metadata": {
    "id": "_mGyvjZUicfH"
   },
   "source": [
    "Now we can set up the environment."
   ]
  },
  {
   "cell_type": "code",
   "execution_count": 26,
   "metadata": {
    "executionInfo": {
     "elapsed": 4538,
     "status": "ok",
     "timestamp": 1713338358983,
     "user": {
      "displayName": "Thorben M",
      "userId": "02931247254163619517"
     },
     "user_tz": -120
    },
    "id": "d-pakyTthzWc"
   },
   "outputs": [],
   "source": [
    "import modiscolite"
   ]
  },
  {
   "cell_type": "markdown",
   "metadata": {
    "id": "Q5Jfd783n4eM"
   },
   "source": [
    "## Running TF-MoDISco\n",
    "\n",
    "Above, we learned how to interpret a model's representation of a given sequence. However, with tens of thousands of sequences, you don't want to look at each one individually. TF-MoDISco summarizes the model's representation across all sequences."
   ]
  },
  {
   "cell_type": "markdown",
   "metadata": {
    "id": "BAynuD0InmVZ"
   },
   "source": [
    "Now that we have prepared all the arrays for TF-MoDISco, we can run it. The result depends on the parameters you use. Here, we use only a subset of the data for speed."
   ]
  },
  {
   "cell_type": "code",
   "execution_count": 27,
   "metadata": {
    "colab": {
     "base_uri": "https://localhost:8080/"
    },
    "executionInfo": {
     "elapsed": 6,
     "status": "ok",
     "timestamp": 1713338358983,
     "user": {
      "displayName": "Thorben M",
      "userId": "02931247254163619517"
     },
     "user_tz": -120
    },
    "id": "X9wB5iI86wh8",
    "outputId": "a5ed2e23-960e-42c5-db97-b0ed3bbd8790"
   },
   "outputs": [
    {
     "name": "stdout",
     "output_type": "stream",
     "text": [
      "None\n",
      "None\n"
     ]
    }
   ],
   "source": [
    "pos_patterns, neg_patterns = modiscolite.tfmodisco.TFMoDISco(\n",
    "    sliding_window_size=8,\n",
    "    flank_size=8,\n",
    "    min_metacluster_size=20,\n",
    "    target_seqlet_fdr=0.1,\n",
    "    hypothetical_contribs=scores_for_modisco,\n",
    "    one_hot=seqs,\n",
    "    max_seqlets_per_metacluster=20000,\n",
    "    trim_to_window_size=10,\n",
    "    n_leiden_runs=2,\n",
    "    initial_flank_to_add=3,\n",
    "    final_min_cluster_size=30,\n",
    "    verbose=True\n",
    ")\n",
    "\n",
    "modiscolite.io.save_hdf5(contrib_file + \".h5\", pos_patterns, neg_patterns, window_size=8)\n",
    "\n",
    "print(pos_patterns)\n",
    "print(neg_patterns)"
   ]
  },
  {
   "cell_type": "markdown",
   "metadata": {
    "id": "Z6VGNP9c0nJo"
   },
   "source": [
    "Finally, we can run the command-line version of TF-MoDISco to generate an HTML report. The example below uses the full dataset. The JASPAR database is used for motif annotation."
   ]
  },
  {
   "cell_type": "code",
   "execution_count": 28,
   "metadata": {},
   "outputs": [
    {
     "name": "stdout",
     "output_type": "stream",
     "text": [
      "File exists\n"
     ]
    }
   ],
   "source": [
    "%%bash\n",
    "if [ ! -f \"02_data/JASPAR2022_CORE_vertebrates_non-redundant_pfms_meme_nice.txt\" ]; then\n",
    "    wget -O 02_data/JASPAR2022_CORE_vertebrates_non-redundant_pfms_meme_nice.txt https://github.com/kircherlab/ISMB-2025_IGVF-MPRA-Tutorial/raw/refs/heads/main/05_sequence_models/02_data/JASPAR2022_CORE_vertebrates_non-redundant_pfms_meme_nice.txt\n",
    "else\n",
    "    echo \"File exists\"\n",
    "fi"
   ]
  },
  {
   "cell_type": "code",
   "execution_count": 29,
   "metadata": {
    "id": "7711gMcqq5xo",
    "vscode": {
     "languageId": "shellscript"
    }
   },
   "outputs": [],
   "source": [
    "%%bash\n",
    "modisco report \\\n",
    "-i 02_data/hypothetical_contribution_scores.npz.h5 \\\n",
    "-o 02_data/tfmodisco_report/ \\\n",
    "-s 02_data/tfmodisco_report/ \\\n",
    "-m 02_data/JASPAR2022_CORE_vertebrates_non-redundant_pfms_meme_nice.txt"
   ]
  },
  {
   "cell_type": "markdown",
   "metadata": {
    "id": "1kjHDedQJFtx"
   },
   "source": [
    "After creating a copy of the file `motifs.html` in the directory above the output folder, we can explore the TF-MoDISco results. If your previous run has `None` positive and `None` negative pattern (which might be on small number of sequences withn this example), you will not see any pattern."
   ]
  },
  {
   "cell_type": "code",
   "execution_count": 30,
   "metadata": {
    "colab": {
     "background_save": true
    },
    "id": "hL9_oHlEq6Py"
   },
   "outputs": [
    {
     "data": {
      "text/html": [
       "<table border=\"1\" class=\"dataframe\">\n",
       "  <thead>\n",
       "    <tr style=\"text-align: right;\">\n",
       "      <th>pattern</th>\n",
       "      <th>num_seqlets</th>\n",
       "      <th>modisco_cwm_fwd</th>\n",
       "      <th>modisco_cwm_rev</th>\n",
       "      <th>match0</th>\n",
       "      <th>qval0</th>\n",
       "      <th>match0_logo</th>\n",
       "      <th>match1</th>\n",
       "      <th>qval1</th>\n",
       "      <th>match1_logo</th>\n",
       "      <th>match2</th>\n",
       "      <th>qval2</th>\n",
       "      <th>match2_logo</th>\n",
       "    </tr>\n",
       "  </thead>\n",
       "  <tbody>\n",
       "  </tbody>\n",
       "</table>"
      ],
      "text/plain": [
       "<IPython.core.display.HTML object>"
      ]
     },
     "execution_count": 30,
     "metadata": {},
     "output_type": "execute_result"
    }
   ],
   "source": [
    "!cp 02_data/tfmodisco_report/motifs.html motifs.html\n",
    "from IPython.display import HTML\n",
    "HTML(filename='motifs.html')"
   ]
  },
  {
   "cell_type": "markdown",
   "metadata": {},
   "source": [
    "Finally we show you the TF-Modisco report on the complete sample on all sequences (not only 10). Please note that we were not able to show the sequence logos when you run this tutorial on Google Colab. You might download the files and folders (keep the foldor structure) to see the logos on your local machine."
   ]
  },
  {
   "cell_type": "code",
   "execution_count": 31,
   "metadata": {},
   "outputs": [
    {
     "name": "stdout",
     "output_type": "stream",
     "text": [
      "File exists\n"
     ]
    }
   ],
   "source": [
    "%%bash\n",
    "if [ ! -f \"02_data/tfmodisco_report_all.tar.gz\" ]; then\n",
    "    wget -O 02_data/tfmodisco_report_all.tar.gz https://github.com/kircherlab/ISMB-2025_IGVF-MPRA-Tutorial/raw/refs/heads/main/05_sequence_models/02_data/tfmodisco_report_all.tar.gz\n",
    "else\n",
    "    echo \"File exists\"\n",
    "fi\n",
    "\n",
    "tar -xzf 02_data/tfmodisco_report_all.tar.gz -C 02_data/\n",
    "sed -i 's/tfmodisco_report_MPRAultra_all\\//02_data\\/tfmodisco_report_all\\//g' 02_data/tfmodisco_report_all/motifs.html \n",
    "cp 02_data/tfmodisco_report_all/motifs.html motifs_all.html"
   ]
  },
  {
   "cell_type": "code",
   "execution_count": 32,
   "metadata": {},
   "outputs": [
    {
     "data": {
      "text/html": [
       "<table border=\"1\" class=\"dataframe\">\n",
       "  <thead>\n",
       "    <tr style=\"text-align: right;\">\n",
       "      <th>pattern</th>\n",
       "      <th>num_seqlets</th>\n",
       "      <th>modisco_cwm_fwd</th>\n",
       "      <th>modisco_cwm_rev</th>\n",
       "      <th>match0</th>\n",
       "      <th>qval0</th>\n",
       "      <th>match0_logo</th>\n",
       "      <th>match1</th>\n",
       "      <th>qval1</th>\n",
       "      <th>match1_logo</th>\n",
       "      <th>match2</th>\n",
       "      <th>qval2</th>\n",
       "      <th>match2_logo</th>\n",
       "    </tr>\n",
       "  </thead>\n",
       "  <tbody>\n",
       "    <tr>\n",
       "      <td>pos_patterns.pattern_0</td>\n",
       "      <td>3592</td>\n",
       "      <td><img src=\"02_data/tfmodisco_report_all//trimmed_logos/pos_patterns.pattern_0.cwm.fwd.png\" width=\"240\" ></td>\n",
       "      <td><img src=\"02_data/tfmodisco_report_all//trimmed_logos/pos_patterns.pattern_0.cwm.rev.png\" width=\"240\" ></td>\n",
       "      <td>MA0599.1_MA0599.1.KLF5</td>\n",
       "      <td>0.000020</td>\n",
       "      <td><img src=\"02_data/tfmodisco_report_all/MA0599.1_MA0599.1.KLF5.png\" width=\"240\" ></td>\n",
       "      <td>MA0685.2_MA0685.2.SP4</td>\n",
       "      <td>0.000020</td>\n",
       "      <td><img src=\"02_data/tfmodisco_report_all/MA0685.2_MA0685.2.SP4.png\" width=\"240\" ></td>\n",
       "      <td>MA0079.5_MA0079.5.SP1</td>\n",
       "      <td>0.000026</td>\n",
       "      <td><img src=\"02_data/tfmodisco_report_all/MA0079.5_MA0079.5.SP1.png\" width=\"240\" ></td>\n",
       "    </tr>\n",
       "    <tr>\n",
       "      <td>pos_patterns.pattern_1</td>\n",
       "      <td>2938</td>\n",
       "      <td><img src=\"02_data/tfmodisco_report_all//trimmed_logos/pos_patterns.pattern_1.cwm.fwd.png\" width=\"240\" ></td>\n",
       "      <td><img src=\"02_data/tfmodisco_report_all//trimmed_logos/pos_patterns.pattern_1.cwm.rev.png\" width=\"240\" ></td>\n",
       "      <td>MA0474.3_MA0474.3.Erg</td>\n",
       "      <td>0.000051</td>\n",
       "      <td><img src=\"02_data/tfmodisco_report_all/MA0474.3_MA0474.3.Erg.png\" width=\"240\" ></td>\n",
       "      <td>MA1956.1_MA1956.1.FOXO1::FLI1</td>\n",
       "      <td>0.000111</td>\n",
       "      <td><img src=\"02_data/tfmodisco_report_all/MA1956.1_MA1956.1.FOXO1::FLI1.png\" width=\"240\" ></td>\n",
       "      <td>MA0062.3_MA0062.3.GABPA</td>\n",
       "      <td>0.000111</td>\n",
       "      <td><img src=\"02_data/tfmodisco_report_all/MA0062.3_MA0062.3.GABPA.png\" width=\"240\" ></td>\n",
       "    </tr>\n",
       "    <tr>\n",
       "      <td>pos_patterns.pattern_2</td>\n",
       "      <td>1531</td>\n",
       "      <td><img src=\"02_data/tfmodisco_report_all//trimmed_logos/pos_patterns.pattern_2.cwm.fwd.png\" width=\"240\" ></td>\n",
       "      <td><img src=\"02_data/tfmodisco_report_all//trimmed_logos/pos_patterns.pattern_2.cwm.rev.png\" width=\"240\" ></td>\n",
       "      <td>MA0036.3_MA0036.3.GATA2</td>\n",
       "      <td>0.001342</td>\n",
       "      <td><img src=\"02_data/tfmodisco_report_all/MA0036.3_MA0036.3.GATA2.png\" width=\"240\" ></td>\n",
       "      <td>MA1970.1_MA1970.1.TRPS1</td>\n",
       "      <td>0.001342</td>\n",
       "      <td><img src=\"02_data/tfmodisco_report_all/MA1970.1_MA1970.1.TRPS1.png\" width=\"240\" ></td>\n",
       "      <td>MA1104.2_MA1104.2.GATA6</td>\n",
       "      <td>0.001342</td>\n",
       "      <td><img src=\"02_data/tfmodisco_report_all/MA1104.2_MA1104.2.GATA6.png\" width=\"240\" ></td>\n",
       "    </tr>\n",
       "    <tr>\n",
       "      <td>pos_patterns.pattern_3</td>\n",
       "      <td>1410</td>\n",
       "      <td><img src=\"02_data/tfmodisco_report_all//trimmed_logos/pos_patterns.pattern_3.cwm.fwd.png\" width=\"240\" ></td>\n",
       "      <td><img src=\"02_data/tfmodisco_report_all//trimmed_logos/pos_patterns.pattern_3.cwm.rev.png\" width=\"240\" ></td>\n",
       "      <td>MA1644.1_MA1644.1.NFYC</td>\n",
       "      <td>0.000005</td>\n",
       "      <td><img src=\"02_data/tfmodisco_report_all/MA1644.1_MA1644.1.NFYC.png\" width=\"240\" ></td>\n",
       "      <td>MA0060.3_MA0060.3.NFYA</td>\n",
       "      <td>0.000100</td>\n",
       "      <td><img src=\"02_data/tfmodisco_report_all/MA0060.3_MA0060.3.NFYA.png\" width=\"240\" ></td>\n",
       "      <td>MA0502.2_MA0502.2.NFYB</td>\n",
       "      <td>0.055698</td>\n",
       "      <td><img src=\"02_data/tfmodisco_report_all/MA0502.2_MA0502.2.NFYB.png\" width=\"240\" ></td>\n",
       "    </tr>\n",
       "    <tr>\n",
       "      <td>pos_patterns.pattern_4</td>\n",
       "      <td>1298</td>\n",
       "      <td><img src=\"02_data/tfmodisco_report_all//trimmed_logos/pos_patterns.pattern_4.cwm.fwd.png\" width=\"240\" ></td>\n",
       "      <td><img src=\"02_data/tfmodisco_report_all//trimmed_logos/pos_patterns.pattern_4.cwm.rev.png\" width=\"240\" ></td>\n",
       "      <td>MA1633.2_MA1633.2.BACH1</td>\n",
       "      <td>0.004738</td>\n",
       "      <td><img src=\"02_data/tfmodisco_report_all/MA1633.2_MA1633.2.BACH1.png\" width=\"240\" ></td>\n",
       "      <td>MA0835.2_MA0835.2.BATF3</td>\n",
       "      <td>0.004738</td>\n",
       "      <td><img src=\"02_data/tfmodisco_report_all/MA0835.2_MA0835.2.BATF3.png\" width=\"240\" ></td>\n",
       "      <td>MA1988.1_MA1988.1.Atf3</td>\n",
       "      <td>0.004738</td>\n",
       "      <td><img src=\"02_data/tfmodisco_report_all/MA1988.1_MA1988.1.Atf3.png\" width=\"240\" ></td>\n",
       "    </tr>\n",
       "    <tr>\n",
       "      <td>pos_patterns.pattern_5</td>\n",
       "      <td>1233</td>\n",
       "      <td><img src=\"02_data/tfmodisco_report_all//trimmed_logos/pos_patterns.pattern_5.cwm.fwd.png\" width=\"240\" ></td>\n",
       "      <td><img src=\"02_data/tfmodisco_report_all//trimmed_logos/pos_patterns.pattern_5.cwm.rev.png\" width=\"240\" ></td>\n",
       "      <td>MA0643.1_MA0643.1.Esrrg</td>\n",
       "      <td>1.000000</td>\n",
       "      <td><img src=\"02_data/tfmodisco_report_all/MA0643.1_MA0643.1.Esrrg.png\" width=\"240\" ></td>\n",
       "      <td>MA0160.2_MA0160.2.NR4A2</td>\n",
       "      <td>1.000000</td>\n",
       "      <td><img src=\"02_data/tfmodisco_report_all/MA0160.2_MA0160.2.NR4A2.png\" width=\"240\" ></td>\n",
       "      <td>MA1581.1_MA1581.1.ZBTB6</td>\n",
       "      <td>1.000000</td>\n",
       "      <td><img src=\"02_data/tfmodisco_report_all/MA1581.1_MA1581.1.ZBTB6.png\" width=\"240\" ></td>\n",
       "    </tr>\n",
       "    <tr>\n",
       "      <td>pos_patterns.pattern_6</td>\n",
       "      <td>904</td>\n",
       "      <td><img src=\"02_data/tfmodisco_report_all//trimmed_logos/pos_patterns.pattern_6.cwm.fwd.png\" width=\"240\" ></td>\n",
       "      <td><img src=\"02_data/tfmodisco_report_all//trimmed_logos/pos_patterns.pattern_6.cwm.rev.png\" width=\"240\" ></td>\n",
       "      <td>MA0833.2_MA0833.2.ATF4</td>\n",
       "      <td>0.000593</td>\n",
       "      <td><img src=\"02_data/tfmodisco_report_all/MA0833.2_MA0833.2.ATF4.png\" width=\"240\" ></td>\n",
       "      <td>MA1636.1_MA1636.1.CEBPG</td>\n",
       "      <td>0.001334</td>\n",
       "      <td><img src=\"02_data/tfmodisco_report_all/MA1636.1_MA1636.1.CEBPG.png\" width=\"240\" ></td>\n",
       "      <td>MA1962.1_MA1962.1.POU2F1::SOX2</td>\n",
       "      <td>0.268047</td>\n",
       "      <td><img src=\"02_data/tfmodisco_report_all/MA1962.1_MA1962.1.POU2F1::SOX2.png\" width=\"240\" ></td>\n",
       "    </tr>\n",
       "    <tr>\n",
       "      <td>pos_patterns.pattern_7</td>\n",
       "      <td>507</td>\n",
       "      <td><img src=\"02_data/tfmodisco_report_all//trimmed_logos/pos_patterns.pattern_7.cwm.fwd.png\" width=\"240\" ></td>\n",
       "      <td><img src=\"02_data/tfmodisco_report_all//trimmed_logos/pos_patterns.pattern_7.cwm.rev.png\" width=\"240\" ></td>\n",
       "      <td>MA1512.1_MA1512.1.KLF11</td>\n",
       "      <td>0.000483</td>\n",
       "      <td><img src=\"02_data/tfmodisco_report_all/MA1512.1_MA1512.1.KLF11.png\" width=\"240\" ></td>\n",
       "      <td>MA0746.2_MA0746.2.SP3</td>\n",
       "      <td>0.000516</td>\n",
       "      <td><img src=\"02_data/tfmodisco_report_all/MA0746.2_MA0746.2.SP3.png\" width=\"240\" ></td>\n",
       "      <td>MA1517.1_MA1517.1.KLF6</td>\n",
       "      <td>0.000516</td>\n",
       "      <td><img src=\"02_data/tfmodisco_report_all/MA1517.1_MA1517.1.KLF6.png\" width=\"240\" ></td>\n",
       "    </tr>\n",
       "    <tr>\n",
       "      <td>pos_patterns.pattern_8</td>\n",
       "      <td>314</td>\n",
       "      <td><img src=\"02_data/tfmodisco_report_all//trimmed_logos/pos_patterns.pattern_8.cwm.fwd.png\" width=\"240\" ></td>\n",
       "      <td><img src=\"02_data/tfmodisco_report_all//trimmed_logos/pos_patterns.pattern_8.cwm.rev.png\" width=\"240\" ></td>\n",
       "      <td>MA0093.3_MA0093.3.USF1</td>\n",
       "      <td>0.000019</td>\n",
       "      <td><img src=\"02_data/tfmodisco_report_all/MA0093.3_MA0093.3.USF1.png\" width=\"240\" ></td>\n",
       "      <td>MA0831.3_MA0831.3.TFE3</td>\n",
       "      <td>0.000441</td>\n",
       "      <td><img src=\"02_data/tfmodisco_report_all/MA0831.3_MA0831.3.TFE3.png\" width=\"240\" ></td>\n",
       "      <td>MA0636.1_MA0636.1.BHLHE41</td>\n",
       "      <td>0.000441</td>\n",
       "      <td><img src=\"02_data/tfmodisco_report_all/MA0636.1_MA0636.1.BHLHE41.png\" width=\"240\" ></td>\n",
       "    </tr>\n",
       "    <tr>\n",
       "      <td>pos_patterns.pattern_9</td>\n",
       "      <td>285</td>\n",
       "      <td><img src=\"02_data/tfmodisco_report_all//trimmed_logos/pos_patterns.pattern_9.cwm.fwd.png\" width=\"240\" ></td>\n",
       "      <td><img src=\"02_data/tfmodisco_report_all//trimmed_logos/pos_patterns.pattern_9.cwm.rev.png\" width=\"240\" ></td>\n",
       "      <td>MA0088.2_MA0088.2.ZNF143</td>\n",
       "      <td>1.000000</td>\n",
       "      <td><img src=\"02_data/tfmodisco_report_all/MA0088.2_MA0088.2.ZNF143.png\" width=\"240\" ></td>\n",
       "      <td>MA1716.1_MA1716.1.ZNF76</td>\n",
       "      <td>1.000000</td>\n",
       "      <td><img src=\"02_data/tfmodisco_report_all/MA1716.1_MA1716.1.ZNF76.png\" width=\"240\" ></td>\n",
       "      <td>MA0038.2_MA0038.2.GFI1</td>\n",
       "      <td>1.000000</td>\n",
       "      <td><img src=\"02_data/tfmodisco_report_all/MA0038.2_MA0038.2.GFI1.png\" width=\"240\" ></td>\n",
       "    </tr>\n",
       "    <tr>\n",
       "      <td>pos_patterns.pattern_10</td>\n",
       "      <td>272</td>\n",
       "      <td><img src=\"02_data/tfmodisco_report_all//trimmed_logos/pos_patterns.pattern_10.cwm.fwd.png\" width=\"240\" ></td>\n",
       "      <td><img src=\"02_data/tfmodisco_report_all//trimmed_logos/pos_patterns.pattern_10.cwm.rev.png\" width=\"240\" ></td>\n",
       "      <td>MA0591.1_MA0591.1.Bach1::Mafk</td>\n",
       "      <td>0.394208</td>\n",
       "      <td><img src=\"02_data/tfmodisco_report_all/MA0591.1_MA0591.1.Bach1::Mafk.png\" width=\"240\" ></td>\n",
       "      <td>MA0150.2_MA0150.2.Nfe2l2</td>\n",
       "      <td>0.394208</td>\n",
       "      <td><img src=\"02_data/tfmodisco_report_all/MA0150.2_MA0150.2.Nfe2l2.png\" width=\"240\" ></td>\n",
       "      <td>MA0501.1_MA0501.1.MAF::NFE2</td>\n",
       "      <td>0.394208</td>\n",
       "      <td><img src=\"02_data/tfmodisco_report_all/MA0501.1_MA0501.1.MAF::NFE2.png\" width=\"240\" ></td>\n",
       "    </tr>\n",
       "    <tr>\n",
       "      <td>pos_patterns.pattern_11</td>\n",
       "      <td>269</td>\n",
       "      <td><img src=\"02_data/tfmodisco_report_all//trimmed_logos/pos_patterns.pattern_11.cwm.fwd.png\" width=\"240\" ></td>\n",
       "      <td><img src=\"02_data/tfmodisco_report_all//trimmed_logos/pos_patterns.pattern_11.cwm.rev.png\" width=\"240\" ></td>\n",
       "      <td>MA0506.2_MA0506.2.Nrf1</td>\n",
       "      <td>0.016551</td>\n",
       "      <td><img src=\"02_data/tfmodisco_report_all/MA0506.2_MA0506.2.Nrf1.png\" width=\"240\" ></td>\n",
       "      <td>MA1560.1_MA1560.1.SOHLH2</td>\n",
       "      <td>0.920739</td>\n",
       "      <td><img src=\"02_data/tfmodisco_report_all/MA1560.1_MA1560.1.SOHLH2.png\" width=\"240\" ></td>\n",
       "      <td>MA0103.3_MA0103.3.ZEB1</td>\n",
       "      <td>1.000000</td>\n",
       "      <td><img src=\"02_data/tfmodisco_report_all/MA0103.3_MA0103.3.ZEB1.png\" width=\"240\" ></td>\n",
       "    </tr>\n",
       "    <tr>\n",
       "      <td>pos_patterns.pattern_12</td>\n",
       "      <td>259</td>\n",
       "      <td><img src=\"02_data/tfmodisco_report_all//trimmed_logos/pos_patterns.pattern_12.cwm.fwd.png\" width=\"240\" ></td>\n",
       "      <td><img src=\"02_data/tfmodisco_report_all//trimmed_logos/pos_patterns.pattern_12.cwm.rev.png\" width=\"240\" ></td>\n",
       "      <td>MA0040.1_MA0040.1.Foxq1</td>\n",
       "      <td>0.552257</td>\n",
       "      <td><img src=\"02_data/tfmodisco_report_all/MA0040.1_MA0040.1.Foxq1.png\" width=\"240\" ></td>\n",
       "      <td>MA0700.2_MA0700.2.LHX2</td>\n",
       "      <td>0.552257</td>\n",
       "      <td><img src=\"02_data/tfmodisco_report_all/MA0700.2_MA0700.2.LHX2.png\" width=\"240\" ></td>\n",
       "      <td>MA0680.2_MA0680.2.Pax7</td>\n",
       "      <td>0.552257</td>\n",
       "      <td><img src=\"02_data/tfmodisco_report_all/MA0680.2_MA0680.2.Pax7.png\" width=\"240\" ></td>\n",
       "    </tr>\n",
       "    <tr>\n",
       "      <td>pos_patterns.pattern_13</td>\n",
       "      <td>258</td>\n",
       "      <td><img src=\"02_data/tfmodisco_report_all//trimmed_logos/pos_patterns.pattern_13.cwm.fwd.png\" width=\"240\" ></td>\n",
       "      <td><img src=\"02_data/tfmodisco_report_all//trimmed_logos/pos_patterns.pattern_13.cwm.rev.png\" width=\"240\" ></td>\n",
       "      <td>MA0035.4_MA0035.4.GATA1</td>\n",
       "      <td>1.000000</td>\n",
       "      <td><img src=\"02_data/tfmodisco_report_all/MA0035.4_MA0035.4.GATA1.png\" width=\"240\" ></td>\n",
       "      <td>MA0712.2_MA0712.2.OTX2</td>\n",
       "      <td>1.000000</td>\n",
       "      <td><img src=\"02_data/tfmodisco_report_all/MA0712.2_MA0712.2.OTX2.png\" width=\"240\" ></td>\n",
       "      <td>MA0052.4_MA0052.4.MEF2A</td>\n",
       "      <td>1.000000</td>\n",
       "      <td><img src=\"02_data/tfmodisco_report_all/MA0052.4_MA0052.4.MEF2A.png\" width=\"240\" ></td>\n",
       "    </tr>\n",
       "    <tr>\n",
       "      <td>pos_patterns.pattern_14</td>\n",
       "      <td>256</td>\n",
       "      <td><img src=\"02_data/tfmodisco_report_all//trimmed_logos/pos_patterns.pattern_14.cwm.fwd.png\" width=\"240\" ></td>\n",
       "      <td><img src=\"02_data/tfmodisco_report_all//trimmed_logos/pos_patterns.pattern_14.cwm.rev.png\" width=\"240\" ></td>\n",
       "      <td>MA1136.1_MA1136.1.FOSB::JUNB</td>\n",
       "      <td>0.000021</td>\n",
       "      <td><img src=\"02_data/tfmodisco_report_all/MA1136.1_MA1136.1.FOSB::JUNB.png\" width=\"240\" ></td>\n",
       "      <td>MA1133.1_MA1133.1.JUN::JUNB</td>\n",
       "      <td>0.000021</td>\n",
       "      <td><img src=\"02_data/tfmodisco_report_all/MA1133.1_MA1133.1.JUN::JUNB.png\" width=\"240\" ></td>\n",
       "      <td>MA0840.1_MA0840.1.Creb5</td>\n",
       "      <td>0.000021</td>\n",
       "      <td><img src=\"02_data/tfmodisco_report_all/MA0840.1_MA0840.1.Creb5.png\" width=\"240\" ></td>\n",
       "    </tr>\n",
       "    <tr>\n",
       "      <td>pos_patterns.pattern_15</td>\n",
       "      <td>228</td>\n",
       "      <td><img src=\"02_data/tfmodisco_report_all//trimmed_logos/pos_patterns.pattern_15.cwm.fwd.png\" width=\"240\" ></td>\n",
       "      <td><img src=\"02_data/tfmodisco_report_all//trimmed_logos/pos_patterns.pattern_15.cwm.rev.png\" width=\"240\" ></td>\n",
       "      <td>MA0658.1_MA0658.1.LHX6</td>\n",
       "      <td>0.941741</td>\n",
       "      <td><img src=\"02_data/tfmodisco_report_all/MA0658.1_MA0658.1.LHX6.png\" width=\"240\" ></td>\n",
       "      <td>MA0705.1_MA0705.1.Lhx8</td>\n",
       "      <td>0.941741</td>\n",
       "      <td><img src=\"02_data/tfmodisco_report_all/MA0705.1_MA0705.1.Lhx8.png\" width=\"240\" ></td>\n",
       "      <td>MA0593.1_MA0593.1.FOXP2</td>\n",
       "      <td>0.941741</td>\n",
       "      <td><img src=\"02_data/tfmodisco_report_all/MA0593.1_MA0593.1.FOXP2.png\" width=\"240\" ></td>\n",
       "    </tr>\n",
       "    <tr>\n",
       "      <td>pos_patterns.pattern_16</td>\n",
       "      <td>206</td>\n",
       "      <td><img src=\"02_data/tfmodisco_report_all//trimmed_logos/pos_patterns.pattern_16.cwm.fwd.png\" width=\"240\" ></td>\n",
       "      <td><img src=\"02_data/tfmodisco_report_all//trimmed_logos/pos_patterns.pattern_16.cwm.rev.png\" width=\"240\" ></td>\n",
       "      <td>MA1573.2_MA1573.2.Thap11</td>\n",
       "      <td>1.000000</td>\n",
       "      <td><img src=\"02_data/tfmodisco_report_all/MA1573.2_MA1573.2.Thap11.png\" width=\"240\" ></td>\n",
       "      <td>MA1718.1_MA1718.1.ZNF8</td>\n",
       "      <td>1.000000</td>\n",
       "      <td><img src=\"02_data/tfmodisco_report_all/MA1718.1_MA1718.1.ZNF8.png\" width=\"240\" ></td>\n",
       "      <td>MA1479.1_MA1479.1.DMRTC2</td>\n",
       "      <td>1.000000</td>\n",
       "      <td><img src=\"02_data/tfmodisco_report_all/MA1479.1_MA1479.1.DMRTC2.png\" width=\"240\" ></td>\n",
       "    </tr>\n",
       "    <tr>\n",
       "      <td>pos_patterns.pattern_17</td>\n",
       "      <td>110</td>\n",
       "      <td><img src=\"02_data/tfmodisco_report_all//trimmed_logos/pos_patterns.pattern_17.cwm.fwd.png\" width=\"240\" ></td>\n",
       "      <td><img src=\"02_data/tfmodisco_report_all//trimmed_logos/pos_patterns.pattern_17.cwm.rev.png\" width=\"240\" ></td>\n",
       "      <td>MA0493.2_MA0493.2.KLF1</td>\n",
       "      <td>0.530656</td>\n",
       "      <td><img src=\"02_data/tfmodisco_report_all/MA0493.2_MA0493.2.KLF1.png\" width=\"240\" ></td>\n",
       "      <td>MA0599.1_MA0599.1.KLF5</td>\n",
       "      <td>0.530656</td>\n",
       "      <td><img src=\"02_data/tfmodisco_report_all/MA0599.1_MA0599.1.KLF5.png\" width=\"240\" ></td>\n",
       "      <td>MA0740.2_MA0740.2.KLF14</td>\n",
       "      <td>0.530656</td>\n",
       "      <td><img src=\"02_data/tfmodisco_report_all/MA0740.2_MA0740.2.KLF14.png\" width=\"240\" ></td>\n",
       "    </tr>\n",
       "    <tr>\n",
       "      <td>pos_patterns.pattern_18</td>\n",
       "      <td>96</td>\n",
       "      <td><img src=\"02_data/tfmodisco_report_all//trimmed_logos/pos_patterns.pattern_18.cwm.fwd.png\" width=\"240\" ></td>\n",
       "      <td><img src=\"02_data/tfmodisco_report_all//trimmed_logos/pos_patterns.pattern_18.cwm.rev.png\" width=\"240\" ></td>\n",
       "      <td>MA1115.1_MA1115.1.POU5F1</td>\n",
       "      <td>0.002864</td>\n",
       "      <td><img src=\"02_data/tfmodisco_report_all/MA1115.1_MA1115.1.POU5F1.png\" width=\"240\" ></td>\n",
       "      <td>MA0792.1_MA0792.1.POU5F1B</td>\n",
       "      <td>0.002864</td>\n",
       "      <td><img src=\"02_data/tfmodisco_report_all/MA0792.1_MA0792.1.POU5F1B.png\" width=\"240\" ></td>\n",
       "      <td>MA0789.1_MA0789.1.POU3F4</td>\n",
       "      <td>0.003108</td>\n",
       "      <td><img src=\"02_data/tfmodisco_report_all/MA0789.1_MA0789.1.POU3F4.png\" width=\"240\" ></td>\n",
       "    </tr>\n",
       "    <tr>\n",
       "      <td>pos_patterns.pattern_19</td>\n",
       "      <td>95</td>\n",
       "      <td><img src=\"02_data/tfmodisco_report_all//trimmed_logos/pos_patterns.pattern_19.cwm.fwd.png\" width=\"240\" ></td>\n",
       "      <td><img src=\"02_data/tfmodisco_report_all//trimmed_logos/pos_patterns.pattern_19.cwm.rev.png\" width=\"240\" ></td>\n",
       "      <td>MA0062.3_MA0062.3.GABPA</td>\n",
       "      <td>0.001365</td>\n",
       "      <td><img src=\"02_data/tfmodisco_report_all/MA0062.3_MA0062.3.GABPA.png\" width=\"240\" ></td>\n",
       "      <td>MA0598.3_MA0598.3.EHF</td>\n",
       "      <td>0.001365</td>\n",
       "      <td><img src=\"02_data/tfmodisco_report_all/MA0598.3_MA0598.3.EHF.png\" width=\"240\" ></td>\n",
       "      <td>MA0474.3_MA0474.3.Erg</td>\n",
       "      <td>0.001365</td>\n",
       "      <td><img src=\"02_data/tfmodisco_report_all/MA0474.3_MA0474.3.Erg.png\" width=\"240\" ></td>\n",
       "    </tr>\n",
       "    <tr>\n",
       "      <td>pos_patterns.pattern_20</td>\n",
       "      <td>80</td>\n",
       "      <td><img src=\"02_data/tfmodisco_report_all//trimmed_logos/pos_patterns.pattern_20.cwm.fwd.png\" width=\"240\" ></td>\n",
       "      <td><img src=\"02_data/tfmodisco_report_all//trimmed_logos/pos_patterns.pattern_20.cwm.rev.png\" width=\"240\" ></td>\n",
       "      <td>MA1650.1_MA1650.1.ZBTB14</td>\n",
       "      <td>1.000000</td>\n",
       "      <td><img src=\"02_data/tfmodisco_report_all/MA1650.1_MA1650.1.ZBTB14.png\" width=\"240\" ></td>\n",
       "      <td>MA0472.2_MA0472.2.EGR2</td>\n",
       "      <td>1.000000</td>\n",
       "      <td><img src=\"02_data/tfmodisco_report_all/MA0472.2_MA0472.2.EGR2.png\" width=\"240\" ></td>\n",
       "      <td>MA0632.2_MA0632.2.TCFL5</td>\n",
       "      <td>1.000000</td>\n",
       "      <td><img src=\"02_data/tfmodisco_report_all/MA0632.2_MA0632.2.TCFL5.png\" width=\"240\" ></td>\n",
       "    </tr>\n",
       "    <tr>\n",
       "      <td>pos_patterns.pattern_21</td>\n",
       "      <td>68</td>\n",
       "      <td><img src=\"02_data/tfmodisco_report_all//trimmed_logos/pos_patterns.pattern_21.cwm.fwd.png\" width=\"240\" ></td>\n",
       "      <td><img src=\"02_data/tfmodisco_report_all//trimmed_logos/pos_patterns.pattern_21.cwm.rev.png\" width=\"240\" ></td>\n",
       "      <td>MA0754.2_MA0754.2.CUX1</td>\n",
       "      <td>0.191865</td>\n",
       "      <td><img src=\"02_data/tfmodisco_report_all/MA0754.2_MA0754.2.CUX1.png\" width=\"240\" ></td>\n",
       "      <td>MA0755.1_MA0755.1.CUX2</td>\n",
       "      <td>0.191865</td>\n",
       "      <td><img src=\"02_data/tfmodisco_report_all/MA0755.1_MA0755.1.CUX2.png\" width=\"240\" ></td>\n",
       "      <td>MA0757.1_MA0757.1.ONECUT3</td>\n",
       "      <td>0.724195</td>\n",
       "      <td><img src=\"02_data/tfmodisco_report_all/MA0757.1_MA0757.1.ONECUT3.png\" width=\"240\" ></td>\n",
       "    </tr>\n",
       "    <tr>\n",
       "      <td>pos_patterns.pattern_22</td>\n",
       "      <td>60</td>\n",
       "      <td><img src=\"02_data/tfmodisco_report_all//trimmed_logos/pos_patterns.pattern_22.cwm.fwd.png\" width=\"240\" ></td>\n",
       "      <td><img src=\"02_data/tfmodisco_report_all//trimmed_logos/pos_patterns.pattern_22.cwm.rev.png\" width=\"240\" ></td>\n",
       "      <td>MA0527.1_MA0527.1.ZBTB33</td>\n",
       "      <td>0.048376</td>\n",
       "      <td><img src=\"02_data/tfmodisco_report_all/MA0527.1_MA0527.1.ZBTB33.png\" width=\"240\" ></td>\n",
       "      <td>MA0828.2_MA0828.2.SREBF2</td>\n",
       "      <td>0.200827</td>\n",
       "      <td><img src=\"02_data/tfmodisco_report_all/MA0828.2_MA0828.2.SREBF2.png\" width=\"240\" ></td>\n",
       "      <td>MA0663.1_MA0663.1.MLX</td>\n",
       "      <td>0.290034</td>\n",
       "      <td><img src=\"02_data/tfmodisco_report_all/MA0663.1_MA0663.1.MLX.png\" width=\"240\" ></td>\n",
       "    </tr>\n",
       "    <tr>\n",
       "      <td>pos_patterns.pattern_23</td>\n",
       "      <td>48</td>\n",
       "      <td><img src=\"02_data/tfmodisco_report_all//trimmed_logos/pos_patterns.pattern_23.cwm.fwd.png\" width=\"240\" ></td>\n",
       "      <td><img src=\"02_data/tfmodisco_report_all//trimmed_logos/pos_patterns.pattern_23.cwm.rev.png\" width=\"240\" ></td>\n",
       "      <td>MA0083.3_MA0083.3.SRF</td>\n",
       "      <td>0.030790</td>\n",
       "      <td><img src=\"02_data/tfmodisco_report_all/MA0083.3_MA0083.3.SRF.png\" width=\"240\" ></td>\n",
       "      <td>MA0635.1_MA0635.1.BARHL2</td>\n",
       "      <td>1.000000</td>\n",
       "      <td><img src=\"02_data/tfmodisco_report_all/MA0635.1_MA0635.1.BARHL2.png\" width=\"240\" ></td>\n",
       "      <td>MA1654.1_MA1654.1.ZNF16</td>\n",
       "      <td>1.000000</td>\n",
       "      <td><img src=\"02_data/tfmodisco_report_all/MA1654.1_MA1654.1.ZNF16.png\" width=\"240\" ></td>\n",
       "    </tr>\n",
       "    <tr>\n",
       "      <td>pos_patterns.pattern_24</td>\n",
       "      <td>42</td>\n",
       "      <td><img src=\"02_data/tfmodisco_report_all//trimmed_logos/pos_patterns.pattern_24.cwm.fwd.png\" width=\"240\" ></td>\n",
       "      <td><img src=\"02_data/tfmodisco_report_all//trimmed_logos/pos_patterns.pattern_24.cwm.rev.png\" width=\"240\" ></td>\n",
       "      <td>MA1708.1_MA1708.1.ETV7</td>\n",
       "      <td>0.037936</td>\n",
       "      <td><img src=\"02_data/tfmodisco_report_all/MA1708.1_MA1708.1.ETV7.png\" width=\"240\" ></td>\n",
       "      <td>MA0687.1_MA0687.1.SPIC</td>\n",
       "      <td>0.417096</td>\n",
       "      <td><img src=\"02_data/tfmodisco_report_all/MA0687.1_MA0687.1.SPIC.png\" width=\"240\" ></td>\n",
       "      <td>MA0641.1_MA0641.1.ELF4</td>\n",
       "      <td>0.417096</td>\n",
       "      <td><img src=\"02_data/tfmodisco_report_all/MA0641.1_MA0641.1.ELF4.png\" width=\"240\" ></td>\n",
       "    </tr>\n",
       "    <tr>\n",
       "      <td>pos_patterns.pattern_25</td>\n",
       "      <td>34</td>\n",
       "      <td><img src=\"02_data/tfmodisco_report_all//trimmed_logos/pos_patterns.pattern_25.cwm.fwd.png\" width=\"240\" ></td>\n",
       "      <td><img src=\"02_data/tfmodisco_report_all//trimmed_logos/pos_patterns.pattern_25.cwm.rev.png\" width=\"240\" ></td>\n",
       "      <td>MA0060.3_MA0060.3.NFYA</td>\n",
       "      <td>0.089910</td>\n",
       "      <td><img src=\"02_data/tfmodisco_report_all/MA0060.3_MA0060.3.NFYA.png\" width=\"240\" ></td>\n",
       "      <td>MA1644.1_MA1644.1.NFYC</td>\n",
       "      <td>0.089910</td>\n",
       "      <td><img src=\"02_data/tfmodisco_report_all/MA1644.1_MA1644.1.NFYC.png\" width=\"240\" ></td>\n",
       "      <td>MA0739.1_MA0739.1.Hic1</td>\n",
       "      <td>0.415964</td>\n",
       "      <td><img src=\"02_data/tfmodisco_report_all/MA0739.1_MA0739.1.Hic1.png\" width=\"240\" ></td>\n",
       "    </tr>\n",
       "    <tr>\n",
       "      <td>pos_patterns.pattern_26</td>\n",
       "      <td>34</td>\n",
       "      <td><img src=\"02_data/tfmodisco_report_all//trimmed_logos/pos_patterns.pattern_26.cwm.fwd.png\" width=\"240\" ></td>\n",
       "      <td><img src=\"02_data/tfmodisco_report_all//trimmed_logos/pos_patterns.pattern_26.cwm.rev.png\" width=\"240\" ></td>\n",
       "      <td>MA1728.1_MA1728.1.ZNF549</td>\n",
       "      <td>1.000000</td>\n",
       "      <td><img src=\"02_data/tfmodisco_report_all/MA1728.1_MA1728.1.ZNF549.png\" width=\"240\" ></td>\n",
       "      <td>MA0072.1_MA0072.1.RORA</td>\n",
       "      <td>1.000000</td>\n",
       "      <td><img src=\"02_data/tfmodisco_report_all/MA0072.1_MA0072.1.RORA.png\" width=\"240\" ></td>\n",
       "      <td>NaN</td>\n",
       "      <td>NaN</td>\n",
       "      <td><img src=\"NA\" width=\"240\" ></td>\n",
       "    </tr>\n",
       "    <tr>\n",
       "      <td>pos_patterns.pattern_27</td>\n",
       "      <td>32</td>\n",
       "      <td><img src=\"02_data/tfmodisco_report_all//trimmed_logos/pos_patterns.pattern_27.cwm.fwd.png\" width=\"240\" ></td>\n",
       "      <td><img src=\"02_data/tfmodisco_report_all//trimmed_logos/pos_patterns.pattern_27.cwm.rev.png\" width=\"240\" ></td>\n",
       "      <td>MA1125.1_MA1125.1.ZNF384</td>\n",
       "      <td>0.008569</td>\n",
       "      <td><img src=\"02_data/tfmodisco_report_all/MA1125.1_MA1125.1.ZNF384.png\" width=\"240\" ></td>\n",
       "      <td>MA0442.2_MA0442.2.SOX10</td>\n",
       "      <td>0.519826</td>\n",
       "      <td><img src=\"02_data/tfmodisco_report_all/MA0442.2_MA0442.2.SOX10.png\" width=\"240\" ></td>\n",
       "      <td>MA1487.2_MA1487.2.FOXE1</td>\n",
       "      <td>0.519826</td>\n",
       "      <td><img src=\"02_data/tfmodisco_report_all/MA1487.2_MA1487.2.FOXE1.png\" width=\"240\" ></td>\n",
       "    </tr>\n",
       "    <tr>\n",
       "      <td>pos_patterns.pattern_28</td>\n",
       "      <td>31</td>\n",
       "      <td><img src=\"02_data/tfmodisco_report_all//trimmed_logos/pos_patterns.pattern_28.cwm.fwd.png\" width=\"240\" ></td>\n",
       "      <td><img src=\"02_data/tfmodisco_report_all//trimmed_logos/pos_patterns.pattern_28.cwm.rev.png\" width=\"240\" ></td>\n",
       "      <td>MA1107.2_MA1107.2.KLF9</td>\n",
       "      <td>0.099474</td>\n",
       "      <td><img src=\"02_data/tfmodisco_report_all/MA1107.2_MA1107.2.KLF9.png\" width=\"240\" ></td>\n",
       "      <td>MA0162.4_MA0162.4.EGR1</td>\n",
       "      <td>1.000000</td>\n",
       "      <td><img src=\"02_data/tfmodisco_report_all/MA0162.4_MA0162.4.EGR1.png\" width=\"240\" ></td>\n",
       "      <td>MA0073.1_MA0073.1.RREB1</td>\n",
       "      <td>1.000000</td>\n",
       "      <td><img src=\"02_data/tfmodisco_report_all/MA0073.1_MA0073.1.RREB1.png\" width=\"240\" ></td>\n",
       "    </tr>\n",
       "    <tr>\n",
       "      <td>neg_patterns.pattern_0</td>\n",
       "      <td>1848</td>\n",
       "      <td><img src=\"02_data/tfmodisco_report_all//trimmed_logos/neg_patterns.pattern_0.cwm.fwd.png\" width=\"240\" ></td>\n",
       "      <td><img src=\"02_data/tfmodisco_report_all//trimmed_logos/neg_patterns.pattern_0.cwm.rev.png\" width=\"240\" ></td>\n",
       "      <td>MA0606.2_MA0606.2.Nfat5</td>\n",
       "      <td>0.624171</td>\n",
       "      <td><img src=\"02_data/tfmodisco_report_all/MA0606.2_MA0606.2.Nfat5.png\" width=\"240\" ></td>\n",
       "      <td>MA1999.1_MA1999.1.Prdm5</td>\n",
       "      <td>0.736541</td>\n",
       "      <td><img src=\"02_data/tfmodisco_report_all/MA1999.1_MA1999.1.Prdm5.png\" width=\"240\" ></td>\n",
       "      <td>MA1608.1_MA1608.1.Isl1</td>\n",
       "      <td>0.736541</td>\n",
       "      <td><img src=\"02_data/tfmodisco_report_all/MA1608.1_MA1608.1.Isl1.png\" width=\"240\" ></td>\n",
       "    </tr>\n",
       "    <tr>\n",
       "      <td>neg_patterns.pattern_1</td>\n",
       "      <td>1515</td>\n",
       "      <td><img src=\"02_data/tfmodisco_report_all//trimmed_logos/neg_patterns.pattern_1.cwm.fwd.png\" width=\"240\" ></td>\n",
       "      <td><img src=\"02_data/tfmodisco_report_all//trimmed_logos/neg_patterns.pattern_1.cwm.rev.png\" width=\"240\" ></td>\n",
       "      <td>MA1528.1_MA1528.1.NFIX</td>\n",
       "      <td>0.152816</td>\n",
       "      <td><img src=\"02_data/tfmodisco_report_all/MA1528.1_MA1528.1.NFIX.png\" width=\"240\" ></td>\n",
       "      <td>MA1527.1_MA1527.1.NFIC</td>\n",
       "      <td>0.152816</td>\n",
       "      <td><img src=\"02_data/tfmodisco_report_all/MA1527.1_MA1527.1.NFIC.png\" width=\"240\" ></td>\n",
       "      <td>MA0671.1_MA0671.1.NFIX</td>\n",
       "      <td>0.693580</td>\n",
       "      <td><img src=\"02_data/tfmodisco_report_all/MA0671.1_MA0671.1.NFIX.png\" width=\"240\" ></td>\n",
       "    </tr>\n",
       "    <tr>\n",
       "      <td>neg_patterns.pattern_2</td>\n",
       "      <td>1234</td>\n",
       "      <td><img src=\"02_data/tfmodisco_report_all//trimmed_logos/neg_patterns.pattern_2.cwm.fwd.png\" width=\"240\" ></td>\n",
       "      <td><img src=\"02_data/tfmodisco_report_all//trimmed_logos/neg_patterns.pattern_2.cwm.rev.png\" width=\"240\" ></td>\n",
       "      <td>MA1717.1_MA1717.1.ZNF784</td>\n",
       "      <td>1.000000</td>\n",
       "      <td><img src=\"02_data/tfmodisco_report_all/MA1717.1_MA1717.1.ZNF784.png\" width=\"240\" ></td>\n",
       "      <td>NaN</td>\n",
       "      <td>NaN</td>\n",
       "      <td><img src=\"NA\" width=\"240\" ></td>\n",
       "      <td>NaN</td>\n",
       "      <td>NaN</td>\n",
       "      <td><img src=\"NA\" width=\"240\" ></td>\n",
       "    </tr>\n",
       "    <tr>\n",
       "      <td>neg_patterns.pattern_3</td>\n",
       "      <td>1200</td>\n",
       "      <td><img src=\"02_data/tfmodisco_report_all//trimmed_logos/neg_patterns.pattern_3.cwm.fwd.png\" width=\"240\" ></td>\n",
       "      <td><img src=\"02_data/tfmodisco_report_all//trimmed_logos/neg_patterns.pattern_3.cwm.rev.png\" width=\"240\" ></td>\n",
       "      <td>MA0524.2_MA0524.2.TFAP2C</td>\n",
       "      <td>0.163058</td>\n",
       "      <td><img src=\"02_data/tfmodisco_report_all/MA0524.2_MA0524.2.TFAP2C.png\" width=\"240\" ></td>\n",
       "      <td>MA0872.1_MA0872.1.TFAP2A</td>\n",
       "      <td>0.163058</td>\n",
       "      <td><img src=\"02_data/tfmodisco_report_all/MA0872.1_MA0872.1.TFAP2A.png\" width=\"240\" ></td>\n",
       "      <td>MA1712.1_MA1712.1.ZNF454</td>\n",
       "      <td>0.163058</td>\n",
       "      <td><img src=\"02_data/tfmodisco_report_all/MA1712.1_MA1712.1.ZNF454.png\" width=\"240\" ></td>\n",
       "    </tr>\n",
       "    <tr>\n",
       "      <td>neg_patterns.pattern_4</td>\n",
       "      <td>924</td>\n",
       "      <td><img src=\"02_data/tfmodisco_report_all//trimmed_logos/neg_patterns.pattern_4.cwm.fwd.png\" width=\"240\" ></td>\n",
       "      <td><img src=\"02_data/tfmodisco_report_all//trimmed_logos/neg_patterns.pattern_4.cwm.rev.png\" width=\"240\" ></td>\n",
       "      <td>MA1976.1_MA1976.1.ZNF320</td>\n",
       "      <td>0.245320</td>\n",
       "      <td><img src=\"02_data/tfmodisco_report_all/MA1976.1_MA1976.1.ZNF320.png\" width=\"240\" ></td>\n",
       "      <td>MA1712.1_MA1712.1.ZNF454</td>\n",
       "      <td>0.245320</td>\n",
       "      <td><img src=\"02_data/tfmodisco_report_all/MA1712.1_MA1712.1.ZNF454.png\" width=\"240\" ></td>\n",
       "      <td>MA1973.1_MA1973.1.ZKSCAN3</td>\n",
       "      <td>0.245320</td>\n",
       "      <td><img src=\"02_data/tfmodisco_report_all/MA1973.1_MA1973.1.ZKSCAN3.png\" width=\"240\" ></td>\n",
       "    </tr>\n",
       "    <tr>\n",
       "      <td>neg_patterns.pattern_5</td>\n",
       "      <td>724</td>\n",
       "      <td><img src=\"02_data/tfmodisco_report_all//trimmed_logos/neg_patterns.pattern_5.cwm.fwd.png\" width=\"240\" ></td>\n",
       "      <td><img src=\"02_data/tfmodisco_report_all//trimmed_logos/neg_patterns.pattern_5.cwm.rev.png\" width=\"240\" ></td>\n",
       "      <td>MA1712.1_MA1712.1.ZNF454</td>\n",
       "      <td>0.094684</td>\n",
       "      <td><img src=\"02_data/tfmodisco_report_all/MA1712.1_MA1712.1.ZNF454.png\" width=\"240\" ></td>\n",
       "      <td>MA1615.1_MA1615.1.Plagl1</td>\n",
       "      <td>0.219209</td>\n",
       "      <td><img src=\"02_data/tfmodisco_report_all/MA1615.1_MA1615.1.Plagl1.png\" width=\"240\" ></td>\n",
       "      <td>MA1581.1_MA1581.1.ZBTB6</td>\n",
       "      <td>0.297674</td>\n",
       "      <td><img src=\"02_data/tfmodisco_report_all/MA1581.1_MA1581.1.ZBTB6.png\" width=\"240\" ></td>\n",
       "    </tr>\n",
       "    <tr>\n",
       "      <td>neg_patterns.pattern_6</td>\n",
       "      <td>457</td>\n",
       "      <td><img src=\"02_data/tfmodisco_report_all//trimmed_logos/neg_patterns.pattern_6.cwm.fwd.png\" width=\"240\" ></td>\n",
       "      <td><img src=\"02_data/tfmodisco_report_all//trimmed_logos/neg_patterns.pattern_6.cwm.rev.png\" width=\"240\" ></td>\n",
       "      <td>MA1615.1_MA1615.1.Plagl1</td>\n",
       "      <td>0.003519</td>\n",
       "      <td><img src=\"02_data/tfmodisco_report_all/MA1615.1_MA1615.1.Plagl1.png\" width=\"240\" ></td>\n",
       "      <td>MA1712.1_MA1712.1.ZNF454</td>\n",
       "      <td>0.205957</td>\n",
       "      <td><img src=\"02_data/tfmodisco_report_all/MA1712.1_MA1712.1.ZNF454.png\" width=\"240\" ></td>\n",
       "      <td>MA0146.2_MA0146.2.Zfx</td>\n",
       "      <td>0.226151</td>\n",
       "      <td><img src=\"02_data/tfmodisco_report_all/MA0146.2_MA0146.2.Zfx.png\" width=\"240\" ></td>\n",
       "    </tr>\n",
       "    <tr>\n",
       "      <td>neg_patterns.pattern_7</td>\n",
       "      <td>402</td>\n",
       "      <td><img src=\"02_data/tfmodisco_report_all//trimmed_logos/neg_patterns.pattern_7.cwm.fwd.png\" width=\"240\" ></td>\n",
       "      <td><img src=\"02_data/tfmodisco_report_all//trimmed_logos/neg_patterns.pattern_7.cwm.rev.png\" width=\"240\" ></td>\n",
       "      <td>MA0757.1_MA0757.1.ONECUT3</td>\n",
       "      <td>0.190998</td>\n",
       "      <td><img src=\"02_data/tfmodisco_report_all/MA0757.1_MA0757.1.ONECUT3.png\" width=\"240\" ></td>\n",
       "      <td>MA0679.2_MA0679.2.ONECUT1</td>\n",
       "      <td>0.190998</td>\n",
       "      <td><img src=\"02_data/tfmodisco_report_all/MA0679.2_MA0679.2.ONECUT1.png\" width=\"240\" ></td>\n",
       "      <td>MA1125.1_MA1125.1.ZNF384</td>\n",
       "      <td>0.190998</td>\n",
       "      <td><img src=\"02_data/tfmodisco_report_all/MA1125.1_MA1125.1.ZNF384.png\" width=\"240\" ></td>\n",
       "    </tr>\n",
       "    <tr>\n",
       "      <td>neg_patterns.pattern_8</td>\n",
       "      <td>394</td>\n",
       "      <td><img src=\"02_data/tfmodisco_report_all//trimmed_logos/neg_patterns.pattern_8.cwm.fwd.png\" width=\"240\" ></td>\n",
       "      <td><img src=\"02_data/tfmodisco_report_all//trimmed_logos/neg_patterns.pattern_8.cwm.rev.png\" width=\"240\" ></td>\n",
       "      <td>MA1631.1_MA1631.1.ASCL1</td>\n",
       "      <td>0.089833</td>\n",
       "      <td><img src=\"02_data/tfmodisco_report_all/MA1631.1_MA1631.1.ASCL1.png\" width=\"240\" ></td>\n",
       "      <td>MA0830.2_MA0830.2.TCF4</td>\n",
       "      <td>0.089833</td>\n",
       "      <td><img src=\"02_data/tfmodisco_report_all/MA0830.2_MA0830.2.TCF4.png\" width=\"240\" ></td>\n",
       "      <td>MA0528.2_MA0528.2.ZNF263</td>\n",
       "      <td>0.110614</td>\n",
       "      <td><img src=\"02_data/tfmodisco_report_all/MA0528.2_MA0528.2.ZNF263.png\" width=\"240\" ></td>\n",
       "    </tr>\n",
       "    <tr>\n",
       "      <td>neg_patterns.pattern_9</td>\n",
       "      <td>373</td>\n",
       "      <td><img src=\"02_data/tfmodisco_report_all//trimmed_logos/neg_patterns.pattern_9.cwm.fwd.png\" width=\"240\" ></td>\n",
       "      <td><img src=\"02_data/tfmodisco_report_all//trimmed_logos/neg_patterns.pattern_9.cwm.rev.png\" width=\"240\" ></td>\n",
       "      <td>MA1648.1_MA1648.1.TCF12</td>\n",
       "      <td>0.029346</td>\n",
       "      <td><img src=\"02_data/tfmodisco_report_all/MA1648.1_MA1648.1.TCF12.png\" width=\"240\" ></td>\n",
       "      <td>MA1558.1_MA1558.1.SNAI1</td>\n",
       "      <td>0.029346</td>\n",
       "      <td><img src=\"02_data/tfmodisco_report_all/MA1558.1_MA1558.1.SNAI1.png\" width=\"240\" ></td>\n",
       "      <td>MA0103.3_MA0103.3.ZEB1</td>\n",
       "      <td>0.035641</td>\n",
       "      <td><img src=\"02_data/tfmodisco_report_all/MA0103.3_MA0103.3.ZEB1.png\" width=\"240\" ></td>\n",
       "    </tr>\n",
       "    <tr>\n",
       "      <td>neg_patterns.pattern_10</td>\n",
       "      <td>364</td>\n",
       "      <td><img src=\"02_data/tfmodisco_report_all//trimmed_logos/neg_patterns.pattern_10.cwm.fwd.png\" width=\"240\" ></td>\n",
       "      <td><img src=\"02_data/tfmodisco_report_all//trimmed_logos/neg_patterns.pattern_10.cwm.rev.png\" width=\"240\" ></td>\n",
       "      <td>MA1631.1_MA1631.1.ASCL1</td>\n",
       "      <td>0.037128</td>\n",
       "      <td><img src=\"02_data/tfmodisco_report_all/MA1631.1_MA1631.1.ASCL1.png\" width=\"240\" ></td>\n",
       "      <td>MA0138.2_MA0138.2.REST</td>\n",
       "      <td>0.037128</td>\n",
       "      <td><img src=\"02_data/tfmodisco_report_all/MA0138.2_MA0138.2.REST.png\" width=\"240\" ></td>\n",
       "      <td>MA0830.2_MA0830.2.TCF4</td>\n",
       "      <td>0.118086</td>\n",
       "      <td><img src=\"02_data/tfmodisco_report_all/MA0830.2_MA0830.2.TCF4.png\" width=\"240\" ></td>\n",
       "    </tr>\n",
       "    <tr>\n",
       "      <td>neg_patterns.pattern_11</td>\n",
       "      <td>364</td>\n",
       "      <td><img src=\"02_data/tfmodisco_report_all//trimmed_logos/neg_patterns.pattern_11.cwm.fwd.png\" width=\"240\" ></td>\n",
       "      <td><img src=\"02_data/tfmodisco_report_all//trimmed_logos/neg_patterns.pattern_11.cwm.rev.png\" width=\"240\" ></td>\n",
       "      <td>MA1721.1_MA1721.1.ZNF93</td>\n",
       "      <td>0.204021</td>\n",
       "      <td><img src=\"02_data/tfmodisco_report_all/MA1721.1_MA1721.1.ZNF93.png\" width=\"240\" ></td>\n",
       "      <td>MA1713.1_MA1713.1.ZNF610</td>\n",
       "      <td>0.218423</td>\n",
       "      <td><img src=\"02_data/tfmodisco_report_all/MA1713.1_MA1713.1.ZNF610.png\" width=\"240\" ></td>\n",
       "      <td>MA1513.1_MA1513.1.KLF15</td>\n",
       "      <td>0.381228</td>\n",
       "      <td><img src=\"02_data/tfmodisco_report_all/MA1513.1_MA1513.1.KLF15.png\" width=\"240\" ></td>\n",
       "    </tr>\n",
       "    <tr>\n",
       "      <td>neg_patterns.pattern_12</td>\n",
       "      <td>357</td>\n",
       "      <td><img src=\"02_data/tfmodisco_report_all//trimmed_logos/neg_patterns.pattern_12.cwm.fwd.png\" width=\"240\" ></td>\n",
       "      <td><img src=\"02_data/tfmodisco_report_all//trimmed_logos/neg_patterns.pattern_12.cwm.rev.png\" width=\"240\" ></td>\n",
       "      <td>MA0135.1_MA0135.1.Lhx3</td>\n",
       "      <td>0.003597</td>\n",
       "      <td><img src=\"02_data/tfmodisco_report_all/MA0135.1_MA0135.1.Lhx3.png\" width=\"240\" ></td>\n",
       "      <td>MA0683.1_MA0683.1.POU4F2</td>\n",
       "      <td>0.009247</td>\n",
       "      <td><img src=\"02_data/tfmodisco_report_all/MA0683.1_MA0683.1.POU4F2.png\" width=\"240\" ></td>\n",
       "      <td>MA0791.1_MA0791.1.POU4F3</td>\n",
       "      <td>0.013571</td>\n",
       "      <td><img src=\"02_data/tfmodisco_report_all/MA0791.1_MA0791.1.POU4F3.png\" width=\"240\" ></td>\n",
       "    </tr>\n",
       "    <tr>\n",
       "      <td>neg_patterns.pattern_13</td>\n",
       "      <td>333</td>\n",
       "      <td><img src=\"02_data/tfmodisco_report_all//trimmed_logos/neg_patterns.pattern_13.cwm.fwd.png\" width=\"240\" ></td>\n",
       "      <td><img src=\"02_data/tfmodisco_report_all//trimmed_logos/neg_patterns.pattern_13.cwm.rev.png\" width=\"240\" ></td>\n",
       "      <td>MA0139.1_MA0139.1.CTCF</td>\n",
       "      <td>0.012399</td>\n",
       "      <td><img src=\"02_data/tfmodisco_report_all/MA0139.1_MA0139.1.CTCF.png\" width=\"240\" ></td>\n",
       "      <td>MA1929.1_MA1929.1.CTCF</td>\n",
       "      <td>0.012429</td>\n",
       "      <td><img src=\"02_data/tfmodisco_report_all/MA1929.1_MA1929.1.CTCF.png\" width=\"240\" ></td>\n",
       "      <td>MA0697.2_MA0697.2.Zic3</td>\n",
       "      <td>0.012429</td>\n",
       "      <td><img src=\"02_data/tfmodisco_report_all/MA0697.2_MA0697.2.Zic3.png\" width=\"240\" ></td>\n",
       "    </tr>\n",
       "    <tr>\n",
       "      <td>neg_patterns.pattern_14</td>\n",
       "      <td>273</td>\n",
       "      <td><img src=\"02_data/tfmodisco_report_all//trimmed_logos/neg_patterns.pattern_14.cwm.fwd.png\" width=\"240\" ></td>\n",
       "      <td><img src=\"02_data/tfmodisco_report_all//trimmed_logos/neg_patterns.pattern_14.cwm.rev.png\" width=\"240\" ></td>\n",
       "      <td>MA0913.2_MA0913.2.HOXD9</td>\n",
       "      <td>1.000000</td>\n",
       "      <td><img src=\"02_data/tfmodisco_report_all/MA0913.2_MA0913.2.HOXD9.png\" width=\"240\" ></td>\n",
       "      <td>MA1640.1_MA1640.1.MEIS2</td>\n",
       "      <td>1.000000</td>\n",
       "      <td><img src=\"02_data/tfmodisco_report_all/MA1640.1_MA1640.1.MEIS2.png\" width=\"240\" ></td>\n",
       "      <td>MA1113.2_MA1113.2.PBX2</td>\n",
       "      <td>1.000000</td>\n",
       "      <td><img src=\"02_data/tfmodisco_report_all/MA1113.2_MA1113.2.PBX2.png\" width=\"240\" ></td>\n",
       "    </tr>\n",
       "    <tr>\n",
       "      <td>neg_patterns.pattern_15</td>\n",
       "      <td>246</td>\n",
       "      <td><img src=\"02_data/tfmodisco_report_all//trimmed_logos/neg_patterns.pattern_15.cwm.fwd.png\" width=\"240\" ></td>\n",
       "      <td><img src=\"02_data/tfmodisco_report_all//trimmed_logos/neg_patterns.pattern_15.cwm.rev.png\" width=\"240\" ></td>\n",
       "      <td>MA0089.2_MA0089.2.MAFG::NFE2L1</td>\n",
       "      <td>0.000156</td>\n",
       "      <td><img src=\"02_data/tfmodisco_report_all/MA0089.2_MA0089.2.MAFG::NFE2L1.png\" width=\"240\" ></td>\n",
       "      <td>MA0591.1_MA0591.1.Bach1::Mafk</td>\n",
       "      <td>0.000156</td>\n",
       "      <td><img src=\"02_data/tfmodisco_report_all/MA0591.1_MA0591.1.Bach1::Mafk.png\" width=\"240\" ></td>\n",
       "      <td>MA0501.1_MA0501.1.MAF::NFE2</td>\n",
       "      <td>0.000202</td>\n",
       "      <td><img src=\"02_data/tfmodisco_report_all/MA0501.1_MA0501.1.MAF::NFE2.png\" width=\"240\" ></td>\n",
       "    </tr>\n",
       "    <tr>\n",
       "      <td>neg_patterns.pattern_16</td>\n",
       "      <td>238</td>\n",
       "      <td><img src=\"02_data/tfmodisco_report_all//trimmed_logos/neg_patterns.pattern_16.cwm.fwd.png\" width=\"240\" ></td>\n",
       "      <td><img src=\"02_data/tfmodisco_report_all//trimmed_logos/neg_patterns.pattern_16.cwm.rev.png\" width=\"240\" ></td>\n",
       "      <td>MA1965.1_MA1965.1.SP5</td>\n",
       "      <td>0.004244</td>\n",
       "      <td><img src=\"02_data/tfmodisco_report_all/MA1965.1_MA1965.1.SP5.png\" width=\"240\" ></td>\n",
       "      <td>MA1653.1_MA1653.1.ZNF148</td>\n",
       "      <td>0.004244</td>\n",
       "      <td><img src=\"02_data/tfmodisco_report_all/MA1653.1_MA1653.1.ZNF148.png\" width=\"240\" ></td>\n",
       "      <td>MA1630.2_MA1630.2.ZNF281</td>\n",
       "      <td>0.004244</td>\n",
       "      <td><img src=\"02_data/tfmodisco_report_all/MA1630.2_MA1630.2.ZNF281.png\" width=\"240\" ></td>\n",
       "    </tr>\n",
       "    <tr>\n",
       "      <td>neg_patterns.pattern_17</td>\n",
       "      <td>211</td>\n",
       "      <td><img src=\"02_data/tfmodisco_report_all//trimmed_logos/neg_patterns.pattern_17.cwm.fwd.png\" width=\"240\" ></td>\n",
       "      <td><img src=\"02_data/tfmodisco_report_all//trimmed_logos/neg_patterns.pattern_17.cwm.rev.png\" width=\"240\" ></td>\n",
       "      <td>MA0138.2_MA0138.2.REST</td>\n",
       "      <td>0.999998</td>\n",
       "      <td><img src=\"02_data/tfmodisco_report_all/MA0138.2_MA0138.2.REST.png\" width=\"240\" ></td>\n",
       "      <td>MA0130.1_MA0130.1.ZNF354C</td>\n",
       "      <td>0.999998</td>\n",
       "      <td><img src=\"02_data/tfmodisco_report_all/MA0130.1_MA0130.1.ZNF354C.png\" width=\"240\" ></td>\n",
       "      <td>MA1999.1_MA1999.1.Prdm5</td>\n",
       "      <td>0.999998</td>\n",
       "      <td><img src=\"02_data/tfmodisco_report_all/MA1999.1_MA1999.1.Prdm5.png\" width=\"240\" ></td>\n",
       "    </tr>\n",
       "    <tr>\n",
       "      <td>neg_patterns.pattern_18</td>\n",
       "      <td>169</td>\n",
       "      <td><img src=\"02_data/tfmodisco_report_all//trimmed_logos/neg_patterns.pattern_18.cwm.fwd.png\" width=\"240\" ></td>\n",
       "      <td><img src=\"02_data/tfmodisco_report_all//trimmed_logos/neg_patterns.pattern_18.cwm.rev.png\" width=\"240\" ></td>\n",
       "      <td>MA0079.5_MA0079.5.SP1</td>\n",
       "      <td>0.055031</td>\n",
       "      <td><img src=\"02_data/tfmodisco_report_all/MA0079.5_MA0079.5.SP1.png\" width=\"240\" ></td>\n",
       "      <td>MA0742.2_MA0742.2.KLF12</td>\n",
       "      <td>0.055031</td>\n",
       "      <td><img src=\"02_data/tfmodisco_report_all/MA0742.2_MA0742.2.KLF12.png\" width=\"240\" ></td>\n",
       "      <td>MA1511.2_MA1511.2.KLF10</td>\n",
       "      <td>0.055031</td>\n",
       "      <td><img src=\"02_data/tfmodisco_report_all/MA1511.2_MA1511.2.KLF10.png\" width=\"240\" ></td>\n",
       "    </tr>\n",
       "    <tr>\n",
       "      <td>neg_patterns.pattern_19</td>\n",
       "      <td>165</td>\n",
       "      <td><img src=\"02_data/tfmodisco_report_all//trimmed_logos/neg_patterns.pattern_19.cwm.fwd.png\" width=\"240\" ></td>\n",
       "      <td><img src=\"02_data/tfmodisco_report_all//trimmed_logos/neg_patterns.pattern_19.cwm.rev.png\" width=\"240\" ></td>\n",
       "      <td>MA1709.1_MA1709.1.ZIM3</td>\n",
       "      <td>1.000000</td>\n",
       "      <td><img src=\"02_data/tfmodisco_report_all/MA1709.1_MA1709.1.ZIM3.png\" width=\"240\" ></td>\n",
       "      <td>MA0488.1_MA0488.1.JUN</td>\n",
       "      <td>1.000000</td>\n",
       "      <td><img src=\"02_data/tfmodisco_report_all/MA0488.1_MA0488.1.JUN.png\" width=\"240\" ></td>\n",
       "      <td>MA0492.1_MA0492.1.JUND</td>\n",
       "      <td>1.000000</td>\n",
       "      <td><img src=\"02_data/tfmodisco_report_all/MA0492.1_MA0492.1.JUND.png\" width=\"240\" ></td>\n",
       "    </tr>\n",
       "    <tr>\n",
       "      <td>neg_patterns.pattern_20</td>\n",
       "      <td>135</td>\n",
       "      <td><img src=\"02_data/tfmodisco_report_all//trimmed_logos/neg_patterns.pattern_20.cwm.fwd.png\" width=\"240\" ></td>\n",
       "      <td><img src=\"02_data/tfmodisco_report_all//trimmed_logos/neg_patterns.pattern_20.cwm.rev.png\" width=\"240\" ></td>\n",
       "      <td>MA0050.3_MA0050.3.Irf1</td>\n",
       "      <td>1.000000</td>\n",
       "      <td><img src=\"02_data/tfmodisco_report_all/MA0050.3_MA0050.3.Irf1.png\" width=\"240\" ></td>\n",
       "      <td>MA0592.3_MA0592.3.ESRRA</td>\n",
       "      <td>1.000000</td>\n",
       "      <td><img src=\"02_data/tfmodisco_report_all/MA0592.3_MA0592.3.ESRRA.png\" width=\"240\" ></td>\n",
       "      <td>NaN</td>\n",
       "      <td>NaN</td>\n",
       "      <td><img src=\"NA\" width=\"240\" ></td>\n",
       "    </tr>\n",
       "    <tr>\n",
       "      <td>neg_patterns.pattern_21</td>\n",
       "      <td>87</td>\n",
       "      <td><img src=\"02_data/tfmodisco_report_all//trimmed_logos/neg_patterns.pattern_21.cwm.fwd.png\" width=\"240\" ></td>\n",
       "      <td><img src=\"02_data/tfmodisco_report_all//trimmed_logos/neg_patterns.pattern_21.cwm.rev.png\" width=\"240\" ></td>\n",
       "      <td>MA0830.2_MA0830.2.TCF4</td>\n",
       "      <td>0.172609</td>\n",
       "      <td><img src=\"02_data/tfmodisco_report_all/MA0830.2_MA0830.2.TCF4.png\" width=\"240\" ></td>\n",
       "      <td>MA1631.1_MA1631.1.ASCL1</td>\n",
       "      <td>0.172609</td>\n",
       "      <td><img src=\"02_data/tfmodisco_report_all/MA1631.1_MA1631.1.ASCL1.png\" width=\"240\" ></td>\n",
       "      <td>MA0753.2_MA0753.2.ZNF740</td>\n",
       "      <td>0.237093</td>\n",
       "      <td><img src=\"02_data/tfmodisco_report_all/MA0753.2_MA0753.2.ZNF740.png\" width=\"240\" ></td>\n",
       "    </tr>\n",
       "    <tr>\n",
       "      <td>neg_patterns.pattern_22</td>\n",
       "      <td>85</td>\n",
       "      <td><img src=\"02_data/tfmodisco_report_all//trimmed_logos/neg_patterns.pattern_22.cwm.fwd.png\" width=\"240\" ></td>\n",
       "      <td><img src=\"02_data/tfmodisco_report_all//trimmed_logos/neg_patterns.pattern_22.cwm.rev.png\" width=\"240\" ></td>\n",
       "      <td>MA0898.1_MA0898.1.Hmx3</td>\n",
       "      <td>1.000000</td>\n",
       "      <td><img src=\"02_data/tfmodisco_report_all/MA0898.1_MA0898.1.Hmx3.png\" width=\"240\" ></td>\n",
       "      <td>MA0501.1_MA0501.1.MAF::NFE2</td>\n",
       "      <td>1.000000</td>\n",
       "      <td><img src=\"02_data/tfmodisco_report_all/MA0501.1_MA0501.1.MAF::NFE2.png\" width=\"240\" ></td>\n",
       "      <td>MA0089.2_MA0089.2.MAFG::NFE2L1</td>\n",
       "      <td>1.000000</td>\n",
       "      <td><img src=\"02_data/tfmodisco_report_all/MA0089.2_MA0089.2.MAFG::NFE2L1.png\" width=\"240\" ></td>\n",
       "    </tr>\n",
       "    <tr>\n",
       "      <td>neg_patterns.pattern_23</td>\n",
       "      <td>57</td>\n",
       "      <td><img src=\"02_data/tfmodisco_report_all//trimmed_logos/neg_patterns.pattern_23.cwm.fwd.png\" width=\"240\" ></td>\n",
       "      <td><img src=\"02_data/tfmodisco_report_all//trimmed_logos/neg_patterns.pattern_23.cwm.rev.png\" width=\"240\" ></td>\n",
       "      <td>MA0725.1_MA0725.1.VSX1</td>\n",
       "      <td>0.234858</td>\n",
       "      <td><img src=\"02_data/tfmodisco_report_all/MA0725.1_MA0725.1.VSX1.png\" width=\"240\" ></td>\n",
       "      <td>MA0888.1_MA0888.1.EVX2</td>\n",
       "      <td>0.234858</td>\n",
       "      <td><img src=\"02_data/tfmodisco_report_all/MA0888.1_MA0888.1.EVX2.png\" width=\"240\" ></td>\n",
       "      <td>MA0726.1_MA0726.1.VSX2</td>\n",
       "      <td>0.234858</td>\n",
       "      <td><img src=\"02_data/tfmodisco_report_all/MA0726.1_MA0726.1.VSX2.png\" width=\"240\" ></td>\n",
       "    </tr>\n",
       "    <tr>\n",
       "      <td>neg_patterns.pattern_24</td>\n",
       "      <td>37</td>\n",
       "      <td><img src=\"02_data/tfmodisco_report_all//trimmed_logos/neg_patterns.pattern_24.cwm.fwd.png\" width=\"240\" ></td>\n",
       "      <td><img src=\"02_data/tfmodisco_report_all//trimmed_logos/neg_patterns.pattern_24.cwm.rev.png\" width=\"240\" ></td>\n",
       "      <td>NaN</td>\n",
       "      <td>NaN</td>\n",
       "      <td><img src=\"NA\" width=\"240\" ></td>\n",
       "      <td>NaN</td>\n",
       "      <td>NaN</td>\n",
       "      <td><img src=\"NA\" width=\"240\" ></td>\n",
       "      <td>NaN</td>\n",
       "      <td>NaN</td>\n",
       "      <td><img src=\"NA\" width=\"240\" ></td>\n",
       "    </tr>\n",
       "  </tbody>\n",
       "</table>"
      ],
      "text/plain": [
       "<IPython.core.display.HTML object>"
      ]
     },
     "execution_count": 32,
     "metadata": {},
     "output_type": "execute_result"
    }
   ],
   "source": [
    "HTML(filename='motifs_all.html')"
   ]
  }
 ],
 "metadata": {
  "accelerator": "GPU",
  "colab": {
   "collapsed_sections": [
    "p0YXhC0nB2FA",
    "TS9Izo5AB-bJ"
   ],
   "gpuType": "T4",
   "name": "",
   "version": ""
  },
  "kernelspec": {
   "display_name": "jupyter_tf",
   "language": "python",
   "name": "python3"
  },
  "language_info": {
   "codemirror_mode": {
    "name": "ipython",
    "version": 3
   },
   "file_extension": ".py",
   "mimetype": "text/x-python",
   "name": "python",
   "nbconvert_exporter": "python",
   "pygments_lexer": "ipython3",
   "version": "3.10.13"
  }
 },
 "nbformat": 4,
 "nbformat_minor": 0
}
